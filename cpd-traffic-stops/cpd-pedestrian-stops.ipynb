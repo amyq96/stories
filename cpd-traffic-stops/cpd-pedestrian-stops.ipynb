{
 "cells": [
  {
   "cell_type": "code",
   "execution_count": 1,
   "id": "cf67b93b-25fc-48b6-a611-5af67993669e",
   "metadata": {},
   "outputs": [],
   "source": [
    "import pandas as pd"
   ]
  },
  {
   "cell_type": "code",
   "execution_count": 2,
   "id": "20d0d111-4f31-4083-96f2-a5322e120048",
   "metadata": {},
   "outputs": [],
   "source": [
    "df = pd.read_excel('source/CPD redacted pedestrian 2023.xlsx', sheet_name='CPD Pedestrian Stop Reporting 2')"
   ]
  },
  {
   "cell_type": "code",
   "execution_count": null,
   "id": "89652e83-cfdd-47d8-9c4a-a971f40af39a",
   "metadata": {},
   "outputs": [],
   "source": [
    "# 2022: 68,897 CPD pedestrian stops\n",
    "# 2021: 68,556 CPD pedestrian stops"
   ]
  },
  {
   "cell_type": "code",
   "execution_count": 3,
   "id": "c648dde2-1726-4a63-8c30-261209b1e32b",
   "metadata": {},
   "outputs": [],
   "source": [
    "df['DATESTOP'] = pd.to_datetime(df['DATESTOP'])"
   ]
  },
  {
   "cell_type": "code",
   "execution_count": 4,
   "id": "fc3b4b41-2cb9-4773-9008-0fab19bf3368",
   "metadata": {},
   "outputs": [],
   "source": [
    "df['month_year'] = df['DATESTOP'].dt.strftime('%m/%Y')"
   ]
  },
  {
   "cell_type": "code",
   "execution_count": 12,
   "id": "dbcb605a-a1e2-418e-86de-c98d6a4f7f35",
   "metadata": {},
   "outputs": [
    {
     "data": {
      "text/plain": [
       "78642"
      ]
     },
     "execution_count": 12,
     "metadata": {},
     "output_type": "execute_result"
    }
   ],
   "source": [
    "# total\n",
    "len(df)"
   ]
  },
  {
   "cell_type": "code",
   "execution_count": 13,
   "id": "f7faa0d4-cb46-4fb0-aaaf-bf0633be634a",
   "metadata": {},
   "outputs": [
    {
     "data": {
      "text/plain": [
       "9745"
      ]
     },
     "execution_count": 13,
     "metadata": {},
     "output_type": "execute_result"
    }
   ],
   "source": [
    "# increase in 2023? idk if it's because CPD data is diff\n",
    "len(df) - 68897"
   ]
  },
  {
   "cell_type": "code",
   "execution_count": 14,
   "id": "4ca3207e-11e3-43bf-8dd6-7a7a3ac14a2a",
   "metadata": {},
   "outputs": [
    {
     "data": {
      "text/plain": [
       "0.1414430236439903"
      ]
     },
     "execution_count": 14,
     "metadata": {},
     "output_type": "execute_result"
    }
   ],
   "source": [
    "# 14% increase\n",
    "9745/68897"
   ]
  },
  {
   "cell_type": "code",
   "execution_count": 5,
   "id": "946e6cf3-02a3-4c37-b56d-96623c8cbcf7",
   "metadata": {},
   "outputs": [
    {
     "data": {
      "text/html": [
       "<div>\n",
       "<style scoped>\n",
       "    .dataframe tbody tr th:only-of-type {\n",
       "        vertical-align: middle;\n",
       "    }\n",
       "\n",
       "    .dataframe tbody tr th {\n",
       "        vertical-align: top;\n",
       "    }\n",
       "\n",
       "    .dataframe thead th {\n",
       "        text-align: right;\n",
       "    }\n",
       "</style>\n",
       "<table border=\"1\" class=\"dataframe\">\n",
       "  <thead>\n",
       "    <tr style=\"text-align: right;\">\n",
       "      <th></th>\n",
       "      <th>month_year</th>\n",
       "      <th>0</th>\n",
       "    </tr>\n",
       "  </thead>\n",
       "  <tbody>\n",
       "    <tr>\n",
       "      <th>0</th>\n",
       "      <td>01/2023</td>\n",
       "      <td>6954</td>\n",
       "    </tr>\n",
       "    <tr>\n",
       "      <th>1</th>\n",
       "      <td>02/2023</td>\n",
       "      <td>7068</td>\n",
       "    </tr>\n",
       "    <tr>\n",
       "      <th>2</th>\n",
       "      <td>03/2023</td>\n",
       "      <td>6907</td>\n",
       "    </tr>\n",
       "    <tr>\n",
       "      <th>3</th>\n",
       "      <td>04/2023</td>\n",
       "      <td>6141</td>\n",
       "    </tr>\n",
       "    <tr>\n",
       "      <th>4</th>\n",
       "      <td>05/2023</td>\n",
       "      <td>6486</td>\n",
       "    </tr>\n",
       "    <tr>\n",
       "      <th>5</th>\n",
       "      <td>06/2023</td>\n",
       "      <td>6454</td>\n",
       "    </tr>\n",
       "    <tr>\n",
       "      <th>6</th>\n",
       "      <td>07/2023</td>\n",
       "      <td>6892</td>\n",
       "    </tr>\n",
       "    <tr>\n",
       "      <th>7</th>\n",
       "      <td>08/2023</td>\n",
       "      <td>6339</td>\n",
       "    </tr>\n",
       "    <tr>\n",
       "      <th>8</th>\n",
       "      <td>09/2023</td>\n",
       "      <td>6135</td>\n",
       "    </tr>\n",
       "    <tr>\n",
       "      <th>9</th>\n",
       "      <td>10/2023</td>\n",
       "      <td>6938</td>\n",
       "    </tr>\n",
       "    <tr>\n",
       "      <th>10</th>\n",
       "      <td>11/2023</td>\n",
       "      <td>6624</td>\n",
       "    </tr>\n",
       "    <tr>\n",
       "      <th>11</th>\n",
       "      <td>12/2023</td>\n",
       "      <td>5704</td>\n",
       "    </tr>\n",
       "  </tbody>\n",
       "</table>\n",
       "</div>"
      ],
      "text/plain": [
       "   month_year     0\n",
       "0     01/2023  6954\n",
       "1     02/2023  7068\n",
       "2     03/2023  6907\n",
       "3     04/2023  6141\n",
       "4     05/2023  6486\n",
       "5     06/2023  6454\n",
       "6     07/2023  6892\n",
       "7     08/2023  6339\n",
       "8     09/2023  6135\n",
       "9     10/2023  6938\n",
       "10    11/2023  6624\n",
       "11    12/2023  5704"
      ]
     },
     "execution_count": 5,
     "metadata": {},
     "output_type": "execute_result"
    }
   ],
   "source": [
    "df.groupby('month_year').size().reset_index()"
   ]
  },
  {
   "cell_type": "code",
   "execution_count": 7,
   "id": "b3bb74a8-1c2c-4ff7-9142-6db79825d8e9",
   "metadata": {},
   "outputs": [
    {
     "data": {
      "text/html": [
       "<div>\n",
       "<style scoped>\n",
       "    .dataframe tbody tr th:only-of-type {\n",
       "        vertical-align: middle;\n",
       "    }\n",
       "\n",
       "    .dataframe tbody tr th {\n",
       "        vertical-align: top;\n",
       "    }\n",
       "\n",
       "    .dataframe thead th {\n",
       "        text-align: right;\n",
       "    }\n",
       "</style>\n",
       "<table border=\"1\" class=\"dataframe\">\n",
       "  <thead>\n",
       "    <tr style=\"text-align: right;\">\n",
       "      <th></th>\n",
       "      <th>BEATSTOP</th>\n",
       "      <th>stops</th>\n",
       "    </tr>\n",
       "  </thead>\n",
       "  <tbody>\n",
       "    <tr>\n",
       "      <th>217</th>\n",
       "      <td>1834</td>\n",
       "      <td>1159</td>\n",
       "    </tr>\n",
       "    <tr>\n",
       "      <th>129</th>\n",
       "      <td>1112</td>\n",
       "      <td>1117</td>\n",
       "    </tr>\n",
       "    <tr>\n",
       "      <th>133</th>\n",
       "      <td>1121</td>\n",
       "      <td>815</td>\n",
       "    </tr>\n",
       "    <tr>\n",
       "      <th>214</th>\n",
       "      <td>1831</td>\n",
       "      <td>809</td>\n",
       "    </tr>\n",
       "    <tr>\n",
       "      <th>6</th>\n",
       "      <td>123</td>\n",
       "      <td>725</td>\n",
       "    </tr>\n",
       "    <tr>\n",
       "      <th>...</th>\n",
       "      <td>...</td>\n",
       "      <td>...</td>\n",
       "    </tr>\n",
       "    <tr>\n",
       "      <th>179</th>\n",
       "      <td>1611</td>\n",
       "      <td>35</td>\n",
       "    </tr>\n",
       "    <tr>\n",
       "      <th>25</th>\n",
       "      <td>235</td>\n",
       "      <td>33</td>\n",
       "    </tr>\n",
       "    <tr>\n",
       "      <th>276</th>\n",
       "      <td>4100</td>\n",
       "      <td>9</td>\n",
       "    </tr>\n",
       "    <tr>\n",
       "      <th>277</th>\n",
       "      <td>6100</td>\n",
       "      <td>2</td>\n",
       "    </tr>\n",
       "    <tr>\n",
       "      <th>191</th>\n",
       "      <td>1650</td>\n",
       "      <td>1</td>\n",
       "    </tr>\n",
       "  </tbody>\n",
       "</table>\n",
       "<p>278 rows × 2 columns</p>\n",
       "</div>"
      ],
      "text/plain": [
       "     BEATSTOP  stops\n",
       "217      1834   1159\n",
       "129      1112   1117\n",
       "133      1121    815\n",
       "214      1831    809\n",
       "6         123    725\n",
       "..        ...    ...\n",
       "179      1611     35\n",
       "25        235     33\n",
       "276      4100      9\n",
       "277      6100      2\n",
       "191      1650      1\n",
       "\n",
       "[278 rows x 2 columns]"
      ]
     },
     "execution_count": 7,
     "metadata": {},
     "output_type": "execute_result"
    }
   ],
   "source": [
    "df.groupby('BEATSTOP').size().reset_index(name='stops').sort_values('stops', ascending=False)"
   ]
  },
  {
   "cell_type": "code",
   "execution_count": 8,
   "id": "234ae03f-f70f-4d52-99f8-19f051c4b09c",
   "metadata": {},
   "outputs": [],
   "source": [
    "# add pedestrian race crosswalks\n",
    "race_dict = {\n",
    "    1:'white',\n",
    "    2:'black',\n",
    "    3:'native_american_alaskan',\n",
    "    4:'hispanic',\n",
    "    5:'asian',\n",
    "    6:'native_hawaiian_pi'\n",
    "}"
   ]
  },
  {
   "cell_type": "code",
   "execution_count": 9,
   "id": "a9b63216-2c28-4220-8759-6e06246328e7",
   "metadata": {},
   "outputs": [
    {
     "data": {
      "text/plain": [
       "PEDRACE\n",
       "1     5780\n",
       "2    52171\n",
       "3      100\n",
       "4    19690\n",
       "5      772\n",
       "6      129\n",
       "dtype: int64"
      ]
     },
     "execution_count": 9,
     "metadata": {},
     "output_type": "execute_result"
    }
   ],
   "source": [
    "df.groupby('PEDRACE', dropna=False).size()"
   ]
  },
  {
   "cell_type": "code",
   "execution_count": 10,
   "id": "74d53db5-9b4f-4f28-b9fb-731d3c0e9c50",
   "metadata": {},
   "outputs": [],
   "source": [
    "df['ped_race_name'] = df['PEDRACE'].map(race_dict)"
   ]
  },
  {
   "cell_type": "code",
   "execution_count": null,
   "id": "e4b5865e-a100-4e64-b821-7d62eb3c80f4",
   "metadata": {},
   "outputs": [],
   "source": [
    "# pct black in 2023 is 66.3%\n",
    "# 2022: 47,334 (69%)\n",
    "# 2021: 48,044 (70%)"
   ]
  },
  {
   "cell_type": "code",
   "execution_count": 11,
   "id": "28239710-67fb-4bfc-b6b2-a1e69ea208a2",
   "metadata": {},
   "outputs": [
    {
     "data": {
      "text/plain": [
       "ped_race_name\n",
       "asian                        772\n",
       "black                      52171\n",
       "hispanic                   19690\n",
       "native_american_alaskan      100\n",
       "native_hawaiian_pi           129\n",
       "white                       5780\n",
       "dtype: int64"
      ]
     },
     "execution_count": 11,
     "metadata": {},
     "output_type": "execute_result"
    }
   ],
   "source": [
    "df.groupby('ped_race_name', dropna=False).size()"
   ]
  },
  {
   "cell_type": "code",
   "execution_count": null,
   "id": "e022be3a-326b-4dd6-b599-fcff4506b4ca",
   "metadata": {},
   "outputs": [],
   "source": []
  }
 ],
 "metadata": {
  "kernelspec": {
   "display_name": "Python 3 (ipykernel)",
   "language": "python",
   "name": "python3"
  },
  "language_info": {
   "codemirror_mode": {
    "name": "ipython",
    "version": 3
   },
   "file_extension": ".py",
   "mimetype": "text/x-python",
   "name": "python",
   "nbconvert_exporter": "python",
   "pygments_lexer": "ipython3",
   "version": "3.10.12"
  }
 },
 "nbformat": 4,
 "nbformat_minor": 5
}
