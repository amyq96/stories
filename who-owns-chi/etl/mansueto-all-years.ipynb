{
 "cells": [
  {
   "cell_type": "markdown",
   "id": "36764da5-8699-4c3f-bdc1-5888c81f97a2",
   "metadata": {},
   "source": [
    "# Pull together big dataset"
   ]
  },
  {
   "cell_type": "code",
   "execution_count": 25,
   "id": "a7746998-c3af-4ec0-b748-b3a33af78436",
   "metadata": {},
   "outputs": [],
   "source": [
    "import pandas as pd\n",
    "import geopandas as gpd\n",
    "from class_type_crosswalk import class_type_dict\n",
    "from munci_comm_crosswalk import geo_dict"
   ]
  },
  {
   "cell_type": "code",
   "execution_count": 21,
   "id": "ac4b4063-3ad4-440a-8d7c-94281fede6f1",
   "metadata": {},
   "outputs": [],
   "source": [
    "# list of dfs to append\n",
    "df_list = [] # by communities\n",
    "df_tract_list = [] # by 2020 census tract\n",
    "\n",
    "class_types_list = ['single-family', '2-6 unit properties', 'other residential', 'condo', '7+ unit properties']\n",
    "\n",
    "for i in range(2006,2023):\n",
    "    filepath = f\"source/mansueto/dfc_addpno_pm_pin_geo_desc_met_munci_tract_category_{i}_06_22.parquet\"\n",
    "    df = pd.read_parquet(filepath, columns=['pin','property_address','mailing_name','mailing_street','property_street','is_org','class','exe_homeowner','class_desc','is_same_address','is_homeowner','tax_year','tract_GEOID','munci_comm'])\n",
    "\n",
    "    # map classes\n",
    "    df['class_type'] = df['class'].map(class_type_dict)\n",
    "\n",
    "    # map \n",
    "    \n",
    "    # create a pivot table for each class type\n",
    "    for class_type in class_types_list:\n",
    "        pivot = pd.pivot_table(df[df['class_type'] == class_type],\n",
    "              index='munci_comm',\n",
    "              columns='is_org',\n",
    "              values='pin',\n",
    "              aggfunc='count')\n",
    "\n",
    "        tract_pivot = pd.pivot_table(df[df['class_type'] == class_type],\n",
    "              index='tract_GEOID',\n",
    "              columns='is_org',\n",
    "              values='pin',\n",
    "              aggfunc='count')\n",
    "        \n",
    "        # fill NaN as 0 so it adds up\n",
    "        pivot.fillna(0, inplace=True)\n",
    "        tract_pivot.fillna(0, inplace=True)\n",
    "        \n",
    "        # add cols\n",
    "        pivot['pct_is_org'] = pivot[1]/(pivot[0] + pivot[1])\n",
    "        pivot['total_parcels'] = pivot[0] + pivot[1]\n",
    "        pivot['year'] = i\n",
    "        pivot['class_category'] = class_type\n",
    "\n",
    "        tract_pivot['pct_is_org'] = tract_pivot[1]/(tract_pivot[0] + tract_pivot[1])\n",
    "        tract_pivot['total_parcels'] = tract_pivot[0] + tract_pivot[1]\n",
    "        tract_pivot['year'] = i\n",
    "        tract_pivot['class_category'] = class_type\n",
    "\n",
    "        # rename cols\n",
    "        pivot.rename(columns={0: \"non_org\", 1: \"is_org\"}, inplace=True)\n",
    "        tract_pivot.rename(columns={0: \"non_org\", 1: \"is_org\"}, inplace=True)\n",
    "\n",
    "        df_list.append(pivot)\n",
    "        df_tract_list.append(tract_pivot)\n",
    "        \n",
    "    del df"
   ]
  },
  {
   "cell_type": "code",
   "execution_count": 22,
   "id": "426b8330-5c91-4645-9b5b-2b32956680d0",
   "metadata": {},
   "outputs": [
    {
     "name": "stdout",
     "output_type": "stream",
     "text": [
      "85\n",
      "85\n"
     ]
    }
   ],
   "source": [
    "# yay it worked!\n",
    "print(len(df_list))\n",
    "print(len(df_tract_list))"
   ]
  },
  {
   "cell_type": "code",
   "execution_count": 23,
   "id": "7c7116d1-dc8c-4712-99ec-2ae933f7a717",
   "metadata": {},
   "outputs": [
    {
     "data": {
      "text/html": [
       "<div>\n",
       "<style scoped>\n",
       "    .dataframe tbody tr th:only-of-type {\n",
       "        vertical-align: middle;\n",
       "    }\n",
       "\n",
       "    .dataframe tbody tr th {\n",
       "        vertical-align: top;\n",
       "    }\n",
       "\n",
       "    .dataframe thead th {\n",
       "        text-align: right;\n",
       "    }\n",
       "</style>\n",
       "<table border=\"1\" class=\"dataframe\">\n",
       "  <thead>\n",
       "    <tr style=\"text-align: right;\">\n",
       "      <th>is_org</th>\n",
       "      <th>non_org</th>\n",
       "      <th>is_org</th>\n",
       "      <th>pct_is_org</th>\n",
       "      <th>total_parcels</th>\n",
       "      <th>year</th>\n",
       "      <th>class_category</th>\n",
       "    </tr>\n",
       "    <tr>\n",
       "      <th>tract_GEOID</th>\n",
       "      <th></th>\n",
       "      <th></th>\n",
       "      <th></th>\n",
       "      <th></th>\n",
       "      <th></th>\n",
       "      <th></th>\n",
       "    </tr>\n",
       "  </thead>\n",
       "  <tbody>\n",
       "    <tr>\n",
       "      <th>17031010100</th>\n",
       "      <td>46.0</td>\n",
       "      <td>8.0</td>\n",
       "      <td>0.148148</td>\n",
       "      <td>54.0</td>\n",
       "      <td>2009</td>\n",
       "      <td>2-6 unit properties</td>\n",
       "    </tr>\n",
       "    <tr>\n",
       "      <th>17031010201</th>\n",
       "      <td>156.0</td>\n",
       "      <td>10.0</td>\n",
       "      <td>0.060241</td>\n",
       "      <td>166.0</td>\n",
       "      <td>2009</td>\n",
       "      <td>2-6 unit properties</td>\n",
       "    </tr>\n",
       "    <tr>\n",
       "      <th>17031010202</th>\n",
       "      <td>25.0</td>\n",
       "      <td>1.0</td>\n",
       "      <td>0.038462</td>\n",
       "      <td>26.0</td>\n",
       "      <td>2009</td>\n",
       "      <td>2-6 unit properties</td>\n",
       "    </tr>\n",
       "    <tr>\n",
       "      <th>17031010300</th>\n",
       "      <td>29.0</td>\n",
       "      <td>5.0</td>\n",
       "      <td>0.147059</td>\n",
       "      <td>34.0</td>\n",
       "      <td>2009</td>\n",
       "      <td>2-6 unit properties</td>\n",
       "    </tr>\n",
       "    <tr>\n",
       "      <th>17031010400</th>\n",
       "      <td>32.0</td>\n",
       "      <td>5.0</td>\n",
       "      <td>0.135135</td>\n",
       "      <td>37.0</td>\n",
       "      <td>2009</td>\n",
       "      <td>2-6 unit properties</td>\n",
       "    </tr>\n",
       "  </tbody>\n",
       "</table>\n",
       "</div>"
      ],
      "text/plain": [
       "is_org       non_org  is_org  pct_is_org  total_parcels  year  \\\n",
       "tract_GEOID                                                     \n",
       "17031010100     46.0     8.0    0.148148           54.0  2009   \n",
       "17031010201    156.0    10.0    0.060241          166.0  2009   \n",
       "17031010202     25.0     1.0    0.038462           26.0  2009   \n",
       "17031010300     29.0     5.0    0.147059           34.0  2009   \n",
       "17031010400     32.0     5.0    0.135135           37.0  2009   \n",
       "\n",
       "is_org            class_category  \n",
       "tract_GEOID                       \n",
       "17031010100  2-6 unit properties  \n",
       "17031010201  2-6 unit properties  \n",
       "17031010202  2-6 unit properties  \n",
       "17031010300  2-6 unit properties  \n",
       "17031010400  2-6 unit properties  "
      ]
     },
     "execution_count": 23,
     "metadata": {},
     "output_type": "execute_result"
    }
   ],
   "source": [
    "df_tract_list[16].head()"
   ]
  },
  {
   "cell_type": "code",
   "execution_count": 40,
   "id": "4b2c3a83-69ff-4af4-bb17-494c447bdaee",
   "metadata": {},
   "outputs": [],
   "source": [
    "# concat\n",
    "df = pd.concat(df_list, axis=0)\n",
    "df_tracts = pd.concat(df_tract_list, axis=0)"
   ]
  },
  {
   "cell_type": "code",
   "execution_count": 41,
   "id": "d9e70c92-713d-46ff-bb4e-51c770d4eb1b",
   "metadata": {},
   "outputs": [],
   "source": [
    "# map place for communities\n",
    "df.reset_index(inplace=True)\n",
    "df['place'] = df['munci_comm'].map(geo_dict)"
   ]
  },
  {
   "cell_type": "code",
   "execution_count": 42,
   "id": "c6e990fa-f57c-48a2-bb0b-bbb7eab017a9",
   "metadata": {},
   "outputs": [],
   "source": [
    "# map place for tracts\n",
    "df_tracts.reset_index(inplace=True)\n",
    "\n",
    "# load chi tract map\n",
    "chi_tracts = gpd.read_file('../geographies/Chicago_2020_tracts.geojson')\n",
    "\n",
    "# make a dict out of GEOID and Community Area\n",
    "chi_tract_dict = pd.Series(chi_tracts['Community Area'].values, index=chi_tracts['GEOID']).to_dict()\n",
    "\n",
    "df_tracts['place'] = df_tracts['tract_GEOID'].map(chi_tract_dict)\n",
    "\n",
    "# replace NaN with suburan cook\n",
    "df_tracts['place'] = df_tracts['place'].fillna('Suburban Cook')"
   ]
  },
  {
   "cell_type": "code",
   "execution_count": 46,
   "id": "b24c2666-88e9-4fbb-83e6-1fc21aaf7d85",
   "metadata": {},
   "outputs": [
    {
     "data": {
      "text/plain": [
       "place\n",
       "Burnside            68\n",
       "Riverdale          108\n",
       "Fuller Park        130\n",
       "Hegewisch          136\n",
       "Avalon Park        146\n",
       "                 ...  \n",
       "Austin            1864\n",
       "Logan Square      2279\n",
       "West Town         2535\n",
       "Lake View         2826\n",
       "Suburban Cook    39420\n",
       "Length: 78, dtype: int64"
      ]
     },
     "execution_count": 46,
     "metadata": {},
     "output_type": "execute_result"
    }
   ],
   "source": [
    "df_tracts.groupby('place', dropna=False).size().sort_values()"
   ]
  },
  {
   "cell_type": "code",
   "execution_count": 47,
   "id": "bd8be763-34ed-45fa-b901-16ab51dee793",
   "metadata": {},
   "outputs": [],
   "source": [
    "df.to_csv('output/is_org_all_years_by_community.csv', index=False)\n",
    "df_tracts.to_csv('output/is_org_all_years_by_tract.csv', index=False)"
   ]
  },
  {
   "cell_type": "markdown",
   "id": "f32553a2-9bd5-4c36-a770-8538f6f6f819",
   "metadata": {},
   "source": [
    "# Explore census tract data"
   ]
  },
  {
   "cell_type": "code",
   "execution_count": 48,
   "id": "c7fc90ad-9fb7-444e-a603-a459b8c8a809",
   "metadata": {},
   "outputs": [
    {
     "data": {
      "text/html": [
       "<div>\n",
       "<style scoped>\n",
       "    .dataframe tbody tr th:only-of-type {\n",
       "        vertical-align: middle;\n",
       "    }\n",
       "\n",
       "    .dataframe tbody tr th {\n",
       "        vertical-align: top;\n",
       "    }\n",
       "\n",
       "    .dataframe thead th {\n",
       "        text-align: right;\n",
       "    }\n",
       "</style>\n",
       "<table border=\"1\" class=\"dataframe\">\n",
       "  <thead>\n",
       "    <tr style=\"text-align: right;\">\n",
       "      <th>is_org</th>\n",
       "      <th>tract_GEOID</th>\n",
       "      <th>non_org</th>\n",
       "      <th>is_org</th>\n",
       "      <th>pct_is_org</th>\n",
       "      <th>total_parcels</th>\n",
       "      <th>year</th>\n",
       "      <th>class_category</th>\n",
       "      <th>place</th>\n",
       "    </tr>\n",
       "  </thead>\n",
       "  <tbody>\n",
       "    <tr>\n",
       "      <th>0</th>\n",
       "      <td>17031010100</td>\n",
       "      <td>35.0</td>\n",
       "      <td>2.0</td>\n",
       "      <td>0.054054</td>\n",
       "      <td>37.0</td>\n",
       "      <td>2006</td>\n",
       "      <td>single-family</td>\n",
       "      <td>Rogers Park</td>\n",
       "    </tr>\n",
       "    <tr>\n",
       "      <th>1</th>\n",
       "      <td>17031010201</td>\n",
       "      <td>110.0</td>\n",
       "      <td>1.0</td>\n",
       "      <td>0.009009</td>\n",
       "      <td>111.0</td>\n",
       "      <td>2006</td>\n",
       "      <td>single-family</td>\n",
       "      <td>Rogers Park</td>\n",
       "    </tr>\n",
       "    <tr>\n",
       "      <th>2</th>\n",
       "      <td>17031010202</td>\n",
       "      <td>50.0</td>\n",
       "      <td>6.0</td>\n",
       "      <td>0.107143</td>\n",
       "      <td>56.0</td>\n",
       "      <td>2006</td>\n",
       "      <td>single-family</td>\n",
       "      <td>Rogers Park</td>\n",
       "    </tr>\n",
       "    <tr>\n",
       "      <th>3</th>\n",
       "      <td>17031010300</td>\n",
       "      <td>108.0</td>\n",
       "      <td>3.0</td>\n",
       "      <td>0.027027</td>\n",
       "      <td>111.0</td>\n",
       "      <td>2006</td>\n",
       "      <td>single-family</td>\n",
       "      <td>Rogers Park</td>\n",
       "    </tr>\n",
       "    <tr>\n",
       "      <th>4</th>\n",
       "      <td>17031010400</td>\n",
       "      <td>29.0</td>\n",
       "      <td>0.0</td>\n",
       "      <td>0.000000</td>\n",
       "      <td>29.0</td>\n",
       "      <td>2006</td>\n",
       "      <td>single-family</td>\n",
       "      <td>Rogers Park</td>\n",
       "    </tr>\n",
       "  </tbody>\n",
       "</table>\n",
       "</div>"
      ],
      "text/plain": [
       "is_org  tract_GEOID  non_org  is_org  pct_is_org  total_parcels  year  \\\n",
       "0       17031010100     35.0     2.0    0.054054           37.0  2006   \n",
       "1       17031010201    110.0     1.0    0.009009          111.0  2006   \n",
       "2       17031010202     50.0     6.0    0.107143           56.0  2006   \n",
       "3       17031010300    108.0     3.0    0.027027          111.0  2006   \n",
       "4       17031010400     29.0     0.0    0.000000           29.0  2006   \n",
       "\n",
       "is_org class_category        place  \n",
       "0       single-family  Rogers Park  \n",
       "1       single-family  Rogers Park  \n",
       "2       single-family  Rogers Park  \n",
       "3       single-family  Rogers Park  \n",
       "4       single-family  Rogers Park  "
      ]
     },
     "execution_count": 48,
     "metadata": {},
     "output_type": "execute_result"
    }
   ],
   "source": [
    "df_tracts.head()"
   ]
  },
  {
   "cell_type": "code",
   "execution_count": null,
   "id": "b3552662-cb51-42b9-ae63-de31a7dc8424",
   "metadata": {},
   "outputs": [],
   "source": []
  }
 ],
 "metadata": {
  "kernelspec": {
   "display_name": "Python 3 (ipykernel)",
   "language": "python",
   "name": "python3"
  },
  "language_info": {
   "codemirror_mode": {
    "name": "ipython",
    "version": 3
   },
   "file_extension": ".py",
   "mimetype": "text/x-python",
   "name": "python",
   "nbconvert_exporter": "python",
   "pygments_lexer": "ipython3",
   "version": "3.10.12"
  }
 },
 "nbformat": 4,
 "nbformat_minor": 5
}
