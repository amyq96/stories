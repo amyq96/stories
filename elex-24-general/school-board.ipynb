{
 "cells": [
  {
   "cell_type": "markdown",
   "id": "9cd02179-1d24-4a90-b9a7-b2038a6b10bb",
   "metadata": {},
   "source": [
    "## Configs"
   ]
  },
  {
   "cell_type": "code",
   "execution_count": 1,
   "id": "90da515b-3051-4fe7-a81b-385678cbedd4",
   "metadata": {},
   "outputs": [],
   "source": [
    "import pandas as pd\n",
    "import re\n",
    "import numpy as np\n",
    "import geopandas as gpd\n",
    "\n",
    "from results_functions_general import reformat, joinkey"
   ]
  },
  {
   "cell_type": "markdown",
   "id": "9c89a670-cc98-476d-98c4-5a2bb372e30e",
   "metadata": {},
   "source": [
    "## Spatial join"
   ]
  },
  {
   "cell_type": "code",
   "execution_count": 2,
   "id": "a0fbf85d-711e-492d-be7d-336f2ad62191",
   "metadata": {},
   "outputs": [],
   "source": [
    "districts = gpd.read_file('../geographies/cps_electoral_districts_2024.json')"
   ]
  },
  {
   "cell_type": "code",
   "execution_count": 4,
   "id": "ddbb6b4f-0888-4e22-b19c-63213c2728bd",
   "metadata": {},
   "outputs": [
    {
     "data": {
      "text/plain": [
       "<Geographic 2D CRS: EPSG:4326>\n",
       "Name: WGS 84\n",
       "Axis Info [ellipsoidal]:\n",
       "- Lat[north]: Geodetic latitude (degree)\n",
       "- Lon[east]: Geodetic longitude (degree)\n",
       "Area of Use:\n",
       "- name: World.\n",
       "- bounds: (-180.0, -90.0, 180.0, 90.0)\n",
       "Datum: World Geodetic System 1984 ensemble\n",
       "- Ellipsoid: WGS 84\n",
       "- Prime Meridian: Greenwich"
      ]
     },
     "execution_count": 4,
     "metadata": {},
     "output_type": "execute_result"
    }
   ],
   "source": [
    "districts.crs"
   ]
  },
  {
   "cell_type": "code",
   "execution_count": 5,
   "id": "50e975f3-2cb1-4461-ae9a-8f8125456fcf",
   "metadata": {},
   "outputs": [],
   "source": [
    "pcts = gpd.read_file('../geographies/wardprecincts2022/WardPrecincts_2022_WardPrecinctKey.geojson')"
   ]
  },
  {
   "cell_type": "code",
   "execution_count": 6,
   "id": "9fa073d9-f56b-4e51-91e4-271f7df52bfa",
   "metadata": {},
   "outputs": [
    {
     "data": {
      "text/plain": [
       "<Geographic 2D CRS: EPSG:4269>\n",
       "Name: NAD83\n",
       "Axis Info [ellipsoidal]:\n",
       "- Lat[north]: Geodetic latitude (degree)\n",
       "- Lon[east]: Geodetic longitude (degree)\n",
       "Area of Use:\n",
       "- name: North America - onshore and offshore: Canada - Alberta; British Columbia; Manitoba; New Brunswick; Newfoundland and Labrador; Northwest Territories; Nova Scotia; Nunavut; Ontario; Prince Edward Island; Quebec; Saskatchewan; Yukon. Puerto Rico. United States (USA) - Alabama; Alaska; Arizona; Arkansas; California; Colorado; Connecticut; Delaware; Florida; Georgia; Hawaii; Idaho; Illinois; Indiana; Iowa; Kansas; Kentucky; Louisiana; Maine; Maryland; Massachusetts; Michigan; Minnesota; Mississippi; Missouri; Montana; Nebraska; Nevada; New Hampshire; New Jersey; New Mexico; New York; North Carolina; North Dakota; Ohio; Oklahoma; Oregon; Pennsylvania; Rhode Island; South Carolina; South Dakota; Tennessee; Texas; Utah; Vermont; Virginia; Washington; West Virginia; Wisconsin; Wyoming. US Virgin Islands. British Virgin Islands.\n",
       "- bounds: (167.65, 14.92, -40.73, 86.45)\n",
       "Datum: North American Datum 1983\n",
       "- Ellipsoid: GRS 1980\n",
       "- Prime Meridian: Greenwich"
      ]
     },
     "execution_count": 6,
     "metadata": {},
     "output_type": "execute_result"
    }
   ],
   "source": [
    "pcts.crs"
   ]
  },
  {
   "cell_type": "code",
   "execution_count": 7,
   "id": "6540d0aa-80db-4d6e-a5c9-516a645ec98e",
   "metadata": {},
   "outputs": [],
   "source": [
    "pcts = pcts.set_crs(4326, allow_override=True)"
   ]
  },
  {
   "cell_type": "code",
   "execution_count": 8,
   "id": "b4d63f43-4e1d-4301-80b3-5b6dbf34c633",
   "metadata": {},
   "outputs": [
    {
     "data": {
      "text/plain": [
       "<Geographic 2D CRS: EPSG:4326>\n",
       "Name: WGS 84\n",
       "Axis Info [ellipsoidal]:\n",
       "- Lat[north]: Geodetic latitude (degree)\n",
       "- Lon[east]: Geodetic longitude (degree)\n",
       "Area of Use:\n",
       "- name: World.\n",
       "- bounds: (-180.0, -90.0, 180.0, 90.0)\n",
       "Datum: World Geodetic System 1984 ensemble\n",
       "- Ellipsoid: WGS 84\n",
       "- Prime Meridian: Greenwich"
      ]
     },
     "execution_count": 8,
     "metadata": {},
     "output_type": "execute_result"
    }
   ],
   "source": [
    "pcts.crs"
   ]
  },
  {
   "cell_type": "code",
   "execution_count": 9,
   "id": "8074ceee-5637-4d90-a907-30891b4eddeb",
   "metadata": {},
   "outputs": [],
   "source": [
    "union = pcts.overlay(districts, how='union')"
   ]
  },
  {
   "cell_type": "code",
   "execution_count": 10,
   "id": "3929e8c2-b19b-4791-9bd9-80aeb9b1a8a4",
   "metadata": {},
   "outputs": [
    {
     "data": {
      "text/html": [
       "<div>\n",
       "<style scoped>\n",
       "    .dataframe tbody tr th:only-of-type {\n",
       "        vertical-align: middle;\n",
       "    }\n",
       "\n",
       "    .dataframe tbody tr th {\n",
       "        vertical-align: top;\n",
       "    }\n",
       "\n",
       "    .dataframe thead th {\n",
       "        text-align: right;\n",
       "    }\n",
       "</style>\n",
       "<table border=\"1\" class=\"dataframe\">\n",
       "  <thead>\n",
       "    <tr style=\"text-align: right;\">\n",
       "      <th></th>\n",
       "      <th>ward_2022</th>\n",
       "      <th>precinct_1</th>\n",
       "      <th>FIRST_full</th>\n",
       "      <th>Shape_Leng</th>\n",
       "      <th>Shape_Area</th>\n",
       "      <th>Ward_Precinct</th>\n",
       "      <th>id</th>\n",
       "      <th>elec_dist</th>\n",
       "      <th>geometry</th>\n",
       "    </tr>\n",
       "  </thead>\n",
       "  <tbody>\n",
       "    <tr>\n",
       "      <th>0</th>\n",
       "      <td>1.0</td>\n",
       "      <td>1.0</td>\n",
       "      <td>01001</td>\n",
       "      <td>0.024564</td>\n",
       "      <td>0.000026</td>\n",
       "      <td>1_1</td>\n",
       "      <td>3</td>\n",
       "      <td>3</td>\n",
       "      <td>POLYGON ((-87.70522 41.92773, -87.70550 41.927...</td>\n",
       "    </tr>\n",
       "    <tr>\n",
       "      <th>1</th>\n",
       "      <td>1.0</td>\n",
       "      <td>2.0</td>\n",
       "      <td>01002</td>\n",
       "      <td>0.032845</td>\n",
       "      <td>0.000035</td>\n",
       "      <td>1_2</td>\n",
       "      <td>3</td>\n",
       "      <td>3</td>\n",
       "      <td>POLYGON ((-87.69752 41.92528, -87.69773 41.925...</td>\n",
       "    </tr>\n",
       "    <tr>\n",
       "      <th>2</th>\n",
       "      <td>1.0</td>\n",
       "      <td>3.0</td>\n",
       "      <td>01003</td>\n",
       "      <td>0.035301</td>\n",
       "      <td>0.000044</td>\n",
       "      <td>1_3</td>\n",
       "      <td>3</td>\n",
       "      <td>3</td>\n",
       "      <td>POLYGON ((-87.69627 41.92695, -87.69627 41.927...</td>\n",
       "    </tr>\n",
       "    <tr>\n",
       "      <th>3</th>\n",
       "      <td>1.0</td>\n",
       "      <td>4.0</td>\n",
       "      <td>01004</td>\n",
       "      <td>0.023231</td>\n",
       "      <td>0.000028</td>\n",
       "      <td>1_4</td>\n",
       "      <td>3</td>\n",
       "      <td>3</td>\n",
       "      <td>POLYGON ((-87.70164 41.92064, -87.70175 41.920...</td>\n",
       "    </tr>\n",
       "    <tr>\n",
       "      <th>4</th>\n",
       "      <td>1.0</td>\n",
       "      <td>5.0</td>\n",
       "      <td>01005</td>\n",
       "      <td>0.024818</td>\n",
       "      <td>0.000029</td>\n",
       "      <td>1_5</td>\n",
       "      <td>3</td>\n",
       "      <td>3</td>\n",
       "      <td>POLYGON ((-87.69722 41.91822, -87.69723 41.918...</td>\n",
       "    </tr>\n",
       "  </tbody>\n",
       "</table>\n",
       "</div>"
      ],
      "text/plain": [
       "   ward_2022  precinct_1 FIRST_full  Shape_Leng  Shape_Area Ward_Precinct id  \\\n",
       "0        1.0         1.0      01001    0.024564    0.000026           1_1  3   \n",
       "1        1.0         2.0      01002    0.032845    0.000035           1_2  3   \n",
       "2        1.0         3.0      01003    0.035301    0.000044           1_3  3   \n",
       "3        1.0         4.0      01004    0.023231    0.000028           1_4  3   \n",
       "4        1.0         5.0      01005    0.024818    0.000029           1_5  3   \n",
       "\n",
       "  elec_dist                                           geometry  \n",
       "0         3  POLYGON ((-87.70522 41.92773, -87.70550 41.927...  \n",
       "1         3  POLYGON ((-87.69752 41.92528, -87.69773 41.925...  \n",
       "2         3  POLYGON ((-87.69627 41.92695, -87.69627 41.927...  \n",
       "3         3  POLYGON ((-87.70164 41.92064, -87.70175 41.920...  \n",
       "4         3  POLYGON ((-87.69722 41.91822, -87.69723 41.918...  "
      ]
     },
     "execution_count": 10,
     "metadata": {},
     "output_type": "execute_result"
    }
   ],
   "source": [
    "union.head()"
   ]
  },
  {
   "cell_type": "code",
   "execution_count": 11,
   "id": "80a30d4e-73e1-4460-918c-e91395ffe9de",
   "metadata": {},
   "outputs": [],
   "source": [
    "union['elec_dist'] = union['elec_dist'].astype(str)"
   ]
  },
  {
   "cell_type": "code",
   "execution_count": 12,
   "id": "d6568358-c15c-4c3a-b8db-d95e9af41034",
   "metadata": {},
   "outputs": [],
   "source": [
    "union['ward_precinct_district'] = union['Ward_Precinct'] + '_' + union['elec_dist']"
   ]
  },
  {
   "cell_type": "code",
   "execution_count": 13,
   "id": "c0ee58fc-e907-4ff6-85de-c0c15c5f7ff3",
   "metadata": {},
   "outputs": [
    {
     "data": {
      "text/plain": [
       "<AxesSubplot:>"
      ]
     },
     "execution_count": 13,
     "metadata": {},
     "output_type": "execute_result"
    },
    {
     "data": {
      "image/png": "[encoded data removed]",
      "text/plain": [
       "<Figure size 640x480 with 1 Axes>"
      ]
     },
     "metadata": {},
     "output_type": "display_data"
    }
   ],
   "source": [
    "union.plot()"
   ]
  },
  {
   "cell_type": "code",
   "execution_count": 14,
   "id": "7a2afbbf-ddea-45c1-a074-ec02a66e8e60",
   "metadata": {},
   "outputs": [
    {
     "data": {
      "text/html": [
       "<div>\n",
       "<style scoped>\n",
       "    .dataframe tbody tr th:only-of-type {\n",
       "        vertical-align: middle;\n",
       "    }\n",
       "\n",
       "    .dataframe tbody tr th {\n",
       "        vertical-align: top;\n",
       "    }\n",
       "\n",
       "    .dataframe thead th {\n",
       "        text-align: right;\n",
       "    }\n",
       "</style>\n",
       "<table border=\"1\" class=\"dataframe\">\n",
       "  <thead>\n",
       "    <tr style=\"text-align: right;\">\n",
       "      <th></th>\n",
       "      <th>ward_2022</th>\n",
       "      <th>precinct_1</th>\n",
       "      <th>FIRST_full</th>\n",
       "      <th>Shape_Leng</th>\n",
       "      <th>Shape_Area</th>\n",
       "      <th>Ward_Precinct</th>\n",
       "      <th>id</th>\n",
       "      <th>elec_dist</th>\n",
       "      <th>geometry</th>\n",
       "      <th>ward_precinct_district</th>\n",
       "    </tr>\n",
       "  </thead>\n",
       "  <tbody>\n",
       "    <tr>\n",
       "      <th>0</th>\n",
       "      <td>1.0</td>\n",
       "      <td>1.0</td>\n",
       "      <td>01001</td>\n",
       "      <td>0.024564</td>\n",
       "      <td>0.000026</td>\n",
       "      <td>1_1</td>\n",
       "      <td>3</td>\n",
       "      <td>3</td>\n",
       "      <td>POLYGON ((-87.70522 41.92773, -87.70550 41.927...</td>\n",
       "      <td>1_1_3</td>\n",
       "    </tr>\n",
       "    <tr>\n",
       "      <th>1</th>\n",
       "      <td>1.0</td>\n",
       "      <td>2.0</td>\n",
       "      <td>01002</td>\n",
       "      <td>0.032845</td>\n",
       "      <td>0.000035</td>\n",
       "      <td>1_2</td>\n",
       "      <td>3</td>\n",
       "      <td>3</td>\n",
       "      <td>POLYGON ((-87.69752 41.92528, -87.69773 41.925...</td>\n",
       "      <td>1_2_3</td>\n",
       "    </tr>\n",
       "    <tr>\n",
       "      <th>2</th>\n",
       "      <td>1.0</td>\n",
       "      <td>3.0</td>\n",
       "      <td>01003</td>\n",
       "      <td>0.035301</td>\n",
       "      <td>0.000044</td>\n",
       "      <td>1_3</td>\n",
       "      <td>3</td>\n",
       "      <td>3</td>\n",
       "      <td>POLYGON ((-87.69627 41.92695, -87.69627 41.927...</td>\n",
       "      <td>1_3_3</td>\n",
       "    </tr>\n",
       "    <tr>\n",
       "      <th>3</th>\n",
       "      <td>1.0</td>\n",
       "      <td>4.0</td>\n",
       "      <td>01004</td>\n",
       "      <td>0.023231</td>\n",
       "      <td>0.000028</td>\n",
       "      <td>1_4</td>\n",
       "      <td>3</td>\n",
       "      <td>3</td>\n",
       "      <td>POLYGON ((-87.70164 41.92064, -87.70175 41.920...</td>\n",
       "      <td>1_4_3</td>\n",
       "    </tr>\n",
       "    <tr>\n",
       "      <th>4</th>\n",
       "      <td>1.0</td>\n",
       "      <td>5.0</td>\n",
       "      <td>01005</td>\n",
       "      <td>0.024818</td>\n",
       "      <td>0.000029</td>\n",
       "      <td>1_5</td>\n",
       "      <td>3</td>\n",
       "      <td>3</td>\n",
       "      <td>POLYGON ((-87.69722 41.91822, -87.69723 41.918...</td>\n",
       "      <td>1_5_3</td>\n",
       "    </tr>\n",
       "  </tbody>\n",
       "</table>\n",
       "</div>"
      ],
      "text/plain": [
       "   ward_2022  precinct_1 FIRST_full  Shape_Leng  Shape_Area Ward_Precinct id  \\\n",
       "0        1.0         1.0      01001    0.024564    0.000026           1_1  3   \n",
       "1        1.0         2.0      01002    0.032845    0.000035           1_2  3   \n",
       "2        1.0         3.0      01003    0.035301    0.000044           1_3  3   \n",
       "3        1.0         4.0      01004    0.023231    0.000028           1_4  3   \n",
       "4        1.0         5.0      01005    0.024818    0.000029           1_5  3   \n",
       "\n",
       "  elec_dist                                           geometry  \\\n",
       "0         3  POLYGON ((-87.70522 41.92773, -87.70550 41.927...   \n",
       "1         3  POLYGON ((-87.69752 41.92528, -87.69773 41.925...   \n",
       "2         3  POLYGON ((-87.69627 41.92695, -87.69627 41.927...   \n",
       "3         3  POLYGON ((-87.70164 41.92064, -87.70175 41.920...   \n",
       "4         3  POLYGON ((-87.69722 41.91822, -87.69723 41.918...   \n",
       "\n",
       "  ward_precinct_district  \n",
       "0                  1_1_3  \n",
       "1                  1_2_3  \n",
       "2                  1_3_3  \n",
       "3                  1_4_3  \n",
       "4                  1_5_3  "
      ]
     },
     "execution_count": 14,
     "metadata": {},
     "output_type": "execute_result"
    }
   ],
   "source": [
    "union.head()"
   ]
  },
  {
   "cell_type": "code",
   "execution_count": 15,
   "id": "87900d1b-bf45-40fd-a2c2-4d49ed437a7b",
   "metadata": {},
   "outputs": [],
   "source": [
    "union.to_file('precincts_districts_union.geojson', driver='GeoJSON')"
   ]
  },
  {
   "cell_type": "markdown",
   "id": "c50f4e1e-296d-42c4-8af2-3efd113908da",
   "metadata": {},
   "source": [
    "## Load CPS results data"
   ]
  },
  {
   "cell_type": "code",
   "execution_count": 238,
   "id": "c8e6a6e0-18dd-42be-aefa-fc0277c9f566",
   "metadata": {},
   "outputs": [],
   "source": [
    "# load all districts\n",
    "df1 = pd.read_csv('source/cps_1_11.7.csv', skiprows=2, names=('precinct', 'total_voters', 'custer',\n",
    "             'custer_pct', 'pierre', 'pierre_pct'))\n",
    "\n",
    "df2 = pd.read_csv('source/cps_2_11.7.csv', skiprows=2, names=('precinct', 'total_voters', 'deberry',\n",
    "             'deberry_pct', 'hooper', 'hooper_pct', 'doyle', 'doyle_pct', 'leon', 'leon_pct'))\n",
    "\n",
    "df3 = pd.read_csv('source/cps_3_11.7.csv', skiprows=2, names=('precinct', 'total_voters', 'rivas',\n",
    "             'rivas_pct', 'dones', 'dones_pct'))\n",
    "\n",
    "df4 = pd.read_csv('source/cps_4_11.7.csv', skiprows=2, names=('precinct', 'total_voters', 'zaccor',\n",
    "             'zaccor_pct', 'rosenfeld', 'rosenfeld_pct', 'brown', 'brown_pct', 'day', 'day_pct', 'gioiosa', 'gioisa_pct', 'davis', 'davis_pct'))\n",
    "\n",
    "df5 = pd.read_csv('source/cps_5_11.7.csv', skiprows=2, names=('precinct', 'total_voters', 'jitu',\n",
    "             'jitu_pct'))\n",
    "\n",
    "df6 = pd.read_csv('source/cps_6_11.7.csv', skiprows=2, names=('precinct', 'total_voters', 'biggs',\n",
    "             'biggs_pct', 'thotakura', 'thotakura_pct', 'smith', 'smith_pct'))\n",
    "\n",
    "df7 = pd.read_csv('source/cps_7_11.7.csv', skiprows=2, names=('precinct', 'total_voters', 'lopez',\n",
    "             'lopez_pct', 'villalobos', 'villalobos_pct', 'don', 'don_pct'))\n",
    "\n",
    "df8 = pd.read_csv('source/cps_8_11.7.csv', skiprows=2, names=('precinct', 'total_voters', 'gutierrez',\n",
    "             'gutierrez_pct', 'ponce', 'ponce_pct'))\n",
    "\n",
    "df9 = pd.read_csv('source/cps_9_11.7.csv', skiprows=2, names=('precinct', 'total_voters', 'boyle',\n",
    "             'boyle_pct', 'thomas', 'thomas_pct', 'williams', 'williams_pct', 'lewis', 'lewis_pct'))\n",
    "\n",
    "df10 = pd.read_csv('source/cps_10_11.7.csv', skiprows=2, names=('precinct', 'total_voters', 'parrot',\n",
    "             'parrot_pct', 'smith', 'smith_pct', 'norrington', 'norrington_pct', 'jones', 'jones_pct'))"
   ]
  },
  {
   "cell_type": "code",
   "execution_count": 239,
   "id": "941d41a2-dc67-4de4-8881-e3ee904ed0df",
   "metadata": {},
   "outputs": [],
   "source": [
    "# format all districts\n",
    "\n",
    "# 1\n",
    "df1 = reformat(df1)\n",
    "df1 = joinkey(df1)\n",
    "df1['ward_precinct_district'] = df1['ward_precinct'] + '_' + '1' # add key\n",
    "df1 = df1.drop(['precinct','ward', 'ward_precinct'], axis=1) # drop non-vote cols except ward_precinct_key\n",
    "df1 = df1[df1.columns.drop(list(df1.filter(regex='pct')))] # drop pct cols\n",
    "df1[['total_voters','custer','pierre']] = df1[['total_voters','custer','pierre']].apply(pd.to_numeric, errors='coerce') # convert to int\n",
    "\n",
    "# 2\n",
    "df2 = reformat(df2)\n",
    "df2 = joinkey(df2)\n",
    "df2['ward_precinct_district'] = df2['ward_precinct'] + '_' + '2' # add key\n",
    "df2 = df2.drop(['precinct','ward', 'ward_precinct'], axis=1) \n",
    "df2 = df2[df2.columns.drop(list(df2.filter(regex='pct')))] \n",
    "df2[['total_voters','deberry','hooper','doyle','leon']] = df2[['total_voters','deberry','hooper','doyle','leon']].apply(pd.to_numeric, errors='coerce') # change\n",
    "\n",
    "# 3\n",
    "df3 = reformat(df3)\n",
    "df3 = joinkey(df3)\n",
    "df3['ward_precinct_district'] = df3['ward_precinct'] + '_' + '3' # add key\n",
    "df3 = df3.drop(['precinct','ward', 'ward_precinct'], axis=1) \n",
    "df3 = df3[df3.columns.drop(list(df3.filter(regex='pct')))] \n",
    "df3[['total_voters','rivas','dones']] = df3[['total_voters','rivas','dones']].apply(pd.to_numeric, errors='coerce') # change\n",
    "\n",
    "# 4\n",
    "df4 = reformat(df4)\n",
    "df4 = joinkey(df4)\n",
    "df4['ward_precinct_district'] = df4['ward_precinct'] + '_' + '4' # add key\n",
    "df4 = df4.drop(['precinct','ward', 'ward_precinct'], axis=1) \n",
    "df4 = df4[df4.columns.drop(list(df4.filter(regex='pct')))] \n",
    "df4[['total_voters','zaccor','rosenfeld','brown','day','gioiosa','davis']] = df4[['total_voters','zaccor','rosenfeld','brown','day','gioiosa','davis']].apply(pd.to_numeric, errors='coerce') # change\n",
    "\n",
    "# 5\n",
    "df5 = reformat(df5)\n",
    "df5 = joinkey(df5)\n",
    "df5['ward_precinct_district'] = df5['ward_precinct'] + '_' + '5' # add key\n",
    "df5 = df5.drop(['precinct','ward', 'ward_precinct'], axis=1) \n",
    "df5 = df5[df5.columns.drop(list(df5.filter(regex='pct')))] \n",
    "df5[['total_voters','jitu']] = df5[['total_voters','jitu']].apply(pd.to_numeric, errors='coerce') # change\n",
    "\n",
    "# 6\n",
    "df6 = reformat(df6)\n",
    "df6 = joinkey(df6)\n",
    "df6['ward_precinct_district'] = df6['ward_precinct'] + '_' + '6' # add key\n",
    "df6 = df6.drop(['precinct','ward', 'ward_precinct'], axis=1) \n",
    "df6 = df6[df6.columns.drop(list(df6.filter(regex='pct')))] \n",
    "df6[['total_voters','biggs','thotakura','smith']] = df6[['total_voters','biggs','thotakura','smith']].apply(pd.to_numeric, errors='coerce') # change\n",
    "\n",
    "# 7\n",
    "df7 = reformat(df7)\n",
    "df7 = joinkey(df7)\n",
    "df7['ward_precinct_district'] = df7['ward_precinct'] + '_' + '7' # add key\n",
    "df7 = df7.drop(['precinct','ward', 'ward_precinct'], axis=1) \n",
    "df7 = df7[df7.columns.drop(list(df7.filter(regex='pct')))] \n",
    "df7[['total_voters','lopez','villalobos','don']] = df7[['total_voters','lopez','villalobos','don']].apply(pd.to_numeric, errors='coerce') # change\n",
    "\n",
    "# 8\n",
    "df8 = reformat(df8)\n",
    "df8 = joinkey(df8)\n",
    "df8['ward_precinct_district'] = df8['ward_precinct'] + '_' + '8' # add key\n",
    "df8 = df8.drop(['precinct','ward', 'ward_precinct'], axis=1) \n",
    "df8 = df8[df8.columns.drop(list(df8.filter(regex='pct')))] \n",
    "df8[['total_voters','gutierrez','ponce']] = df8[['total_voters','gutierrez','ponce']].apply(pd.to_numeric, errors='coerce') # change\n",
    "\n",
    "# 9\n",
    "df9 = reformat(df9)\n",
    "df9 = joinkey(df9)\n",
    "df9['ward_precinct_district'] = df9['ward_precinct'] + '_' + '9' # add key\n",
    "df9 = df9.drop(['precinct','ward', 'ward_precinct'], axis=1) \n",
    "df9 = df9[df9.columns.drop(list(df9.filter(regex='pct')))] \n",
    "df9[['total_voters','boyle','thomas', 'williams','lewis']] = df9[['total_voters','boyle','thomas', 'williams','lewis']].apply(pd.to_numeric, errors='coerce') # change\n",
    "\n",
    "# 10\n",
    "df10 = reformat(df10)\n",
    "df10 = joinkey(df10)\n",
    "df10['ward_precinct_district'] = df10['ward_precinct'] + '_' + '10'\n",
    "df10 = df10.drop(['precinct','ward', 'ward_precinct'], axis=1) #\n",
    "df10 = df10[df10.columns.drop(list(df10.filter(regex='pct')))] \n",
    "df10[['total_voters','parrot','smith','norrington','jones']] = df10[['total_voters','parrot','smith','norrington','jones']].apply(pd.to_numeric, errors='coerce') "
   ]
  },
  {
   "cell_type": "code",
   "execution_count": 240,
   "id": "e512277d-2a3f-48ed-a641-4d1110402cd0",
   "metadata": {},
   "outputs": [],
   "source": [
    "def get_leading_candidate(df,district):\n",
    "    '''\n",
    "    takes a district df and a district number\n",
    "    adds a column for the top vote getter in each precinct\n",
    "    returns the district df\n",
    "    '''\n",
    "    col_name = 'first_' + str(district)\n",
    "    df[col_name] = ''\n",
    "    col_name_2 = 'second_' + str(district)\n",
    "    df[col_name_2] = ''\n",
    "    \n",
    "    for index, row in df.iloc[ : ,1:-3].iterrows(): # only candidate cols\n",
    "        if row.sum() == 0: # exclude rows w no data\n",
    "            pass\n",
    "        else:\n",
    "            # find candidate w max votes\n",
    "            max_cand = row.idxmax()\n",
    "            # assign max candidate to the new columns\n",
    "            df.at[index,col_name] = max_cand\n",
    "\n",
    "            # find second highest candidate \n",
    "            # create a temp row that excludes the max\n",
    "            temp_row = row.drop(max_cand)\n",
    "            # find second max\n",
    "            second_cand = temp_row.idxmax()\n",
    "            # assign second cand to new col\n",
    "            df.at[index, col_name_2] = second_cand\n",
    "            \n",
    "            # check there are no ties between first and second\n",
    "            if df[max_cand][index] == df[second_cand][index]:\n",
    "                df.at[index,col_name] = 'Tie'\n",
    "\n",
    "    return df"
   ]
  },
  {
   "cell_type": "code",
   "execution_count": 222,
   "id": "5b5e872b-a40f-479a-abc5-cb02b6408984",
   "metadata": {},
   "outputs": [
    {
     "data": {
      "text/html": [
       "<div>\n",
       "<style scoped>\n",
       "    .dataframe tbody tr th:only-of-type {\n",
       "        vertical-align: middle;\n",
       "    }\n",
       "\n",
       "    .dataframe tbody tr th {\n",
       "        vertical-align: top;\n",
       "    }\n",
       "\n",
       "    .dataframe thead th {\n",
       "        text-align: right;\n",
       "    }\n",
       "</style>\n",
       "<table border=\"1\" class=\"dataframe\">\n",
       "  <thead>\n",
       "    <tr style=\"text-align: right;\">\n",
       "      <th></th>\n",
       "      <th>total_voters</th>\n",
       "      <th>jitu</th>\n",
       "      <th>ward_precinct_district</th>\n",
       "      <th>first_5</th>\n",
       "      <th>second_5</th>\n",
       "    </tr>\n",
       "  </thead>\n",
       "  <tbody>\n",
       "    <tr>\n",
       "      <th>3</th>\n",
       "      <td>194</td>\n",
       "      <td>194</td>\n",
       "      <td>1_13_5</td>\n",
       "      <td>jitu</td>\n",
       "      <td></td>\n",
       "    </tr>\n",
       "    <tr>\n",
       "      <th>4</th>\n",
       "      <td>121</td>\n",
       "      <td>121</td>\n",
       "      <td>1_15_5</td>\n",
       "      <td></td>\n",
       "      <td></td>\n",
       "    </tr>\n",
       "    <tr>\n",
       "      <th>5</th>\n",
       "      <td>458</td>\n",
       "      <td>458</td>\n",
       "      <td>1_16_5</td>\n",
       "      <td></td>\n",
       "      <td></td>\n",
       "    </tr>\n",
       "    <tr>\n",
       "      <th>6</th>\n",
       "      <td>501</td>\n",
       "      <td>501</td>\n",
       "      <td>1_22_5</td>\n",
       "      <td></td>\n",
       "      <td></td>\n",
       "    </tr>\n",
       "    <tr>\n",
       "      <th>7</th>\n",
       "      <td>184</td>\n",
       "      <td>184</td>\n",
       "      <td>1_23_5</td>\n",
       "      <td></td>\n",
       "      <td></td>\n",
       "    </tr>\n",
       "  </tbody>\n",
       "</table>\n",
       "</div>"
      ],
      "text/plain": [
       "   total_voters  jitu ward_precinct_district first_5 second_5\n",
       "3           194   194                 1_13_5    jitu         \n",
       "4           121   121                 1_15_5                 \n",
       "5           458   458                 1_16_5                 \n",
       "6           501   501                 1_22_5                 \n",
       "7           184   184                 1_23_5                 "
      ]
     },
     "execution_count": 222,
     "metadata": {},
     "output_type": "execute_result"
    }
   ],
   "source": [
    "df5.head()"
   ]
  },
  {
   "cell_type": "code",
   "execution_count": 241,
   "id": "590d8770-a1af-4005-9a4e-b4758bb93059",
   "metadata": {},
   "outputs": [],
   "source": [
    "# find top vote getter for each district\n",
    "df1 = get_leading_candidate(df1,1)\n",
    "df2 = get_leading_candidate(df2,2)\n",
    "df3 = get_leading_candidate(df3,3)\n",
    "df4 = get_leading_candidate(df4,4)\n",
    "# df5 = get_leading_candidate(df5,5) HANDLE MANUALLY BC ONLY 1\n",
    "df6 = get_leading_candidate(df6,6)\n",
    "df7 = get_leading_candidate(df7,7)\n",
    "df8 = get_leading_candidate(df8,8)\n",
    "df9 = get_leading_candidate(df9,9)\n",
    "df10 = get_leading_candidate(df10,10)"
   ]
  },
  {
   "cell_type": "code",
   "execution_count": 242,
   "id": "4ba3298a-78c6-4448-a65c-f6b28a715476",
   "metadata": {},
   "outputs": [],
   "source": [
    "# manually assign district 5\n",
    "df5['first_5'] = 'jitu'\n",
    "df5['second_5'] = 'jitu'"
   ]
  },
  {
   "cell_type": "code",
   "execution_count": 243,
   "id": "89d0ea5f-5b29-4c9e-a134-00237ef29a24",
   "metadata": {},
   "outputs": [],
   "source": [
    "union_test = union.merge(df1[['ward_precinct_district','first_1']], on='ward_precinct_district', how='left')\n",
    "union_test = union_test.merge(df2[['ward_precinct_district','first_2']], on='ward_precinct_district', how='left')\n",
    "union_test = union_test.merge(df3[['ward_precinct_district','first_3']], on='ward_precinct_district', how='left')\n",
    "union_test = union_test.merge(df4[['ward_precinct_district','first_4']], on='ward_precinct_district', how='left')\n",
    "union_test = union_test.merge(df5[['ward_precinct_district','first_5']], on='ward_precinct_district', how='left')\n",
    "union_test = union_test.merge(df6[['ward_precinct_district','first_6']], on='ward_precinct_district', how='left')\n",
    "union_test = union_test.merge(df7[['ward_precinct_district','first_7']], on='ward_precinct_district', how='left')\n",
    "union_test = union_test.merge(df8[['ward_precinct_district','first_8']], on='ward_precinct_district', how='left')\n",
    "union_test = union_test.merge(df9[['ward_precinct_district','first_9']], on='ward_precinct_district', how='left')\n",
    "union_test = union_test.merge(df10[['ward_precinct_district','first_10']], on='ward_precinct_district', how='left')"
   ]
  },
  {
   "cell_type": "code",
   "execution_count": 244,
   "id": "ae9c9183-808d-4e28-b604-d2c53618e082",
   "metadata": {},
   "outputs": [],
   "source": [
    "union_test.to_file('union_test.geojson', driver='GeoJSON')"
   ]
  },
  {
   "cell_type": "code",
   "execution_count": 247,
   "id": "08f691ad-87e0-4885-9981-5daff056776a",
   "metadata": {},
   "outputs": [],
   "source": [
    "union_test.iloc[:,9:].to_csv('processed/school_board_leaders_by_precinct.csv')"
   ]
  },
  {
   "cell_type": "code",
   "execution_count": 246,
   "id": "7ce078b5-b75c-4883-97bc-f5deec1a8516",
   "metadata": {},
   "outputs": [
    {
     "data": {
      "text/html": [
       "<div>\n",
       "<style scoped>\n",
       "    .dataframe tbody tr th:only-of-type {\n",
       "        vertical-align: middle;\n",
       "    }\n",
       "\n",
       "    .dataframe tbody tr th {\n",
       "        vertical-align: top;\n",
       "    }\n",
       "\n",
       "    .dataframe thead th {\n",
       "        text-align: right;\n",
       "    }\n",
       "</style>\n",
       "<table border=\"1\" class=\"dataframe\">\n",
       "  <thead>\n",
       "    <tr style=\"text-align: right;\">\n",
       "      <th></th>\n",
       "      <th>ward_precinct_district</th>\n",
       "      <th>first_1</th>\n",
       "      <th>first_2</th>\n",
       "      <th>first_3</th>\n",
       "      <th>first_4</th>\n",
       "      <th>first_5</th>\n",
       "      <th>first_6</th>\n",
       "      <th>first_7</th>\n",
       "      <th>first_8</th>\n",
       "      <th>first_9</th>\n",
       "      <th>first_10</th>\n",
       "    </tr>\n",
       "  </thead>\n",
       "  <tbody>\n",
       "    <tr>\n",
       "      <th>0</th>\n",
       "      <td>1_1_3</td>\n",
       "      <td>NaN</td>\n",
       "      <td>NaN</td>\n",
       "      <td>dones</td>\n",
       "      <td>NaN</td>\n",
       "      <td>NaN</td>\n",
       "      <td>NaN</td>\n",
       "      <td>NaN</td>\n",
       "      <td>NaN</td>\n",
       "      <td>NaN</td>\n",
       "      <td>NaN</td>\n",
       "    </tr>\n",
       "    <tr>\n",
       "      <th>1</th>\n",
       "      <td>1_2_3</td>\n",
       "      <td>NaN</td>\n",
       "      <td>NaN</td>\n",
       "      <td>dones</td>\n",
       "      <td>NaN</td>\n",
       "      <td>NaN</td>\n",
       "      <td>NaN</td>\n",
       "      <td>NaN</td>\n",
       "      <td>NaN</td>\n",
       "      <td>NaN</td>\n",
       "      <td>NaN</td>\n",
       "    </tr>\n",
       "    <tr>\n",
       "      <th>2</th>\n",
       "      <td>1_3_3</td>\n",
       "      <td>NaN</td>\n",
       "      <td>NaN</td>\n",
       "      <td>dones</td>\n",
       "      <td>NaN</td>\n",
       "      <td>NaN</td>\n",
       "      <td>NaN</td>\n",
       "      <td>NaN</td>\n",
       "      <td>NaN</td>\n",
       "      <td>NaN</td>\n",
       "      <td>NaN</td>\n",
       "    </tr>\n",
       "    <tr>\n",
       "      <th>3</th>\n",
       "      <td>1_4_3</td>\n",
       "      <td>NaN</td>\n",
       "      <td>NaN</td>\n",
       "      <td>dones</td>\n",
       "      <td>NaN</td>\n",
       "      <td>NaN</td>\n",
       "      <td>NaN</td>\n",
       "      <td>NaN</td>\n",
       "      <td>NaN</td>\n",
       "      <td>NaN</td>\n",
       "      <td>NaN</td>\n",
       "    </tr>\n",
       "    <tr>\n",
       "      <th>4</th>\n",
       "      <td>1_5_3</td>\n",
       "      <td>NaN</td>\n",
       "      <td>NaN</td>\n",
       "      <td>dones</td>\n",
       "      <td>NaN</td>\n",
       "      <td>NaN</td>\n",
       "      <td>NaN</td>\n",
       "      <td>NaN</td>\n",
       "      <td>NaN</td>\n",
       "      <td>NaN</td>\n",
       "      <td>NaN</td>\n",
       "    </tr>\n",
       "    <tr>\n",
       "      <th>...</th>\n",
       "      <td>...</td>\n",
       "      <td>...</td>\n",
       "      <td>...</td>\n",
       "      <td>...</td>\n",
       "      <td>...</td>\n",
       "      <td>...</td>\n",
       "      <td>...</td>\n",
       "      <td>...</td>\n",
       "      <td>...</td>\n",
       "      <td>...</td>\n",
       "      <td>...</td>\n",
       "    </tr>\n",
       "    <tr>\n",
       "      <th>1734</th>\n",
       "      <td>NaN</td>\n",
       "      <td>NaN</td>\n",
       "      <td>NaN</td>\n",
       "      <td>NaN</td>\n",
       "      <td>NaN</td>\n",
       "      <td>NaN</td>\n",
       "      <td>NaN</td>\n",
       "      <td>NaN</td>\n",
       "      <td>NaN</td>\n",
       "      <td>NaN</td>\n",
       "      <td>NaN</td>\n",
       "    </tr>\n",
       "    <tr>\n",
       "      <th>1735</th>\n",
       "      <td>NaN</td>\n",
       "      <td>NaN</td>\n",
       "      <td>NaN</td>\n",
       "      <td>NaN</td>\n",
       "      <td>NaN</td>\n",
       "      <td>NaN</td>\n",
       "      <td>NaN</td>\n",
       "      <td>NaN</td>\n",
       "      <td>NaN</td>\n",
       "      <td>NaN</td>\n",
       "      <td>NaN</td>\n",
       "    </tr>\n",
       "    <tr>\n",
       "      <th>1736</th>\n",
       "      <td>NaN</td>\n",
       "      <td>NaN</td>\n",
       "      <td>NaN</td>\n",
       "      <td>NaN</td>\n",
       "      <td>NaN</td>\n",
       "      <td>NaN</td>\n",
       "      <td>NaN</td>\n",
       "      <td>NaN</td>\n",
       "      <td>NaN</td>\n",
       "      <td>NaN</td>\n",
       "      <td>NaN</td>\n",
       "    </tr>\n",
       "    <tr>\n",
       "      <th>1737</th>\n",
       "      <td>NaN</td>\n",
       "      <td>NaN</td>\n",
       "      <td>NaN</td>\n",
       "      <td>NaN</td>\n",
       "      <td>NaN</td>\n",
       "      <td>NaN</td>\n",
       "      <td>NaN</td>\n",
       "      <td>NaN</td>\n",
       "      <td>NaN</td>\n",
       "      <td>NaN</td>\n",
       "      <td>NaN</td>\n",
       "    </tr>\n",
       "    <tr>\n",
       "      <th>1738</th>\n",
       "      <td>NaN</td>\n",
       "      <td>NaN</td>\n",
       "      <td>NaN</td>\n",
       "      <td>NaN</td>\n",
       "      <td>NaN</td>\n",
       "      <td>NaN</td>\n",
       "      <td>NaN</td>\n",
       "      <td>NaN</td>\n",
       "      <td>NaN</td>\n",
       "      <td>NaN</td>\n",
       "      <td>NaN</td>\n",
       "    </tr>\n",
       "  </tbody>\n",
       "</table>\n",
       "<p>1739 rows × 11 columns</p>\n",
       "</div>"
      ],
      "text/plain": [
       "     ward_precinct_district first_1 first_2 first_3 first_4 first_5 first_6  \\\n",
       "0                     1_1_3     NaN     NaN   dones     NaN     NaN     NaN   \n",
       "1                     1_2_3     NaN     NaN   dones     NaN     NaN     NaN   \n",
       "2                     1_3_3     NaN     NaN   dones     NaN     NaN     NaN   \n",
       "3                     1_4_3     NaN     NaN   dones     NaN     NaN     NaN   \n",
       "4                     1_5_3     NaN     NaN   dones     NaN     NaN     NaN   \n",
       "...                     ...     ...     ...     ...     ...     ...     ...   \n",
       "1734                    NaN     NaN     NaN     NaN     NaN     NaN     NaN   \n",
       "1735                    NaN     NaN     NaN     NaN     NaN     NaN     NaN   \n",
       "1736                    NaN     NaN     NaN     NaN     NaN     NaN     NaN   \n",
       "1737                    NaN     NaN     NaN     NaN     NaN     NaN     NaN   \n",
       "1738                    NaN     NaN     NaN     NaN     NaN     NaN     NaN   \n",
       "\n",
       "     first_7 first_8 first_9 first_10  \n",
       "0        NaN     NaN     NaN      NaN  \n",
       "1        NaN     NaN     NaN      NaN  \n",
       "2        NaN     NaN     NaN      NaN  \n",
       "3        NaN     NaN     NaN      NaN  \n",
       "4        NaN     NaN     NaN      NaN  \n",
       "...      ...     ...     ...      ...  \n",
       "1734     NaN     NaN     NaN      NaN  \n",
       "1735     NaN     NaN     NaN      NaN  \n",
       "1736     NaN     NaN     NaN      NaN  \n",
       "1737     NaN     NaN     NaN      NaN  \n",
       "1738     NaN     NaN     NaN      NaN  \n",
       "\n",
       "[1739 rows x 11 columns]"
      ]
     },
     "execution_count": 246,
     "metadata": {},
     "output_type": "execute_result"
    }
   ],
   "source": [
    "union_test.iloc[:,9:]"
   ]
  },
  {
   "cell_type": "code",
   "execution_count": 249,
   "id": "3e1e24ae-830d-4ca5-a626-385a0dd9af4a",
   "metadata": {},
   "outputs": [
    {
     "name": "stderr",
     "output_type": "stream",
     "text": [
      "/home/aqin/Documents/stories/lib/python3.10/site-packages/geopandas/geodataframe.py:1470: FutureWarning: Passing 'suffixes' which cause duplicate columns {'total_voters_x'} in the result is deprecated and will raise a MergeError in a future version.\n",
      "  result = DataFrame.merge(self, *args, **kwargs)\n",
      "/home/aqin/Documents/stories/lib/python3.10/site-packages/geopandas/geodataframe.py:1470: FutureWarning: Passing 'suffixes' which cause duplicate columns {'total_voters_x'} in the result is deprecated and will raise a MergeError in a future version.\n",
      "  result = DataFrame.merge(self, *args, **kwargs)\n",
      "/home/aqin/Documents/stories/lib/python3.10/site-packages/geopandas/geodataframe.py:1470: FutureWarning: Passing 'suffixes' which cause duplicate columns {'total_voters_x'} in the result is deprecated and will raise a MergeError in a future version.\n",
      "  result = DataFrame.merge(self, *args, **kwargs)\n",
      "/home/aqin/Documents/stories/lib/python3.10/site-packages/geopandas/geodataframe.py:1470: FutureWarning: Passing 'suffixes' which cause duplicate columns {'total_voters_x'} in the result is deprecated and will raise a MergeError in a future version.\n",
      "  result = DataFrame.merge(self, *args, **kwargs)\n"
     ]
    }
   ],
   "source": [
    "union_test = union.merge(df1, on='ward_precinct_district', how='left')\n",
    "union_test = union_test.merge(df2, on='ward_precinct_district', how='left')\n",
    "union_test = union_test.merge(df3, on='ward_precinct_district', how='left')\n",
    "union_test = union_test.merge(df4, on='ward_precinct_district', how='left')\n",
    "union_test = union_test.merge(df5, on='ward_precinct_district', how='left')\n",
    "union_test = union_test.merge(df6, on='ward_precinct_district', how='left')\n",
    "union_test = union_test.merge(df7, on='ward_precinct_district', how='left')\n",
    "union_test = union_test.merge(df8, on='ward_precinct_district', how='left')\n",
    "union_test = union_test.merge(df9, on='ward_precinct_district', how='left')\n",
    "union_test = union_test.merge(df10, on='ward_precinct_district', how='left')"
   ]
  },
  {
   "cell_type": "code",
   "execution_count": 251,
   "id": "152a8f44-ffe8-408b-beba-8332cdc865f0",
   "metadata": {},
   "outputs": [
    {
     "data": {
      "text/plain": [
       "Index(['ward_2022', 'precinct_1', 'FIRST_full', 'Shape_Leng', 'Shape_Area',\n",
       "       'Ward_Precinct', 'id', 'elec_dist', 'geometry',\n",
       "       'ward_precinct_district', 'total_voters_x', 'custer', 'pierre',\n",
       "       'first_1', 'second_1', 'total_voters_y', 'deberry', 'hooper', 'doyle',\n",
       "       'leon', 'first_2', 'second_2', 'total_voters_x', 'rivas', 'dones',\n",
       "       'first_3', 'second_3', 'total_voters_y', 'zaccor', 'rosenfeld', 'brown',\n",
       "       'day', 'gioiosa', 'davis', 'first_4', 'second_4', 'total_voters_x',\n",
       "       'jitu', 'first_5', 'second_5', 'total_voters_y', 'biggs', 'thotakura',\n",
       "       'smith_x', 'first_6', 'second_6', 'total_voters_x', 'lopez',\n",
       "       'villalobos', 'don', 'first_7', 'second_7', 'total_voters_y',\n",
       "       'gutierrez', 'ponce', 'first_8', 'second_8', 'total_voters_x', 'boyle',\n",
       "       'thomas', 'williams', 'lewis', 'first_9', 'second_9', 'total_voters_y',\n",
       "       'parrot', 'smith_y', 'norrington', 'jones', 'first_10', 'second_10'],\n",
       "      dtype='object')"
      ]
     },
     "execution_count": 251,
     "metadata": {},
     "output_type": "execute_result"
    }
   ],
   "source": [
    "union_test.columns"
   ]
  },
  {
   "cell_type": "code",
   "execution_count": 257,
   "id": "35adf915-d671-453b-bb4d-ee9ac8d43811",
   "metadata": {},
   "outputs": [
    {
     "data": {
      "text/plain": [
       "28905"
      ]
     },
     "execution_count": 257,
     "metadata": {},
     "output_type": "execute_result"
    }
   ],
   "source": [
    "# check\n",
    "df3['dones'].sum()"
   ]
  },
  {
   "cell_type": "code",
   "execution_count": 255,
   "id": "3961024c-4372-4503-a348-5d4291a450bf",
   "metadata": {},
   "outputs": [],
   "source": [
    "union_test.to_csv('test.csv')"
   ]
  },
  {
   "cell_type": "code",
   "execution_count": 261,
   "id": "229cf463-ae54-4ac5-b5e8-1d992c055a52",
   "metadata": {},
   "outputs": [
    {
     "data": {
      "text/plain": [
       "34954.0"
      ]
     },
     "execution_count": 261,
     "metadata": {},
     "output_type": "execute_result"
    }
   ],
   "source": [
    "union_test['biggs'].sum()"
   ]
  },
  {
   "cell_type": "code",
   "execution_count": 254,
   "id": "1cdc4360-151d-4717-9032-65554b043ea5",
   "metadata": {},
   "outputs": [
    {
     "data": {
      "text/plain": [
       "0       0.0\n",
       "1       0.0\n",
       "2       0.0\n",
       "3       0.0\n",
       "4       0.0\n",
       "       ... \n",
       "1734    0.0\n",
       "1735    0.0\n",
       "1736    0.0\n",
       "1737    0.0\n",
       "1738    0.0\n",
       "Length: 1739, dtype: float64"
      ]
     },
     "execution_count": 254,
     "metadata": {},
     "output_type": "execute_result"
    }
   ],
   "source": []
  },
  {
   "cell_type": "code",
   "execution_count": null,
   "id": "1cecd5bb-ea99-4cb7-93ba-93dc9b8a1204",
   "metadata": {},
   "outputs": [],
   "source": []
  }
 ],
 "metadata": {
  "kernelspec": {
   "display_name": "Python 3 (ipykernel)",
   "language": "python",
   "name": "python3"
  },
  "language_info": {
   "codemirror_mode": {
    "name": "ipython",
    "version": 3
   },
   "file_extension": ".py",
   "mimetype": "text/x-python",
   "name": "python",
   "nbconvert_exporter": "python",
   "pygments_lexer": "ipython3",
   "version": "3.10.12"
  }
 },
 "nbformat": 4,
 "nbformat_minor": 5
}
