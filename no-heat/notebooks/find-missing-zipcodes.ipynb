{
 "cells": [
  {
   "cell_type": "markdown",
   "id": "d4e71cff-5454-44e0-828f-48ee9c529aa5",
   "metadata": {},
   "source": [
    "# Identify zipcodes for addresses without zipcodes"
   ]
  },
  {
   "cell_type": "markdown",
   "id": "1a1f2e60-ffe8-4ad4-8820-8d501af5ffc7",
   "metadata": {},
   "source": [
    "Did a vlookup on addresses from the Cook County Address Points database to resolve 1,628 missing zipcodes. This notebook merges those 1,628 zipcodes with the cleaned data. "
   ]
  },
  {
   "cell_type": "markdown",
   "id": "7b9e4485-bd2b-4d2c-9e6e-db81c7474775",
   "metadata": {},
   "source": [
    "## Step 1"
   ]
  },
  {
   "cell_type": "code",
   "execution_count": 4,
   "id": "049b9569-bf12-4e7b-993f-d6760a38ca6e",
   "metadata": {},
   "outputs": [],
   "source": [
    "import pandas as pd"
   ]
  },
  {
   "cell_type": "code",
   "execution_count": 20,
   "id": "82e88c61-23ca-4007-b774-62d6b0f22cad",
   "metadata": {},
   "outputs": [],
   "source": [
    "zips = pd.read_csv('../geocoding/zipcode lookup with cook county addresses.csv')"
   ]
  },
  {
   "cell_type": "code",
   "execution_count": 21,
   "id": "fd1a1140-2051-441c-a137-c7627c21c657",
   "metadata": {},
   "outputs": [],
   "source": [
    "# convert to a dict\n",
    "zips_dict = dict(zip(zips['address'], zips['zipcode']))"
   ]
  },
  {
   "cell_type": "code",
   "execution_count": 68,
   "id": "31935852-0e64-4678-b0e8-b37629ba0a27",
   "metadata": {},
   "outputs": [],
   "source": [
    "df = pd.read_csv('../data/processed/cleaned_complaints_deduplicated.csv')"
   ]
  },
  {
   "cell_type": "code",
   "execution_count": 69,
   "id": "4aed5f95-6fa0-471d-8066-e05b416a47ec",
   "metadata": {},
   "outputs": [],
   "source": [
    "df.fillna('',inplace=True)"
   ]
  },
  {
   "cell_type": "code",
   "execution_count": 70,
   "id": "0c329432-e696-4626-8eb7-75cdbe5870f3",
   "metadata": {},
   "outputs": [],
   "source": [
    "tdf = df.tail(30)"
   ]
  },
  {
   "cell_type": "code",
   "execution_count": 79,
   "id": "8a9b03dc-52d3-413e-b0c7-4cc70a4f72bb",
   "metadata": {},
   "outputs": [
    {
     "name": "stdout",
     "output_type": "stream",
     "text": [
      "\n",
      "\n",
      "\n",
      "\n",
      "\n",
      "6430 W 64TH \n",
      "3122 N BROADWAY \n",
      "10142 S AVENUE M \n",
      "4236 N BROADWAY \n",
      "4236 N BROADWAY \n",
      "1824 N LINCOLN PARK WEST \n",
      "1199 S MCCORMICK PL BUSWAY \n",
      "13550 S O \n",
      "10323 S AVENUE M \n",
      "5821 N BROADWAY \n",
      "9177 S SOUTH  CHICAGO AVE\n",
      "9651 S N \n",
      "4215 N BROADWAY \n",
      "2144 N LINCOLN PARK WEST \n",
      "2144 N LINCOLN PARK WEST \n"
     ]
    }
   ],
   "source": [
    "for index, row in df.iterrows():\n",
    "    if row['zipcode'] == '':\n",
    "        try:\n",
    "            zipcode = zips_dict[row['street_address']]\n",
    "            df.at[index,'zipcode'] = zipcode\n",
    "        except:\n",
    "            print(row['street_address'])"
   ]
  },
  {
   "cell_type": "code",
   "execution_count": 82,
   "id": "29d3cc08-b400-48f7-ab19-4a1b8c77ff87",
   "metadata": {},
   "outputs": [],
   "source": [
    "df.to_csv('../data/processed/cleaned_complaints_zips_1.csv')"
   ]
  },
  {
   "cell_type": "markdown",
   "id": "85240928-bfde-4319-932c-64e9314b2d1d",
   "metadata": {},
   "source": [
    "## Step 2"
   ]
  },
  {
   "cell_type": "markdown",
   "id": "3b038f29-4ec7-4468-a9dc-b0fb02bd4b0c",
   "metadata": {},
   "source": [
    "Of the 550 zipcodes unmatched in step 1, excel vlookuped the remaining zipcodes from the zipcodes I have. And matched another 63 and saved it as cleaned_complaints_zips_2.csv. There are now just 338 remaining unmatched zipcodes."
   ]
  },
  {
   "cell_type": "code",
   "execution_count": null,
   "id": "b68568eb-74e4-46c7-8154-236fade697fd",
   "metadata": {},
   "outputs": [],
   "source": []
  }
 ],
 "metadata": {
  "kernelspec": {
   "display_name": "Python 3 (ipykernel)",
   "language": "python",
   "name": "python3"
  },
  "language_info": {
   "codemirror_mode": {
    "name": "ipython",
    "version": 3
   },
   "file_extension": ".py",
   "mimetype": "text/x-python",
   "name": "python",
   "nbconvert_exporter": "python",
   "pygments_lexer": "ipython3",
   "version": "3.10.12"
  }
 },
 "nbformat": 4,
 "nbformat_minor": 5
}
