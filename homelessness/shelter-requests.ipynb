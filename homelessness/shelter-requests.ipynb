{
 "cells": [
  {
   "cell_type": "markdown",
   "id": "c61d6e75-0e59-474c-a91c-85668245108d",
   "metadata": {},
   "source": [
    "## Configs"
   ]
  },
  {
   "cell_type": "code",
   "execution_count": 1,
   "id": "74905b9f-981a-4d68-ab99-b2d0327a6678",
   "metadata": {},
   "outputs": [],
   "source": [
    "import pandas as pd\n",
    "import math\n",
    "import numpy as np"
   ]
  },
  {
   "cell_type": "markdown",
   "id": "7f64e0a5-f87f-4159-af8a-13ab74657c21",
   "metadata": {},
   "source": [
    "## Read excel data into pandas dataframes"
   ]
  },
  {
   "cell_type": "markdown",
   "id": "80625e30-ee04-4900-87f4-ef547f196536",
   "metadata": {},
   "source": [
    "Note: Jan 1-Feb 26 2019 does not include flex question fields. I manually appended Jan 1 - Feb 26 to Feb-Jun 2019 excel file and manually appended Feb 23-Apr 14 to the Jan 1-Feb 22 excel file (note the Feb to Apr file includes Feb 22 as well, had to make sure to exclude that so I didn't double count)"
   ]
  },
  {
   "cell_type": "code",
   "execution_count": 159,
   "id": "01f4a9f9-07e6-408d-ae39-ee9a00d5f43c",
   "metadata": {},
   "outputs": [],
   "source": [
    "# read in data for 2023 until April 14\n",
    "todate_2023 = pd.read_excel('source/311_FOIA_data/Qin_WBEZ_FOIA_REF__F040929-022323_JAN_1_-_APR 14__2023_FINAL_manual append.xlsx', skiprows=1)\n",
    "\n",
    "# read in data for 2022\n",
    "first_2022 = pd.read_excel('source/311_FOIA_data/Qin_WBEZ_FOIA_REF__F040929-022323_JAN_1_-_JUN_30__2022_FINAL.xlsx', skiprows=1)\n",
    "second_2022 = pd.read_excel('source/311_FOIA_data/Qin_WBEZ_FOIA_REF__F040929-022323_JUL_1_-_DEC_31__2022_FINAL (1).xlsx', skiprows=1)\n",
    "\n",
    "# read in data for 2021\n",
    "first_2021 = pd.read_excel('source/311_FOIA_data/Qin_WBEZ_FOIA_REF__F040929-022323_JAN_1_-_JUN_30__2021_FINAL.xlsx', skiprows=1)\n",
    "second_2021 = pd.read_excel('source/311_FOIA_data/Qin_WBEZ_FOIA_REF__F040929-022323_JUL_1-_DEC_31__2021_FINAL.xlsx', skiprows=1)\n",
    "\n",
    "# read in data for 2020\n",
    "first_2020 = pd.read_excel('source/311_FOIA_data/Qin_WBEZ_FOIA_REF__F040929-022323_JAN_1_-_JUN_30__2020_FINAL.xlsx', skiprows=1)\n",
    "second_2020 = pd.read_excel('source/311_FOIA_data/Qin_WBEZ_FOIA_REF__F040929-022323_JUL_1_-_DEC_31__2020_FINAL.xlsx', skiprows=1)\n",
    "\n",
    "# read in data for 2019\n",
    "first_2019 = pd.read_excel('source/311_FOIA_data/Qin_WBEZ_FOIA_REF__F040929-022323_JAN 1_-_JUN_30__2019_FINAL_manual append.xlsx', skiprows=1) # manual append\n",
    "second_2019 = pd.read_excel('source/311_FOIA_data/Qin_WBEZ_FOIA_REF__F040929-022323_JUL_1_-_DEC_31__2019_FINAL.xlsx', skiprows=1)"
   ]
  },
  {
   "cell_type": "code",
   "execution_count": 160,
   "id": "c2fe6bed-0758-45fc-87f8-214b1bca0ed6",
   "metadata": {},
   "outputs": [],
   "source": [
    "# append years together\n",
    "df_2023 = todate_2023.copy()\n",
    "df_2022 = pd.concat([first_2022, second_2022])\n",
    "df_2021 = pd.concat([first_2021, second_2021])\n",
    "df_2020 = pd.concat([first_2020, second_2020])\n",
    "df_2019 = pd.concat([first_2019, second_2019])"
   ]
  },
  {
   "cell_type": "markdown",
   "id": "7e517fca-e5e0-4789-a9e7-7f20ee699ecd",
   "metadata": {},
   "source": [
    "Manual count of the number of rows in excel files:\n",
    "- 2019: 42,097 = 4,001 (1/1-2/26) + 14,681 (2/27-6/30) + 23,345 (7/1-12/31)\n",
    "- 2020: 70,251 = 30,910 + 39,341\n",
    "- 2021: 114,024 = 45,990 + 68,034 \n",
    "- 2022: 157,176 = 71,382 + 85,794\n",
    "- 2023: 47,715 = 25,971 + 21,744 (2/23-4/14)"
   ]
  },
  {
   "cell_type": "code",
   "execution_count": 161,
   "id": "01788aad-f44f-4987-9377-25c68db6ea93",
   "metadata": {},
   "outputs": [
    {
     "name": "stdout",
     "output_type": "stream",
     "text": [
      "The number of rows in 2019 was: 42037\n",
      "The number of rows in 2020 was: 70251\n",
      "The number of rows in 2021 was: 114024\n",
      "The number of rows in 2022 was: 157176\n",
      "The number of rows in 2023 was: 47715\n"
     ]
    }
   ],
   "source": [
    "# find number of rows in each year in the raw, uncleaned data\n",
    "print('The number of rows in 2019 was:', len(df_2019))\n",
    "print('The number of rows in 2020 was:', len(df_2020))\n",
    "print('The number of rows in 2021 was:', len(df_2021))\n",
    "print('The number of rows in 2022 was:', len(df_2022))\n",
    "print('The number of rows in 2023 was:', len(df_2023))"
   ]
  },
  {
   "cell_type": "code",
   "execution_count": 162,
   "id": "3ec29eec-9430-4765-b6a9-04c3799b7f68",
   "metadata": {},
   "outputs": [
    {
     "data": {
      "text/plain": [
       "431203"
      ]
     },
     "execution_count": 162,
     "metadata": {},
     "output_type": "execute_result"
    }
   ],
   "source": [
    "# total number of rows in all data\n",
    "len(df_2019)+len(df_2020)+len(df_2021)+len(df_2022)+len(df_2023)"
   ]
  },
  {
   "cell_type": "code",
   "execution_count": 6,
   "id": "eb896ab7-35f2-4251-bc5a-f7d6756c3e08",
   "metadata": {},
   "outputs": [
    {
     "data": {
      "text/plain": [
       "Index(['Department', 'Service Request: Type Name', 'Service Request Number',\n",
       "       'Date/Time Opened', 'Date/Time Closed', 'Service Request Status',\n",
       "       'Street Block Number', 'Street Direction', 'Street Name', 'Street Type',\n",
       "       'Zip Code', 'Flex Question: Flex Question Name', 'Answer', 'Ward',\n",
       "       'Community Area'],\n",
       "      dtype='object')"
      ]
     },
     "execution_count": 6,
     "metadata": {},
     "output_type": "execute_result"
    }
   ],
   "source": [
    "df_2019.columns"
   ]
  },
  {
   "cell_type": "markdown",
   "id": "a22cec53-d635-477c-88d0-5a94d925aa06",
   "metadata": {},
   "source": [
    "## Clean data"
   ]
  },
  {
   "cell_type": "code",
   "execution_count": 163,
   "id": "ee6d456d-8f4d-4685-adc4-4748bd5d904e",
   "metadata": {},
   "outputs": [],
   "source": [
    "data_list = [df_2023, df_2022, df_2021, df_2020, df_2019]"
   ]
  },
  {
   "cell_type": "code",
   "execution_count": 164,
   "id": "88b9b5a5-5db4-4f2b-b7cc-1db27abbfd65",
   "metadata": {},
   "outputs": [],
   "source": [
    "# clean up dates\n",
    "\n",
    "for data in data_list:\n",
    "    # convert date cols to pandas datetime\n",
    "    data['Date/Time Opened'] = pd.to_datetime(data['Date/Time Opened'])\n",
    "    data['Date/Time Closed'] = pd.to_datetime(data['Date/Time Closed'])\n",
    "    \n",
    "    # create a year col\n",
    "    data['created_year'] = data['Date/Time Opened'].dt.year\n",
    "    \n",
    "    # create a month col\n",
    "    data['created_month'] = data['Date/Time Opened'].dt.month\n",
    "    \n",
    "    # create a month_year col\n",
    "    data['created_month_year'] = data['Date/Time Opened'].dt.strftime('%m/%Y')\n",
    "    \n",
    "    # create a day col\n",
    "    data['created_day'] = data['Date/Time Opened'].dt.strftime('%Y-%m-%d')\n",
    "    \n",
    "    # create hour cols\n",
    "    data['created_hour'] = data['Date/Time Opened'].dt.strftime('%H')\n",
    "    data['closed_hour'] = data['Date/Time Closed'].dt.strftime('%H')"
   ]
  },
  {
   "cell_type": "code",
   "execution_count": 169,
   "id": "7e529631-0784-4fc9-81f8-069f9057bd52",
   "metadata": {},
   "outputs": [
    {
     "data": {
      "text/html": [
       "<div>\n",
       "<style scoped>\n",
       "    .dataframe tbody tr th:only-of-type {\n",
       "        vertical-align: middle;\n",
       "    }\n",
       "\n",
       "    .dataframe tbody tr th {\n",
       "        vertical-align: top;\n",
       "    }\n",
       "\n",
       "    .dataframe thead th {\n",
       "        text-align: right;\n",
       "    }\n",
       "</style>\n",
       "<table border=\"1\" class=\"dataframe\">\n",
       "  <thead>\n",
       "    <tr style=\"text-align: right;\">\n",
       "      <th></th>\n",
       "      <th>Department</th>\n",
       "      <th>Service Request: Type Name</th>\n",
       "      <th>Service Request Number</th>\n",
       "      <th>Date/Time Opened</th>\n",
       "      <th>Date/Time Closed</th>\n",
       "      <th>Service Request Status</th>\n",
       "      <th>Street Block Number</th>\n",
       "      <th>Street Direction</th>\n",
       "      <th>Street Name</th>\n",
       "      <th>Street Type</th>\n",
       "      <th>...</th>\n",
       "      <th>Flex Question: Flex Question Name</th>\n",
       "      <th>Answer</th>\n",
       "      <th>Ward</th>\n",
       "      <th>Community Area</th>\n",
       "      <th>created_year</th>\n",
       "      <th>created_month</th>\n",
       "      <th>created_month_year</th>\n",
       "      <th>created_day</th>\n",
       "      <th>created_hour</th>\n",
       "      <th>closed_hour</th>\n",
       "    </tr>\n",
       "  </thead>\n",
       "  <tbody>\n",
       "    <tr>\n",
       "      <th>47714</th>\n",
       "      <td>DFSS - Department of Family &amp; Support Services</td>\n",
       "      <td>Shelter Request</td>\n",
       "      <td>SR23-00572305</td>\n",
       "      <td>2023-04-14 23:57:00</td>\n",
       "      <td>NaT</td>\n",
       "      <td>Open</td>\n",
       "      <td>1900</td>\n",
       "      <td>N</td>\n",
       "      <td>MILWAUKEE</td>\n",
       "      <td>AVE</td>\n",
       "      <td>...</td>\n",
       "      <td>Assigned Staff</td>\n",
       "      <td>NaN</td>\n",
       "      <td>32.0</td>\n",
       "      <td>22.0</td>\n",
       "      <td>2023</td>\n",
       "      <td>4</td>\n",
       "      <td>04/2023</td>\n",
       "      <td>2023-04-14</td>\n",
       "      <td>23</td>\n",
       "      <td>NaN</td>\n",
       "    </tr>\n",
       "  </tbody>\n",
       "</table>\n",
       "<p>1 rows × 21 columns</p>\n",
       "</div>"
      ],
      "text/plain": [
       "                                           Department  \\\n",
       "47714  DFSS - Department of Family & Support Services   \n",
       "\n",
       "      Service Request: Type Name Service Request Number    Date/Time Opened  \\\n",
       "47714            Shelter Request          SR23-00572305 2023-04-14 23:57:00   \n",
       "\n",
       "      Date/Time Closed Service Request Status  Street Block Number  \\\n",
       "47714              NaT                   Open                 1900   \n",
       "\n",
       "      Street Direction Street Name Street Type  ...  \\\n",
       "47714                N   MILWAUKEE         AVE  ...   \n",
       "\n",
       "       Flex Question: Flex Question Name Answer  Ward  Community Area  \\\n",
       "47714                     Assigned Staff    NaN  32.0            22.0   \n",
       "\n",
       "       created_year  created_month  created_month_year created_day  \\\n",
       "47714          2023              4             04/2023  2023-04-14   \n",
       "\n",
       "      created_hour closed_hour  \n",
       "47714           23         NaN  \n",
       "\n",
       "[1 rows x 21 columns]"
      ]
     },
     "execution_count": 169,
     "metadata": {},
     "output_type": "execute_result"
    }
   ],
   "source": [
    "df_2023.tail(1)"
   ]
  },
  {
   "cell_type": "code",
   "execution_count": 170,
   "id": "7e4f6ac2-6d5c-4a36-b364-e441cbac504e",
   "metadata": {},
   "outputs": [
    {
     "data": {
      "text/html": [
       "<div>\n",
       "<style scoped>\n",
       "    .dataframe tbody tr th:only-of-type {\n",
       "        vertical-align: middle;\n",
       "    }\n",
       "\n",
       "    .dataframe tbody tr th {\n",
       "        vertical-align: top;\n",
       "    }\n",
       "\n",
       "    .dataframe thead th {\n",
       "        text-align: right;\n",
       "    }\n",
       "</style>\n",
       "<table border=\"1\" class=\"dataframe\">\n",
       "  <thead>\n",
       "    <tr style=\"text-align: right;\">\n",
       "      <th></th>\n",
       "      <th>Department</th>\n",
       "      <th>Service Request: Type Name</th>\n",
       "      <th>Service Request Number</th>\n",
       "      <th>Date/Time Opened</th>\n",
       "      <th>Date/Time Closed</th>\n",
       "      <th>Service Request Status</th>\n",
       "      <th>Street Block Number</th>\n",
       "      <th>Street Direction</th>\n",
       "      <th>Street Name</th>\n",
       "      <th>Street Type</th>\n",
       "      <th>...</th>\n",
       "      <th>Flex Question: Flex Question Name</th>\n",
       "      <th>Answer</th>\n",
       "      <th>Ward</th>\n",
       "      <th>Community Area</th>\n",
       "      <th>created_year</th>\n",
       "      <th>created_month</th>\n",
       "      <th>created_month_year</th>\n",
       "      <th>created_day</th>\n",
       "      <th>created_hour</th>\n",
       "      <th>closed_hour</th>\n",
       "    </tr>\n",
       "  </thead>\n",
       "  <tbody>\n",
       "    <tr>\n",
       "      <th>0</th>\n",
       "      <td>DFSS - Department of Family &amp; Support Services</td>\n",
       "      <td>Shelter Request</td>\n",
       "      <td>SR19-01080895</td>\n",
       "      <td>2019-02-27 12:44:00</td>\n",
       "      <td>2019-02-27 18:40:00</td>\n",
       "      <td>Completed</td>\n",
       "      <td>8000</td>\n",
       "      <td>S</td>\n",
       "      <td>LUELLA</td>\n",
       "      <td>AVE</td>\n",
       "      <td>...</td>\n",
       "      <td>What shelter was Client placed in ?</td>\n",
       "      <td>NaN</td>\n",
       "      <td>8.0</td>\n",
       "      <td>46.0</td>\n",
       "      <td>2019</td>\n",
       "      <td>2</td>\n",
       "      <td>02/2019</td>\n",
       "      <td>2019-02-27</td>\n",
       "      <td>12</td>\n",
       "      <td>18</td>\n",
       "    </tr>\n",
       "  </tbody>\n",
       "</table>\n",
       "<p>1 rows × 21 columns</p>\n",
       "</div>"
      ],
      "text/plain": [
       "                                       Department Service Request: Type Name  \\\n",
       "0  DFSS - Department of Family & Support Services            Shelter Request   \n",
       "\n",
       "  Service Request Number    Date/Time Opened    Date/Time Closed  \\\n",
       "0          SR19-01080895 2019-02-27 12:44:00 2019-02-27 18:40:00   \n",
       "\n",
       "  Service Request Status  Street Block Number Street Direction Street Name  \\\n",
       "0              Completed                 8000                S      LUELLA   \n",
       "\n",
       "  Street Type  ...    Flex Question: Flex Question Name Answer Ward  \\\n",
       "0         AVE  ...  What shelter was Client placed in ?    NaN  8.0   \n",
       "\n",
       "   Community Area  created_year  created_month  created_month_year  \\\n",
       "0            46.0          2019              2             02/2019   \n",
       "\n",
       "  created_day created_hour closed_hour  \n",
       "0  2019-02-27           12          18  \n",
       "\n",
       "[1 rows x 21 columns]"
      ]
     },
     "execution_count": 170,
     "metadata": {},
     "output_type": "execute_result"
    }
   ],
   "source": [
    "df_2019.head(1)"
   ]
  },
  {
   "cell_type": "code",
   "execution_count": 14,
   "id": "ea5d0859-c157-4130-be5e-05e7b8211da7",
   "metadata": {},
   "outputs": [],
   "source": [
    "# export processed data to csv\n",
    "df_2019.to_csv('processed/2019_processed.csv')\n",
    "df_2020.to_csv('processed/2020_processed.csv')\n",
    "df_2021.to_csv('processed/2021_processed.csv')\n",
    "df_2022.to_csv('processed/2022_processed.csv')\n",
    "df_2023.to_csv('processed/2023_processed.csv')"
   ]
  },
  {
   "cell_type": "code",
   "execution_count": 166,
   "id": "5d9fd4bd-5d29-4707-9d64-29dacea83d13",
   "metadata": {},
   "outputs": [
    {
     "name": "stdout",
     "output_type": "stream",
     "text": [
      "The number of shelter requests in 2019 was: 23129\n",
      "The number of shelter requests in 2020 was: 35258\n",
      "The number of shelter requests in 2021 was: 38816\n",
      "The number of shelter requests in 2022 was: 53757\n",
      "The number of shelter requests in 2023 was: 17168\n"
     ]
    }
   ],
   "source": [
    "# how many total unqiue requests were there per year?\n",
    "print('The number of shelter requests in 2019 was:', len(pd.unique(df_2019['Service Request Number'])))\n",
    "print('The number of shelter requests in 2020 was:', len(pd.unique(df_2020['Service Request Number'])))\n",
    "print('The number of shelter requests in 2021 was:', len(pd.unique(df_2021['Service Request Number'])))\n",
    "print('The number of shelter requests in 2022 was:', len(pd.unique(df_2022['Service Request Number'])))\n",
    "print('The number of shelter requests in 2023 was:', len(pd.unique(df_2023['Service Request Number'])))"
   ]
  },
  {
   "cell_type": "code",
   "execution_count": 167,
   "id": "102d97b4-a834-46a3-bc3f-eeb4f3d92493",
   "metadata": {},
   "outputs": [
    {
     "data": {
      "text/plain": [
       "168128"
      ]
     },
     "execution_count": 167,
     "metadata": {},
     "output_type": "execute_result"
    }
   ],
   "source": [
    "len(pd.unique(df_2019['Service Request Number'])) + len(pd.unique(df_2020['Service Request Number'])) + len(pd.unique(df_2021['Service Request Number'])) + len(pd.unique(df_2022['Service Request Number'])) + len(pd.unique(df_2023['Service Request Number']))"
   ]
  },
  {
   "cell_type": "code",
   "execution_count": 17,
   "id": "f2206b34-cb6b-4453-8da6-0ea743090468",
   "metadata": {},
   "outputs": [],
   "source": [
    "# create copies in case I want to start again\n",
    "df_2019_copy = df_2019.copy()\n",
    "df_2020_copy = df_2020.copy()\n",
    "df_2021_copy = df_2021.copy()\n",
    "df_2022_copy = df_2022.copy()\n",
    "df_2023_copy = df_2023.copy()"
   ]
  },
  {
   "cell_type": "code",
   "execution_count": 18,
   "id": "21ae678c-a49e-4bec-b0c6-000591be1592",
   "metadata": {},
   "outputs": [],
   "source": [
    "# create unique requests dataframe\n",
    "df_2019.drop_duplicates(subset=['Service Request Number'], keep='first', inplace=True)\n",
    "df_2020.drop_duplicates(subset=['Service Request Number'], keep='first', inplace=True)\n",
    "df_2021.drop_duplicates(subset=['Service Request Number'], keep='first', inplace=True)\n",
    "df_2022.drop_duplicates(subset=['Service Request Number'], keep='first', inplace=True)\n",
    "df_2023.drop_duplicates(subset=['Service Request Number'], keep='first', inplace=True)"
   ]
  },
  {
   "cell_type": "markdown",
   "id": "aa5f6da0-0d81-48fe-9cf9-e27dc62b96ec",
   "metadata": {},
   "source": [
    "## Total number of requests analysis"
   ]
  },
  {
   "cell_type": "code",
   "execution_count": 23,
   "id": "276e7ed1-32c4-4ed4-9360-33a8bb9a9ef8",
   "metadata": {},
   "outputs": [
    {
     "data": {
      "text/plain": [
       "2.3242249989191057"
      ]
     },
     "execution_count": 23,
     "metadata": {},
     "output_type": "execute_result"
    }
   ],
   "source": [
    "# the total number of calls has more than doubled since 2019\n",
    "len(df_2022)/len(df_2019)"
   ]
  },
  {
   "cell_type": "code",
   "execution_count": 148,
   "id": "55ab8547-a0e6-4d19-b231-5a3afd7f5895",
   "metadata": {},
   "outputs": [
    {
     "data": {
      "text/plain": [
       "53757"
      ]
     },
     "execution_count": 148,
     "metadata": {},
     "output_type": "execute_result"
    }
   ],
   "source": [
    "len(df_2022)"
   ]
  },
  {
   "cell_type": "code",
   "execution_count": 149,
   "id": "d3c98f18-9916-41b5-8d9a-36a1d202e361",
   "metadata": {},
   "outputs": [
    {
     "data": {
      "text/plain": [
       "23129"
      ]
     },
     "execution_count": 149,
     "metadata": {},
     "output_type": "execute_result"
    }
   ],
   "source": [
    "len(df_2019)"
   ]
  },
  {
   "cell_type": "code",
   "execution_count": 150,
   "id": "577975a0-3be7-4789-af29-4865e1480ae5",
   "metadata": {},
   "outputs": [
    {
     "data": {
      "text/plain": [
       "30628"
      ]
     },
     "execution_count": 150,
     "metadata": {},
     "output_type": "execute_result"
    }
   ],
   "source": [
    "len(df_2022)-len(df_2019)"
   ]
  },
  {
   "cell_type": "code",
   "execution_count": 151,
   "id": "379bec0f-bb55-4689-b38d-e742060dc8ca",
   "metadata": {},
   "outputs": [
    {
     "data": {
      "text/plain": [
       "1.324224998919106"
      ]
     },
     "execution_count": 151,
     "metadata": {},
     "output_type": "execute_result"
    }
   ],
   "source": [
    "# percent change\n",
    "30628/len(df_2019)"
   ]
  },
  {
   "cell_type": "markdown",
   "id": "63cb327a-5b44-410d-8cdd-dd2454a8518e",
   "metadata": {},
   "source": [
    "## Flex question analysis"
   ]
  },
  {
   "cell_type": "markdown",
   "id": "e18b711f-de86-4120-856c-a054ac537bec",
   "metadata": {},
   "source": [
    "How many requests don't have the full three rows of all three flex questions, and how many of the flex questions are blank?"
   ]
  },
  {
   "cell_type": "code",
   "execution_count": 172,
   "id": "ac882470-ef14-4636-8686-33569cebd873",
   "metadata": {},
   "outputs": [
    {
     "data": {
      "text/html": [
       "<div>\n",
       "<style scoped>\n",
       "    .dataframe tbody tr th:only-of-type {\n",
       "        vertical-align: middle;\n",
       "    }\n",
       "\n",
       "    .dataframe tbody tr th {\n",
       "        vertical-align: top;\n",
       "    }\n",
       "\n",
       "    .dataframe thead th {\n",
       "        text-align: right;\n",
       "    }\n",
       "</style>\n",
       "<table border=\"1\" class=\"dataframe\">\n",
       "  <thead>\n",
       "    <tr style=\"text-align: right;\">\n",
       "      <th></th>\n",
       "      <th>Service Request Number</th>\n",
       "      <th>Flex Question: Flex Question Name</th>\n",
       "      <th>Answer</th>\n",
       "    </tr>\n",
       "  </thead>\n",
       "  <tbody>\n",
       "    <tr>\n",
       "      <th>0</th>\n",
       "      <td>SR23-00000036</td>\n",
       "      <td>What shelter was Client placed in ?</td>\n",
       "      <td>NaN</td>\n",
       "    </tr>\n",
       "    <tr>\n",
       "      <th>1</th>\n",
       "      <td>SR23-00000036</td>\n",
       "      <td>Assigned Staff</td>\n",
       "      <td>NaN</td>\n",
       "    </tr>\n",
       "    <tr>\n",
       "      <th>2</th>\n",
       "      <td>SR23-00000036</td>\n",
       "      <td>Activity Outcome</td>\n",
       "      <td>Completed</td>\n",
       "    </tr>\n",
       "    <tr>\n",
       "      <th>3</th>\n",
       "      <td>SR23-00000041</td>\n",
       "      <td>What shelter was Client placed in ?</td>\n",
       "      <td>NaN</td>\n",
       "    </tr>\n",
       "    <tr>\n",
       "      <th>4</th>\n",
       "      <td>SR23-00000041</td>\n",
       "      <td>Assigned Staff</td>\n",
       "      <td>NaN</td>\n",
       "    </tr>\n",
       "  </tbody>\n",
       "</table>\n",
       "</div>"
      ],
      "text/plain": [
       "  Service Request Number    Flex Question: Flex Question Name     Answer\n",
       "0          SR23-00000036  What shelter was Client placed in ?        NaN\n",
       "1          SR23-00000036                       Assigned Staff        NaN\n",
       "2          SR23-00000036                     Activity Outcome  Completed\n",
       "3          SR23-00000041  What shelter was Client placed in ?        NaN\n",
       "4          SR23-00000041                       Assigned Staff        NaN"
      ]
     },
     "execution_count": 172,
     "metadata": {},
     "output_type": "execute_result"
    }
   ],
   "source": [
    "# sample df that I want to merge\n",
    "df_2023_copy[['Service Request Number','Flex Question: Flex Question Name','Answer']].head()"
   ]
  },
  {
   "cell_type": "code",
   "execution_count": 173,
   "id": "62c063b0-f6b8-4fcb-a4ea-edc47dcf0be1",
   "metadata": {},
   "outputs": [],
   "source": [
    "# create a unique activity outcomes df for each year\n",
    "df_2023_activity = df_2023_copy.loc[df_2023_copy['Flex Question: Flex Question Name'] == 'Activity Outcome']\n",
    "df_2022_activity = df_2022_copy.loc[df_2022_copy['Flex Question: Flex Question Name'] == 'Activity Outcome']\n",
    "df_2021_activity = df_2021_copy.loc[df_2021_copy['Flex Question: Flex Question Name'] == 'Activity Outcome']\n",
    "df_2020_activity = df_2020_copy.loc[df_2020_copy['Flex Question: Flex Question Name'] == 'Activity Outcome']\n",
    "df_2019_activity = df_2019_copy.loc[df_2019_copy['Flex Question: Flex Question Name'] == 'Activity Outcome']"
   ]
  },
  {
   "cell_type": "code",
   "execution_count": 174,
   "id": "f4e1e153-2a1e-4f78-ac5a-edb4e97cce25",
   "metadata": {},
   "outputs": [
    {
     "name": "stdout",
     "output_type": "stream",
     "text": [
      "The number of rows in 2019 was: 18908\n",
      "The number of rows in 2020 was: 34906\n",
      "The number of rows in 2021 was: 36392\n",
      "The number of rows in 2022 was: 49662\n",
      "The number of rows in 2023 was: 13373\n"
     ]
    }
   ],
   "source": [
    "# number of rows in activity dfs\n",
    "print('The number of rows in 2019 was:', len(df_2019_activity))\n",
    "print('The number of rows in 2020 was:', len(df_2020_activity))\n",
    "print('The number of rows in 2021 was:', len(df_2021_activity))\n",
    "print('The number of rows in 2022 was:', len(df_2022_activity))\n",
    "print('The number of rows in 2023 was:', len(df_2023_activity))"
   ]
  },
  {
   "cell_type": "code",
   "execution_count": 175,
   "id": "c4814f9a-2465-49d7-afc4-a382f88063ac",
   "metadata": {},
   "outputs": [],
   "source": [
    "# create a unique shelter name placement outcomes df for each year but with only SR number and flex question and answer cols\n",
    "df_2023_shelter = df_2023_copy[['Service Request Number','Flex Question: Flex Question Name','Answer']].loc[df_2023_copy['Flex Question: Flex Question Name'] == 'What shelter was Client placed in ?']\n",
    "df_2022_shelter = df_2022_copy[['Service Request Number','Flex Question: Flex Question Name','Answer']].loc[df_2022_copy['Flex Question: Flex Question Name'] == 'What shelter was Client placed in ?']\n",
    "df_2021_shelter = df_2021_copy[['Service Request Number','Flex Question: Flex Question Name','Answer']].loc[df_2021_copy['Flex Question: Flex Question Name'] == 'What shelter was Client placed in ?']\n",
    "df_2020_shelter = df_2020_copy[['Service Request Number','Flex Question: Flex Question Name','Answer']].loc[df_2020_copy['Flex Question: Flex Question Name'] == 'What shelter was Client placed in ?']\n",
    "df_2019_shelter = df_2019_copy[['Service Request Number','Flex Question: Flex Question Name','Answer']].loc[df_2019_copy['Flex Question: Flex Question Name'] == 'What shelter was Client placed in ?']"
   ]
  },
  {
   "cell_type": "code",
   "execution_count": 176,
   "id": "d5e6f7e4-f1f1-4be4-aff9-6fd092d63cab",
   "metadata": {},
   "outputs": [
    {
     "name": "stdout",
     "output_type": "stream",
     "text": [
      "The number of rows in 2019 was: 19118\n",
      "The number of rows in 2020 was: 35258\n",
      "The number of rows in 2021 was: 38816\n",
      "The number of rows in 2022 was: 53757\n",
      "The number of rows in 2023 was: 17171\n"
     ]
    }
   ],
   "source": [
    "# number of rows in shelter dfs - the most \"complete\" flex question, although lots of blanks\n",
    "print('The number of rows in 2019 was:', len(df_2019_shelter))\n",
    "print('The number of rows in 2020 was:', len(df_2020_shelter))\n",
    "print('The number of rows in 2021 was:', len(df_2021_shelter))\n",
    "print('The number of rows in 2022 was:', len(df_2022_shelter))\n",
    "print('The number of rows in 2023 was:', len(df_2023_shelter))"
   ]
  },
  {
   "cell_type": "code",
   "execution_count": 177,
   "id": "4c57724b-91fe-4081-af6c-2bb467dff85a",
   "metadata": {},
   "outputs": [],
   "source": [
    "# create a unique assigned staff df for each year but with only SR number and flex question and answer cols\n",
    "df_2023_staff = df_2023_copy[['Service Request Number','Flex Question: Flex Question Name','Answer']].loc[df_2023_copy['Flex Question: Flex Question Name'] == 'Assigned Staff']\n",
    "df_2022_staff = df_2022_copy[['Service Request Number','Flex Question: Flex Question Name','Answer']].loc[df_2022_copy['Flex Question: Flex Question Name'] == 'Assigned Staff']\n",
    "df_2021_staff = df_2021_copy[['Service Request Number','Flex Question: Flex Question Name','Answer']].loc[df_2021_copy['Flex Question: Flex Question Name'] == 'Assigned Staff']\n",
    "df_2020_staff = df_2020_copy[['Service Request Number','Flex Question: Flex Question Name','Answer']].loc[df_2020_copy['Flex Question: Flex Question Name'] == 'Assigned Staff']\n",
    "df_2019_staff = df_2019_copy[['Service Request Number','Flex Question: Flex Question Name','Answer']].loc[df_2019_copy['Flex Question: Flex Question Name'] == 'Assigned Staff']"
   ]
  },
  {
   "cell_type": "code",
   "execution_count": 178,
   "id": "61f7745a-fc69-4437-a343-dee4f4d16081",
   "metadata": {},
   "outputs": [
    {
     "name": "stdout",
     "output_type": "stream",
     "text": [
      "The number of rows in 2019 was: 0\n",
      "The number of rows in 2020 was: 87\n",
      "The number of rows in 2021 was: 38816\n",
      "The number of rows in 2022 was: 53757\n",
      "The number of rows in 2023 was: 17171\n"
     ]
    }
   ],
   "source": [
    "# number of rows in staff dfs - added in 2021\n",
    "print('The number of rows in 2019 was:', len(df_2019_staff))\n",
    "print('The number of rows in 2020 was:', len(df_2020_staff))\n",
    "print('The number of rows in 2021 was:', len(df_2021_staff))\n",
    "print('The number of rows in 2022 was:', len(df_2022_staff))\n",
    "print('The number of rows in 2023 was:', len(df_2023_staff))"
   ]
  },
  {
   "cell_type": "code",
   "execution_count": 179,
   "id": "48bf39dc-aa8b-45a0-af7e-fdfd5b320ff5",
   "metadata": {},
   "outputs": [],
   "source": [
    "# outer merge activity and shelter name dfs on SR number\n",
    "df_2023_merged = df_2023_activity.merge(df_2023_shelter, how='outer', on='Service Request Number')\n",
    "df_2022_merged = df_2022_activity.merge(df_2022_shelter, how='outer', on='Service Request Number')\n",
    "df_2021_merged = df_2021_activity.merge(df_2021_shelter, how='outer', on='Service Request Number')\n",
    "df_2020_merged = df_2020_activity.merge(df_2020_shelter, how='outer', on='Service Request Number')\n",
    "df_2019_merged = df_2019_activity.merge(df_2019_shelter, how='outer', on='Service Request Number')"
   ]
  },
  {
   "cell_type": "code",
   "execution_count": null,
   "id": "a0585fab-0db2-410f-bd29-afeacdbe744d",
   "metadata": {},
   "outputs": [],
   "source": [
    "# of the rows with a shelter name, what was the activity outcome? What percent of successful placements had a shelter name?"
   ]
  },
  {
   "cell_type": "code",
   "execution_count": 180,
   "id": "10a0a305-df7b-4e4d-b888-ca332a4919fa",
   "metadata": {},
   "outputs": [
    {
     "data": {
      "text/html": [
       "<div>\n",
       "<style scoped>\n",
       "    .dataframe tbody tr th:only-of-type {\n",
       "        vertical-align: middle;\n",
       "    }\n",
       "\n",
       "    .dataframe tbody tr th {\n",
       "        vertical-align: top;\n",
       "    }\n",
       "\n",
       "    .dataframe thead th {\n",
       "        text-align: right;\n",
       "    }\n",
       "</style>\n",
       "<table border=\"1\" class=\"dataframe\">\n",
       "  <thead>\n",
       "    <tr style=\"text-align: right;\">\n",
       "      <th></th>\n",
       "      <th>Answer_x</th>\n",
       "      <th>count</th>\n",
       "      <th>pct of total</th>\n",
       "    </tr>\n",
       "  </thead>\n",
       "  <tbody>\n",
       "    <tr>\n",
       "      <th>0</th>\n",
       "      <td>Client(s) Placed in Shelter</td>\n",
       "      <td>1880</td>\n",
       "      <td>0.934394</td>\n",
       "    </tr>\n",
       "    <tr>\n",
       "      <th>1</th>\n",
       "      <td>Completed</td>\n",
       "      <td>36</td>\n",
       "      <td>0.017893</td>\n",
       "    </tr>\n",
       "    <tr>\n",
       "      <th>2</th>\n",
       "      <td>Found Alternate Shelter</td>\n",
       "      <td>22</td>\n",
       "      <td>0.010934</td>\n",
       "    </tr>\n",
       "    <tr>\n",
       "      <th>3</th>\n",
       "      <td>Gone on Arrival</td>\n",
       "      <td>29</td>\n",
       "      <td>0.014414</td>\n",
       "    </tr>\n",
       "    <tr>\n",
       "      <th>4</th>\n",
       "      <td>Refused Service</td>\n",
       "      <td>40</td>\n",
       "      <td>0.019881</td>\n",
       "    </tr>\n",
       "    <tr>\n",
       "      <th>5</th>\n",
       "      <td>Request Cancelled</td>\n",
       "      <td>5</td>\n",
       "      <td>0.002485</td>\n",
       "    </tr>\n",
       "  </tbody>\n",
       "</table>\n",
       "</div>"
      ],
      "text/plain": [
       "                      Answer_x  count  pct of total\n",
       "0  Client(s) Placed in Shelter   1880      0.934394\n",
       "1                    Completed     36      0.017893\n",
       "2      Found Alternate Shelter     22      0.010934\n",
       "3              Gone on Arrival     29      0.014414\n",
       "4              Refused Service     40      0.019881\n",
       "5            Request Cancelled      5      0.002485"
      ]
     },
     "execution_count": 180,
     "metadata": {},
     "output_type": "execute_result"
    }
   ],
   "source": [
    "# 2023\n",
    "g = df_2023_merged[df_2023_merged['Answer_y'].notnull()].groupby('Answer_x').size().reset_index(name='count')\n",
    "g['pct of total'] = g['count']/g['count'].sum()\n",
    "g"
   ]
  },
  {
   "cell_type": "code",
   "execution_count": 182,
   "id": "045bf7ac-f556-4345-913b-a5c9ba0f6955",
   "metadata": {},
   "outputs": [
    {
     "name": "stdout",
     "output_type": "stream",
     "text": [
      "The percent of rows marked as a successfull placement that had a shelter name in 2023 was: 0    0.688645\n",
      "Name: count, dtype: float64\n"
     ]
    }
   ],
   "source": [
    "print('The percent of rows marked as a successfull placement that had a shelter name in 2023 was:', \n",
    "      g[g['Answer_x']== 'Client(s) Placed in Shelter']['count']/len(df_2023_merged[df_2023_merged['Answer_x'] == 'Client(s) Placed in Shelter']))"
   ]
  },
  {
   "cell_type": "code",
   "execution_count": 183,
   "id": "2d217087-845d-4bd0-8d64-5d2c2fb54f73",
   "metadata": {},
   "outputs": [
    {
     "data": {
      "text/html": [
       "<div>\n",
       "<style scoped>\n",
       "    .dataframe tbody tr th:only-of-type {\n",
       "        vertical-align: middle;\n",
       "    }\n",
       "\n",
       "    .dataframe tbody tr th {\n",
       "        vertical-align: top;\n",
       "    }\n",
       "\n",
       "    .dataframe thead th {\n",
       "        text-align: right;\n",
       "    }\n",
       "</style>\n",
       "<table border=\"1\" class=\"dataframe\">\n",
       "  <thead>\n",
       "    <tr style=\"text-align: right;\">\n",
       "      <th></th>\n",
       "      <th>Answer_x</th>\n",
       "      <th>count</th>\n",
       "      <th>pct of total</th>\n",
       "    </tr>\n",
       "  </thead>\n",
       "  <tbody>\n",
       "    <tr>\n",
       "      <th>0</th>\n",
       "      <td>Client(s) Placed in Shelter</td>\n",
       "      <td>4223</td>\n",
       "      <td>0.907977</td>\n",
       "    </tr>\n",
       "    <tr>\n",
       "      <th>1</th>\n",
       "      <td>Completed</td>\n",
       "      <td>46</td>\n",
       "      <td>0.009890</td>\n",
       "    </tr>\n",
       "    <tr>\n",
       "      <th>2</th>\n",
       "      <td>Found Alternate Shelter</td>\n",
       "      <td>51</td>\n",
       "      <td>0.010965</td>\n",
       "    </tr>\n",
       "    <tr>\n",
       "      <th>3</th>\n",
       "      <td>Gone on Arrival</td>\n",
       "      <td>138</td>\n",
       "      <td>0.029671</td>\n",
       "    </tr>\n",
       "    <tr>\n",
       "      <th>4</th>\n",
       "      <td>Refused Service</td>\n",
       "      <td>165</td>\n",
       "      <td>0.035476</td>\n",
       "    </tr>\n",
       "    <tr>\n",
       "      <th>5</th>\n",
       "      <td>Request Cancelled</td>\n",
       "      <td>28</td>\n",
       "      <td>0.006020</td>\n",
       "    </tr>\n",
       "  </tbody>\n",
       "</table>\n",
       "</div>"
      ],
      "text/plain": [
       "                      Answer_x  count  pct of total\n",
       "0  Client(s) Placed in Shelter   4223      0.907977\n",
       "1                    Completed     46      0.009890\n",
       "2      Found Alternate Shelter     51      0.010965\n",
       "3              Gone on Arrival    138      0.029671\n",
       "4              Refused Service    165      0.035476\n",
       "5            Request Cancelled     28      0.006020"
      ]
     },
     "execution_count": 183,
     "metadata": {},
     "output_type": "execute_result"
    }
   ],
   "source": [
    "# 2022\n",
    "g = df_2022_merged[df_2022_merged['Answer_y'].notnull()].groupby('Answer_x').size().reset_index(name='count')\n",
    "g['pct of total'] = g['count']/g['count'].sum()\n",
    "g"
   ]
  },
  {
   "cell_type": "code",
   "execution_count": 184,
   "id": "6d17adfe-1e44-4f31-ad1c-bfb0d5433cfd",
   "metadata": {},
   "outputs": [
    {
     "name": "stdout",
     "output_type": "stream",
     "text": [
      "The percent of rows marked as a successfull placement that had a shelter name in 2022 was: 0    0.556683\n",
      "Name: count, dtype: float64\n"
     ]
    }
   ],
   "source": [
    "print('The percent of rows marked as a successfull placement that had a shelter name in 2022 was:', \n",
    "      g[g['Answer_x']== 'Client(s) Placed in Shelter']['count']/len(df_2022_merged[df_2022_merged['Answer_x'] == 'Client(s) Placed in Shelter']))"
   ]
  },
  {
   "cell_type": "code",
   "execution_count": 185,
   "id": "2f85b012-3e12-498b-9187-53c668935614",
   "metadata": {},
   "outputs": [
    {
     "data": {
      "text/html": [
       "<div>\n",
       "<style scoped>\n",
       "    .dataframe tbody tr th:only-of-type {\n",
       "        vertical-align: middle;\n",
       "    }\n",
       "\n",
       "    .dataframe tbody tr th {\n",
       "        vertical-align: top;\n",
       "    }\n",
       "\n",
       "    .dataframe thead th {\n",
       "        text-align: right;\n",
       "    }\n",
       "</style>\n",
       "<table border=\"1\" class=\"dataframe\">\n",
       "  <thead>\n",
       "    <tr style=\"text-align: right;\">\n",
       "      <th></th>\n",
       "      <th>Answer_x</th>\n",
       "      <th>count</th>\n",
       "      <th>pct of total</th>\n",
       "    </tr>\n",
       "  </thead>\n",
       "  <tbody>\n",
       "    <tr>\n",
       "      <th>0</th>\n",
       "      <td>Client(s) Placed in Shelter</td>\n",
       "      <td>1166</td>\n",
       "      <td>0.781501</td>\n",
       "    </tr>\n",
       "    <tr>\n",
       "      <th>1</th>\n",
       "      <td>Completed</td>\n",
       "      <td>31</td>\n",
       "      <td>0.020777</td>\n",
       "    </tr>\n",
       "    <tr>\n",
       "      <th>2</th>\n",
       "      <td>Found Alternate Shelter</td>\n",
       "      <td>3</td>\n",
       "      <td>0.002011</td>\n",
       "    </tr>\n",
       "    <tr>\n",
       "      <th>3</th>\n",
       "      <td>Gone on Arrival</td>\n",
       "      <td>10</td>\n",
       "      <td>0.006702</td>\n",
       "    </tr>\n",
       "    <tr>\n",
       "      <th>4</th>\n",
       "      <td>Placed in a Shelter</td>\n",
       "      <td>270</td>\n",
       "      <td>0.180965</td>\n",
       "    </tr>\n",
       "    <tr>\n",
       "      <th>5</th>\n",
       "      <td>Refused Service</td>\n",
       "      <td>12</td>\n",
       "      <td>0.008043</td>\n",
       "    </tr>\n",
       "  </tbody>\n",
       "</table>\n",
       "</div>"
      ],
      "text/plain": [
       "                      Answer_x  count  pct of total\n",
       "0  Client(s) Placed in Shelter   1166      0.781501\n",
       "1                    Completed     31      0.020777\n",
       "2      Found Alternate Shelter      3      0.002011\n",
       "3              Gone on Arrival     10      0.006702\n",
       "4          Placed in a Shelter    270      0.180965\n",
       "5              Refused Service     12      0.008043"
      ]
     },
     "execution_count": 185,
     "metadata": {},
     "output_type": "execute_result"
    }
   ],
   "source": [
    "# 2021\n",
    "g = df_2021_merged[df_2021_merged['Answer_y'].notnull()].groupby('Answer_x').size().reset_index(name='count')\n",
    "g['pct of total'] = g['count']/g['count'].sum()\n",
    "g"
   ]
  },
  {
   "cell_type": "code",
   "execution_count": 186,
   "id": "2a4156f0-2468-4540-9fd8-f0585bd2d64f",
   "metadata": {},
   "outputs": [
    {
     "name": "stdout",
     "output_type": "stream",
     "text": [
      "The percent of rows marked as a successfull placement that had a shelter name in 2021 was: 0.372987012987013\n"
     ]
    }
   ],
   "source": [
    "print('The percent of rows marked as a successfull placement that had a shelter name in 2021 was:', \n",
    "      (1166 + 270)/len(df_2021_merged[df_2021_merged['Answer_x'] == 'Client(s) Placed in Shelter']))"
   ]
  },
  {
   "cell_type": "code",
   "execution_count": 187,
   "id": "c53d7b88-8e68-4d3e-8383-a461bc3ff2fb",
   "metadata": {},
   "outputs": [
    {
     "data": {
      "text/html": [
       "<div>\n",
       "<style scoped>\n",
       "    .dataframe tbody tr th:only-of-type {\n",
       "        vertical-align: middle;\n",
       "    }\n",
       "\n",
       "    .dataframe tbody tr th {\n",
       "        vertical-align: top;\n",
       "    }\n",
       "\n",
       "    .dataframe thead th {\n",
       "        text-align: right;\n",
       "    }\n",
       "</style>\n",
       "<table border=\"1\" class=\"dataframe\">\n",
       "  <thead>\n",
       "    <tr style=\"text-align: right;\">\n",
       "      <th></th>\n",
       "      <th>Answer_x</th>\n",
       "      <th>count</th>\n",
       "      <th>pct of total</th>\n",
       "    </tr>\n",
       "  </thead>\n",
       "  <tbody>\n",
       "    <tr>\n",
       "      <th>0</th>\n",
       "      <td>Completed</td>\n",
       "      <td>4</td>\n",
       "      <td>0.004530</td>\n",
       "    </tr>\n",
       "    <tr>\n",
       "      <th>1</th>\n",
       "      <td>Gone on Arrival</td>\n",
       "      <td>5</td>\n",
       "      <td>0.005663</td>\n",
       "    </tr>\n",
       "    <tr>\n",
       "      <th>2</th>\n",
       "      <td>Placed in a Shelter</td>\n",
       "      <td>867</td>\n",
       "      <td>0.981880</td>\n",
       "    </tr>\n",
       "    <tr>\n",
       "      <th>3</th>\n",
       "      <td>Request Cancelled</td>\n",
       "      <td>7</td>\n",
       "      <td>0.007928</td>\n",
       "    </tr>\n",
       "  </tbody>\n",
       "</table>\n",
       "</div>"
      ],
      "text/plain": [
       "              Answer_x  count  pct of total\n",
       "0            Completed      4      0.004530\n",
       "1      Gone on Arrival      5      0.005663\n",
       "2  Placed in a Shelter    867      0.981880\n",
       "3    Request Cancelled      7      0.007928"
      ]
     },
     "execution_count": 187,
     "metadata": {},
     "output_type": "execute_result"
    }
   ],
   "source": [
    "# 2020\n",
    "g = df_2020_merged[df_2020_merged['Answer_y'].notnull()].groupby('Answer_x').size().reset_index(name='count')\n",
    "g['pct of total'] = g['count']/g['count'].sum()\n",
    "g"
   ]
  },
  {
   "cell_type": "code",
   "execution_count": 188,
   "id": "cd212cf6-fcb4-47da-b7e2-95532667dfb8",
   "metadata": {},
   "outputs": [
    {
     "name": "stdout",
     "output_type": "stream",
     "text": [
      "The percent of rows marked as a successfull placement that had a shelter name in 2020 was: 2    0.115185\n",
      "Name: count, dtype: float64\n"
     ]
    }
   ],
   "source": [
    "print('The percent of rows marked as a successfull placement that had a shelter name in 2020 was:', \n",
    "      g[g['Answer_x']== 'Placed in a Shelter']['count']/len(df_2020_merged[df_2020_merged['Answer_x'] == 'Placed in a Shelter']))"
   ]
  },
  {
   "cell_type": "code",
   "execution_count": 189,
   "id": "93225e4d-9fa9-45e2-99d4-7543d077f821",
   "metadata": {},
   "outputs": [
    {
     "data": {
      "text/html": [
       "<div>\n",
       "<style scoped>\n",
       "    .dataframe tbody tr th:only-of-type {\n",
       "        vertical-align: middle;\n",
       "    }\n",
       "\n",
       "    .dataframe tbody tr th {\n",
       "        vertical-align: top;\n",
       "    }\n",
       "\n",
       "    .dataframe thead th {\n",
       "        text-align: right;\n",
       "    }\n",
       "</style>\n",
       "<table border=\"1\" class=\"dataframe\">\n",
       "  <thead>\n",
       "    <tr style=\"text-align: right;\">\n",
       "      <th></th>\n",
       "      <th>Answer_x</th>\n",
       "      <th>count</th>\n",
       "      <th>pct of total</th>\n",
       "    </tr>\n",
       "  </thead>\n",
       "  <tbody>\n",
       "    <tr>\n",
       "      <th>0</th>\n",
       "      <td>Completed</td>\n",
       "      <td>8</td>\n",
       "      <td>0.002284</td>\n",
       "    </tr>\n",
       "    <tr>\n",
       "      <th>1</th>\n",
       "      <td>Found Alternate Shelter</td>\n",
       "      <td>1</td>\n",
       "      <td>0.000285</td>\n",
       "    </tr>\n",
       "    <tr>\n",
       "      <th>2</th>\n",
       "      <td>Gone on Arrival</td>\n",
       "      <td>5</td>\n",
       "      <td>0.001427</td>\n",
       "    </tr>\n",
       "    <tr>\n",
       "      <th>3</th>\n",
       "      <td>Placed in a Hotel</td>\n",
       "      <td>5</td>\n",
       "      <td>0.001427</td>\n",
       "    </tr>\n",
       "    <tr>\n",
       "      <th>4</th>\n",
       "      <td>Placed in a Shelter</td>\n",
       "      <td>3481</td>\n",
       "      <td>0.993720</td>\n",
       "    </tr>\n",
       "    <tr>\n",
       "      <th>5</th>\n",
       "      <td>Request Cancelled</td>\n",
       "      <td>3</td>\n",
       "      <td>0.000856</td>\n",
       "    </tr>\n",
       "  </tbody>\n",
       "</table>\n",
       "</div>"
      ],
      "text/plain": [
       "                  Answer_x  count  pct of total\n",
       "0                Completed      8      0.002284\n",
       "1  Found Alternate Shelter      1      0.000285\n",
       "2          Gone on Arrival      5      0.001427\n",
       "3        Placed in a Hotel      5      0.001427\n",
       "4      Placed in a Shelter   3481      0.993720\n",
       "5        Request Cancelled      3      0.000856"
      ]
     },
     "execution_count": 189,
     "metadata": {},
     "output_type": "execute_result"
    }
   ],
   "source": [
    "# 2019\n",
    "g = df_2019_merged[df_2019_merged['Answer_y'].notnull()].groupby('Answer_x').size().reset_index(name='count')\n",
    "g['pct of total'] = g['count']/g['count'].sum()\n",
    "g"
   ]
  },
  {
   "cell_type": "code",
   "execution_count": 190,
   "id": "e4068b38-5cfb-4f0c-b50b-22f6a57f5aa3",
   "metadata": {},
   "outputs": [
    {
     "name": "stdout",
     "output_type": "stream",
     "text": [
      "The percent of rows marked as a successfull placement that had a shelter name in 2019 was: 4    0.422913\n",
      "Name: count, dtype: float64\n"
     ]
    }
   ],
   "source": [
    "print('The percent of rows marked as a successfull placement that had a shelter name in 2019 was:', \n",
    "      g[g['Answer_x']== 'Placed in a Shelter']['count']/len(df_2019_merged[df_2019_merged['Answer_x'] == 'Placed in a Shelter']))"
   ]
  },
  {
   "cell_type": "markdown",
   "id": "cc600307-f999-49cd-9711-791071e25040",
   "metadata": {},
   "source": [
    "How many unique SR numbers do not have an activity outcome row?"
   ]
  },
  {
   "cell_type": "code",
   "execution_count": 191,
   "id": "50195f77-68af-47a4-b132-1eb66868c7cd",
   "metadata": {},
   "outputs": [],
   "source": [
    "# outer merge activity and unique SR number dfs on SR number\n",
    "df_2023_merged_activity = df_2023.merge(df_2023_activity, how='outer', on='Service Request Number')\n",
    "df_2022_merged_activity = df_2022.merge(df_2022_activity, how='outer', on='Service Request Number')\n",
    "df_2021_merged_activity = df_2021.merge(df_2021_activity, how='outer', on='Service Request Number')\n",
    "df_2020_merged_activity = df_2020.merge(df_2020_activity, how='outer', on='Service Request Number')\n",
    "df_2019_merged_activity = df_2019.merge(df_2019_activity, how='outer', on='Service Request Number')"
   ]
  },
  {
   "cell_type": "code",
   "execution_count": 192,
   "id": "d452f1c2-8209-4152-b08c-3ec570198850",
   "metadata": {},
   "outputs": [
    {
     "name": "stdout",
     "output_type": "stream",
     "text": [
      "The number of rows that have a unique SR number and no activity outcome row in 2023 was: 7594\n",
      "The number of rows that have a unique SR number and no activity outcome row in 2022 was: 8190\n",
      "The number of rows that have a unique SR number and no activity outcome row in 2021 was: 4848\n",
      "The number of rows that have a unique SR number and no activity outcome row in 2020 was: 375\n",
      "The number of rows that have a unique SR number and no activity outcome row in 2019 was: 4222\n"
     ]
    }
   ],
   "source": [
    "print('The number of rows that have a unique SR number and no activity outcome row in 2023 was:', \n",
    "      len(df_2023_merged_activity[df_2023_merged_activity['Flex Question: Flex Question Name_y'].isnull()]))\n",
    "print('The number of rows that have a unique SR number and no activity outcome row in 2022 was:',\n",
    "      len(df_2022_merged_activity[df_2022_merged_activity['Flex Question: Flex Question Name_y'].isnull()]))\n",
    "print('The number of rows that have a unique SR number and no activity outcome row in 2021 was:',\n",
    "      len(df_2021_merged_activity[df_2021_merged_activity['Flex Question: Flex Question Name_y'].isnull()]))\n",
    "print('The number of rows that have a unique SR number and no activity outcome row in 2020 was:',\n",
    "      len(df_2020_merged_activity[df_2020_merged_activity['Flex Question: Flex Question Name_y'].isnull()]))\n",
    "print('The number of rows that have a unique SR number and no activity outcome row in 2019 was:',\n",
    "      len(df_2019_merged_activity[df_2019_merged_activity['Flex Question: Flex Question Name_y'].isnull()]))"
   ]
  },
  {
   "cell_type": "code",
   "execution_count": 198,
   "id": "a6a1679a-acd5-4d97-be7e-9870609172a2",
   "metadata": {},
   "outputs": [
    {
     "data": {
      "text/plain": [
       "25129"
      ]
     },
     "execution_count": 198,
     "metadata": {},
     "output_type": "execute_result"
    }
   ],
   "source": [
    "7594 + 8190 + 4848 + 275 + 4222"
   ]
  },
  {
   "cell_type": "code",
   "execution_count": 193,
   "id": "679ecd7f-9069-4ddc-8ca0-257927447ff3",
   "metadata": {},
   "outputs": [
    {
     "name": "stdout",
     "output_type": "stream",
     "text": [
      "The percent of rows that have a unique SR number and no activity outcome row in 2023 was: 0.15915330608823222\n",
      "The percent of rows that have a unique SR number and no activity outcome row in 2022 was: 0.052107191937700414\n",
      "The percent of rows that have a unique SR number and no activity outcome row in 2021 was: 0.042517364765312565\n",
      "The percent of rows that have a unique SR number and no activity outcome row in 2020 was: 0.0023858604367078943\n",
      "The percent of rows that have a unique SR number and no activity outcome row in 2019 was: 0.10043533078002712\n"
     ]
    }
   ],
   "source": [
    "print('The percent of rows that have a unique SR number and no activity outcome row in 2023 was:', \n",
    "      len(df_2023_merged_activity[(df_2023_merged_activity['Flex Question: Flex Question Name_y'].isnull())])/len(df_2023))\n",
    "print('The percent of rows that have a unique SR number and no activity outcome row in 2022 was:',\n",
    "      len(df_2022_merged_activity[df_2022_merged_activity['Flex Question: Flex Question Name_y'].isnull()])/len(df_2022))\n",
    "print('The percent of rows that have a unique SR number and no activity outcome row in 2021 was:',\n",
    "      len(df_2021_merged_activity[df_2021_merged_activity['Flex Question: Flex Question Name_y'].isnull()])/len(df_2021))\n",
    "print('The percent of rows that have a unique SR number and no activity outcome row in 2020 was:',\n",
    "      len(df_2020_merged_activity[df_2020_merged_activity['Flex Question: Flex Question Name_y'].isnull()])/len(df_2022))\n",
    "print('The percent of rows that have a unique SR number and no activity outcome row in 2019 was:',\n",
    "      len(df_2019_merged_activity[df_2019_merged_activity['Flex Question: Flex Question Name_y'].isnull()])/len(df_2019))"
   ]
  },
  {
   "cell_type": "code",
   "execution_count": null,
   "id": "85e3feb9-139c-4bb2-add6-0cba47e382d9",
   "metadata": {},
   "outputs": [],
   "source": [
    "# 2023 requests with no activity outcome is because they're marked as open"
   ]
  },
  {
   "cell_type": "code",
   "execution_count": 81,
   "id": "3010e6c5-61d3-4683-916f-7d4b1d66c91e",
   "metadata": {},
   "outputs": [
    {
     "data": {
      "text/html": [
       "<div>\n",
       "<style scoped>\n",
       "    .dataframe tbody tr th:only-of-type {\n",
       "        vertical-align: middle;\n",
       "    }\n",
       "\n",
       "    .dataframe tbody tr th {\n",
       "        vertical-align: top;\n",
       "    }\n",
       "\n",
       "    .dataframe thead th {\n",
       "        text-align: right;\n",
       "    }\n",
       "</style>\n",
       "<table border=\"1\" class=\"dataframe\">\n",
       "  <thead>\n",
       "    <tr style=\"text-align: right;\">\n",
       "      <th></th>\n",
       "      <th>Department_x</th>\n",
       "      <th>Service Request: Type Name_x</th>\n",
       "      <th>Service Request Number</th>\n",
       "      <th>Date/Time Opened_x</th>\n",
       "      <th>Date/Time Closed_x</th>\n",
       "      <th>Service Request Status_x</th>\n",
       "      <th>Street Block Number_x</th>\n",
       "      <th>Street Direction_x</th>\n",
       "      <th>Street Name_x</th>\n",
       "      <th>Street Type_x</th>\n",
       "      <th>...</th>\n",
       "      <th>Flex Question: Flex Question Name_y</th>\n",
       "      <th>Answer_y</th>\n",
       "      <th>Ward_y</th>\n",
       "      <th>Community Area_y</th>\n",
       "      <th>created_year_y</th>\n",
       "      <th>created_month_y</th>\n",
       "      <th>created_month_year_y</th>\n",
       "      <th>created_day_y</th>\n",
       "      <th>created_hour_y</th>\n",
       "      <th>closed_hour_y</th>\n",
       "    </tr>\n",
       "  </thead>\n",
       "  <tbody>\n",
       "  </tbody>\n",
       "</table>\n",
       "<p>0 rows × 41 columns</p>\n",
       "</div>"
      ],
      "text/plain": [
       "Empty DataFrame\n",
       "Columns: [Department_x, Service Request: Type Name_x, Service Request Number, Date/Time Opened_x, Date/Time Closed_x, Service Request Status_x, Street Block Number_x, Street Direction_x, Street Name_x, Street Type_x, Zip Code_x, Flex Question: Flex Question Name_x, Answer_x, Ward_x, Community Area_x, created_year_x, created_month_x, created_month_year_x, created_day_x, created_hour_x, closed_hour_x, Department_y, Service Request: Type Name_y, Date/Time Opened_y, Date/Time Closed_y, Service Request Status_y, Street Block Number_y, Street Direction_y, Street Name_y, Street Type_y, Zip Code_y, Flex Question: Flex Question Name_y, Answer_y, Ward_y, Community Area_y, created_year_y, created_month_y, created_month_year_y, created_day_y, created_hour_y, closed_hour_y]\n",
       "Index: []\n",
       "\n",
       "[0 rows x 41 columns]"
      ]
     },
     "execution_count": 81,
     "metadata": {},
     "output_type": "execute_result"
    }
   ],
   "source": [
    "# inspect 2023 to get only requests that are closed\n",
    "df_2023_merged_activity[(df_2023_merged_activity['Flex Question: Flex Question Name_y'].isnull()) & df_2023_merged_activity['Service Request Status_x'] == 'Completed'].tail()"
   ]
  },
  {
   "cell_type": "code",
   "execution_count": 194,
   "id": "b38a860e-5bd6-4015-815e-e50e7a12d203",
   "metadata": {},
   "outputs": [
    {
     "data": {
      "text/plain": [
       "7597"
      ]
     },
     "execution_count": 194,
     "metadata": {},
     "output_type": "execute_result"
    }
   ],
   "source": [
    "# inspect 2023 to get only requests that are open\n",
    "len(df_2023_merged_activity[df_2023_merged_activity['Service Request Status_x'] == 'Open'])"
   ]
  },
  {
   "cell_type": "code",
   "execution_count": 195,
   "id": "20d196e5-394f-4998-aa0c-9aba8d6991d4",
   "metadata": {},
   "outputs": [
    {
     "data": {
      "text/plain": [
       "2"
      ]
     },
     "execution_count": 195,
     "metadata": {},
     "output_type": "execute_result"
    }
   ],
   "source": [
    "# inspect 2023 to get only requests that are canceled\n",
    "len(df_2023_merged_activity[df_2023_merged_activity['Service Request Status_x'] == 'Canceled'])"
   ]
  },
  {
   "cell_type": "code",
   "execution_count": 196,
   "id": "451fea44-07db-4559-9051-3e2939b8707a",
   "metadata": {},
   "outputs": [
    {
     "data": {
      "text/plain": [
       "40128"
      ]
     },
     "execution_count": 196,
     "metadata": {},
     "output_type": "execute_result"
    }
   ],
   "source": [
    "# inspect 2023 to get only requests that are closed and NOT null\n",
    "len(df_2023_merged_activity[(df_2023_merged_activity['Flex Question: Flex Question Name_y'].notnull()) & (df_2023_merged_activity['Service Request Status_x'] == 'Completed')])"
   ]
  },
  {
   "cell_type": "code",
   "execution_count": 197,
   "id": "87c75ff1-62d7-4772-8fea-a4ece366e07c",
   "metadata": {},
   "outputs": [
    {
     "data": {
      "text/html": [
       "<div>\n",
       "<style scoped>\n",
       "    .dataframe tbody tr th:only-of-type {\n",
       "        vertical-align: middle;\n",
       "    }\n",
       "\n",
       "    .dataframe tbody tr th {\n",
       "        vertical-align: top;\n",
       "    }\n",
       "\n",
       "    .dataframe thead th {\n",
       "        text-align: right;\n",
       "    }\n",
       "</style>\n",
       "<table border=\"1\" class=\"dataframe\">\n",
       "  <thead>\n",
       "    <tr style=\"text-align: right;\">\n",
       "      <th></th>\n",
       "      <th>Department_x</th>\n",
       "      <th>Service Request: Type Name_x</th>\n",
       "      <th>Service Request Number</th>\n",
       "      <th>Date/Time Opened_x</th>\n",
       "      <th>Date/Time Closed_x</th>\n",
       "      <th>Service Request Status_x</th>\n",
       "      <th>Street Block Number_x</th>\n",
       "      <th>Street Direction_x</th>\n",
       "      <th>Street Name_x</th>\n",
       "      <th>Street Type_x</th>\n",
       "      <th>...</th>\n",
       "      <th>Flex Question: Flex Question Name_y</th>\n",
       "      <th>Answer_y</th>\n",
       "      <th>Ward_y</th>\n",
       "      <th>Community Area_y</th>\n",
       "      <th>created_year_y</th>\n",
       "      <th>created_month_y</th>\n",
       "      <th>created_month_year_y</th>\n",
       "      <th>created_day_y</th>\n",
       "      <th>created_hour_y</th>\n",
       "      <th>closed_hour_y</th>\n",
       "    </tr>\n",
       "  </thead>\n",
       "  <tbody>\n",
       "    <tr>\n",
       "      <th>75</th>\n",
       "      <td>DFSS - Department of Family &amp; Support Services</td>\n",
       "      <td>Shelter Request</td>\n",
       "      <td>SR23-00000292</td>\n",
       "      <td>2023-01-01 07:09:00</td>\n",
       "      <td>NaT</td>\n",
       "      <td>Open</td>\n",
       "      <td>1600</td>\n",
       "      <td>W</td>\n",
       "      <td>HARRISON</td>\n",
       "      <td>ST</td>\n",
       "      <td>...</td>\n",
       "      <td>NaN</td>\n",
       "      <td>NaN</td>\n",
       "      <td>NaN</td>\n",
       "      <td>NaN</td>\n",
       "      <td>NaN</td>\n",
       "      <td>NaN</td>\n",
       "      <td>NaN</td>\n",
       "      <td>NaN</td>\n",
       "      <td>NaN</td>\n",
       "      <td>NaN</td>\n",
       "    </tr>\n",
       "    <tr>\n",
       "      <th>76</th>\n",
       "      <td>DFSS - Department of Family &amp; Support Services</td>\n",
       "      <td>Shelter Request</td>\n",
       "      <td>SR23-00000292</td>\n",
       "      <td>2023-01-01 07:09:00</td>\n",
       "      <td>NaT</td>\n",
       "      <td>Open</td>\n",
       "      <td>1600</td>\n",
       "      <td>W</td>\n",
       "      <td>HARRISON</td>\n",
       "      <td>ST</td>\n",
       "      <td>...</td>\n",
       "      <td>NaN</td>\n",
       "      <td>NaN</td>\n",
       "      <td>NaN</td>\n",
       "      <td>NaN</td>\n",
       "      <td>NaN</td>\n",
       "      <td>NaN</td>\n",
       "      <td>NaN</td>\n",
       "      <td>NaN</td>\n",
       "      <td>NaN</td>\n",
       "      <td>NaN</td>\n",
       "    </tr>\n",
       "    <tr>\n",
       "      <th>80</th>\n",
       "      <td>DFSS - Department of Family &amp; Support Services</td>\n",
       "      <td>Shelter Request</td>\n",
       "      <td>SR23-00000305</td>\n",
       "      <td>2023-01-01 07:13:00</td>\n",
       "      <td>NaT</td>\n",
       "      <td>Open</td>\n",
       "      <td>0</td>\n",
       "      <td>W</td>\n",
       "      <td>111TH</td>\n",
       "      <td>ST</td>\n",
       "      <td>...</td>\n",
       "      <td>NaN</td>\n",
       "      <td>NaN</td>\n",
       "      <td>NaN</td>\n",
       "      <td>NaN</td>\n",
       "      <td>NaN</td>\n",
       "      <td>NaN</td>\n",
       "      <td>NaN</td>\n",
       "      <td>NaN</td>\n",
       "      <td>NaN</td>\n",
       "      <td>NaN</td>\n",
       "    </tr>\n",
       "    <tr>\n",
       "      <th>81</th>\n",
       "      <td>DFSS - Department of Family &amp; Support Services</td>\n",
       "      <td>Shelter Request</td>\n",
       "      <td>SR23-00000305</td>\n",
       "      <td>2023-01-01 07:13:00</td>\n",
       "      <td>NaT</td>\n",
       "      <td>Open</td>\n",
       "      <td>0</td>\n",
       "      <td>W</td>\n",
       "      <td>111TH</td>\n",
       "      <td>ST</td>\n",
       "      <td>...</td>\n",
       "      <td>NaN</td>\n",
       "      <td>NaN</td>\n",
       "      <td>NaN</td>\n",
       "      <td>NaN</td>\n",
       "      <td>NaN</td>\n",
       "      <td>NaN</td>\n",
       "      <td>NaN</td>\n",
       "      <td>NaN</td>\n",
       "      <td>NaN</td>\n",
       "      <td>NaN</td>\n",
       "    </tr>\n",
       "    <tr>\n",
       "      <th>112</th>\n",
       "      <td>DFSS - Department of Family &amp; Support Services</td>\n",
       "      <td>Shelter Request</td>\n",
       "      <td>SR23-00000689</td>\n",
       "      <td>2023-01-01 09:56:00</td>\n",
       "      <td>NaT</td>\n",
       "      <td>Open</td>\n",
       "      <td>6600</td>\n",
       "      <td>S</td>\n",
       "      <td>CICERO</td>\n",
       "      <td>AVE</td>\n",
       "      <td>...</td>\n",
       "      <td>NaN</td>\n",
       "      <td>NaN</td>\n",
       "      <td>NaN</td>\n",
       "      <td>NaN</td>\n",
       "      <td>NaN</td>\n",
       "      <td>NaN</td>\n",
       "      <td>NaN</td>\n",
       "      <td>NaN</td>\n",
       "      <td>NaN</td>\n",
       "      <td>NaN</td>\n",
       "    </tr>\n",
       "  </tbody>\n",
       "</table>\n",
       "<p>5 rows × 41 columns</p>\n",
       "</div>"
      ],
      "text/plain": [
       "                                       Department_x  \\\n",
       "75   DFSS - Department of Family & Support Services   \n",
       "76   DFSS - Department of Family & Support Services   \n",
       "80   DFSS - Department of Family & Support Services   \n",
       "81   DFSS - Department of Family & Support Services   \n",
       "112  DFSS - Department of Family & Support Services   \n",
       "\n",
       "    Service Request: Type Name_x Service Request Number  Date/Time Opened_x  \\\n",
       "75               Shelter Request          SR23-00000292 2023-01-01 07:09:00   \n",
       "76               Shelter Request          SR23-00000292 2023-01-01 07:09:00   \n",
       "80               Shelter Request          SR23-00000305 2023-01-01 07:13:00   \n",
       "81               Shelter Request          SR23-00000305 2023-01-01 07:13:00   \n",
       "112              Shelter Request          SR23-00000689 2023-01-01 09:56:00   \n",
       "\n",
       "    Date/Time Closed_x Service Request Status_x  Street Block Number_x  \\\n",
       "75                 NaT                     Open                   1600   \n",
       "76                 NaT                     Open                   1600   \n",
       "80                 NaT                     Open                      0   \n",
       "81                 NaT                     Open                      0   \n",
       "112                NaT                     Open                   6600   \n",
       "\n",
       "    Street Direction_x Street Name_x Street Type_x  ...  \\\n",
       "75                   W      HARRISON            ST  ...   \n",
       "76                   W      HARRISON            ST  ...   \n",
       "80                   W         111TH            ST  ...   \n",
       "81                   W         111TH            ST  ...   \n",
       "112                  S        CICERO           AVE  ...   \n",
       "\n",
       "     Flex Question: Flex Question Name_y Answer_y Ward_y  Community Area_y  \\\n",
       "75                                   NaN      NaN    NaN               NaN   \n",
       "76                                   NaN      NaN    NaN               NaN   \n",
       "80                                   NaN      NaN    NaN               NaN   \n",
       "81                                   NaN      NaN    NaN               NaN   \n",
       "112                                  NaN      NaN    NaN               NaN   \n",
       "\n",
       "     created_year_y  created_month_y  created_month_year_y created_day_y  \\\n",
       "75              NaN              NaN                   NaN           NaN   \n",
       "76              NaN              NaN                   NaN           NaN   \n",
       "80              NaN              NaN                   NaN           NaN   \n",
       "81              NaN              NaN                   NaN           NaN   \n",
       "112             NaN              NaN                   NaN           NaN   \n",
       "\n",
       "    created_hour_y closed_hour_y  \n",
       "75             NaN           NaN  \n",
       "76             NaN           NaN  \n",
       "80             NaN           NaN  \n",
       "81             NaN           NaN  \n",
       "112            NaN           NaN  \n",
       "\n",
       "[5 rows x 41 columns]"
      ]
     },
     "execution_count": 197,
     "metadata": {},
     "output_type": "execute_result"
    }
   ],
   "source": [
    "# what's the earliest 'open' requests? Still requests open from Jan. 1 of this year\n",
    "df_2023_merged_activity[df_2023_merged_activity['Service Request Status_x'] == 'Open'].sort_values('Date/Time Closed_x', ascending=True).head()"
   ]
  },
  {
   "cell_type": "code",
   "execution_count": 94,
   "id": "c42cc1fb-6eb7-46f1-98c0-798987b298e8",
   "metadata": {},
   "outputs": [
    {
     "data": {
      "text/plain": [
       "4058"
      ]
     },
     "execution_count": 94,
     "metadata": {},
     "output_type": "execute_result"
    }
   ],
   "source": [
    "# are there any open requests in prior years?\n",
    "len(df_2022[df_2022['Service Request Status'] == 'Open'])"
   ]
  },
  {
   "cell_type": "code",
   "execution_count": 95,
   "id": "be203589-e55a-4244-8ca7-db7fbcddb918",
   "metadata": {},
   "outputs": [
    {
     "data": {
      "text/plain": [
       "4058"
      ]
     },
     "execution_count": 95,
     "metadata": {},
     "output_type": "execute_result"
    }
   ],
   "source": [
    "# how many are open and don't have an activity outcome row?\n",
    "len(df_2022_merged_activity[(df_2022_merged_activity['Flex Question: Flex Question Name_y'].isnull()) & (df_2022_merged_activity['Service Request Status_x'] == 'Open')])"
   ]
  },
  {
   "cell_type": "markdown",
   "id": "89d91cab-2f88-4347-bfb8-abc946f4b83d",
   "metadata": {},
   "source": [
    "## Open requests analysis (Service Request Status)"
   ]
  },
  {
   "cell_type": "code",
   "execution_count": null,
   "id": "dbae6f6b-06f5-4c8d-bd77-0450219682b7",
   "metadata": {},
   "outputs": [],
   "source": [
    "# how many open/canceled requests are there each year?"
   ]
  },
  {
   "cell_type": "code",
   "execution_count": 204,
   "id": "0f688402-0e7b-404a-a8cb-d93497cde3f2",
   "metadata": {},
   "outputs": [
    {
     "name": "stdout",
     "output_type": "stream",
     "text": [
      "The number of rows that have an open status in 2023 was: 7597\n",
      "The number of rows that have an open status in 2022 was: 8116\n",
      "The number of rows that have an open status in 2021 was: 0\n",
      "The number of rows that have an open status in 2020 was: 0\n",
      "The number of rows that have an open status in 2019 was: 0\n"
     ]
    }
   ],
   "source": [
    "print('The number of rows that have an open status in 2023 was:', \n",
    "      len(df_2023[df_2023['Service Request Status'] == 'Open']))\n",
    "print('The number of rows that have an open status in 2022 was:', \n",
    "      len(df_2022[df_2022['Service Request Status'] == 'Open']))\n",
    "print('The number of rows that have an open status in 2021 was:', \n",
    "      len(df_2021[df_2021['Service Request Status'] == 'Open']))\n",
    "print('The number of rows that have an open status in 2020 was:', \n",
    "      len(df_2020[df_2020['Service Request Status'] == 'Open']))\n",
    "print('The number of rows that have an open status in 2019 was:', \n",
    "      len(df_2019[df_2019['Service Request Status'] == 'Open']))"
   ]
  },
  {
   "cell_type": "code",
   "execution_count": 205,
   "id": "0f1ea124-c73a-40cc-a29a-cc193ec4c014",
   "metadata": {},
   "outputs": [
    {
     "name": "stdout",
     "output_type": "stream",
     "text": [
      "The number of rows that have an canceled status in 2023 was: 2\n",
      "The number of rows that have an canceled status in 2022 was: 74\n",
      "The number of rows that have an canceled status in 2021 was: 4848\n",
      "The number of rows that have an canceled status in 2020 was: 375\n",
      "The number of rows that have an canceled status in 2019 was: 62\n"
     ]
    }
   ],
   "source": [
    "print('The number of rows that have an canceled status in 2023 was:', \n",
    "      len(df_2023[df_2023['Service Request Status'] == 'Canceled']))\n",
    "print('The number of rows that have an canceled status in 2022 was:', \n",
    "      len(df_2022[df_2022['Service Request Status'] == 'Canceled']))\n",
    "print('The number of rows that have an canceled status in 2021 was:', \n",
    "      len(df_2021[df_2021['Service Request Status'] == 'Canceled']))\n",
    "print('The number of rows that have an canceled status in 2020 was:', \n",
    "      len(df_2020[df_2020['Service Request Status'] == 'Canceled']))\n",
    "print('The number of rows that have an canceled status in 2019 was:', \n",
    "      len(df_2019[df_2019['Service Request Status'] == 'Canceled']))"
   ]
  },
  {
   "cell_type": "code",
   "execution_count": 206,
   "id": "4a37516c-77f0-4d9a-8743-0326b93752ca",
   "metadata": {},
   "outputs": [
    {
     "data": {
      "text/html": [
       "<div>\n",
       "<style scoped>\n",
       "    .dataframe tbody tr th:only-of-type {\n",
       "        vertical-align: middle;\n",
       "    }\n",
       "\n",
       "    .dataframe tbody tr th {\n",
       "        vertical-align: top;\n",
       "    }\n",
       "\n",
       "    .dataframe thead th {\n",
       "        text-align: right;\n",
       "    }\n",
       "</style>\n",
       "<table border=\"1\" class=\"dataframe\">\n",
       "  <thead>\n",
       "    <tr style=\"text-align: right;\">\n",
       "      <th></th>\n",
       "      <th>Service Request Status</th>\n",
       "      <th>0</th>\n",
       "    </tr>\n",
       "  </thead>\n",
       "  <tbody>\n",
       "    <tr>\n",
       "      <th>0</th>\n",
       "      <td>Canceled</td>\n",
       "      <td>2</td>\n",
       "    </tr>\n",
       "    <tr>\n",
       "      <th>1</th>\n",
       "      <td>Completed</td>\n",
       "      <td>40116</td>\n",
       "    </tr>\n",
       "    <tr>\n",
       "      <th>2</th>\n",
       "      <td>Open</td>\n",
       "      <td>7597</td>\n",
       "    </tr>\n",
       "  </tbody>\n",
       "</table>\n",
       "</div>"
      ],
      "text/plain": [
       "  Service Request Status      0\n",
       "0               Canceled      2\n",
       "1              Completed  40116\n",
       "2                   Open   7597"
      ]
     },
     "execution_count": 206,
     "metadata": {},
     "output_type": "execute_result"
    }
   ],
   "source": [
    "df_2023.groupby('Service Request Status').size().reset_index()"
   ]
  },
  {
   "cell_type": "code",
   "execution_count": 207,
   "id": "8cfe8343-e753-45c3-a714-dd9a48fd38e5",
   "metadata": {},
   "outputs": [
    {
     "data": {
      "text/html": [
       "<div>\n",
       "<style scoped>\n",
       "    .dataframe tbody tr th:only-of-type {\n",
       "        vertical-align: middle;\n",
       "    }\n",
       "\n",
       "    .dataframe tbody tr th {\n",
       "        vertical-align: top;\n",
       "    }\n",
       "\n",
       "    .dataframe thead th {\n",
       "        text-align: right;\n",
       "    }\n",
       "</style>\n",
       "<table border=\"1\" class=\"dataframe\">\n",
       "  <thead>\n",
       "    <tr style=\"text-align: right;\">\n",
       "      <th></th>\n",
       "      <th>Service Request Status</th>\n",
       "      <th>0</th>\n",
       "    </tr>\n",
       "  </thead>\n",
       "  <tbody>\n",
       "    <tr>\n",
       "      <th>0</th>\n",
       "      <td>Canceled</td>\n",
       "      <td>74</td>\n",
       "    </tr>\n",
       "    <tr>\n",
       "      <th>1</th>\n",
       "      <td>Completed</td>\n",
       "      <td>148986</td>\n",
       "    </tr>\n",
       "    <tr>\n",
       "      <th>2</th>\n",
       "      <td>Open</td>\n",
       "      <td>8116</td>\n",
       "    </tr>\n",
       "  </tbody>\n",
       "</table>\n",
       "</div>"
      ],
      "text/plain": [
       "  Service Request Status       0\n",
       "0               Canceled      74\n",
       "1              Completed  148986\n",
       "2                   Open    8116"
      ]
     },
     "execution_count": 207,
     "metadata": {},
     "output_type": "execute_result"
    }
   ],
   "source": [
    "df_2022.groupby('Service Request Status').size().reset_index()"
   ]
  },
  {
   "cell_type": "code",
   "execution_count": 208,
   "id": "f83b81a4-44c9-48b3-84f7-30b0a75b9351",
   "metadata": {},
   "outputs": [
    {
     "data": {
      "text/html": [
       "<div>\n",
       "<style scoped>\n",
       "    .dataframe tbody tr th:only-of-type {\n",
       "        vertical-align: middle;\n",
       "    }\n",
       "\n",
       "    .dataframe tbody tr th {\n",
       "        vertical-align: top;\n",
       "    }\n",
       "\n",
       "    .dataframe thead th {\n",
       "        text-align: right;\n",
       "    }\n",
       "</style>\n",
       "<table border=\"1\" class=\"dataframe\">\n",
       "  <thead>\n",
       "    <tr style=\"text-align: right;\">\n",
       "      <th></th>\n",
       "      <th>Service Request Status</th>\n",
       "      <th>0</th>\n",
       "    </tr>\n",
       "  </thead>\n",
       "  <tbody>\n",
       "    <tr>\n",
       "      <th>0</th>\n",
       "      <td>Canceled</td>\n",
       "      <td>4848</td>\n",
       "    </tr>\n",
       "    <tr>\n",
       "      <th>1</th>\n",
       "      <td>Completed</td>\n",
       "      <td>109176</td>\n",
       "    </tr>\n",
       "  </tbody>\n",
       "</table>\n",
       "</div>"
      ],
      "text/plain": [
       "  Service Request Status       0\n",
       "0               Canceled    4848\n",
       "1              Completed  109176"
      ]
     },
     "execution_count": 208,
     "metadata": {},
     "output_type": "execute_result"
    }
   ],
   "source": [
    "df_2021.groupby('Service Request Status').size().reset_index()"
   ]
  },
  {
   "cell_type": "code",
   "execution_count": 209,
   "id": "9f099d2b-36ae-436a-8b42-a7de9b31e913",
   "metadata": {},
   "outputs": [
    {
     "data": {
      "text/html": [
       "<div>\n",
       "<style scoped>\n",
       "    .dataframe tbody tr th:only-of-type {\n",
       "        vertical-align: middle;\n",
       "    }\n",
       "\n",
       "    .dataframe tbody tr th {\n",
       "        vertical-align: top;\n",
       "    }\n",
       "\n",
       "    .dataframe thead th {\n",
       "        text-align: right;\n",
       "    }\n",
       "</style>\n",
       "<table border=\"1\" class=\"dataframe\">\n",
       "  <thead>\n",
       "    <tr style=\"text-align: right;\">\n",
       "      <th></th>\n",
       "      <th>Service Request Status</th>\n",
       "      <th>0</th>\n",
       "    </tr>\n",
       "  </thead>\n",
       "  <tbody>\n",
       "    <tr>\n",
       "      <th>0</th>\n",
       "      <td>Canceled</td>\n",
       "      <td>375</td>\n",
       "    </tr>\n",
       "    <tr>\n",
       "      <th>1</th>\n",
       "      <td>Completed</td>\n",
       "      <td>69876</td>\n",
       "    </tr>\n",
       "  </tbody>\n",
       "</table>\n",
       "</div>"
      ],
      "text/plain": [
       "  Service Request Status      0\n",
       "0               Canceled    375\n",
       "1              Completed  69876"
      ]
     },
     "execution_count": 209,
     "metadata": {},
     "output_type": "execute_result"
    }
   ],
   "source": [
    "df_2020.groupby('Service Request Status').size().reset_index()"
   ]
  },
  {
   "cell_type": "code",
   "execution_count": 210,
   "id": "cf34c2d8-d3a4-450c-93fd-e0e2d6dd8c51",
   "metadata": {},
   "outputs": [
    {
     "data": {
      "text/html": [
       "<div>\n",
       "<style scoped>\n",
       "    .dataframe tbody tr th:only-of-type {\n",
       "        vertical-align: middle;\n",
       "    }\n",
       "\n",
       "    .dataframe tbody tr th {\n",
       "        vertical-align: top;\n",
       "    }\n",
       "\n",
       "    .dataframe thead th {\n",
       "        text-align: right;\n",
       "    }\n",
       "</style>\n",
       "<table border=\"1\" class=\"dataframe\">\n",
       "  <thead>\n",
       "    <tr style=\"text-align: right;\">\n",
       "      <th></th>\n",
       "      <th>Service Request Status</th>\n",
       "      <th>0</th>\n",
       "    </tr>\n",
       "  </thead>\n",
       "  <tbody>\n",
       "    <tr>\n",
       "      <th>0</th>\n",
       "      <td>Canceled</td>\n",
       "      <td>62</td>\n",
       "    </tr>\n",
       "    <tr>\n",
       "      <th>1</th>\n",
       "      <td>Completed</td>\n",
       "      <td>41975</td>\n",
       "    </tr>\n",
       "  </tbody>\n",
       "</table>\n",
       "</div>"
      ],
      "text/plain": [
       "  Service Request Status      0\n",
       "0               Canceled     62\n",
       "1              Completed  41975"
      ]
     },
     "execution_count": 210,
     "metadata": {},
     "output_type": "execute_result"
    }
   ],
   "source": [
    "df_2019.groupby('Service Request Status').size().reset_index()"
   ]
  },
  {
   "cell_type": "code",
   "execution_count": null,
   "id": "bfdf8c51-4052-4e39-8a0f-7e2881f956c9",
   "metadata": {},
   "outputs": [],
   "source": [
    "# group opened/canceled requests by activity outcome - almost no canceled/opened requests have activity outcomes"
   ]
  },
  {
   "cell_type": "code",
   "execution_count": 211,
   "id": "43d7fede-b21f-41d4-9d89-018c32f174e8",
   "metadata": {},
   "outputs": [
    {
     "data": {
      "text/html": [
       "<div>\n",
       "<style scoped>\n",
       "    .dataframe tbody tr th:only-of-type {\n",
       "        vertical-align: middle;\n",
       "    }\n",
       "\n",
       "    .dataframe tbody tr th {\n",
       "        vertical-align: top;\n",
       "    }\n",
       "\n",
       "    .dataframe thead th {\n",
       "        text-align: right;\n",
       "    }\n",
       "</style>\n",
       "<table border=\"1\" class=\"dataframe\">\n",
       "  <thead>\n",
       "    <tr style=\"text-align: right;\">\n",
       "      <th></th>\n",
       "      <th>Answer_y</th>\n",
       "      <th>0</th>\n",
       "    </tr>\n",
       "  </thead>\n",
       "  <tbody>\n",
       "    <tr>\n",
       "      <th>0</th>\n",
       "      <td>Completed</td>\n",
       "      <td>5</td>\n",
       "    </tr>\n",
       "  </tbody>\n",
       "</table>\n",
       "</div>"
      ],
      "text/plain": [
       "    Answer_y  0\n",
       "0  Completed  5"
      ]
     },
     "execution_count": 211,
     "metadata": {},
     "output_type": "execute_result"
    }
   ],
   "source": [
    "df_2023_merged_activity[df_2023_merged_activity['Service Request Status_y'] == 'Open'].groupby('Answer_y').size().reset_index()"
   ]
  },
  {
   "cell_type": "code",
   "execution_count": 212,
   "id": "d1a6ce42-4d0c-4b60-b2cd-f904d1fd81b1",
   "metadata": {},
   "outputs": [
    {
     "data": {
      "text/html": [
       "<div>\n",
       "<style scoped>\n",
       "    .dataframe tbody tr th:only-of-type {\n",
       "        vertical-align: middle;\n",
       "    }\n",
       "\n",
       "    .dataframe tbody tr th {\n",
       "        vertical-align: top;\n",
       "    }\n",
       "\n",
       "    .dataframe thead th {\n",
       "        text-align: right;\n",
       "    }\n",
       "</style>\n",
       "<table border=\"1\" class=\"dataframe\">\n",
       "  <thead>\n",
       "    <tr style=\"text-align: right;\">\n",
       "      <th></th>\n",
       "      <th>Answer_y</th>\n",
       "      <th>0</th>\n",
       "    </tr>\n",
       "  </thead>\n",
       "  <tbody>\n",
       "  </tbody>\n",
       "</table>\n",
       "</div>"
      ],
      "text/plain": [
       "Empty DataFrame\n",
       "Columns: [Answer_y, 0]\n",
       "Index: []"
      ]
     },
     "execution_count": 212,
     "metadata": {},
     "output_type": "execute_result"
    }
   ],
   "source": [
    "df_2022_merged_activity[df_2022_merged_activity['Service Request Status_y'] == 'Open'].groupby('Answer_y').size().reset_index()"
   ]
  },
  {
   "cell_type": "code",
   "execution_count": 213,
   "id": "284d962f-fed9-441e-b136-d4bba74d9bfb",
   "metadata": {},
   "outputs": [
    {
     "data": {
      "text/html": [
       "<div>\n",
       "<style scoped>\n",
       "    .dataframe tbody tr th:only-of-type {\n",
       "        vertical-align: middle;\n",
       "    }\n",
       "\n",
       "    .dataframe tbody tr th {\n",
       "        vertical-align: top;\n",
       "    }\n",
       "\n",
       "    .dataframe thead th {\n",
       "        text-align: right;\n",
       "    }\n",
       "</style>\n",
       "<table border=\"1\" class=\"dataframe\">\n",
       "  <thead>\n",
       "    <tr style=\"text-align: right;\">\n",
       "      <th></th>\n",
       "      <th>Answer_y</th>\n",
       "      <th>0</th>\n",
       "    </tr>\n",
       "  </thead>\n",
       "  <tbody>\n",
       "  </tbody>\n",
       "</table>\n",
       "</div>"
      ],
      "text/plain": [
       "Empty DataFrame\n",
       "Columns: [Answer_y, 0]\n",
       "Index: []"
      ]
     },
     "execution_count": 213,
     "metadata": {},
     "output_type": "execute_result"
    }
   ],
   "source": [
    "df_2021_merged_activity[df_2021_merged_activity['Service Request Status_y'] == 'Canceled'].groupby('Answer_y').size().reset_index()"
   ]
  },
  {
   "cell_type": "code",
   "execution_count": null,
   "id": "d170ae93-43d1-43ec-b29f-8b18c83478ad",
   "metadata": {},
   "outputs": [],
   "source": [
    "# what percent of null activity outcome rows are open or canceled? \n",
    "# Nearly all of them show up as still open or canceled under another column."
   ]
  },
  {
   "cell_type": "code",
   "execution_count": 220,
   "id": "396bba4b-b3c7-443a-9492-8446d79f4642",
   "metadata": {},
   "outputs": [
    {
     "data": {
      "text/html": [
       "<div>\n",
       "<style scoped>\n",
       "    .dataframe tbody tr th:only-of-type {\n",
       "        vertical-align: middle;\n",
       "    }\n",
       "\n",
       "    .dataframe tbody tr th {\n",
       "        vertical-align: top;\n",
       "    }\n",
       "\n",
       "    .dataframe thead th {\n",
       "        text-align: right;\n",
       "    }\n",
       "</style>\n",
       "<table border=\"1\" class=\"dataframe\">\n",
       "  <thead>\n",
       "    <tr style=\"text-align: right;\">\n",
       "      <th></th>\n",
       "      <th>Service Request Status_x</th>\n",
       "      <th>count</th>\n",
       "      <th>pct null activity rows</th>\n",
       "    </tr>\n",
       "  </thead>\n",
       "  <tbody>\n",
       "    <tr>\n",
       "      <th>0</th>\n",
       "      <td>Canceled</td>\n",
       "      <td>2</td>\n",
       "      <td>0.000263</td>\n",
       "    </tr>\n",
       "    <tr>\n",
       "      <th>1</th>\n",
       "      <td>Open</td>\n",
       "      <td>7592</td>\n",
       "      <td>0.999737</td>\n",
       "    </tr>\n",
       "  </tbody>\n",
       "</table>\n",
       "</div>"
      ],
      "text/plain": [
       "  Service Request Status_x  count  pct null activity rows\n",
       "0                 Canceled      2                0.000263\n",
       "1                     Open   7592                0.999737"
      ]
     },
     "execution_count": 220,
     "metadata": {},
     "output_type": "execute_result"
    }
   ],
   "source": [
    "g = df_2023_merged_activity[df_2023_merged_activity['Flex Question: Flex Question Name_y'].isnull()].groupby('Service Request Status_x').size().reset_index(name='count')\n",
    "g['pct null activity rows'] = g['count']/g['count'].sum()\n",
    "g"
   ]
  },
  {
   "cell_type": "code",
   "execution_count": 221,
   "id": "c1271d7c-8ab2-4849-bec9-01ce6a83c2fc",
   "metadata": {},
   "outputs": [
    {
     "data": {
      "text/html": [
       "<div>\n",
       "<style scoped>\n",
       "    .dataframe tbody tr th:only-of-type {\n",
       "        vertical-align: middle;\n",
       "    }\n",
       "\n",
       "    .dataframe tbody tr th {\n",
       "        vertical-align: top;\n",
       "    }\n",
       "\n",
       "    .dataframe thead th {\n",
       "        text-align: right;\n",
       "    }\n",
       "</style>\n",
       "<table border=\"1\" class=\"dataframe\">\n",
       "  <thead>\n",
       "    <tr style=\"text-align: right;\">\n",
       "      <th></th>\n",
       "      <th>Service Request Status_x</th>\n",
       "      <th>count</th>\n",
       "      <th>pct null activity rows</th>\n",
       "    </tr>\n",
       "  </thead>\n",
       "  <tbody>\n",
       "    <tr>\n",
       "      <th>0</th>\n",
       "      <td>Canceled</td>\n",
       "      <td>74</td>\n",
       "      <td>0.009035</td>\n",
       "    </tr>\n",
       "    <tr>\n",
       "      <th>1</th>\n",
       "      <td>Open</td>\n",
       "      <td>8116</td>\n",
       "      <td>0.990965</td>\n",
       "    </tr>\n",
       "  </tbody>\n",
       "</table>\n",
       "</div>"
      ],
      "text/plain": [
       "  Service Request Status_x  count  pct null activity rows\n",
       "0                 Canceled     74                0.009035\n",
       "1                     Open   8116                0.990965"
      ]
     },
     "execution_count": 221,
     "metadata": {},
     "output_type": "execute_result"
    }
   ],
   "source": [
    "g = df_2022_merged_activity[df_2022_merged_activity['Flex Question: Flex Question Name_y'].isnull()].groupby('Service Request Status_x').size().reset_index(name='count')\n",
    "g['pct null activity rows'] = g['count']/g['count'].sum()\n",
    "g"
   ]
  },
  {
   "cell_type": "code",
   "execution_count": 219,
   "id": "22df16e9-3b59-4dfc-8da7-4e1bb3ffc22e",
   "metadata": {},
   "outputs": [
    {
     "data": {
      "text/html": [
       "<div>\n",
       "<style scoped>\n",
       "    .dataframe tbody tr th:only-of-type {\n",
       "        vertical-align: middle;\n",
       "    }\n",
       "\n",
       "    .dataframe tbody tr th {\n",
       "        vertical-align: top;\n",
       "    }\n",
       "\n",
       "    .dataframe thead th {\n",
       "        text-align: right;\n",
       "    }\n",
       "</style>\n",
       "<table border=\"1\" class=\"dataframe\">\n",
       "  <thead>\n",
       "    <tr style=\"text-align: right;\">\n",
       "      <th></th>\n",
       "      <th>Service Request Status_x</th>\n",
       "      <th>count</th>\n",
       "      <th>pct null activity rows</th>\n",
       "    </tr>\n",
       "  </thead>\n",
       "  <tbody>\n",
       "    <tr>\n",
       "      <th>0</th>\n",
       "      <td>Canceled</td>\n",
       "      <td>4848</td>\n",
       "      <td>1.0</td>\n",
       "    </tr>\n",
       "  </tbody>\n",
       "</table>\n",
       "</div>"
      ],
      "text/plain": [
       "  Service Request Status_x  count  pct null activity rows\n",
       "0                 Canceled   4848                     1.0"
      ]
     },
     "execution_count": 219,
     "metadata": {},
     "output_type": "execute_result"
    }
   ],
   "source": [
    "g = df_2021_merged_activity[df_2021_merged_activity['Flex Question: Flex Question Name_y'].isnull()].groupby('Service Request Status_x').size().reset_index(name='count')\n",
    "g['pct null activity rows'] = g['count']/g['count'].sum()\n",
    "g"
   ]
  },
  {
   "cell_type": "code",
   "execution_count": 217,
   "id": "44014758-5bb8-400a-949a-7932b0e8b550",
   "metadata": {},
   "outputs": [
    {
     "data": {
      "text/html": [
       "<div>\n",
       "<style scoped>\n",
       "    .dataframe tbody tr th:only-of-type {\n",
       "        vertical-align: middle;\n",
       "    }\n",
       "\n",
       "    .dataframe tbody tr th {\n",
       "        vertical-align: top;\n",
       "    }\n",
       "\n",
       "    .dataframe thead th {\n",
       "        text-align: right;\n",
       "    }\n",
       "</style>\n",
       "<table border=\"1\" class=\"dataframe\">\n",
       "  <thead>\n",
       "    <tr style=\"text-align: right;\">\n",
       "      <th></th>\n",
       "      <th>Service Request Status_x</th>\n",
       "      <th>count</th>\n",
       "      <th>pct null activity rows</th>\n",
       "    </tr>\n",
       "  </thead>\n",
       "  <tbody>\n",
       "    <tr>\n",
       "      <th>0</th>\n",
       "      <td>Canceled</td>\n",
       "      <td>375</td>\n",
       "      <td>1.0</td>\n",
       "    </tr>\n",
       "  </tbody>\n",
       "</table>\n",
       "</div>"
      ],
      "text/plain": [
       "  Service Request Status_x  count  pct null activity rows\n",
       "0                 Canceled    375                     1.0"
      ]
     },
     "execution_count": 217,
     "metadata": {},
     "output_type": "execute_result"
    }
   ],
   "source": [
    "g = df_2020_merged_activity[df_2020_merged_activity['Flex Question: Flex Question Name_y'].isnull()].groupby('Service Request Status_x').size().reset_index(name='count')\n",
    "g['pct null activity rows'] = g['count']/g['count'].sum()\n",
    "g"
   ]
  },
  {
   "cell_type": "code",
   "execution_count": 218,
   "id": "fd67aef1-696a-4cd5-9bf5-9ce861b85088",
   "metadata": {},
   "outputs": [
    {
     "data": {
      "text/html": [
       "<div>\n",
       "<style scoped>\n",
       "    .dataframe tbody tr th:only-of-type {\n",
       "        vertical-align: middle;\n",
       "    }\n",
       "\n",
       "    .dataframe tbody tr th {\n",
       "        vertical-align: top;\n",
       "    }\n",
       "\n",
       "    .dataframe thead th {\n",
       "        text-align: right;\n",
       "    }\n",
       "</style>\n",
       "<table border=\"1\" class=\"dataframe\">\n",
       "  <thead>\n",
       "    <tr style=\"text-align: right;\">\n",
       "      <th></th>\n",
       "      <th>Service Request Status_x</th>\n",
       "      <th>count</th>\n",
       "      <th>pct null activity rows</th>\n",
       "    </tr>\n",
       "  </thead>\n",
       "  <tbody>\n",
       "    <tr>\n",
       "      <th>0</th>\n",
       "      <td>Canceled</td>\n",
       "      <td>62</td>\n",
       "      <td>0.014685</td>\n",
       "    </tr>\n",
       "    <tr>\n",
       "      <th>1</th>\n",
       "      <td>Completed</td>\n",
       "      <td>4160</td>\n",
       "      <td>0.985315</td>\n",
       "    </tr>\n",
       "  </tbody>\n",
       "</table>\n",
       "</div>"
      ],
      "text/plain": [
       "  Service Request Status_x  count  pct null activity rows\n",
       "0                 Canceled     62                0.014685\n",
       "1                Completed   4160                0.985315"
      ]
     },
     "execution_count": 218,
     "metadata": {},
     "output_type": "execute_result"
    }
   ],
   "source": [
    "g = df_2019_merged_activity[df_2019_merged_activity['Flex Question: Flex Question Name_y'].isnull()].groupby('Service Request Status_x').size().reset_index(name='count')\n",
    "g['pct null activity rows'] = g['count']/g['count'].sum()\n",
    "g"
   ]
  },
  {
   "cell_type": "code",
   "execution_count": null,
   "id": "75652114-eade-49fc-8f66-9fdfc95bfe01",
   "metadata": {},
   "outputs": [],
   "source": [
    "# how many requests were just left open in 200 to mid-April\n"
   ]
  },
  {
   "cell_type": "code",
   "execution_count": null,
   "id": "ede6d2a4-f532-4c8e-98cb-fc0395e38367",
   "metadata": {},
   "outputs": [],
   "source": []
  },
  {
   "cell_type": "code",
   "execution_count": null,
   "id": "d072455e-25fc-4961-bd81-e18c594d631b",
   "metadata": {},
   "outputs": [],
   "source": [
    "# extras: what were the most popular shelter placements?"
   ]
  },
  {
   "cell_type": "code",
   "execution_count": 28,
   "id": "784efed3-773f-4e1d-bf96-e776c5dae1fe",
   "metadata": {},
   "outputs": [
    {
     "data": {
      "text/html": [
       "<div>\n",
       "<style scoped>\n",
       "    .dataframe tbody tr th:only-of-type {\n",
       "        vertical-align: middle;\n",
       "    }\n",
       "\n",
       "    .dataframe tbody tr th {\n",
       "        vertical-align: top;\n",
       "    }\n",
       "\n",
       "    .dataframe thead th {\n",
       "        text-align: right;\n",
       "    }\n",
       "</style>\n",
       "<table border=\"1\" class=\"dataframe\">\n",
       "  <thead>\n",
       "    <tr style=\"text-align: right;\">\n",
       "      <th></th>\n",
       "      <th>Answer_y</th>\n",
       "      <th>count</th>\n",
       "    </tr>\n",
       "  </thead>\n",
       "  <tbody>\n",
       "    <tr>\n",
       "      <th>27</th>\n",
       "      <td>Olive Branch Mission - Lamplight Singles Men</td>\n",
       "      <td>714</td>\n",
       "    </tr>\n",
       "    <tr>\n",
       "      <th>29</th>\n",
       "      <td>Other</td>\n",
       "      <td>618</td>\n",
       "    </tr>\n",
       "    <tr>\n",
       "      <th>15</th>\n",
       "      <td>Franciscan Outreach Association - Harrison</td>\n",
       "      <td>519</td>\n",
       "    </tr>\n",
       "    <tr>\n",
       "      <th>1</th>\n",
       "      <td>A Safe Haven Foundation - Roosevelt</td>\n",
       "      <td>343</td>\n",
       "    </tr>\n",
       "    <tr>\n",
       "      <th>14</th>\n",
       "      <td>Franciscan Outreach Association - Annex</td>\n",
       "      <td>312</td>\n",
       "    </tr>\n",
       "  </tbody>\n",
       "</table>\n",
       "</div>"
      ],
      "text/plain": [
       "                                        Answer_y  count\n",
       "27  Olive Branch Mission - Lamplight Singles Men    714\n",
       "29                                         Other    618\n",
       "15    Franciscan Outreach Association - Harrison    519\n",
       "1            A Safe Haven Foundation - Roosevelt    343\n",
       "14       Franciscan Outreach Association - Annex    312"
      ]
     },
     "execution_count": 28,
     "metadata": {},
     "output_type": "execute_result"
    }
   ],
   "source": [
    "df_2022_merged[(df_2022_merged['Answer_x'] == 'Client(s) Placed in Shelter')].groupby('Answer_y').size().reset_index(name='count').sort_values('count', ascending=False).head(5)"
   ]
  },
  {
   "cell_type": "code",
   "execution_count": 29,
   "id": "fadcd928-acf2-4ccd-8fcd-f5f4b5e0395f",
   "metadata": {},
   "outputs": [
    {
     "data": {
      "text/html": [
       "<div>\n",
       "<style scoped>\n",
       "    .dataframe tbody tr th:only-of-type {\n",
       "        vertical-align: middle;\n",
       "    }\n",
       "\n",
       "    .dataframe tbody tr th {\n",
       "        vertical-align: top;\n",
       "    }\n",
       "\n",
       "    .dataframe thead th {\n",
       "        text-align: right;\n",
       "    }\n",
       "</style>\n",
       "<table border=\"1\" class=\"dataframe\">\n",
       "  <thead>\n",
       "    <tr style=\"text-align: right;\">\n",
       "      <th></th>\n",
       "      <th>Answer_y</th>\n",
       "      <th>count</th>\n",
       "    </tr>\n",
       "  </thead>\n",
       "  <tbody>\n",
       "    <tr>\n",
       "      <th>14</th>\n",
       "      <td>Other</td>\n",
       "      <td>13</td>\n",
       "    </tr>\n",
       "    <tr>\n",
       "      <th>6</th>\n",
       "      <td>Franciscan Outreach Association - Annex</td>\n",
       "      <td>4</td>\n",
       "    </tr>\n",
       "    <tr>\n",
       "      <th>10</th>\n",
       "      <td>Olive Branch - Lamplight Family I</td>\n",
       "      <td>4</td>\n",
       "    </tr>\n",
       "    <tr>\n",
       "      <th>0</th>\n",
       "      <td>A Little Bit of Heaven - Emergency Shelter</td>\n",
       "      <td>3</td>\n",
       "    </tr>\n",
       "    <tr>\n",
       "      <th>7</th>\n",
       "      <td>Franciscan Outreach Association - Harrison</td>\n",
       "      <td>3</td>\n",
       "    </tr>\n",
       "  </tbody>\n",
       "</table>\n",
       "</div>"
      ],
      "text/plain": [
       "                                      Answer_y  count\n",
       "14                                       Other     13\n",
       "6      Franciscan Outreach Association - Annex      4\n",
       "10           Olive Branch - Lamplight Family I      4\n",
       "0   A Little Bit of Heaven - Emergency Shelter      3\n",
       "7   Franciscan Outreach Association - Harrison      3"
      ]
     },
     "execution_count": 29,
     "metadata": {},
     "output_type": "execute_result"
    }
   ],
   "source": [
    "df_2022_merged[(df_2022_merged['Answer_x'] == 'Completed')].groupby('Answer_y').size().reset_index(name='count').sort_values('count', ascending=False).head(5)"
   ]
  },
  {
   "cell_type": "markdown",
   "id": "92fd6e3d-990d-485d-ba37-dea2016844a5",
   "metadata": {},
   "source": [
    "## Monthly analysis"
   ]
  },
  {
   "cell_type": "markdown",
   "id": "6f8a790d-7dcb-4ad6-be36-27834fa08410",
   "metadata": {},
   "source": [
    "The output of this section goes into this Flourish viz: https://public.flourish.studio/visualisation/13061096/"
   ]
  },
  {
   "cell_type": "code",
   "execution_count": 19,
   "id": "3cbd3c3b-f1f5-4d98-9af2-b12d1bd87be2",
   "metadata": {},
   "outputs": [],
   "source": [
    "# group by month\n",
    "counts_by_month_2019 = df_2019.groupby('created_month_year').size().reset_index(name='requests')\n",
    "counts_by_month_2020 = df_2020.groupby('created_month_year').size().reset_index(name='requests')\n",
    "counts_by_month_2021 = df_2021.groupby('created_month_year').size().reset_index(name='requests')\n",
    "counts_by_month_2022 = df_2022.groupby('created_month_year').size().reset_index(name='requests')\n",
    "counts_by_month_2023 = df_2023.groupby('created_month_year').size().reset_index(name='requests')"
   ]
  },
  {
   "cell_type": "code",
   "execution_count": 20,
   "id": "c418dd97-54ad-4051-92cc-ef3ac329b71f",
   "metadata": {},
   "outputs": [],
   "source": [
    "# concatenate all monthly data\n",
    "monthly_counts = pd.concat([counts_by_month_2019,counts_by_month_2020,counts_by_month_2021,counts_by_month_2022,counts_by_month_2023])"
   ]
  },
  {
   "cell_type": "code",
   "execution_count": 21,
   "id": "64795e0d-66bd-4af5-bd96-916581ebe3b9",
   "metadata": {},
   "outputs": [
    {
     "data": {
      "text/html": [
       "<div>\n",
       "<style scoped>\n",
       "    .dataframe tbody tr th:only-of-type {\n",
       "        vertical-align: middle;\n",
       "    }\n",
       "\n",
       "    .dataframe tbody tr th {\n",
       "        vertical-align: top;\n",
       "    }\n",
       "\n",
       "    .dataframe thead th {\n",
       "        text-align: right;\n",
       "    }\n",
       "</style>\n",
       "<table border=\"1\" class=\"dataframe\">\n",
       "  <thead>\n",
       "    <tr style=\"text-align: right;\">\n",
       "      <th></th>\n",
       "      <th>created_month_year</th>\n",
       "      <th>requests</th>\n",
       "    </tr>\n",
       "  </thead>\n",
       "  <tbody>\n",
       "    <tr>\n",
       "      <th>0</th>\n",
       "      <td>01/2019</td>\n",
       "      <td>2263</td>\n",
       "    </tr>\n",
       "    <tr>\n",
       "      <th>1</th>\n",
       "      <td>02/2019</td>\n",
       "      <td>1823</td>\n",
       "    </tr>\n",
       "    <tr>\n",
       "      <th>2</th>\n",
       "      <td>03/2019</td>\n",
       "      <td>1871</td>\n",
       "    </tr>\n",
       "    <tr>\n",
       "      <th>3</th>\n",
       "      <td>04/2019</td>\n",
       "      <td>1851</td>\n",
       "    </tr>\n",
       "    <tr>\n",
       "      <th>4</th>\n",
       "      <td>05/2019</td>\n",
       "      <td>1819</td>\n",
       "    </tr>\n",
       "    <tr>\n",
       "      <th>5</th>\n",
       "      <td>06/2019</td>\n",
       "      <td>1787</td>\n",
       "    </tr>\n",
       "    <tr>\n",
       "      <th>6</th>\n",
       "      <td>07/2019</td>\n",
       "      <td>1827</td>\n",
       "    </tr>\n",
       "    <tr>\n",
       "      <th>7</th>\n",
       "      <td>08/2019</td>\n",
       "      <td>1863</td>\n",
       "    </tr>\n",
       "    <tr>\n",
       "      <th>8</th>\n",
       "      <td>09/2019</td>\n",
       "      <td>1778</td>\n",
       "    </tr>\n",
       "    <tr>\n",
       "      <th>9</th>\n",
       "      <td>10/2019</td>\n",
       "      <td>2062</td>\n",
       "    </tr>\n",
       "    <tr>\n",
       "      <th>10</th>\n",
       "      <td>11/2019</td>\n",
       "      <td>2164</td>\n",
       "    </tr>\n",
       "    <tr>\n",
       "      <th>11</th>\n",
       "      <td>12/2019</td>\n",
       "      <td>2021</td>\n",
       "    </tr>\n",
       "    <tr>\n",
       "      <th>0</th>\n",
       "      <td>01/2020</td>\n",
       "      <td>2173</td>\n",
       "    </tr>\n",
       "    <tr>\n",
       "      <th>1</th>\n",
       "      <td>02/2020</td>\n",
       "      <td>2124</td>\n",
       "    </tr>\n",
       "    <tr>\n",
       "      <th>2</th>\n",
       "      <td>03/2020</td>\n",
       "      <td>2057</td>\n",
       "    </tr>\n",
       "    <tr>\n",
       "      <th>3</th>\n",
       "      <td>04/2020</td>\n",
       "      <td>3439</td>\n",
       "    </tr>\n",
       "    <tr>\n",
       "      <th>4</th>\n",
       "      <td>05/2020</td>\n",
       "      <td>3039</td>\n",
       "    </tr>\n",
       "    <tr>\n",
       "      <th>5</th>\n",
       "      <td>06/2020</td>\n",
       "      <td>2685</td>\n",
       "    </tr>\n",
       "    <tr>\n",
       "      <th>6</th>\n",
       "      <td>07/2020</td>\n",
       "      <td>2879</td>\n",
       "    </tr>\n",
       "    <tr>\n",
       "      <th>7</th>\n",
       "      <td>08/2020</td>\n",
       "      <td>3068</td>\n",
       "    </tr>\n",
       "    <tr>\n",
       "      <th>8</th>\n",
       "      <td>09/2020</td>\n",
       "      <td>3080</td>\n",
       "    </tr>\n",
       "    <tr>\n",
       "      <th>9</th>\n",
       "      <td>10/2020</td>\n",
       "      <td>3754</td>\n",
       "    </tr>\n",
       "    <tr>\n",
       "      <th>10</th>\n",
       "      <td>11/2020</td>\n",
       "      <td>3512</td>\n",
       "    </tr>\n",
       "    <tr>\n",
       "      <th>11</th>\n",
       "      <td>12/2020</td>\n",
       "      <td>3448</td>\n",
       "    </tr>\n",
       "    <tr>\n",
       "      <th>0</th>\n",
       "      <td>01/2021</td>\n",
       "      <td>3189</td>\n",
       "    </tr>\n",
       "    <tr>\n",
       "      <th>1</th>\n",
       "      <td>02/2021</td>\n",
       "      <td>2874</td>\n",
       "    </tr>\n",
       "    <tr>\n",
       "      <th>2</th>\n",
       "      <td>03/2021</td>\n",
       "      <td>2558</td>\n",
       "    </tr>\n",
       "    <tr>\n",
       "      <th>3</th>\n",
       "      <td>04/2021</td>\n",
       "      <td>2392</td>\n",
       "    </tr>\n",
       "    <tr>\n",
       "      <th>4</th>\n",
       "      <td>05/2021</td>\n",
       "      <td>2632</td>\n",
       "    </tr>\n",
       "    <tr>\n",
       "      <th>5</th>\n",
       "      <td>06/2021</td>\n",
       "      <td>2487</td>\n",
       "    </tr>\n",
       "    <tr>\n",
       "      <th>6</th>\n",
       "      <td>07/2021</td>\n",
       "      <td>3004</td>\n",
       "    </tr>\n",
       "    <tr>\n",
       "      <th>7</th>\n",
       "      <td>08/2021</td>\n",
       "      <td>3241</td>\n",
       "    </tr>\n",
       "    <tr>\n",
       "      <th>8</th>\n",
       "      <td>09/2021</td>\n",
       "      <td>3167</td>\n",
       "    </tr>\n",
       "    <tr>\n",
       "      <th>9</th>\n",
       "      <td>10/2021</td>\n",
       "      <td>3921</td>\n",
       "    </tr>\n",
       "    <tr>\n",
       "      <th>10</th>\n",
       "      <td>11/2021</td>\n",
       "      <td>4551</td>\n",
       "    </tr>\n",
       "    <tr>\n",
       "      <th>11</th>\n",
       "      <td>12/2021</td>\n",
       "      <td>4800</td>\n",
       "    </tr>\n",
       "    <tr>\n",
       "      <th>0</th>\n",
       "      <td>01/2022</td>\n",
       "      <td>4753</td>\n",
       "    </tr>\n",
       "    <tr>\n",
       "      <th>1</th>\n",
       "      <td>02/2022</td>\n",
       "      <td>3732</td>\n",
       "    </tr>\n",
       "    <tr>\n",
       "      <th>2</th>\n",
       "      <td>03/2022</td>\n",
       "      <td>3762</td>\n",
       "    </tr>\n",
       "    <tr>\n",
       "      <th>3</th>\n",
       "      <td>04/2022</td>\n",
       "      <td>3739</td>\n",
       "    </tr>\n",
       "    <tr>\n",
       "      <th>4</th>\n",
       "      <td>05/2022</td>\n",
       "      <td>3969</td>\n",
       "    </tr>\n",
       "    <tr>\n",
       "      <th>5</th>\n",
       "      <td>06/2022</td>\n",
       "      <td>3855</td>\n",
       "    </tr>\n",
       "    <tr>\n",
       "      <th>6</th>\n",
       "      <td>07/2022</td>\n",
       "      <td>4281</td>\n",
       "    </tr>\n",
       "    <tr>\n",
       "      <th>7</th>\n",
       "      <td>08/2022</td>\n",
       "      <td>4130</td>\n",
       "    </tr>\n",
       "    <tr>\n",
       "      <th>8</th>\n",
       "      <td>09/2022</td>\n",
       "      <td>4636</td>\n",
       "    </tr>\n",
       "    <tr>\n",
       "      <th>9</th>\n",
       "      <td>10/2022</td>\n",
       "      <td>5825</td>\n",
       "    </tr>\n",
       "    <tr>\n",
       "      <th>10</th>\n",
       "      <td>11/2022</td>\n",
       "      <td>5352</td>\n",
       "    </tr>\n",
       "    <tr>\n",
       "      <th>11</th>\n",
       "      <td>12/2022</td>\n",
       "      <td>5723</td>\n",
       "    </tr>\n",
       "    <tr>\n",
       "      <th>0</th>\n",
       "      <td>01/2023</td>\n",
       "      <td>5719</td>\n",
       "    </tr>\n",
       "    <tr>\n",
       "      <th>1</th>\n",
       "      <td>02/2023</td>\n",
       "      <td>4503</td>\n",
       "    </tr>\n",
       "    <tr>\n",
       "      <th>2</th>\n",
       "      <td>03/2023</td>\n",
       "      <td>4849</td>\n",
       "    </tr>\n",
       "    <tr>\n",
       "      <th>3</th>\n",
       "      <td>04/2023</td>\n",
       "      <td>2097</td>\n",
       "    </tr>\n",
       "  </tbody>\n",
       "</table>\n",
       "</div>"
      ],
      "text/plain": [
       "   created_month_year  requests\n",
       "0             01/2019      2263\n",
       "1             02/2019      1823\n",
       "2             03/2019      1871\n",
       "3             04/2019      1851\n",
       "4             05/2019      1819\n",
       "5             06/2019      1787\n",
       "6             07/2019      1827\n",
       "7             08/2019      1863\n",
       "8             09/2019      1778\n",
       "9             10/2019      2062\n",
       "10            11/2019      2164\n",
       "11            12/2019      2021\n",
       "0             01/2020      2173\n",
       "1             02/2020      2124\n",
       "2             03/2020      2057\n",
       "3             04/2020      3439\n",
       "4             05/2020      3039\n",
       "5             06/2020      2685\n",
       "6             07/2020      2879\n",
       "7             08/2020      3068\n",
       "8             09/2020      3080\n",
       "9             10/2020      3754\n",
       "10            11/2020      3512\n",
       "11            12/2020      3448\n",
       "0             01/2021      3189\n",
       "1             02/2021      2874\n",
       "2             03/2021      2558\n",
       "3             04/2021      2392\n",
       "4             05/2021      2632\n",
       "5             06/2021      2487\n",
       "6             07/2021      3004\n",
       "7             08/2021      3241\n",
       "8             09/2021      3167\n",
       "9             10/2021      3921\n",
       "10            11/2021      4551\n",
       "11            12/2021      4800\n",
       "0             01/2022      4753\n",
       "1             02/2022      3732\n",
       "2             03/2022      3762\n",
       "3             04/2022      3739\n",
       "4             05/2022      3969\n",
       "5             06/2022      3855\n",
       "6             07/2022      4281\n",
       "7             08/2022      4130\n",
       "8             09/2022      4636\n",
       "9             10/2022      5825\n",
       "10            11/2022      5352\n",
       "11            12/2022      5723\n",
       "0             01/2023      5719\n",
       "1             02/2023      4503\n",
       "2             03/2023      4849\n",
       "3             04/2023      2097"
      ]
     },
     "execution_count": 21,
     "metadata": {},
     "output_type": "execute_result"
    }
   ],
   "source": [
    "# copy this into Flourish\n",
    "monthly_counts"
   ]
  },
  {
   "cell_type": "markdown",
   "id": "b2875c97-2eef-4a7f-a49f-dcddd19a2495",
   "metadata": {},
   "source": [
    "## Daily analysis"
   ]
  },
  {
   "cell_type": "code",
   "execution_count": 31,
   "id": "d6a5e5e6-7f96-40c8-a619-c97dc69f2eba",
   "metadata": {},
   "outputs": [],
   "source": [
    "# group by day\n",
    "counts_by_day_2019 = df_2019.groupby('created_day').size().reset_index(name='requests')\n",
    "counts_by_day_2020 = df_2020.groupby('created_day').size().reset_index(name='requests')\n",
    "counts_by_day_2021 = df_2021.groupby('created_day').size().reset_index(name='requests')\n",
    "counts_by_day_2022 = df_2022.groupby('created_day').size().reset_index(name='requests')\n",
    "counts_by_day_2023 = df_2023.groupby('created_day').size().reset_index(name='requests')"
   ]
  },
  {
   "cell_type": "code",
   "execution_count": 32,
   "id": "be23f1c3-d89a-4112-a808-0dfded98beae",
   "metadata": {},
   "outputs": [],
   "source": [
    "# concatenate all daily data\n",
    "daily_counts = pd.concat([counts_by_day_2019,counts_by_day_2020,counts_by_day_2021,counts_by_day_2022,counts_by_day_2023])"
   ]
  },
  {
   "cell_type": "code",
   "execution_count": 33,
   "id": "dedf1f0e-12f2-4b45-af9a-da18220346b0",
   "metadata": {},
   "outputs": [],
   "source": [
    "# export daily counts to csv\n",
    "daily_counts.to_csv('processed/daily_counts_4.14.2023.csv')"
   ]
  },
  {
   "cell_type": "code",
   "execution_count": 34,
   "id": "89a41455-0a96-4bf9-ad5f-56b98b6f1ac6",
   "metadata": {},
   "outputs": [],
   "source": [
    "# average requests per day in 2023\n",
    "daily_counts['created_day'] = pd.to_datetime(daily_counts['created_day'])\n",
    "daily_counts['year'] = daily_counts['created_day'].dt.year"
   ]
  },
  {
   "cell_type": "code",
   "execution_count": 35,
   "id": "f60e830d-99d9-4a00-bfd6-2f12f464f159",
   "metadata": {},
   "outputs": [
    {
     "data": {
      "text/html": [
       "<div>\n",
       "<style scoped>\n",
       "    .dataframe tbody tr th:only-of-type {\n",
       "        vertical-align: middle;\n",
       "    }\n",
       "\n",
       "    .dataframe tbody tr th {\n",
       "        vertical-align: top;\n",
       "    }\n",
       "\n",
       "    .dataframe thead th {\n",
       "        text-align: right;\n",
       "    }\n",
       "</style>\n",
       "<table border=\"1\" class=\"dataframe\">\n",
       "  <thead>\n",
       "    <tr style=\"text-align: right;\">\n",
       "      <th></th>\n",
       "      <th>created_day</th>\n",
       "      <th>requests</th>\n",
       "      <th>year</th>\n",
       "    </tr>\n",
       "  </thead>\n",
       "  <tbody>\n",
       "    <tr>\n",
       "      <th>0</th>\n",
       "      <td>2019-01-01</td>\n",
       "      <td>78</td>\n",
       "      <td>2019</td>\n",
       "    </tr>\n",
       "    <tr>\n",
       "      <th>1</th>\n",
       "      <td>2019-01-02</td>\n",
       "      <td>58</td>\n",
       "      <td>2019</td>\n",
       "    </tr>\n",
       "    <tr>\n",
       "      <th>2</th>\n",
       "      <td>2019-01-03</td>\n",
       "      <td>57</td>\n",
       "      <td>2019</td>\n",
       "    </tr>\n",
       "    <tr>\n",
       "      <th>3</th>\n",
       "      <td>2019-01-04</td>\n",
       "      <td>66</td>\n",
       "      <td>2019</td>\n",
       "    </tr>\n",
       "    <tr>\n",
       "      <th>4</th>\n",
       "      <td>2019-01-05</td>\n",
       "      <td>96</td>\n",
       "      <td>2019</td>\n",
       "    </tr>\n",
       "  </tbody>\n",
       "</table>\n",
       "</div>"
      ],
      "text/plain": [
       "  created_day  requests  year\n",
       "0  2019-01-01        78  2019\n",
       "1  2019-01-02        58  2019\n",
       "2  2019-01-03        57  2019\n",
       "3  2019-01-04        66  2019\n",
       "4  2019-01-05        96  2019"
      ]
     },
     "execution_count": 35,
     "metadata": {},
     "output_type": "execute_result"
    }
   ],
   "source": [
    "daily_counts.head()"
   ]
  },
  {
   "cell_type": "code",
   "execution_count": 36,
   "id": "943c0b7b-e687-452c-a564-b2a0d4b8c482",
   "metadata": {},
   "outputs": [
    {
     "data": {
      "text/html": [
       "<div>\n",
       "<style scoped>\n",
       "    .dataframe tbody tr th:only-of-type {\n",
       "        vertical-align: middle;\n",
       "    }\n",
       "\n",
       "    .dataframe tbody tr th {\n",
       "        vertical-align: top;\n",
       "    }\n",
       "\n",
       "    .dataframe thead th {\n",
       "        text-align: right;\n",
       "    }\n",
       "</style>\n",
       "<table border=\"1\" class=\"dataframe\">\n",
       "  <thead>\n",
       "    <tr style=\"text-align: right;\">\n",
       "      <th></th>\n",
       "      <th>year</th>\n",
       "      <th>number of days</th>\n",
       "    </tr>\n",
       "  </thead>\n",
       "  <tbody>\n",
       "    <tr>\n",
       "      <th>0</th>\n",
       "      <td>2019</td>\n",
       "      <td>365</td>\n",
       "    </tr>\n",
       "    <tr>\n",
       "      <th>1</th>\n",
       "      <td>2020</td>\n",
       "      <td>365</td>\n",
       "    </tr>\n",
       "    <tr>\n",
       "      <th>2</th>\n",
       "      <td>2021</td>\n",
       "      <td>365</td>\n",
       "    </tr>\n",
       "    <tr>\n",
       "      <th>3</th>\n",
       "      <td>2022</td>\n",
       "      <td>365</td>\n",
       "    </tr>\n",
       "    <tr>\n",
       "      <th>4</th>\n",
       "      <td>2023</td>\n",
       "      <td>104</td>\n",
       "    </tr>\n",
       "  </tbody>\n",
       "</table>\n",
       "</div>"
      ],
      "text/plain": [
       "   year  number of days\n",
       "0  2019             365\n",
       "1  2020             365\n",
       "2  2021             365\n",
       "3  2022             365\n",
       "4  2023             104"
      ]
     },
     "execution_count": 36,
     "metadata": {},
     "output_type": "execute_result"
    }
   ],
   "source": [
    "daily_counts.groupby('year')['created_day'].count().reset_index(name='number of days')"
   ]
  },
  {
   "cell_type": "code",
   "execution_count": 37,
   "id": "18ffd253-8b9f-4445-8c8d-2cedcbae5951",
   "metadata": {},
   "outputs": [
    {
     "data": {
      "text/html": [
       "<div>\n",
       "<style scoped>\n",
       "    .dataframe tbody tr th:only-of-type {\n",
       "        vertical-align: middle;\n",
       "    }\n",
       "\n",
       "    .dataframe tbody tr th {\n",
       "        vertical-align: top;\n",
       "    }\n",
       "\n",
       "    .dataframe thead th {\n",
       "        text-align: right;\n",
       "    }\n",
       "</style>\n",
       "<table border=\"1\" class=\"dataframe\">\n",
       "  <thead>\n",
       "    <tr style=\"text-align: right;\">\n",
       "      <th></th>\n",
       "      <th>year</th>\n",
       "      <th>sum of requests</th>\n",
       "      <th>daily average</th>\n",
       "    </tr>\n",
       "  </thead>\n",
       "  <tbody>\n",
       "    <tr>\n",
       "      <th>0</th>\n",
       "      <td>2019</td>\n",
       "      <td>23129</td>\n",
       "      <td>63.367123</td>\n",
       "    </tr>\n",
       "    <tr>\n",
       "      <th>1</th>\n",
       "      <td>2020</td>\n",
       "      <td>35258</td>\n",
       "      <td>96.597260</td>\n",
       "    </tr>\n",
       "    <tr>\n",
       "      <th>2</th>\n",
       "      <td>2021</td>\n",
       "      <td>38816</td>\n",
       "      <td>106.345205</td>\n",
       "    </tr>\n",
       "    <tr>\n",
       "      <th>3</th>\n",
       "      <td>2022</td>\n",
       "      <td>53757</td>\n",
       "      <td>147.279452</td>\n",
       "    </tr>\n",
       "    <tr>\n",
       "      <th>4</th>\n",
       "      <td>2023</td>\n",
       "      <td>17168</td>\n",
       "      <td>47.035616</td>\n",
       "    </tr>\n",
       "  </tbody>\n",
       "</table>\n",
       "</div>"
      ],
      "text/plain": [
       "   year  sum of requests  daily average\n",
       "0  2019            23129      63.367123\n",
       "1  2020            35258      96.597260\n",
       "2  2021            38816     106.345205\n",
       "3  2022            53757     147.279452\n",
       "4  2023            17168      47.035616"
      ]
     },
     "execution_count": 37,
     "metadata": {},
     "output_type": "execute_result"
    }
   ],
   "source": [
    "g = daily_counts.groupby('year')['requests'].sum().reset_index(name='sum of requests')\n",
    "g['daily average'] = g['sum of requests']/365\n",
    "g"
   ]
  },
  {
   "cell_type": "code",
   "execution_count": 38,
   "id": "447f2beb-319e-439a-b0c1-c56b531a7fd7",
   "metadata": {},
   "outputs": [
    {
     "data": {
      "text/plain": [
       "165.07692307692307"
      ]
     },
     "execution_count": 38,
     "metadata": {},
     "output_type": "execute_result"
    }
   ],
   "source": [
    "# 2023 average number of requests per day\n",
    "17168/104"
   ]
  },
  {
   "cell_type": "markdown",
   "id": "504ffab0-4540-4bbb-9cc0-acdb5e1f9d16",
   "metadata": {},
   "source": [
    "## 2023 to date comparison analysis"
   ]
  },
  {
   "cell_type": "code",
   "execution_count": 39,
   "id": "27066ae1-9f02-4948-873c-ba2a7c80bc98",
   "metadata": {},
   "outputs": [
    {
     "data": {
      "text/plain": [
       "17168"
      ]
     },
     "execution_count": 39,
     "metadata": {},
     "output_type": "execute_result"
    }
   ],
   "source": [
    "len(df_2023)"
   ]
  },
  {
   "cell_type": "code",
   "execution_count": 40,
   "id": "f26f83e0-e5b5-402c-aee1-2bcddb55d1ff",
   "metadata": {},
   "outputs": [
    {
     "data": {
      "text/plain": [
       "13936"
      ]
     },
     "execution_count": 40,
     "metadata": {},
     "output_type": "execute_result"
    }
   ],
   "source": [
    "# 2022\n",
    "mask = (df_2022['created_day'] > '2022-01-01') & (df_2022['created_day'] <= '2022-04-14')\n",
    "df_2022_janapr = df_2022.loc[mask]\n",
    "len(df_2022_janapr)"
   ]
  },
  {
   "cell_type": "code",
   "execution_count": 43,
   "id": "0e111c30-5ad3-4b38-986e-0849d768f9aa",
   "metadata": {},
   "outputs": [
    {
     "data": {
      "text/plain": [
       "9609"
      ]
     },
     "execution_count": 43,
     "metadata": {},
     "output_type": "execute_result"
    }
   ],
   "source": [
    "# 2021\n",
    "mask = (df_2021['created_day'] > '2021-01-01') & (df_2021['created_day'] <= '2021-04-14')\n",
    "df_2021_janapr = df_2021.loc[mask]\n",
    "len(df_2021_janapr)"
   ]
  },
  {
   "cell_type": "code",
   "execution_count": 44,
   "id": "b42b93ea-016f-41cb-967b-242267a258a4",
   "metadata": {},
   "outputs": [
    {
     "data": {
      "text/plain": [
       "7865"
      ]
     },
     "execution_count": 44,
     "metadata": {},
     "output_type": "execute_result"
    }
   ],
   "source": [
    "# 2020\n",
    "mask = (df_2020['created_day'] > '2020-01-01') & (df_2020['created_day'] <= '2020-04-14')\n",
    "df_2020_janapr = df_2020.loc[mask]\n",
    "len(df_2020_janapr)"
   ]
  },
  {
   "cell_type": "code",
   "execution_count": 45,
   "id": "0eb04c0d-aea2-45d2-83c0-1753eb14a007",
   "metadata": {},
   "outputs": [
    {
     "data": {
      "text/plain": [
       "6763"
      ]
     },
     "execution_count": 45,
     "metadata": {},
     "output_type": "execute_result"
    }
   ],
   "source": [
    "# 2019\n",
    "mask = (df_2019['created_day'] > '2019-01-01') & (df_2019['created_day'] <= '2019-04-14')\n",
    "df_2019_janapr = df_2019.loc[mask]\n",
    "len(df_2019_janapr)"
   ]
  },
  {
   "cell_type": "code",
   "execution_count": 47,
   "id": "39577be0-0852-420a-b3ac-84d856ef8746",
   "metadata": {},
   "outputs": [
    {
     "data": {
      "text/html": [
       "<div>\n",
       "<style scoped>\n",
       "    .dataframe tbody tr th:only-of-type {\n",
       "        vertical-align: middle;\n",
       "    }\n",
       "\n",
       "    .dataframe tbody tr th {\n",
       "        vertical-align: top;\n",
       "    }\n",
       "\n",
       "    .dataframe thead th {\n",
       "        text-align: right;\n",
       "    }\n",
       "</style>\n",
       "<table border=\"1\" class=\"dataframe\">\n",
       "  <thead>\n",
       "    <tr style=\"text-align: right;\">\n",
       "      <th></th>\n",
       "      <th>Department</th>\n",
       "      <th>Service Request: Type Name</th>\n",
       "      <th>Service Request Number</th>\n",
       "      <th>Date/Time Opened</th>\n",
       "      <th>Date/Time Closed</th>\n",
       "      <th>Service Request Status</th>\n",
       "      <th>Street Block Number</th>\n",
       "      <th>Street Direction</th>\n",
       "      <th>Street Name</th>\n",
       "      <th>Street Type</th>\n",
       "      <th>...</th>\n",
       "      <th>Flex Question: Flex Question Name</th>\n",
       "      <th>Answer</th>\n",
       "      <th>Ward</th>\n",
       "      <th>Community Area</th>\n",
       "      <th>created_year</th>\n",
       "      <th>created_month</th>\n",
       "      <th>created_month_year</th>\n",
       "      <th>created_day</th>\n",
       "      <th>created_hour</th>\n",
       "      <th>closed_hour</th>\n",
       "    </tr>\n",
       "  </thead>\n",
       "  <tbody>\n",
       "    <tr>\n",
       "      <th>42180</th>\n",
       "      <td>DFSS - Department of Family &amp; Support Services</td>\n",
       "      <td>Shelter Request</td>\n",
       "      <td>SR22-00616632</td>\n",
       "      <td>2022-04-14 23:23:00</td>\n",
       "      <td>2022-04-15 06:24:00</td>\n",
       "      <td>Completed</td>\n",
       "      <td>7800</td>\n",
       "      <td>S</td>\n",
       "      <td>HALSTED</td>\n",
       "      <td>ST</td>\n",
       "      <td>...</td>\n",
       "      <td>What shelter was Client placed in ?</td>\n",
       "      <td>NaN</td>\n",
       "      <td>17.0</td>\n",
       "      <td>71.0</td>\n",
       "      <td>2022</td>\n",
       "      <td>4</td>\n",
       "      <td>04/2022</td>\n",
       "      <td>2022-04-14</td>\n",
       "      <td>23</td>\n",
       "      <td>06</td>\n",
       "    </tr>\n",
       "    <tr>\n",
       "      <th>42183</th>\n",
       "      <td>DFSS - Department of Family &amp; Support Services</td>\n",
       "      <td>Shelter Request</td>\n",
       "      <td>SR22-00616665</td>\n",
       "      <td>2022-04-14 23:40:00</td>\n",
       "      <td>2022-04-15 04:04:00</td>\n",
       "      <td>Completed</td>\n",
       "      <td>200</td>\n",
       "      <td>E</td>\n",
       "      <td>115TH</td>\n",
       "      <td>ST</td>\n",
       "      <td>...</td>\n",
       "      <td>What shelter was Client placed in ?</td>\n",
       "      <td>NaN</td>\n",
       "      <td>9.0</td>\n",
       "      <td>49.0</td>\n",
       "      <td>2022</td>\n",
       "      <td>4</td>\n",
       "      <td>04/2022</td>\n",
       "      <td>2022-04-14</td>\n",
       "      <td>23</td>\n",
       "      <td>04</td>\n",
       "    </tr>\n",
       "  </tbody>\n",
       "</table>\n",
       "<p>2 rows × 21 columns</p>\n",
       "</div>"
      ],
      "text/plain": [
       "                                           Department  \\\n",
       "42180  DFSS - Department of Family & Support Services   \n",
       "42183  DFSS - Department of Family & Support Services   \n",
       "\n",
       "      Service Request: Type Name Service Request Number    Date/Time Opened  \\\n",
       "42180            Shelter Request          SR22-00616632 2022-04-14 23:23:00   \n",
       "42183            Shelter Request          SR22-00616665 2022-04-14 23:40:00   \n",
       "\n",
       "         Date/Time Closed Service Request Status  Street Block Number  \\\n",
       "42180 2022-04-15 06:24:00              Completed                 7800   \n",
       "42183 2022-04-15 04:04:00              Completed                  200   \n",
       "\n",
       "      Street Direction Street Name Street Type  ...  \\\n",
       "42180                S     HALSTED          ST  ...   \n",
       "42183                E       115TH          ST  ...   \n",
       "\n",
       "         Flex Question: Flex Question Name Answer  Ward  Community Area  \\\n",
       "42180  What shelter was Client placed in ?    NaN  17.0            71.0   \n",
       "42183  What shelter was Client placed in ?    NaN   9.0            49.0   \n",
       "\n",
       "       created_year  created_month  created_month_year created_day  \\\n",
       "42180          2022              4             04/2022  2022-04-14   \n",
       "42183          2022              4             04/2022  2022-04-14   \n",
       "\n",
       "      created_hour closed_hour  \n",
       "42180           23          06  \n",
       "42183           23          04  \n",
       "\n",
       "[2 rows x 21 columns]"
      ]
     },
     "execution_count": 47,
     "metadata": {},
     "output_type": "execute_result"
    }
   ],
   "source": [
    "df_2022_janapr.tail(2)"
   ]
  },
  {
   "cell_type": "code",
   "execution_count": 48,
   "id": "cc1355b1-8c43-4ac4-af8a-44fa340999a7",
   "metadata": {},
   "outputs": [
    {
     "data": {
      "text/plain": [
       "3232"
      ]
     },
     "execution_count": 48,
     "metadata": {},
     "output_type": "execute_result"
    }
   ],
   "source": [
    "# 3000 more calls were placed in the first four months of this year than the same period of time last year\n",
    "len(df_2023) - len(df_2022_janapr)"
   ]
  },
  {
   "cell_type": "markdown",
   "id": "0fd70659-16fc-41fa-93fe-0ff6b74810fe",
   "metadata": {},
   "source": [
    "## Airport analysis"
   ]
  },
  {
   "cell_type": "code",
   "execution_count": 179,
   "id": "864c675e-16a3-4c91-8207-68cf53797cf5",
   "metadata": {},
   "outputs": [
    {
     "data": {
      "text/plain": [
       "215"
      ]
     },
     "execution_count": 179,
     "metadata": {},
     "output_type": "execute_result"
    }
   ],
   "source": [
    "# how many requests have come from O'Hare this year from Jan 1-Feb 22?\n",
    "ohare_2023 = df_2023[df_2023['Street Name'].astype(str).str.contains('OHARE')]\n",
    "\n",
    "ohare_2023['Service Request Number'].nunique()"
   ]
  },
  {
   "cell_type": "code",
   "execution_count": 180,
   "id": "15210435-7aa8-4bbd-8409-c46241f82292",
   "metadata": {},
   "outputs": [
    {
     "data": {
      "text/plain": [
       "Index(['Department', 'Service Request: Type Name', 'Service Request Number',\n",
       "       'Date/Time Opened', 'Date/Time Closed', 'Service Request Status',\n",
       "       'Street Block Number', 'Street Direction', 'Street Name', 'Street Type',\n",
       "       'Zip Code', 'Flex Question: Flex Question Name', 'Answer', 'Ward',\n",
       "       'Community Area', 'created_year', 'created_month', 'created_month_year',\n",
       "       'created_day', 'created_hour', 'closed_hour'],\n",
       "      dtype='object')"
      ]
     },
     "execution_count": 180,
     "metadata": {},
     "output_type": "execute_result"
    }
   ],
   "source": [
    "df_2023.columns"
   ]
  },
  {
   "cell_type": "code",
   "execution_count": 181,
   "id": "4b393457-83d3-4703-82a0-f73bf7be5361",
   "metadata": {},
   "outputs": [
    {
     "data": {
      "text/plain": [
       "126"
      ]
     },
     "execution_count": 181,
     "metadata": {},
     "output_type": "execute_result"
    }
   ],
   "source": [
    "# find how many ohare requests came during this same period in 2022\n",
    "ohare_2022_janapr = df_2022_janapr[df_2022_janapr['Street Name'].astype(str).str.contains('OHARE')]\n",
    "\n",
    "ohare_2022_janapr['Service Request Number'].nunique()"
   ]
  },
  {
   "cell_type": "code",
   "execution_count": 182,
   "id": "f361700d-941e-4777-a979-7f236c751a48",
   "metadata": {},
   "outputs": [
    {
     "data": {
      "text/plain": [
       "81"
      ]
     },
     "execution_count": 182,
     "metadata": {},
     "output_type": "execute_result"
    }
   ],
   "source": [
    "# what about 2021?\n",
    "ohare_2021_janapr = df_2021_janapr[df_2021_janapr['Street Name'].astype(str).str.contains('OHARE')]\n",
    "\n",
    "ohare_2021_janapr['Service Request Number'].nunique()"
   ]
  },
  {
   "cell_type": "code",
   "execution_count": 183,
   "id": "b733f5ae-bf50-484c-a984-178c298acbc6",
   "metadata": {},
   "outputs": [
    {
     "data": {
      "text/plain": [
       "34"
      ]
     },
     "execution_count": 183,
     "metadata": {},
     "output_type": "execute_result"
    }
   ],
   "source": [
    "# what about 2020?\n",
    "ohare_2020_janapr = df_2020_janapr[df_2020_janapr['Street Name'].astype(str).str.contains('OHARE')]\n",
    "\n",
    "ohare_2020_janapr['Service Request Number'].nunique()"
   ]
  },
  {
   "cell_type": "code",
   "execution_count": 184,
   "id": "a2b0295a-c059-4dd2-a91f-05dba99e8505",
   "metadata": {},
   "outputs": [
    {
     "data": {
      "text/plain": [
       "2"
      ]
     },
     "execution_count": 184,
     "metadata": {},
     "output_type": "execute_result"
    }
   ],
   "source": [
    "# what about 2019?\n",
    "ohare_2019_janapr = df_2019_janapr[df_2019_janapr['Street Name'].astype(str).str.contains('OHARE')]\n",
    "\n",
    "ohare_2019_janapr['Service Request Number'].nunique()"
   ]
  },
  {
   "cell_type": "markdown",
   "id": "ce13f36b-2254-47ce-a993-d7b98263139e",
   "metadata": {},
   "source": [
    "## Successful shelter placement analysis"
   ]
  },
  {
   "cell_type": "markdown",
   "id": "cea0c1d8-3897-4c04-b105-91f94139f776",
   "metadata": {},
   "source": [
    "Activity Outcome approach"
   ]
  },
  {
   "cell_type": "code",
   "execution_count": 49,
   "id": "9c6804f1-1536-4e3c-b18d-5e95af75e8f8",
   "metadata": {},
   "outputs": [],
   "source": [
    "# create a unique activity outcomes df for each year\n",
    "df_2023_activity = df_2023_copy.loc[df_2023_copy['Flex Question: Flex Question Name'] == 'Activity Outcome']\n",
    "df_2022_activity = df_2022_copy.loc[df_2022_copy['Flex Question: Flex Question Name'] == 'Activity Outcome']\n",
    "df_2021_activity = df_2021_copy.loc[df_2021_copy['Flex Question: Flex Question Name'] == 'Activity Outcome']\n",
    "df_2020_activity = df_2020_copy.loc[df_2020_copy['Flex Question: Flex Question Name'] == 'Activity Outcome']\n",
    "df_2019_activity = df_2019_copy.loc[df_2019_copy['Flex Question: Flex Question Name'] == 'Activity Outcome']"
   ]
  },
  {
   "cell_type": "code",
   "execution_count": 50,
   "id": "57d2ea18-b9fc-4869-8c76-d55c7f4abe8d",
   "metadata": {},
   "outputs": [
    {
     "name": "stdout",
     "output_type": "stream",
     "text": [
      "The percent of unique requests with no activity outcome row in 2023 was: 0.22105079217148182\n",
      "The percent of unique requests with no activity outcome row in 2022 was: 0.0761761258998828\n",
      "The percent of unique requests with no activity outcome row in 2021 was: 0.062448474855729595\n",
      "The percent of unique requests with no activity outcome row in 2020 was: 0.009983549832662092\n",
      "The percent of unique requests with no activity outcome row in 2019 was: 0.18249816248000345\n"
     ]
    }
   ],
   "source": [
    "# what percent of requests don't have an Activity Outcome row?\n",
    "print('The percent of unique requests with no activity outcome row in 2023 was:', (len(df_2023) - len(df_2023_activity))/len(df_2023))\n",
    "print('The percent of unique requests with no activity outcome row in 2022 was:', (len(df_2022) - len(df_2022_activity))/len(df_2022))\n",
    "print('The percent of unique requests with no activity outcome row in 2021 was:', (len(df_2021) - len(df_2021_activity))/len(df_2021))\n",
    "print('The percent of unique requests with no activity outcome row in 2020 was:', (len(df_2020) - len(df_2020_activity))/len(df_2020))\n",
    "print('The percent of unique requests with no activity outcome row in 2019 was:', (len(df_2019) - len(df_2019_activity))/len(df_2019))"
   ]
  },
  {
   "cell_type": "code",
   "execution_count": 199,
   "id": "f80775bf-a28a-4b08-8086-9803237800a1",
   "metadata": {},
   "outputs": [
    {
     "data": {
      "text/plain": [
       "13373"
      ]
     },
     "execution_count": 199,
     "metadata": {},
     "output_type": "execute_result"
    }
   ],
   "source": [
    "len(df_2023_activity)"
   ]
  },
  {
   "cell_type": "code",
   "execution_count": 200,
   "id": "41643605-e5f9-4cf7-aaea-05cf0a1c63fd",
   "metadata": {},
   "outputs": [
    {
     "data": {
      "text/plain": [
       "49662"
      ]
     },
     "execution_count": 200,
     "metadata": {},
     "output_type": "execute_result"
    }
   ],
   "source": [
    "len(df_2022_activity)"
   ]
  },
  {
   "cell_type": "code",
   "execution_count": 201,
   "id": "edba09e8-c9b7-42c1-a5e7-2a7702ae11a0",
   "metadata": {},
   "outputs": [
    {
     "data": {
      "text/plain": [
       "36392"
      ]
     },
     "execution_count": 201,
     "metadata": {},
     "output_type": "execute_result"
    }
   ],
   "source": [
    "len(df_2021_activity)"
   ]
  },
  {
   "cell_type": "code",
   "execution_count": 202,
   "id": "02dbe607-80f5-4bbf-abdc-14a6130150ae",
   "metadata": {},
   "outputs": [
    {
     "data": {
      "text/plain": [
       "34906"
      ]
     },
     "execution_count": 202,
     "metadata": {},
     "output_type": "execute_result"
    }
   ],
   "source": [
    "len(df_2020_activity)"
   ]
  },
  {
   "cell_type": "code",
   "execution_count": 203,
   "id": "20989068-fbfa-4c88-a031-03398360f1cb",
   "metadata": {},
   "outputs": [
    {
     "data": {
      "text/plain": [
       "18908"
      ]
     },
     "execution_count": 203,
     "metadata": {},
     "output_type": "execute_result"
    }
   ],
   "source": [
    "len(df_2019_activity)"
   ]
  },
  {
   "cell_type": "code",
   "execution_count": 54,
   "id": "f432f4cb-b954-44cc-ab5d-aa22ec94e072",
   "metadata": {},
   "outputs": [
    {
     "data": {
      "text/html": [
       "<div>\n",
       "<style scoped>\n",
       "    .dataframe tbody tr th:only-of-type {\n",
       "        vertical-align: middle;\n",
       "    }\n",
       "\n",
       "    .dataframe tbody tr th {\n",
       "        vertical-align: top;\n",
       "    }\n",
       "\n",
       "    .dataframe thead th {\n",
       "        text-align: right;\n",
       "    }\n",
       "</style>\n",
       "<table border=\"1\" class=\"dataframe\">\n",
       "  <thead>\n",
       "    <tr style=\"text-align: right;\">\n",
       "      <th></th>\n",
       "      <th>Answer</th>\n",
       "      <th>Count of Unique Calls</th>\n",
       "      <th>Percent of Unique Calls</th>\n",
       "    </tr>\n",
       "  </thead>\n",
       "  <tbody>\n",
       "    <tr>\n",
       "      <th>0</th>\n",
       "      <td>Client(s) Placed in Shelter</td>\n",
       "      <td>2730</td>\n",
       "      <td>0.159017</td>\n",
       "    </tr>\n",
       "    <tr>\n",
       "      <th>1</th>\n",
       "      <td>Completed</td>\n",
       "      <td>8523</td>\n",
       "      <td>0.496447</td>\n",
       "    </tr>\n",
       "    <tr>\n",
       "      <th>2</th>\n",
       "      <td>Found Alternate Shelter</td>\n",
       "      <td>216</td>\n",
       "      <td>0.012582</td>\n",
       "    </tr>\n",
       "    <tr>\n",
       "      <th>3</th>\n",
       "      <td>Gone on Arrival</td>\n",
       "      <td>173</td>\n",
       "      <td>0.010077</td>\n",
       "    </tr>\n",
       "    <tr>\n",
       "      <th>4</th>\n",
       "      <td>Refused Service</td>\n",
       "      <td>158</td>\n",
       "      <td>0.009203</td>\n",
       "    </tr>\n",
       "    <tr>\n",
       "      <th>5</th>\n",
       "      <td>Request Cancelled</td>\n",
       "      <td>1573</td>\n",
       "      <td>0.091624</td>\n",
       "    </tr>\n",
       "  </tbody>\n",
       "</table>\n",
       "</div>"
      ],
      "text/plain": [
       "                        Answer  Count of Unique Calls  Percent of Unique Calls\n",
       "0  Client(s) Placed in Shelter                   2730                 0.159017\n",
       "1                    Completed                   8523                 0.496447\n",
       "2      Found Alternate Shelter                    216                 0.012582\n",
       "3              Gone on Arrival                    173                 0.010077\n",
       "4              Refused Service                    158                 0.009203\n",
       "5            Request Cancelled                   1573                 0.091624"
      ]
     },
     "execution_count": 54,
     "metadata": {},
     "output_type": "execute_result"
    }
   ],
   "source": [
    "# find success rates out of total calls (including calls with no activity outcome)\n",
    "g = df_2023_activity.groupby('Answer').size().reset_index(name = 'Count of Unique Calls')\n",
    "g['Percent of Unique Calls'] = g['Count of Unique Calls']/len(df_2023)\n",
    "g"
   ]
  },
  {
   "cell_type": "code",
   "execution_count": 55,
   "id": "ac340925-010a-44cc-8e58-b1b74de6acbd",
   "metadata": {},
   "outputs": [
    {
     "data": {
      "text/plain": [
       "13373"
      ]
     },
     "execution_count": 55,
     "metadata": {},
     "output_type": "execute_result"
    }
   ],
   "source": [
    "g['Count of Unique Calls'].sum()"
   ]
  },
  {
   "cell_type": "code",
   "execution_count": 56,
   "id": "6649c220-b66d-44f2-8c1e-ef6e054ef6e2",
   "metadata": {},
   "outputs": [
    {
     "data": {
      "text/plain": [
       "53757"
      ]
     },
     "execution_count": 56,
     "metadata": {},
     "output_type": "execute_result"
    }
   ],
   "source": [
    "# the number of unique requests by SR number was 53,757\n",
    "len(df_2022)"
   ]
  },
  {
   "cell_type": "code",
   "execution_count": 57,
   "id": "9e947a66-5009-48fb-87b8-35a5d9a1057a",
   "metadata": {},
   "outputs": [
    {
     "data": {
      "text/html": [
       "<div>\n",
       "<style scoped>\n",
       "    .dataframe tbody tr th:only-of-type {\n",
       "        vertical-align: middle;\n",
       "    }\n",
       "\n",
       "    .dataframe tbody tr th {\n",
       "        vertical-align: top;\n",
       "    }\n",
       "\n",
       "    .dataframe thead th {\n",
       "        text-align: right;\n",
       "    }\n",
       "</style>\n",
       "<table border=\"1\" class=\"dataframe\">\n",
       "  <thead>\n",
       "    <tr style=\"text-align: right;\">\n",
       "      <th></th>\n",
       "      <th>Answer</th>\n",
       "      <th>Count of Unique Calls</th>\n",
       "      <th>Percent of Unique Calls</th>\n",
       "    </tr>\n",
       "  </thead>\n",
       "  <tbody>\n",
       "    <tr>\n",
       "      <th>0</th>\n",
       "      <td>Client(s) Placed in Shelter</td>\n",
       "      <td>7586</td>\n",
       "      <td>0.141117</td>\n",
       "    </tr>\n",
       "    <tr>\n",
       "      <th>1</th>\n",
       "      <td>Completed</td>\n",
       "      <td>14092</td>\n",
       "      <td>0.262143</td>\n",
       "    </tr>\n",
       "    <tr>\n",
       "      <th>2</th>\n",
       "      <td>Found Alternate Shelter</td>\n",
       "      <td>1872</td>\n",
       "      <td>0.034823</td>\n",
       "    </tr>\n",
       "    <tr>\n",
       "      <th>3</th>\n",
       "      <td>Gone on Arrival</td>\n",
       "      <td>1023</td>\n",
       "      <td>0.019030</td>\n",
       "    </tr>\n",
       "    <tr>\n",
       "      <th>4</th>\n",
       "      <td>Placed in a Hotel</td>\n",
       "      <td>3</td>\n",
       "      <td>0.000056</td>\n",
       "    </tr>\n",
       "    <tr>\n",
       "      <th>5</th>\n",
       "      <td>Refused Service</td>\n",
       "      <td>922</td>\n",
       "      <td>0.017151</td>\n",
       "    </tr>\n",
       "    <tr>\n",
       "      <th>6</th>\n",
       "      <td>Request Cancelled</td>\n",
       "      <td>24164</td>\n",
       "      <td>0.449504</td>\n",
       "    </tr>\n",
       "  </tbody>\n",
       "</table>\n",
       "</div>"
      ],
      "text/plain": [
       "                        Answer  Count of Unique Calls  Percent of Unique Calls\n",
       "0  Client(s) Placed in Shelter                   7586                 0.141117\n",
       "1                    Completed                  14092                 0.262143\n",
       "2      Found Alternate Shelter                   1872                 0.034823\n",
       "3              Gone on Arrival                   1023                 0.019030\n",
       "4            Placed in a Hotel                      3                 0.000056\n",
       "5              Refused Service                    922                 0.017151\n",
       "6            Request Cancelled                  24164                 0.449504"
      ]
     },
     "execution_count": 57,
     "metadata": {},
     "output_type": "execute_result"
    }
   ],
   "source": [
    "g = df_2022_activity.groupby('Answer').size().reset_index(name = 'Count of Unique Calls')\n",
    "g['Percent of Unique Calls'] = g['Count of Unique Calls']/len(df_2022)\n",
    "g"
   ]
  },
  {
   "cell_type": "code",
   "execution_count": 58,
   "id": "7614657f-13d7-4314-b880-3364611e27d4",
   "metadata": {},
   "outputs": [
    {
     "data": {
      "text/plain": [
       "49662"
      ]
     },
     "execution_count": 58,
     "metadata": {},
     "output_type": "execute_result"
    }
   ],
   "source": [
    "g['Count of Unique Calls'].sum()"
   ]
  },
  {
   "cell_type": "code",
   "execution_count": 192,
   "id": "bca618f1-9b8c-4191-b591-4f2ff0ba6f00",
   "metadata": {},
   "outputs": [
    {
     "data": {
      "text/plain": [
       "36392"
      ]
     },
     "execution_count": 192,
     "metadata": {},
     "output_type": "execute_result"
    }
   ],
   "source": [
    "# the number of unique requests by SR number was 38,816\n",
    "len(df_2021_activity)"
   ]
  },
  {
   "cell_type": "code",
   "execution_count": 59,
   "id": "b4a19a46-4d43-4226-ac18-d90070e09871",
   "metadata": {},
   "outputs": [
    {
     "data": {
      "text/html": [
       "<div>\n",
       "<style scoped>\n",
       "    .dataframe tbody tr th:only-of-type {\n",
       "        vertical-align: middle;\n",
       "    }\n",
       "\n",
       "    .dataframe tbody tr th {\n",
       "        vertical-align: top;\n",
       "    }\n",
       "\n",
       "    .dataframe thead th {\n",
       "        text-align: right;\n",
       "    }\n",
       "</style>\n",
       "<table border=\"1\" class=\"dataframe\">\n",
       "  <thead>\n",
       "    <tr style=\"text-align: right;\">\n",
       "      <th></th>\n",
       "      <th>Answer</th>\n",
       "      <th>Count of Unique Calls</th>\n",
       "      <th>Percent of Unique Calls</th>\n",
       "    </tr>\n",
       "  </thead>\n",
       "  <tbody>\n",
       "    <tr>\n",
       "      <th>0</th>\n",
       "      <td>Client(s) Placed in Shelter</td>\n",
       "      <td>3850</td>\n",
       "      <td>0.099186</td>\n",
       "    </tr>\n",
       "    <tr>\n",
       "      <th>1</th>\n",
       "      <td>Completed</td>\n",
       "      <td>6406</td>\n",
       "      <td>0.165035</td>\n",
       "    </tr>\n",
       "    <tr>\n",
       "      <th>2</th>\n",
       "      <td>Found Alternate Shelter</td>\n",
       "      <td>1619</td>\n",
       "      <td>0.041710</td>\n",
       "    </tr>\n",
       "    <tr>\n",
       "      <th>3</th>\n",
       "      <td>Gone on Arrival</td>\n",
       "      <td>799</td>\n",
       "      <td>0.020584</td>\n",
       "    </tr>\n",
       "    <tr>\n",
       "      <th>4</th>\n",
       "      <td>Placed in a Hotel</td>\n",
       "      <td>15</td>\n",
       "      <td>0.000386</td>\n",
       "    </tr>\n",
       "    <tr>\n",
       "      <th>5</th>\n",
       "      <td>Placed in a Shelter</td>\n",
       "      <td>1804</td>\n",
       "      <td>0.046476</td>\n",
       "    </tr>\n",
       "    <tr>\n",
       "      <th>6</th>\n",
       "      <td>Refused Service</td>\n",
       "      <td>769</td>\n",
       "      <td>0.019811</td>\n",
       "    </tr>\n",
       "    <tr>\n",
       "      <th>7</th>\n",
       "      <td>Request Cancelled</td>\n",
       "      <td>21130</td>\n",
       "      <td>0.544363</td>\n",
       "    </tr>\n",
       "  </tbody>\n",
       "</table>\n",
       "</div>"
      ],
      "text/plain": [
       "                        Answer  Count of Unique Calls  Percent of Unique Calls\n",
       "0  Client(s) Placed in Shelter                   3850                 0.099186\n",
       "1                    Completed                   6406                 0.165035\n",
       "2      Found Alternate Shelter                   1619                 0.041710\n",
       "3              Gone on Arrival                    799                 0.020584\n",
       "4            Placed in a Hotel                     15                 0.000386\n",
       "5          Placed in a Shelter                   1804                 0.046476\n",
       "6              Refused Service                    769                 0.019811\n",
       "7            Request Cancelled                  21130                 0.544363"
      ]
     },
     "execution_count": 59,
     "metadata": {},
     "output_type": "execute_result"
    }
   ],
   "source": [
    "# NOTE: client placed in shelter is spelled differently so it's two catagories that need to be combined\n",
    "g = df_2021_activity.groupby('Answer').size().reset_index(name = 'Count of Unique Calls')\n",
    "g['Percent of Unique Calls'] = g['Count of Unique Calls']/len(df_2021)\n",
    "g"
   ]
  },
  {
   "cell_type": "code",
   "execution_count": 60,
   "id": "f9ffaee7-ed4f-4311-aa89-5424796dc801",
   "metadata": {},
   "outputs": [
    {
     "data": {
      "text/plain": [
       "0.145661582852432"
      ]
     },
     "execution_count": 60,
     "metadata": {},
     "output_type": "execute_result"
    }
   ],
   "source": [
    "# combined rate for client placed in shelter in 2021\n",
    "5654/len(df_2021)"
   ]
  },
  {
   "cell_type": "code",
   "execution_count": 194,
   "id": "561eb5c5-12e2-4a2c-aae8-6d0b2ee37bca",
   "metadata": {},
   "outputs": [
    {
     "data": {
      "text/plain": [
       "36392"
      ]
     },
     "execution_count": 194,
     "metadata": {},
     "output_type": "execute_result"
    }
   ],
   "source": [
    "g['Count of Unique Calls'].sum()"
   ]
  },
  {
   "cell_type": "code",
   "execution_count": 62,
   "id": "28709a0e-29c8-403a-97b2-2112609cfd6e",
   "metadata": {},
   "outputs": [
    {
     "data": {
      "text/html": [
       "<div>\n",
       "<style scoped>\n",
       "    .dataframe tbody tr th:only-of-type {\n",
       "        vertical-align: middle;\n",
       "    }\n",
       "\n",
       "    .dataframe tbody tr th {\n",
       "        vertical-align: top;\n",
       "    }\n",
       "\n",
       "    .dataframe thead th {\n",
       "        text-align: right;\n",
       "    }\n",
       "</style>\n",
       "<table border=\"1\" class=\"dataframe\">\n",
       "  <thead>\n",
       "    <tr style=\"text-align: right;\">\n",
       "      <th></th>\n",
       "      <th>Answer</th>\n",
       "      <th>Count of Unique Calls</th>\n",
       "      <th>Percent of Unique Calls</th>\n",
       "    </tr>\n",
       "  </thead>\n",
       "  <tbody>\n",
       "    <tr>\n",
       "      <th>0</th>\n",
       "      <td>Completed</td>\n",
       "      <td>7332</td>\n",
       "      <td>0.207953</td>\n",
       "    </tr>\n",
       "    <tr>\n",
       "      <th>1</th>\n",
       "      <td>Found Alternate Shelter</td>\n",
       "      <td>438</td>\n",
       "      <td>0.012423</td>\n",
       "    </tr>\n",
       "    <tr>\n",
       "      <th>2</th>\n",
       "      <td>Gone on Arrival</td>\n",
       "      <td>3544</td>\n",
       "      <td>0.100516</td>\n",
       "    </tr>\n",
       "    <tr>\n",
       "      <th>3</th>\n",
       "      <td>Placed in a Hotel</td>\n",
       "      <td>8</td>\n",
       "      <td>0.000227</td>\n",
       "    </tr>\n",
       "    <tr>\n",
       "      <th>4</th>\n",
       "      <td>Placed in a Shelter</td>\n",
       "      <td>7527</td>\n",
       "      <td>0.213483</td>\n",
       "    </tr>\n",
       "    <tr>\n",
       "      <th>5</th>\n",
       "      <td>Refused Service</td>\n",
       "      <td>1512</td>\n",
       "      <td>0.042884</td>\n",
       "    </tr>\n",
       "    <tr>\n",
       "      <th>6</th>\n",
       "      <td>Request Cancelled</td>\n",
       "      <td>14545</td>\n",
       "      <td>0.412530</td>\n",
       "    </tr>\n",
       "  </tbody>\n",
       "</table>\n",
       "</div>"
      ],
      "text/plain": [
       "                    Answer  Count of Unique Calls  Percent of Unique Calls\n",
       "0                Completed                   7332                 0.207953\n",
       "1  Found Alternate Shelter                    438                 0.012423\n",
       "2          Gone on Arrival                   3544                 0.100516\n",
       "3        Placed in a Hotel                      8                 0.000227\n",
       "4      Placed in a Shelter                   7527                 0.213483\n",
       "5          Refused Service                   1512                 0.042884\n",
       "6        Request Cancelled                  14545                 0.412530"
      ]
     },
     "execution_count": 62,
     "metadata": {},
     "output_type": "execute_result"
    }
   ],
   "source": [
    "g = df_2020_activity.groupby('Answer').size().reset_index(name = 'Count of Unique Calls')\n",
    "g['Percent of Unique Calls'] = g['Count of Unique Calls']/len(df_2020)\n",
    "g"
   ]
  },
  {
   "cell_type": "code",
   "execution_count": 63,
   "id": "0c177281-daca-4aac-aff6-0dfad6f4bf4d",
   "metadata": {},
   "outputs": [
    {
     "data": {
      "text/plain": [
       "23129"
      ]
     },
     "execution_count": 63,
     "metadata": {},
     "output_type": "execute_result"
    }
   ],
   "source": [
    "# the number of unique requests by SR number was 23,168\n",
    "len(df_2019)"
   ]
  },
  {
   "cell_type": "code",
   "execution_count": 71,
   "id": "674c85b4-1f81-430e-a2c3-b08bbf4b3036",
   "metadata": {},
   "outputs": [
    {
     "data": {
      "text/html": [
       "<div>\n",
       "<style scoped>\n",
       "    .dataframe tbody tr th:only-of-type {\n",
       "        vertical-align: middle;\n",
       "    }\n",
       "\n",
       "    .dataframe tbody tr th {\n",
       "        vertical-align: top;\n",
       "    }\n",
       "\n",
       "    .dataframe thead th {\n",
       "        text-align: right;\n",
       "    }\n",
       "</style>\n",
       "<table border=\"1\" class=\"dataframe\">\n",
       "  <thead>\n",
       "    <tr style=\"text-align: right;\">\n",
       "      <th></th>\n",
       "      <th>Answer</th>\n",
       "      <th>Count of Unique Calls</th>\n",
       "      <th>Percent of Unique Calls_Activity Mar-Dec</th>\n",
       "      <th>Percent of Unique Calls_All</th>\n",
       "    </tr>\n",
       "  </thead>\n",
       "  <tbody>\n",
       "    <tr>\n",
       "      <th>0</th>\n",
       "      <td>Completed</td>\n",
       "      <td>5160</td>\n",
       "      <td>0.272900</td>\n",
       "      <td>0.223097</td>\n",
       "    </tr>\n",
       "    <tr>\n",
       "      <th>1</th>\n",
       "      <td>Found Alternate Shelter</td>\n",
       "      <td>111</td>\n",
       "      <td>0.005871</td>\n",
       "      <td>0.004799</td>\n",
       "    </tr>\n",
       "    <tr>\n",
       "      <th>2</th>\n",
       "      <td>Gone on Arrival</td>\n",
       "      <td>2944</td>\n",
       "      <td>0.155701</td>\n",
       "      <td>0.127286</td>\n",
       "    </tr>\n",
       "    <tr>\n",
       "      <th>3</th>\n",
       "      <td>Placed in a Hotel</td>\n",
       "      <td>14</td>\n",
       "      <td>0.000740</td>\n",
       "      <td>0.000605</td>\n",
       "    </tr>\n",
       "    <tr>\n",
       "      <th>4</th>\n",
       "      <td>Placed in a Shelter</td>\n",
       "      <td>8231</td>\n",
       "      <td>0.435318</td>\n",
       "      <td>0.355874</td>\n",
       "    </tr>\n",
       "    <tr>\n",
       "      <th>5</th>\n",
       "      <td>Refused Service</td>\n",
       "      <td>1331</td>\n",
       "      <td>0.070393</td>\n",
       "      <td>0.057547</td>\n",
       "    </tr>\n",
       "    <tr>\n",
       "      <th>6</th>\n",
       "      <td>Request Cancelled</td>\n",
       "      <td>1116</td>\n",
       "      <td>0.059023</td>\n",
       "      <td>0.048251</td>\n",
       "    </tr>\n",
       "  </tbody>\n",
       "</table>\n",
       "</div>"
      ],
      "text/plain": [
       "                    Answer  Count of Unique Calls  \\\n",
       "0                Completed                   5160   \n",
       "1  Found Alternate Shelter                    111   \n",
       "2          Gone on Arrival                   2944   \n",
       "3        Placed in a Hotel                     14   \n",
       "4      Placed in a Shelter                   8231   \n",
       "5          Refused Service                   1331   \n",
       "6        Request Cancelled                   1116   \n",
       "\n",
       "   Percent of Unique Calls_Activity Mar-Dec  Percent of Unique Calls_All  \n",
       "0                                  0.272900                     0.223097  \n",
       "1                                  0.005871                     0.004799  \n",
       "2                                  0.155701                     0.127286  \n",
       "3                                  0.000740                     0.000605  \n",
       "4                                  0.435318                     0.355874  \n",
       "5                                  0.070393                     0.057547  \n",
       "6                                  0.059023                     0.048251  "
      ]
     },
     "execution_count": 71,
     "metadata": {},
     "output_type": "execute_result"
    }
   ],
   "source": [
    "# 2019 is different because Jan-Feb don't have any activity outcomes\n",
    "# I feel comfortable sayin more than 35%\n",
    "g = df_2019_activity.groupby('Answer').size().reset_index(name = 'Count of Unique Calls')\n",
    "g['Percent of Unique Calls_Activity Mar-Dec'] = g['Count of Unique Calls']/len(df_2019_activity)\n",
    "g['Percent of Unique Calls_All'] = g['Count of Unique Calls']/len(df_2019)\n",
    "g"
   ]
  },
  {
   "cell_type": "markdown",
   "id": "5161a2f4-9902-4358-9cef-0ee5f344c876",
   "metadata": {},
   "source": [
    "## Shelter name analysis"
   ]
  },
  {
   "cell_type": "code",
   "execution_count": 72,
   "id": "7e9debfd-995f-4e76-9577-1999cc7975cd",
   "metadata": {},
   "outputs": [],
   "source": [
    "# create a unique shelter name df for each year\n",
    "df_2023_shelter = df_2023_copy.loc[df_2023_copy['Flex Question: Flex Question Name'] == 'What shelter was Client placed in ?']\n",
    "df_2022_shelter = df_2022_copy.loc[df_2022_copy['Flex Question: Flex Question Name'] == 'What shelter was Client placed in ?']\n",
    "df_2021_shelter = df_2021_copy.loc[df_2021_copy['Flex Question: Flex Question Name'] == 'What shelter was Client placed in ?']\n",
    "df_2020_shelter = df_2020_copy.loc[df_2020_copy['Flex Question: Flex Question Name'] == 'What shelter was Client placed in ?']\n",
    "df_2019_shelter = df_2019_copy.loc[df_2019_copy['Flex Question: Flex Question Name'] == 'What shelter was Client placed in ?']"
   ]
  },
  {
   "cell_type": "code",
   "execution_count": 73,
   "id": "9958a458-c9a7-4efc-9d62-5a6a269bee88",
   "metadata": {},
   "outputs": [
    {
     "name": "stdout",
     "output_type": "stream",
     "text": [
      "The number of rows in the shelter name dataframe for 2023 is: 17171\n",
      "The number of rows in the shelter name dataframe for 2022 is: 53757\n",
      "The number of rows in the shelter name dataframe for 2021 is: 38816\n",
      "The number of rows in the shelter name dataframe for 2020 is: 35258\n",
      "The number of rows in the shelter name dataframe for 2019 is: 19118\n"
     ]
    }
   ],
   "source": [
    "# how many rows are in the shelter name dfs?\n",
    "print('The number of rows in the shelter name dataframe for 2023 is:', len(df_2023_shelter))\n",
    "print('The number of rows in the shelter name dataframe for 2022 is:', len(df_2022_shelter))\n",
    "print('The number of rows in the shelter name dataframe for 2021 is:', len(df_2021_shelter))\n",
    "print('The number of rows in the shelter name dataframe for 2020 is:', len(df_2020_shelter))\n",
    "print('The number of rows in the shelter name dataframe for 2019 is:', len(df_2019_shelter))"
   ]
  },
  {
   "cell_type": "markdown",
   "id": "6e006b43-d60e-421a-ac74-80572621a184",
   "metadata": {},
   "source": [
    "## Time to completion analysis"
   ]
  },
  {
   "cell_type": "code",
   "execution_count": 74,
   "id": "b70aa17b-7487-48bb-822d-254b422a9349",
   "metadata": {},
   "outputs": [],
   "source": [
    "# create copies of the dfs for this analysis\n",
    "df_2023_elapsed_all = df_2023.copy()\n",
    "df_2022_elapsed_all = df_2022.copy()\n",
    "df_2021_elapsed_all = df_2021.copy()\n",
    "df_2020_elapsed_all = df_2020.copy()\n",
    "df_2019_elapsed_all = df_2019.copy()"
   ]
  },
  {
   "cell_type": "code",
   "execution_count": 75,
   "id": "a1b9f3dd-bec5-4ccf-b1d0-dd6f72c7cb16",
   "metadata": {},
   "outputs": [],
   "source": [
    "# create a time elapsed column for each year\n",
    "df_2023_elapsed_all['time elapsed'] = df_2023_elapsed_all['Date/Time Opened'] - df_2023_elapsed_all['Date/Time Closed']\n",
    "df_2022_elapsed_all['time elapsed'] = df_2022_elapsed_all['Date/Time Opened'] - df_2022_elapsed_all['Date/Time Closed']\n",
    "df_2021_elapsed_all['time elapsed'] = df_2021_elapsed_all['Date/Time Opened'] - df_2021_elapsed_all['Date/Time Closed']\n",
    "df_2020_elapsed_all['time elapsed'] = df_2020_elapsed_all['Date/Time Opened'] - df_2020_elapsed_all['Date/Time Closed']\n",
    "df_2019_elapsed_all['time elapsed'] = df_2019_elapsed_all['Date/Time Opened'] - df_2019_elapsed_all['Date/Time Closed']"
   ]
  },
  {
   "cell_type": "code",
   "execution_count": 83,
   "id": "f06ace9e-4857-4573-8b7e-bf85358ce21b",
   "metadata": {},
   "outputs": [
    {
     "data": {
      "text/html": [
       "<div>\n",
       "<style scoped>\n",
       "    .dataframe tbody tr th:only-of-type {\n",
       "        vertical-align: middle;\n",
       "    }\n",
       "\n",
       "    .dataframe tbody tr th {\n",
       "        vertical-align: top;\n",
       "    }\n",
       "\n",
       "    .dataframe thead th {\n",
       "        text-align: right;\n",
       "    }\n",
       "</style>\n",
       "<table border=\"1\" class=\"dataframe\">\n",
       "  <thead>\n",
       "    <tr style=\"text-align: right;\">\n",
       "      <th></th>\n",
       "      <th>Department</th>\n",
       "      <th>Service Request: Type Name</th>\n",
       "      <th>Service Request Number</th>\n",
       "      <th>Date/Time Opened</th>\n",
       "      <th>Date/Time Closed</th>\n",
       "      <th>Service Request Status</th>\n",
       "      <th>Street Block Number</th>\n",
       "      <th>Street Direction</th>\n",
       "      <th>Street Name</th>\n",
       "      <th>Street Type</th>\n",
       "      <th>...</th>\n",
       "      <th>Answer</th>\n",
       "      <th>Ward</th>\n",
       "      <th>Community Area</th>\n",
       "      <th>created_year</th>\n",
       "      <th>created_month</th>\n",
       "      <th>created_month_year</th>\n",
       "      <th>created_day</th>\n",
       "      <th>created_hour</th>\n",
       "      <th>closed_hour</th>\n",
       "      <th>time elapsed</th>\n",
       "    </tr>\n",
       "  </thead>\n",
       "  <tbody>\n",
       "    <tr>\n",
       "      <th>4701</th>\n",
       "      <td>DFSS - Department of Family &amp; Support Services</td>\n",
       "      <td>Shelter Request</td>\n",
       "      <td>SR21-00105280</td>\n",
       "      <td>2021-01-19 14:59:00</td>\n",
       "      <td>2021-02-13 16:43:00</td>\n",
       "      <td>Completed</td>\n",
       "      <td>4200</td>\n",
       "      <td>N</td>\n",
       "      <td>OAK PARK</td>\n",
       "      <td>AVE</td>\n",
       "      <td>...</td>\n",
       "      <td>NaN</td>\n",
       "      <td>38.0</td>\n",
       "      <td>17.0</td>\n",
       "      <td>2021</td>\n",
       "      <td>1</td>\n",
       "      <td>01/2021</td>\n",
       "      <td>2021-01-19</td>\n",
       "      <td>14</td>\n",
       "      <td>16</td>\n",
       "      <td>-26 days +22:16:00</td>\n",
       "    </tr>\n",
       "  </tbody>\n",
       "</table>\n",
       "<p>1 rows × 22 columns</p>\n",
       "</div>"
      ],
      "text/plain": [
       "                                          Department  \\\n",
       "4701  DFSS - Department of Family & Support Services   \n",
       "\n",
       "     Service Request: Type Name Service Request Number    Date/Time Opened  \\\n",
       "4701            Shelter Request          SR21-00105280 2021-01-19 14:59:00   \n",
       "\n",
       "        Date/Time Closed Service Request Status  Street Block Number  \\\n",
       "4701 2021-02-13 16:43:00              Completed                 4200   \n",
       "\n",
       "     Street Direction Street Name Street Type  ...  Answer  Ward  \\\n",
       "4701                N    OAK PARK         AVE  ...     NaN  38.0   \n",
       "\n",
       "     Community Area  created_year  created_month  created_month_year  \\\n",
       "4701           17.0          2021              1             01/2021   \n",
       "\n",
       "      created_day created_hour closed_hour       time elapsed  \n",
       "4701   2021-01-19           14          16 -26 days +22:16:00  \n",
       "\n",
       "[1 rows x 22 columns]"
      ]
     },
     "execution_count": 83,
     "metadata": {},
     "output_type": "execute_result"
    }
   ],
   "source": [
    "# inspect a few rows\n",
    "df_2021_elapsed_all.sort_values('time elapsed', ascending=False).tail(1)"
   ]
  },
  {
   "cell_type": "code",
   "execution_count": 84,
   "id": "3b002baa-130d-4a2f-94e2-6507134ae8c8",
   "metadata": {},
   "outputs": [
    {
     "data": {
      "text/html": [
       "<div>\n",
       "<style scoped>\n",
       "    .dataframe tbody tr th:only-of-type {\n",
       "        vertical-align: middle;\n",
       "    }\n",
       "\n",
       "    .dataframe tbody tr th {\n",
       "        vertical-align: top;\n",
       "    }\n",
       "\n",
       "    .dataframe thead th {\n",
       "        text-align: right;\n",
       "    }\n",
       "</style>\n",
       "<table border=\"1\" class=\"dataframe\">\n",
       "  <thead>\n",
       "    <tr style=\"text-align: right;\">\n",
       "      <th></th>\n",
       "      <th>Department</th>\n",
       "      <th>Service Request: Type Name</th>\n",
       "      <th>Service Request Number</th>\n",
       "      <th>Date/Time Opened</th>\n",
       "      <th>Date/Time Closed</th>\n",
       "      <th>Service Request Status</th>\n",
       "      <th>Street Block Number</th>\n",
       "      <th>Street Direction</th>\n",
       "      <th>Street Name</th>\n",
       "      <th>Street Type</th>\n",
       "      <th>...</th>\n",
       "      <th>Answer</th>\n",
       "      <th>Ward</th>\n",
       "      <th>Community Area</th>\n",
       "      <th>created_year</th>\n",
       "      <th>created_month</th>\n",
       "      <th>created_month_year</th>\n",
       "      <th>created_day</th>\n",
       "      <th>created_hour</th>\n",
       "      <th>closed_hour</th>\n",
       "      <th>time elapsed</th>\n",
       "    </tr>\n",
       "  </thead>\n",
       "  <tbody>\n",
       "    <tr>\n",
       "      <th>85792</th>\n",
       "      <td>DFSS - Department of Family &amp; Support Services</td>\n",
       "      <td>Shelter Request</td>\n",
       "      <td>SR22-02214842</td>\n",
       "      <td>2022-12-31 23:54:00</td>\n",
       "      <td>NaT</td>\n",
       "      <td>Open</td>\n",
       "      <td>11700</td>\n",
       "      <td>S</td>\n",
       "      <td>LAFLIN</td>\n",
       "      <td>ST</td>\n",
       "      <td>...</td>\n",
       "      <td>NaN</td>\n",
       "      <td>21.0</td>\n",
       "      <td>53.0</td>\n",
       "      <td>2022</td>\n",
       "      <td>12</td>\n",
       "      <td>12/2022</td>\n",
       "      <td>2022-12-31</td>\n",
       "      <td>23</td>\n",
       "      <td>NaN</td>\n",
       "      <td>NaT</td>\n",
       "    </tr>\n",
       "  </tbody>\n",
       "</table>\n",
       "<p>1 rows × 22 columns</p>\n",
       "</div>"
      ],
      "text/plain": [
       "                                           Department  \\\n",
       "85792  DFSS - Department of Family & Support Services   \n",
       "\n",
       "      Service Request: Type Name Service Request Number    Date/Time Opened  \\\n",
       "85792            Shelter Request          SR22-02214842 2022-12-31 23:54:00   \n",
       "\n",
       "      Date/Time Closed Service Request Status  Street Block Number  \\\n",
       "85792              NaT                   Open                11700   \n",
       "\n",
       "      Street Direction Street Name Street Type  ...  Answer  Ward  \\\n",
       "85792                S      LAFLIN          ST  ...     NaN  21.0   \n",
       "\n",
       "      Community Area  created_year  created_month  created_month_year  \\\n",
       "85792           53.0          2022             12             12/2022   \n",
       "\n",
       "       created_day created_hour closed_hour time elapsed  \n",
       "85792   2022-12-31           23         NaN          NaT  \n",
       "\n",
       "[1 rows x 22 columns]"
      ]
     },
     "execution_count": 84,
     "metadata": {},
     "output_type": "execute_result"
    }
   ],
   "source": [
    "# for open requests, time elapsed is just NaT and not calculated\n",
    "df_2022_elapsed_all.sort_values('time elapsed', ascending=False).tail(1)"
   ]
  },
  {
   "cell_type": "code",
   "execution_count": 85,
   "id": "afcec318-13ae-412f-8029-9466f04daf2b",
   "metadata": {},
   "outputs": [],
   "source": [
    "# function returns the hours from the timedelta object, time elapsed\n",
    "def get_hours(value):\n",
    "    seconds = value.total_seconds()\n",
    "    hours = seconds/3600\n",
    "    return abs(hours)"
   ]
  },
  {
   "cell_type": "code",
   "execution_count": 86,
   "id": "dcf5a74d-786b-42b1-8f04-72bb9ccbcb93",
   "metadata": {},
   "outputs": [],
   "source": [
    "# apply function to all years\n",
    "df_2023_elapsed_all['time elapsed hours'] = df_2023_elapsed_all['time elapsed'].apply(get_hours)\n",
    "df_2022_elapsed_all['time elapsed hours'] = df_2022_elapsed_all['time elapsed'].apply(get_hours)\n",
    "df_2021_elapsed_all['time elapsed hours'] = df_2021_elapsed_all['time elapsed'].apply(get_hours)\n",
    "df_2020_elapsed_all['time elapsed hours'] = df_2020_elapsed_all['time elapsed'].apply(get_hours)\n",
    "df_2019_elapsed_all['time elapsed hours'] = df_2019_elapsed_all['time elapsed'].apply(get_hours)"
   ]
  },
  {
   "cell_type": "code",
   "execution_count": 211,
   "id": "3eab62ec-fec7-424a-9bde-61079b6cd034",
   "metadata": {},
   "outputs": [
    {
     "data": {
      "text/html": [
       "<div>\n",
       "<style scoped>\n",
       "    .dataframe tbody tr th:only-of-type {\n",
       "        vertical-align: middle;\n",
       "    }\n",
       "\n",
       "    .dataframe tbody tr th {\n",
       "        vertical-align: top;\n",
       "    }\n",
       "\n",
       "    .dataframe thead th {\n",
       "        text-align: right;\n",
       "    }\n",
       "</style>\n",
       "<table border=\"1\" class=\"dataframe\">\n",
       "  <thead>\n",
       "    <tr style=\"text-align: right;\">\n",
       "      <th></th>\n",
       "      <th>Department</th>\n",
       "      <th>Service Request: Type Name</th>\n",
       "      <th>Service Request Number</th>\n",
       "      <th>Date/Time Opened</th>\n",
       "      <th>Date/Time Closed</th>\n",
       "      <th>Service Request Status</th>\n",
       "      <th>Street Block Number</th>\n",
       "      <th>Street Direction</th>\n",
       "      <th>Street Name</th>\n",
       "      <th>Street Type</th>\n",
       "      <th>...</th>\n",
       "      <th>Ward</th>\n",
       "      <th>Community Area</th>\n",
       "      <th>created_year</th>\n",
       "      <th>created_month</th>\n",
       "      <th>created_month_year</th>\n",
       "      <th>created_day</th>\n",
       "      <th>created_hour</th>\n",
       "      <th>closed_hour</th>\n",
       "      <th>time elapsed</th>\n",
       "      <th>time elapsed hours</th>\n",
       "    </tr>\n",
       "  </thead>\n",
       "  <tbody>\n",
       "    <tr>\n",
       "      <th>5541</th>\n",
       "      <td>DFSS - Department of Family &amp; Support Services</td>\n",
       "      <td>Shelter Request</td>\n",
       "      <td>SR23-00052014</td>\n",
       "      <td>2023-01-10 18:52:00</td>\n",
       "      <td>2023-03-07 01:04:00</td>\n",
       "      <td>Completed</td>\n",
       "      <td>3100</td>\n",
       "      <td>W</td>\n",
       "      <td>HARRISON</td>\n",
       "      <td>ST</td>\n",
       "      <td>...</td>\n",
       "      <td>24.0</td>\n",
       "      <td>27.0</td>\n",
       "      <td>2023</td>\n",
       "      <td>1</td>\n",
       "      <td>01/2023</td>\n",
       "      <td>2023-01-10</td>\n",
       "      <td>18</td>\n",
       "      <td>01</td>\n",
       "      <td>-56 days +17:48:00</td>\n",
       "      <td>1326.200000</td>\n",
       "    </tr>\n",
       "    <tr>\n",
       "      <th>6065</th>\n",
       "      <td>DFSS - Department of Family &amp; Support Services</td>\n",
       "      <td>Shelter Request</td>\n",
       "      <td>SR23-00058276</td>\n",
       "      <td>2023-01-11 18:51:00</td>\n",
       "      <td>2023-03-07 01:03:00</td>\n",
       "      <td>Completed</td>\n",
       "      <td>0</td>\n",
       "      <td>S</td>\n",
       "      <td>KEDZIE</td>\n",
       "      <td>AVE</td>\n",
       "      <td>...</td>\n",
       "      <td>28.0</td>\n",
       "      <td>27.0</td>\n",
       "      <td>2023</td>\n",
       "      <td>1</td>\n",
       "      <td>01/2023</td>\n",
       "      <td>2023-01-11</td>\n",
       "      <td>18</td>\n",
       "      <td>01</td>\n",
       "      <td>-55 days +17:48:00</td>\n",
       "      <td>1302.200000</td>\n",
       "    </tr>\n",
       "    <tr>\n",
       "      <th>2131</th>\n",
       "      <td>DFSS - Department of Family &amp; Support Services</td>\n",
       "      <td>Shelter Request</td>\n",
       "      <td>SR23-00019829</td>\n",
       "      <td>2023-01-05 08:18:00</td>\n",
       "      <td>2023-02-23 14:50:00</td>\n",
       "      <td>Completed</td>\n",
       "      <td>1700</td>\n",
       "      <td>S</td>\n",
       "      <td>STATE</td>\n",
       "      <td>ST</td>\n",
       "      <td>...</td>\n",
       "      <td>3.0</td>\n",
       "      <td>33.0</td>\n",
       "      <td>2023</td>\n",
       "      <td>1</td>\n",
       "      <td>01/2023</td>\n",
       "      <td>2023-01-05</td>\n",
       "      <td>08</td>\n",
       "      <td>14</td>\n",
       "      <td>-50 days +17:28:00</td>\n",
       "      <td>1182.533333</td>\n",
       "    </tr>\n",
       "    <tr>\n",
       "      <th>8799</th>\n",
       "      <td>DFSS - Department of Family &amp; Support Services</td>\n",
       "      <td>Shelter Request</td>\n",
       "      <td>SR23-00087422</td>\n",
       "      <td>2023-01-17 21:13:00</td>\n",
       "      <td>2023-03-07 00:59:00</td>\n",
       "      <td>Completed</td>\n",
       "      <td>3100</td>\n",
       "      <td>W</td>\n",
       "      <td>HARRISON</td>\n",
       "      <td>ST</td>\n",
       "      <td>...</td>\n",
       "      <td>24.0</td>\n",
       "      <td>27.0</td>\n",
       "      <td>2023</td>\n",
       "      <td>1</td>\n",
       "      <td>01/2023</td>\n",
       "      <td>2023-01-17</td>\n",
       "      <td>21</td>\n",
       "      <td>00</td>\n",
       "      <td>-49 days +20:14:00</td>\n",
       "      <td>1155.766667</td>\n",
       "    </tr>\n",
       "    <tr>\n",
       "      <th>3809</th>\n",
       "      <td>DFSS - Department of Family &amp; Support Services</td>\n",
       "      <td>Shelter Request</td>\n",
       "      <td>SR23-00033205</td>\n",
       "      <td>2023-01-07 15:35:00</td>\n",
       "      <td>2023-02-23 21:57:00</td>\n",
       "      <td>Completed</td>\n",
       "      <td>200</td>\n",
       "      <td>E</td>\n",
       "      <td>HURON</td>\n",
       "      <td>ST</td>\n",
       "      <td>...</td>\n",
       "      <td>2.0</td>\n",
       "      <td>8.0</td>\n",
       "      <td>2023</td>\n",
       "      <td>1</td>\n",
       "      <td>01/2023</td>\n",
       "      <td>2023-01-07</td>\n",
       "      <td>15</td>\n",
       "      <td>21</td>\n",
       "      <td>-48 days +17:38:00</td>\n",
       "      <td>1134.366667</td>\n",
       "    </tr>\n",
       "  </tbody>\n",
       "</table>\n",
       "<p>5 rows × 23 columns</p>\n",
       "</div>"
      ],
      "text/plain": [
       "                                          Department  \\\n",
       "5541  DFSS - Department of Family & Support Services   \n",
       "6065  DFSS - Department of Family & Support Services   \n",
       "2131  DFSS - Department of Family & Support Services   \n",
       "8799  DFSS - Department of Family & Support Services   \n",
       "3809  DFSS - Department of Family & Support Services   \n",
       "\n",
       "     Service Request: Type Name Service Request Number    Date/Time Opened  \\\n",
       "5541            Shelter Request          SR23-00052014 2023-01-10 18:52:00   \n",
       "6065            Shelter Request          SR23-00058276 2023-01-11 18:51:00   \n",
       "2131            Shelter Request          SR23-00019829 2023-01-05 08:18:00   \n",
       "8799            Shelter Request          SR23-00087422 2023-01-17 21:13:00   \n",
       "3809            Shelter Request          SR23-00033205 2023-01-07 15:35:00   \n",
       "\n",
       "        Date/Time Closed Service Request Status  Street Block Number  \\\n",
       "5541 2023-03-07 01:04:00              Completed                 3100   \n",
       "6065 2023-03-07 01:03:00              Completed                    0   \n",
       "2131 2023-02-23 14:50:00              Completed                 1700   \n",
       "8799 2023-03-07 00:59:00              Completed                 3100   \n",
       "3809 2023-02-23 21:57:00              Completed                  200   \n",
       "\n",
       "     Street Direction Street Name Street Type  ...  Ward Community Area  \\\n",
       "5541                W    HARRISON          ST  ...  24.0           27.0   \n",
       "6065                S      KEDZIE         AVE  ...  28.0           27.0   \n",
       "2131                S       STATE          ST  ...   3.0           33.0   \n",
       "8799                W    HARRISON          ST  ...  24.0           27.0   \n",
       "3809                E       HURON          ST  ...   2.0            8.0   \n",
       "\n",
       "     created_year  created_month  created_month_year  created_day  \\\n",
       "5541         2023              1             01/2023   2023-01-10   \n",
       "6065         2023              1             01/2023   2023-01-11   \n",
       "2131         2023              1             01/2023   2023-01-05   \n",
       "8799         2023              1             01/2023   2023-01-17   \n",
       "3809         2023              1             01/2023   2023-01-07   \n",
       "\n",
       "      created_hour closed_hour       time elapsed time elapsed hours  \n",
       "5541            18          01 -56 days +17:48:00        1326.200000  \n",
       "6065            18          01 -55 days +17:48:00        1302.200000  \n",
       "2131            08          14 -50 days +17:28:00        1182.533333  \n",
       "8799            21          00 -49 days +20:14:00        1155.766667  \n",
       "3809            15          21 -48 days +17:38:00        1134.366667  \n",
       "\n",
       "[5 rows x 23 columns]"
      ]
     },
     "execution_count": 211,
     "metadata": {},
     "output_type": "execute_result"
    }
   ],
   "source": [
    "# examine 2023 filtering out cancelled requests\n",
    "df_2023_elapsed_all[df_2023_elapsed_all['Service Request Status'] == 'Completed'].sort_values('time elapsed hours', ascending=False).head()"
   ]
  },
  {
   "cell_type": "code",
   "execution_count": 147,
   "id": "e0825d1c-37ed-49cf-b800-079d4835174c",
   "metadata": {},
   "outputs": [],
   "source": [
    "# examine means for hours passed\n",
    "# The average wait time from when a request is logged to when it’s closed soared from less than ten hours in 2019 and 2020 to more than 30 hours in 2022 and more than 50 hours in 2023\n",
    "# should be careful with 2019 data because it appears all the requests are logged as open and close near midnight (see Distribution of time of day for call vs completion)"
   ]
  },
  {
   "cell_type": "code",
   "execution_count": 88,
   "id": "7eef0cf4-a748-42aa-8d04-0aff48fa5c3d",
   "metadata": {},
   "outputs": [
    {
     "data": {
      "text/plain": [
       "count    13370.000000\n",
       "mean        51.745849\n",
       "std         59.241085\n",
       "min          0.000000\n",
       "25%         19.187500\n",
       "50%         48.775000\n",
       "75%         59.112500\n",
       "max       1326.200000\n",
       "Name: time elapsed hours, dtype: float64"
      ]
     },
     "execution_count": 88,
     "metadata": {},
     "output_type": "execute_result"
    }
   ],
   "source": [
    "df_2023_elapsed_all[df_2023_elapsed_all['Service Request Status'] == 'Completed']['time elapsed hours'].describe()"
   ]
  },
  {
   "cell_type": "code",
   "execution_count": 90,
   "id": "339a76f3-198d-472a-90d7-0e67a3d5d914",
   "metadata": {},
   "outputs": [
    {
     "data": {
      "text/plain": [
       "count    49662.000000\n",
       "mean        30.603315\n",
       "std         83.840202\n",
       "min          0.000000\n",
       "25%          8.816667\n",
       "50%         22.583333\n",
       "75%         27.983333\n",
       "max       5445.583333\n",
       "Name: time elapsed hours, dtype: float64"
      ]
     },
     "execution_count": 90,
     "metadata": {},
     "output_type": "execute_result"
    }
   ],
   "source": [
    "df_2022_elapsed_all[df_2022_elapsed_all['Service Request Status'] == 'Completed']['time elapsed hours'].describe()"
   ]
  },
  {
   "cell_type": "code",
   "execution_count": 91,
   "id": "a42bd988-9dde-4377-b822-bcd43d2146d5",
   "metadata": {},
   "outputs": [
    {
     "data": {
      "text/plain": [
       "count    36392.000000\n",
       "mean        17.903540\n",
       "std         26.055266\n",
       "min          0.000000\n",
       "25%          5.933333\n",
       "50%         12.166667\n",
       "75%         23.750000\n",
       "max        601.733333\n",
       "Name: time elapsed hours, dtype: float64"
      ]
     },
     "execution_count": 91,
     "metadata": {},
     "output_type": "execute_result"
    }
   ],
   "source": [
    "df_2021_elapsed_all[df_2021_elapsed_all['Service Request Status'] == 'Completed']['time elapsed hours'].describe()"
   ]
  },
  {
   "cell_type": "code",
   "execution_count": 92,
   "id": "090f83c6-fab2-4d25-a71e-62d591256136",
   "metadata": {},
   "outputs": [
    {
     "data": {
      "text/plain": [
       "count    34906.000000\n",
       "mean         6.579668\n",
       "std         21.305834\n",
       "min          0.000000\n",
       "25%          1.966667\n",
       "50%          3.916667\n",
       "75%          6.883333\n",
       "max       1060.716667\n",
       "Name: time elapsed hours, dtype: float64"
      ]
     },
     "execution_count": 92,
     "metadata": {},
     "output_type": "execute_result"
    }
   ],
   "source": [
    "df_2020_elapsed_all[df_2020_elapsed_all['Service Request Status'] == 'Completed']['time elapsed hours'].describe()"
   ]
  },
  {
   "cell_type": "code",
   "execution_count": 93,
   "id": "f34c1505-5ced-4be8-8bbc-e084146ce46e",
   "metadata": {},
   "outputs": [
    {
     "data": {
      "text/plain": [
       "count    23067.000000\n",
       "mean         2.880989\n",
       "std          4.486281\n",
       "min          0.000000\n",
       "25%          0.400000\n",
       "50%          1.650000\n",
       "75%          3.600000\n",
       "max         48.000000\n",
       "Name: time elapsed hours, dtype: float64"
      ]
     },
     "execution_count": 93,
     "metadata": {},
     "output_type": "execute_result"
    }
   ],
   "source": [
    "df_2019_elapsed_all[df_2019_elapsed_all['Service Request Status'] == 'Completed']['time elapsed hours'].describe()"
   ]
  },
  {
   "cell_type": "code",
   "execution_count": 94,
   "id": "7aaf2884-28aa-4921-be3c-7472efe517ad",
   "metadata": {},
   "outputs": [],
   "source": [
    "# add a closed day to all years\n",
    "df_2023_elapsed_all['closed_day'] = df_2023_elapsed_all['Date/Time Closed'].dt.strftime('%Y-%m-%d')\n",
    "df_2022_elapsed_all['closed_day'] = df_2022_elapsed_all['Date/Time Closed'].dt.strftime('%Y-%m-%d')\n",
    "df_2021_elapsed_all['closed_day'] = df_2021_elapsed_all['Date/Time Closed'].dt.strftime('%Y-%m-%d')\n",
    "df_2020_elapsed_all['closed_day'] = df_2020_elapsed_all['Date/Time Closed'].dt.strftime('%Y-%m-%d')\n",
    "df_2019_elapsed_all['closed_day'] = df_2019_elapsed_all['Date/Time Closed'].dt.strftime('%Y-%m-%d')"
   ]
  },
  {
   "cell_type": "code",
   "execution_count": 95,
   "id": "528ac21e-4ee6-491f-b887-4b36add989f2",
   "metadata": {},
   "outputs": [],
   "source": [
    "# function returns the days\n",
    "def get_days(value):\n",
    "    days = value.days\n",
    "    return abs(days)"
   ]
  },
  {
   "cell_type": "code",
   "execution_count": 96,
   "id": "e95311f6-f5ac-473b-912e-4ff1a86f4bdd",
   "metadata": {},
   "outputs": [],
   "source": [
    "# create a time elapsed days col \n",
    "df_2023_elapsed_all['time elapsed days'] = df_2023_elapsed_all['time elapsed'].apply(get_days)\n",
    "df_2022_elapsed_all['time elapsed days'] = df_2022_elapsed_all['time elapsed'].apply(get_days)\n",
    "df_2021_elapsed_all['time elapsed days'] = df_2021_elapsed_all['time elapsed'].apply(get_days)\n",
    "df_2020_elapsed_all['time elapsed days'] = df_2020_elapsed_all['time elapsed'].apply(get_days)\n",
    "df_2019_elapsed_all['time elapsed days'] = df_2019_elapsed_all['time elapsed'].apply(get_days)"
   ]
  },
  {
   "cell_type": "code",
   "execution_count": 153,
   "id": "13e51d8b-d408-47da-bdf2-9a8b8f5d3dc9",
   "metadata": {},
   "outputs": [
    {
     "data": {
      "text/html": [
       "<div>\n",
       "<style scoped>\n",
       "    .dataframe tbody tr th:only-of-type {\n",
       "        vertical-align: middle;\n",
       "    }\n",
       "\n",
       "    .dataframe tbody tr th {\n",
       "        vertical-align: top;\n",
       "    }\n",
       "\n",
       "    .dataframe thead th {\n",
       "        text-align: right;\n",
       "    }\n",
       "</style>\n",
       "<table border=\"1\" class=\"dataframe\">\n",
       "  <thead>\n",
       "    <tr style=\"text-align: right;\">\n",
       "      <th></th>\n",
       "      <th>time elapsed days</th>\n",
       "      <th>count</th>\n",
       "      <th>percent</th>\n",
       "    </tr>\n",
       "  </thead>\n",
       "  <tbody>\n",
       "    <tr>\n",
       "      <th>0</th>\n",
       "      <td>0.0</td>\n",
       "      <td>3</td>\n",
       "      <td>0.000224</td>\n",
       "    </tr>\n",
       "    <tr>\n",
       "      <th>1</th>\n",
       "      <td>1.0</td>\n",
       "      <td>3661</td>\n",
       "      <td>0.273802</td>\n",
       "    </tr>\n",
       "    <tr>\n",
       "      <th>2</th>\n",
       "      <td>2.0</td>\n",
       "      <td>2497</td>\n",
       "      <td>0.186747</td>\n",
       "    </tr>\n",
       "    <tr>\n",
       "      <th>3</th>\n",
       "      <td>3.0</td>\n",
       "      <td>4795</td>\n",
       "      <td>0.358612</td>\n",
       "    </tr>\n",
       "    <tr>\n",
       "      <th>4</th>\n",
       "      <td>4.0</td>\n",
       "      <td>960</td>\n",
       "      <td>0.071797</td>\n",
       "    </tr>\n",
       "    <tr>\n",
       "      <th>5</th>\n",
       "      <td>5.0</td>\n",
       "      <td>574</td>\n",
       "      <td>0.042929</td>\n",
       "    </tr>\n",
       "    <tr>\n",
       "      <th>6</th>\n",
       "      <td>6.0</td>\n",
       "      <td>279</td>\n",
       "      <td>0.020866</td>\n",
       "    </tr>\n",
       "    <tr>\n",
       "      <th>7</th>\n",
       "      <td>7.0</td>\n",
       "      <td>158</td>\n",
       "      <td>0.011817</td>\n",
       "    </tr>\n",
       "    <tr>\n",
       "      <th>8</th>\n",
       "      <td>8.0</td>\n",
       "      <td>79</td>\n",
       "      <td>0.005908</td>\n",
       "    </tr>\n",
       "    <tr>\n",
       "      <th>9</th>\n",
       "      <td>9.0</td>\n",
       "      <td>65</td>\n",
       "      <td>0.004861</td>\n",
       "    </tr>\n",
       "    <tr>\n",
       "      <th>10</th>\n",
       "      <td>10.0</td>\n",
       "      <td>57</td>\n",
       "      <td>0.004263</td>\n",
       "    </tr>\n",
       "    <tr>\n",
       "      <th>11</th>\n",
       "      <td>11.0</td>\n",
       "      <td>183</td>\n",
       "      <td>0.013686</td>\n",
       "    </tr>\n",
       "    <tr>\n",
       "      <th>12</th>\n",
       "      <td>12.0</td>\n",
       "      <td>10</td>\n",
       "      <td>0.000748</td>\n",
       "    </tr>\n",
       "    <tr>\n",
       "      <th>13</th>\n",
       "      <td>13.0</td>\n",
       "      <td>3</td>\n",
       "      <td>0.000224</td>\n",
       "    </tr>\n",
       "    <tr>\n",
       "      <th>14</th>\n",
       "      <td>14.0</td>\n",
       "      <td>1</td>\n",
       "      <td>0.000075</td>\n",
       "    </tr>\n",
       "    <tr>\n",
       "      <th>15</th>\n",
       "      <td>15.0</td>\n",
       "      <td>4</td>\n",
       "      <td>0.000299</td>\n",
       "    </tr>\n",
       "    <tr>\n",
       "      <th>16</th>\n",
       "      <td>16.0</td>\n",
       "      <td>1</td>\n",
       "      <td>0.000075</td>\n",
       "    </tr>\n",
       "    <tr>\n",
       "      <th>17</th>\n",
       "      <td>17.0</td>\n",
       "      <td>2</td>\n",
       "      <td>0.000150</td>\n",
       "    </tr>\n",
       "    <tr>\n",
       "      <th>18</th>\n",
       "      <td>18.0</td>\n",
       "      <td>2</td>\n",
       "      <td>0.000150</td>\n",
       "    </tr>\n",
       "    <tr>\n",
       "      <th>19</th>\n",
       "      <td>19.0</td>\n",
       "      <td>6</td>\n",
       "      <td>0.000449</td>\n",
       "    </tr>\n",
       "    <tr>\n",
       "      <th>20</th>\n",
       "      <td>20.0</td>\n",
       "      <td>2</td>\n",
       "      <td>0.000150</td>\n",
       "    </tr>\n",
       "    <tr>\n",
       "      <th>21</th>\n",
       "      <td>21.0</td>\n",
       "      <td>2</td>\n",
       "      <td>0.000150</td>\n",
       "    </tr>\n",
       "    <tr>\n",
       "      <th>22</th>\n",
       "      <td>22.0</td>\n",
       "      <td>4</td>\n",
       "      <td>0.000299</td>\n",
       "    </tr>\n",
       "    <tr>\n",
       "      <th>23</th>\n",
       "      <td>23.0</td>\n",
       "      <td>3</td>\n",
       "      <td>0.000224</td>\n",
       "    </tr>\n",
       "    <tr>\n",
       "      <th>24</th>\n",
       "      <td>25.0</td>\n",
       "      <td>2</td>\n",
       "      <td>0.000150</td>\n",
       "    </tr>\n",
       "    <tr>\n",
       "      <th>25</th>\n",
       "      <td>27.0</td>\n",
       "      <td>1</td>\n",
       "      <td>0.000075</td>\n",
       "    </tr>\n",
       "    <tr>\n",
       "      <th>26</th>\n",
       "      <td>28.0</td>\n",
       "      <td>1</td>\n",
       "      <td>0.000075</td>\n",
       "    </tr>\n",
       "    <tr>\n",
       "      <th>27</th>\n",
       "      <td>29.0</td>\n",
       "      <td>1</td>\n",
       "      <td>0.000075</td>\n",
       "    </tr>\n",
       "    <tr>\n",
       "      <th>28</th>\n",
       "      <td>34.0</td>\n",
       "      <td>1</td>\n",
       "      <td>0.000075</td>\n",
       "    </tr>\n",
       "    <tr>\n",
       "      <th>29</th>\n",
       "      <td>35.0</td>\n",
       "      <td>1</td>\n",
       "      <td>0.000075</td>\n",
       "    </tr>\n",
       "    <tr>\n",
       "      <th>30</th>\n",
       "      <td>36.0</td>\n",
       "      <td>3</td>\n",
       "      <td>0.000224</td>\n",
       "    </tr>\n",
       "    <tr>\n",
       "      <th>31</th>\n",
       "      <td>37.0</td>\n",
       "      <td>1</td>\n",
       "      <td>0.000075</td>\n",
       "    </tr>\n",
       "    <tr>\n",
       "      <th>32</th>\n",
       "      <td>38.0</td>\n",
       "      <td>2</td>\n",
       "      <td>0.000150</td>\n",
       "    </tr>\n",
       "    <tr>\n",
       "      <th>33</th>\n",
       "      <td>40.0</td>\n",
       "      <td>1</td>\n",
       "      <td>0.000075</td>\n",
       "    </tr>\n",
       "    <tr>\n",
       "      <th>34</th>\n",
       "      <td>45.0</td>\n",
       "      <td>1</td>\n",
       "      <td>0.000075</td>\n",
       "    </tr>\n",
       "    <tr>\n",
       "      <th>35</th>\n",
       "      <td>48.0</td>\n",
       "      <td>1</td>\n",
       "      <td>0.000075</td>\n",
       "    </tr>\n",
       "    <tr>\n",
       "      <th>36</th>\n",
       "      <td>49.0</td>\n",
       "      <td>1</td>\n",
       "      <td>0.000075</td>\n",
       "    </tr>\n",
       "    <tr>\n",
       "      <th>37</th>\n",
       "      <td>50.0</td>\n",
       "      <td>1</td>\n",
       "      <td>0.000075</td>\n",
       "    </tr>\n",
       "    <tr>\n",
       "      <th>38</th>\n",
       "      <td>55.0</td>\n",
       "      <td>1</td>\n",
       "      <td>0.000075</td>\n",
       "    </tr>\n",
       "    <tr>\n",
       "      <th>39</th>\n",
       "      <td>56.0</td>\n",
       "      <td>1</td>\n",
       "      <td>0.000075</td>\n",
       "    </tr>\n",
       "  </tbody>\n",
       "</table>\n",
       "</div>"
      ],
      "text/plain": [
       "    time elapsed days  count   percent\n",
       "0                 0.0      3  0.000224\n",
       "1                 1.0   3661  0.273802\n",
       "2                 2.0   2497  0.186747\n",
       "3                 3.0   4795  0.358612\n",
       "4                 4.0    960  0.071797\n",
       "5                 5.0    574  0.042929\n",
       "6                 6.0    279  0.020866\n",
       "7                 7.0    158  0.011817\n",
       "8                 8.0     79  0.005908\n",
       "9                 9.0     65  0.004861\n",
       "10               10.0     57  0.004263\n",
       "11               11.0    183  0.013686\n",
       "12               12.0     10  0.000748\n",
       "13               13.0      3  0.000224\n",
       "14               14.0      1  0.000075\n",
       "15               15.0      4  0.000299\n",
       "16               16.0      1  0.000075\n",
       "17               17.0      2  0.000150\n",
       "18               18.0      2  0.000150\n",
       "19               19.0      6  0.000449\n",
       "20               20.0      2  0.000150\n",
       "21               21.0      2  0.000150\n",
       "22               22.0      4  0.000299\n",
       "23               23.0      3  0.000224\n",
       "24               25.0      2  0.000150\n",
       "25               27.0      1  0.000075\n",
       "26               28.0      1  0.000075\n",
       "27               29.0      1  0.000075\n",
       "28               34.0      1  0.000075\n",
       "29               35.0      1  0.000075\n",
       "30               36.0      3  0.000224\n",
       "31               37.0      1  0.000075\n",
       "32               38.0      2  0.000150\n",
       "33               40.0      1  0.000075\n",
       "34               45.0      1  0.000075\n",
       "35               48.0      1  0.000075\n",
       "36               49.0      1  0.000075\n",
       "37               50.0      1  0.000075\n",
       "38               55.0      1  0.000075\n",
       "39               56.0      1  0.000075"
      ]
     },
     "execution_count": 153,
     "metadata": {},
     "output_type": "execute_result"
    }
   ],
   "source": [
    "# 1 day means 24 hours or less\n",
    "g = df_2023_elapsed_all.groupby('time elapsed days').size().reset_index(name='count')\n",
    "g['percent'] = g['count']/g['count'].sum()\n",
    "g"
   ]
  },
  {
   "cell_type": "code",
   "execution_count": 105,
   "id": "264072fc-eb33-429b-9512-957a14e867dd",
   "metadata": {},
   "outputs": [
    {
     "data": {
      "text/plain": [
       "7210"
      ]
     },
     "execution_count": 105,
     "metadata": {},
     "output_type": "execute_result"
    }
   ],
   "source": [
    "# in 2023, more than half of all requests took more than 48 hours to resolve\n",
    "g['count'].sum() - (3+3661+2497)"
   ]
  },
  {
   "cell_type": "code",
   "execution_count": 104,
   "id": "5ad655f2-91f4-4b42-a64f-5c51dc847f3d",
   "metadata": {},
   "outputs": [
    {
     "data": {
      "text/plain": [
       "0.532495699648493"
      ]
     },
     "execution_count": 104,
     "metadata": {},
     "output_type": "execute_result"
    }
   ],
   "source": [
    "7120/g['count'].sum()"
   ]
  },
  {
   "cell_type": "code",
   "execution_count": 106,
   "id": "dda248fe-29da-4863-89ad-f62a10ed0ad8",
   "metadata": {},
   "outputs": [
    {
     "data": {
      "text/plain": [
       "2415"
      ]
     },
     "execution_count": 106,
     "metadata": {},
     "output_type": "execute_result"
    }
   ],
   "source": [
    "# in 2023, more than one-fifth of all requests took more than 72 hours to resolve\n",
    "g['count'].sum() - (3+3661+2497+4795)"
   ]
  },
  {
   "cell_type": "code",
   "execution_count": 152,
   "id": "b18fcb61-99bb-421a-86c9-0a79a3690901",
   "metadata": {},
   "outputs": [
    {
     "data": {
      "text/plain": [
       "10956"
      ]
     },
     "execution_count": 152,
     "metadata": {},
     "output_type": "execute_result"
    }
   ],
   "source": [
    "3+3661+2497+4795"
   ]
  },
  {
   "cell_type": "code",
   "execution_count": 154,
   "id": "b82d4dd1-594e-45b2-b0e9-dc89d3efbcf2",
   "metadata": {},
   "outputs": [
    {
     "data": {
      "text/plain": [
       "13371"
      ]
     },
     "execution_count": 154,
     "metadata": {},
     "output_type": "execute_result"
    }
   ],
   "source": [
    "# this is the total number of completed calls in 2023\n",
    "g['count'].sum()"
   ]
  },
  {
   "cell_type": "code",
   "execution_count": 156,
   "id": "96a4baab-e6b1-4b58-915d-ccb397ffacd9",
   "metadata": {},
   "outputs": [
    {
     "data": {
      "text/plain": [
       "13370"
      ]
     },
     "execution_count": 156,
     "metadata": {},
     "output_type": "execute_result"
    }
   ],
   "source": [
    "len(df_2023[df_2023['Service Request Status'] == 'Completed'])"
   ]
  },
  {
   "cell_type": "code",
   "execution_count": 107,
   "id": "8f307cb3-f5b2-4985-9db3-c94e7b23dbf3",
   "metadata": {},
   "outputs": [
    {
     "data": {
      "text/plain": [
       "0.1806147632936953"
      ]
     },
     "execution_count": 107,
     "metadata": {},
     "output_type": "execute_result"
    }
   ],
   "source": [
    "2415/g['count'].sum()"
   ]
  },
  {
   "cell_type": "code",
   "execution_count": 222,
   "id": "e8b2fd71-d890-406f-91d0-1040259e42f7",
   "metadata": {},
   "outputs": [
    {
     "data": {
      "text/html": [
       "<div>\n",
       "<style scoped>\n",
       "    .dataframe tbody tr th:only-of-type {\n",
       "        vertical-align: middle;\n",
       "    }\n",
       "\n",
       "    .dataframe tbody tr th {\n",
       "        vertical-align: top;\n",
       "    }\n",
       "\n",
       "    .dataframe thead th {\n",
       "        text-align: right;\n",
       "    }\n",
       "</style>\n",
       "<table border=\"1\" class=\"dataframe\">\n",
       "  <thead>\n",
       "    <tr style=\"text-align: right;\">\n",
       "      <th></th>\n",
       "      <th>time elapsed days</th>\n",
       "      <th>count</th>\n",
       "      <th>percent</th>\n",
       "    </tr>\n",
       "  </thead>\n",
       "  <tbody>\n",
       "    <tr>\n",
       "      <th>0</th>\n",
       "      <td>0.0</td>\n",
       "      <td>3</td>\n",
       "      <td>0.000060</td>\n",
       "    </tr>\n",
       "    <tr>\n",
       "      <th>1</th>\n",
       "      <td>1.0</td>\n",
       "      <td>26879</td>\n",
       "      <td>0.540836</td>\n",
       "    </tr>\n",
       "    <tr>\n",
       "      <th>2</th>\n",
       "      <td>2.0</td>\n",
       "      <td>18428</td>\n",
       "      <td>0.370792</td>\n",
       "    </tr>\n",
       "    <tr>\n",
       "      <th>3</th>\n",
       "      <td>3.0</td>\n",
       "      <td>1382</td>\n",
       "      <td>0.027807</td>\n",
       "    </tr>\n",
       "    <tr>\n",
       "      <th>4</th>\n",
       "      <td>4.0</td>\n",
       "      <td>869</td>\n",
       "      <td>0.017485</td>\n",
       "    </tr>\n",
       "    <tr>\n",
       "      <th>...</th>\n",
       "      <td>...</td>\n",
       "      <td>...</td>\n",
       "      <td>...</td>\n",
       "    </tr>\n",
       "    <tr>\n",
       "      <th>66</th>\n",
       "      <td>133.0</td>\n",
       "      <td>1</td>\n",
       "      <td>0.000020</td>\n",
       "    </tr>\n",
       "    <tr>\n",
       "      <th>67</th>\n",
       "      <td>156.0</td>\n",
       "      <td>1</td>\n",
       "      <td>0.000020</td>\n",
       "    </tr>\n",
       "    <tr>\n",
       "      <th>68</th>\n",
       "      <td>169.0</td>\n",
       "      <td>1</td>\n",
       "      <td>0.000020</td>\n",
       "    </tr>\n",
       "    <tr>\n",
       "      <th>69</th>\n",
       "      <td>175.0</td>\n",
       "      <td>1</td>\n",
       "      <td>0.000020</td>\n",
       "    </tr>\n",
       "    <tr>\n",
       "      <th>70</th>\n",
       "      <td>227.0</td>\n",
       "      <td>1</td>\n",
       "      <td>0.000020</td>\n",
       "    </tr>\n",
       "  </tbody>\n",
       "</table>\n",
       "<p>71 rows × 3 columns</p>\n",
       "</div>"
      ],
      "text/plain": [
       "    time elapsed days  count   percent\n",
       "0                 0.0      3  0.000060\n",
       "1                 1.0  26879  0.540836\n",
       "2                 2.0  18428  0.370792\n",
       "3                 3.0   1382  0.027807\n",
       "4                 4.0    869  0.017485\n",
       "..                ...    ...       ...\n",
       "66              133.0      1  0.000020\n",
       "67              156.0      1  0.000020\n",
       "68              169.0      1  0.000020\n",
       "69              175.0      1  0.000020\n",
       "70              227.0      1  0.000020\n",
       "\n",
       "[71 rows x 3 columns]"
      ]
     },
     "execution_count": 222,
     "metadata": {},
     "output_type": "execute_result"
    }
   ],
   "source": [
    "g = df_2022_elapsed_all.groupby('time elapsed days').size().reset_index(name='count')\n",
    "g['percent'] = g['count']/g['count'].sum()\n",
    "g"
   ]
  },
  {
   "cell_type": "code",
   "execution_count": 223,
   "id": "6aa29706-b070-4db5-9449-13331d6c969b",
   "metadata": {},
   "outputs": [
    {
     "data": {
      "text/html": [
       "<div>\n",
       "<style scoped>\n",
       "    .dataframe tbody tr th:only-of-type {\n",
       "        vertical-align: middle;\n",
       "    }\n",
       "\n",
       "    .dataframe tbody tr th {\n",
       "        vertical-align: top;\n",
       "    }\n",
       "\n",
       "    .dataframe thead th {\n",
       "        text-align: right;\n",
       "    }\n",
       "</style>\n",
       "<table border=\"1\" class=\"dataframe\">\n",
       "  <thead>\n",
       "    <tr style=\"text-align: right;\">\n",
       "      <th></th>\n",
       "      <th>time elapsed days</th>\n",
       "      <th>count</th>\n",
       "      <th>percent</th>\n",
       "    </tr>\n",
       "  </thead>\n",
       "  <tbody>\n",
       "    <tr>\n",
       "      <th>0</th>\n",
       "      <td>0</td>\n",
       "      <td>2</td>\n",
       "      <td>0.000052</td>\n",
       "    </tr>\n",
       "    <tr>\n",
       "      <th>1</th>\n",
       "      <td>1</td>\n",
       "      <td>28528</td>\n",
       "      <td>0.734955</td>\n",
       "    </tr>\n",
       "    <tr>\n",
       "      <th>2</th>\n",
       "      <td>2</td>\n",
       "      <td>7910</td>\n",
       "      <td>0.203782</td>\n",
       "    </tr>\n",
       "    <tr>\n",
       "      <th>3</th>\n",
       "      <td>3</td>\n",
       "      <td>936</td>\n",
       "      <td>0.024114</td>\n",
       "    </tr>\n",
       "    <tr>\n",
       "      <th>4</th>\n",
       "      <td>4</td>\n",
       "      <td>518</td>\n",
       "      <td>0.013345</td>\n",
       "    </tr>\n",
       "    <tr>\n",
       "      <th>5</th>\n",
       "      <td>5</td>\n",
       "      <td>361</td>\n",
       "      <td>0.009300</td>\n",
       "    </tr>\n",
       "    <tr>\n",
       "      <th>6</th>\n",
       "      <td>6</td>\n",
       "      <td>250</td>\n",
       "      <td>0.006441</td>\n",
       "    </tr>\n",
       "    <tr>\n",
       "      <th>7</th>\n",
       "      <td>7</td>\n",
       "      <td>112</td>\n",
       "      <td>0.002885</td>\n",
       "    </tr>\n",
       "    <tr>\n",
       "      <th>8</th>\n",
       "      <td>8</td>\n",
       "      <td>50</td>\n",
       "      <td>0.001288</td>\n",
       "    </tr>\n",
       "    <tr>\n",
       "      <th>9</th>\n",
       "      <td>9</td>\n",
       "      <td>13</td>\n",
       "      <td>0.000335</td>\n",
       "    </tr>\n",
       "    <tr>\n",
       "      <th>10</th>\n",
       "      <td>10</td>\n",
       "      <td>38</td>\n",
       "      <td>0.000979</td>\n",
       "    </tr>\n",
       "    <tr>\n",
       "      <th>11</th>\n",
       "      <td>11</td>\n",
       "      <td>29</td>\n",
       "      <td>0.000747</td>\n",
       "    </tr>\n",
       "    <tr>\n",
       "      <th>12</th>\n",
       "      <td>12</td>\n",
       "      <td>18</td>\n",
       "      <td>0.000464</td>\n",
       "    </tr>\n",
       "    <tr>\n",
       "      <th>13</th>\n",
       "      <td>14</td>\n",
       "      <td>2</td>\n",
       "      <td>0.000052</td>\n",
       "    </tr>\n",
       "    <tr>\n",
       "      <th>14</th>\n",
       "      <td>16</td>\n",
       "      <td>6</td>\n",
       "      <td>0.000155</td>\n",
       "    </tr>\n",
       "    <tr>\n",
       "      <th>15</th>\n",
       "      <td>17</td>\n",
       "      <td>36</td>\n",
       "      <td>0.000927</td>\n",
       "    </tr>\n",
       "    <tr>\n",
       "      <th>16</th>\n",
       "      <td>20</td>\n",
       "      <td>1</td>\n",
       "      <td>0.000026</td>\n",
       "    </tr>\n",
       "    <tr>\n",
       "      <th>17</th>\n",
       "      <td>22</td>\n",
       "      <td>1</td>\n",
       "      <td>0.000026</td>\n",
       "    </tr>\n",
       "    <tr>\n",
       "      <th>18</th>\n",
       "      <td>23</td>\n",
       "      <td>1</td>\n",
       "      <td>0.000026</td>\n",
       "    </tr>\n",
       "    <tr>\n",
       "      <th>19</th>\n",
       "      <td>24</td>\n",
       "      <td>1</td>\n",
       "      <td>0.000026</td>\n",
       "    </tr>\n",
       "    <tr>\n",
       "      <th>20</th>\n",
       "      <td>26</td>\n",
       "      <td>3</td>\n",
       "      <td>0.000077</td>\n",
       "    </tr>\n",
       "  </tbody>\n",
       "</table>\n",
       "</div>"
      ],
      "text/plain": [
       "    time elapsed days  count   percent\n",
       "0                   0      2  0.000052\n",
       "1                   1  28528  0.734955\n",
       "2                   2   7910  0.203782\n",
       "3                   3    936  0.024114\n",
       "4                   4    518  0.013345\n",
       "5                   5    361  0.009300\n",
       "6                   6    250  0.006441\n",
       "7                   7    112  0.002885\n",
       "8                   8     50  0.001288\n",
       "9                   9     13  0.000335\n",
       "10                 10     38  0.000979\n",
       "11                 11     29  0.000747\n",
       "12                 12     18  0.000464\n",
       "13                 14      2  0.000052\n",
       "14                 16      6  0.000155\n",
       "15                 17     36  0.000927\n",
       "16                 20      1  0.000026\n",
       "17                 22      1  0.000026\n",
       "18                 23      1  0.000026\n",
       "19                 24      1  0.000026\n",
       "20                 26      3  0.000077"
      ]
     },
     "execution_count": 223,
     "metadata": {},
     "output_type": "execute_result"
    }
   ],
   "source": [
    "g = df_2021_elapsed_all.groupby('time elapsed days').size().reset_index(name='count')\n",
    "g['percent'] = g['count']/g['count'].sum()\n",
    "g"
   ]
  },
  {
   "cell_type": "code",
   "execution_count": 224,
   "id": "c2a8dafd-d2f2-4142-a0db-e12864f2f0f8",
   "metadata": {},
   "outputs": [
    {
     "data": {
      "text/html": [
       "<div>\n",
       "<style scoped>\n",
       "    .dataframe tbody tr th:only-of-type {\n",
       "        vertical-align: middle;\n",
       "    }\n",
       "\n",
       "    .dataframe tbody tr th {\n",
       "        vertical-align: top;\n",
       "    }\n",
       "\n",
       "    .dataframe thead th {\n",
       "        text-align: right;\n",
       "    }\n",
       "</style>\n",
       "<table border=\"1\" class=\"dataframe\">\n",
       "  <thead>\n",
       "    <tr style=\"text-align: right;\">\n",
       "      <th></th>\n",
       "      <th>time elapsed days</th>\n",
       "      <th>count</th>\n",
       "      <th>percent</th>\n",
       "    </tr>\n",
       "  </thead>\n",
       "  <tbody>\n",
       "    <tr>\n",
       "      <th>0</th>\n",
       "      <td>0</td>\n",
       "      <td>3</td>\n",
       "      <td>0.000085</td>\n",
       "    </tr>\n",
       "    <tr>\n",
       "      <th>1</th>\n",
       "      <td>1</td>\n",
       "      <td>33630</td>\n",
       "      <td>0.953826</td>\n",
       "    </tr>\n",
       "    <tr>\n",
       "      <th>2</th>\n",
       "      <td>2</td>\n",
       "      <td>1342</td>\n",
       "      <td>0.038062</td>\n",
       "    </tr>\n",
       "    <tr>\n",
       "      <th>3</th>\n",
       "      <td>3</td>\n",
       "      <td>261</td>\n",
       "      <td>0.007403</td>\n",
       "    </tr>\n",
       "    <tr>\n",
       "      <th>4</th>\n",
       "      <td>4</td>\n",
       "      <td>5</td>\n",
       "      <td>0.000142</td>\n",
       "    </tr>\n",
       "    <tr>\n",
       "      <th>5</th>\n",
       "      <td>12</td>\n",
       "      <td>5</td>\n",
       "      <td>0.000142</td>\n",
       "    </tr>\n",
       "    <tr>\n",
       "      <th>6</th>\n",
       "      <td>44</td>\n",
       "      <td>7</td>\n",
       "      <td>0.000199</td>\n",
       "    </tr>\n",
       "    <tr>\n",
       "      <th>7</th>\n",
       "      <td>45</td>\n",
       "      <td>5</td>\n",
       "      <td>0.000142</td>\n",
       "    </tr>\n",
       "  </tbody>\n",
       "</table>\n",
       "</div>"
      ],
      "text/plain": [
       "   time elapsed days  count   percent\n",
       "0                  0      3  0.000085\n",
       "1                  1  33630  0.953826\n",
       "2                  2   1342  0.038062\n",
       "3                  3    261  0.007403\n",
       "4                  4      5  0.000142\n",
       "5                 12      5  0.000142\n",
       "6                 44      7  0.000199\n",
       "7                 45      5  0.000142"
      ]
     },
     "execution_count": 224,
     "metadata": {},
     "output_type": "execute_result"
    }
   ],
   "source": [
    "g = df_2020_elapsed_all.groupby('time elapsed days').size().reset_index(name='count')\n",
    "g['percent'] = g['count']/g['count'].sum()\n",
    "g"
   ]
  },
  {
   "cell_type": "code",
   "execution_count": 225,
   "id": "161634b8-dc5f-4167-b320-98cb1bd58c61",
   "metadata": {},
   "outputs": [
    {
     "data": {
      "text/html": [
       "<div>\n",
       "<style scoped>\n",
       "    .dataframe tbody tr th:only-of-type {\n",
       "        vertical-align: middle;\n",
       "    }\n",
       "\n",
       "    .dataframe tbody tr th {\n",
       "        vertical-align: top;\n",
       "    }\n",
       "\n",
       "    .dataframe thead th {\n",
       "        text-align: right;\n",
       "    }\n",
       "</style>\n",
       "<table border=\"1\" class=\"dataframe\">\n",
       "  <thead>\n",
       "    <tr style=\"text-align: right;\">\n",
       "      <th></th>\n",
       "      <th>time elapsed days</th>\n",
       "      <th>count</th>\n",
       "      <th>percent</th>\n",
       "    </tr>\n",
       "  </thead>\n",
       "  <tbody>\n",
       "    <tr>\n",
       "      <th>0</th>\n",
       "      <td>0</td>\n",
       "      <td>3267</td>\n",
       "      <td>0.141013</td>\n",
       "    </tr>\n",
       "    <tr>\n",
       "      <th>1</th>\n",
       "      <td>1</td>\n",
       "      <td>19899</td>\n",
       "      <td>0.858900</td>\n",
       "    </tr>\n",
       "    <tr>\n",
       "      <th>2</th>\n",
       "      <td>2</td>\n",
       "      <td>2</td>\n",
       "      <td>0.000086</td>\n",
       "    </tr>\n",
       "  </tbody>\n",
       "</table>\n",
       "</div>"
      ],
      "text/plain": [
       "   time elapsed days  count   percent\n",
       "0                  0   3267  0.141013\n",
       "1                  1  19899  0.858900\n",
       "2                  2      2  0.000086"
      ]
     },
     "execution_count": 225,
     "metadata": {},
     "output_type": "execute_result"
    }
   ],
   "source": [
    "g = df_2019_elapsed_all.groupby('time elapsed days').size().reset_index(name='count')\n",
    "g['percent'] = g['count']/g['count'].sum()\n",
    "g"
   ]
  },
  {
   "cell_type": "markdown",
   "id": "995dfd60-9422-4b74-bcb7-9d042a534a0c",
   "metadata": {},
   "source": [
    "## Time elapsed by activity outcome"
   ]
  },
  {
   "cell_type": "code",
   "execution_count": 226,
   "id": "6d9ca1fa-fb99-447b-99c4-d66e0753bf2e",
   "metadata": {},
   "outputs": [],
   "source": [
    "# check DFSS statement: \"For calls made to 311 that ended in a placement into shelter, the average wait time from Jan 1 - March 30, 2023, was just over 18 hours.\""
   ]
  },
  {
   "cell_type": "code",
   "execution_count": 108,
   "id": "6d7ba135-9019-4e11-9892-d7e5d135079f",
   "metadata": {},
   "outputs": [],
   "source": [
    "# create copies of the activity outcome dfs for this analysis and run the same time elapsed data cleaning from above\n",
    "df_2023_elapsed = df_2023_activity.copy()\n",
    "df_2022_elapsed = df_2022_activity.copy()\n",
    "df_2021_elapsed = df_2021_activity.copy()\n",
    "df_2020_elapsed = df_2020_activity.copy()\n",
    "df_2019_elapsed = df_2019_activity.copy()\n",
    "\n",
    "df_2023_elapsed['time elapsed'] = df_2023_elapsed['Date/Time Opened'] - df_2023_elapsed['Date/Time Closed']\n",
    "df_2022_elapsed['time elapsed'] = df_2022_elapsed['Date/Time Opened'] - df_2022_elapsed['Date/Time Closed']\n",
    "df_2021_elapsed['time elapsed'] = df_2021_elapsed['Date/Time Opened'] - df_2021_elapsed['Date/Time Closed']\n",
    "df_2020_elapsed['time elapsed'] = df_2020_elapsed['Date/Time Opened'] - df_2020_elapsed['Date/Time Closed']\n",
    "df_2019_elapsed['time elapsed'] = df_2019_elapsed['Date/Time Opened'] - df_2019_elapsed['Date/Time Closed']\n",
    "\n",
    "# apply function to all years\n",
    "df_2023_elapsed['time elapsed hours'] = df_2023_elapsed['time elapsed'].apply(get_hours)\n",
    "df_2022_elapsed['time elapsed hours'] = df_2022_elapsed['time elapsed'].apply(get_hours)\n",
    "df_2021_elapsed['time elapsed hours'] = df_2021_elapsed['time elapsed'].apply(get_hours)\n",
    "df_2020_elapsed['time elapsed hours'] = df_2020_elapsed['time elapsed'].apply(get_hours)\n",
    "df_2019_elapsed['time elapsed hours'] = df_2019_elapsed['time elapsed'].apply(get_hours)\n",
    "\n",
    "# add a closed date to all years\n",
    "df_2023_elapsed['closed_day'] = df_2023_elapsed['Date/Time Closed'].dt.strftime('%Y-%m-%d')\n",
    "df_2022_elapsed['closed_day'] = df_2022_elapsed['Date/Time Closed'].dt.strftime('%Y-%m-%d')\n",
    "df_2021_elapsed['closed_day'] = df_2021_elapsed['Date/Time Closed'].dt.strftime('%Y-%m-%d')\n",
    "df_2020_elapsed['closed_day'] = df_2020_elapsed['Date/Time Closed'].dt.strftime('%Y-%m-%d')\n",
    "df_2019_elapsed['closed_day'] = df_2019_elapsed['Date/Time Closed'].dt.strftime('%Y-%m-%d')\n",
    "\n",
    "# create a time elapsed days col \n",
    "df_2023_elapsed['time elapsed days'] = df_2023_elapsed['time elapsed'].apply(get_days)\n",
    "df_2022_elapsed['time elapsed days'] = df_2022_elapsed['time elapsed'].apply(get_days)\n",
    "df_2021_elapsed['time elapsed days'] = df_2021_elapsed['time elapsed'].apply(get_days)\n",
    "df_2020_elapsed['time elapsed days'] = df_2020_elapsed['time elapsed'].apply(get_days)\n",
    "df_2019_elapsed['time elapsed days'] = df_2019_elapsed['time elapsed'].apply(get_days)"
   ]
  },
  {
   "cell_type": "code",
   "execution_count": 109,
   "id": "b001e66c-24ad-41c9-bb44-ca1bb0f34252",
   "metadata": {},
   "outputs": [
    {
     "data": {
      "text/plain": [
       "2730"
      ]
     },
     "execution_count": 109,
     "metadata": {},
     "output_type": "execute_result"
    }
   ],
   "source": [
    "# check to make sure it equals 2,730\n",
    "len(df_2023_elapsed[df_2023_elapsed['Answer'] == 'Client(s) Placed in Shelter'])"
   ]
  },
  {
   "cell_type": "code",
   "execution_count": 111,
   "id": "830742ab-9a5f-4e78-98e9-e8431f07e5a4",
   "metadata": {},
   "outputs": [
    {
     "data": {
      "text/plain": [
       "11726"
      ]
     },
     "execution_count": 111,
     "metadata": {},
     "output_type": "execute_result"
    }
   ],
   "source": [
    "# get Jan 1 thru Mar 30\n",
    "mask = (df_2023_elapsed['created_day'] > '2023-01-01') & (df_2023_elapsed['created_day'] <= '2023-03-30')\n",
    "df_2023_elapsed_janmar = df_2023_elapsed.loc[mask]\n",
    "len(df_2023_elapsed_janmar)"
   ]
  },
  {
   "cell_type": "code",
   "execution_count": 112,
   "id": "810fc89d-f272-4c3c-bb48-f70ca0da783b",
   "metadata": {},
   "outputs": [
    {
     "data": {
      "text/plain": [
       "count    2309.000000\n",
       "mean       18.854800\n",
       "std        71.875226\n",
       "min         0.000000\n",
       "25%         0.950000\n",
       "50%         4.483333\n",
       "75%        14.216667\n",
       "max      1155.766667\n",
       "Name: time elapsed hours, dtype: float64"
      ]
     },
     "execution_count": 112,
     "metadata": {},
     "output_type": "execute_result"
    }
   ],
   "source": [
    "# got an average of 19 hours (rounded up) which is close to what DFSS told us for that period\n",
    "df_2023_elapsed_janmar[(df_2023_elapsed_janmar['Answer'] == 'Client(s) Placed in Shelter')]['time elapsed hours'].describe()"
   ]
  },
  {
   "cell_type": "code",
   "execution_count": 231,
   "id": "2ec6e796-eaae-4e01-ba5d-c09f8088c9cf",
   "metadata": {},
   "outputs": [],
   "source": [
    "# how does the average wait time for calls ending in a client placed in shelter compare to previous years?"
   ]
  },
  {
   "cell_type": "code",
   "execution_count": 113,
   "id": "fe477691-6232-4090-a3ed-3b874b9dcc65",
   "metadata": {},
   "outputs": [
    {
     "data": {
      "text/plain": [
       "count    2730.000000\n",
       "mean       17.960910\n",
       "std        66.581916\n",
       "min         0.000000\n",
       "25%         0.916667\n",
       "50%         4.708333\n",
       "75%        14.300000\n",
       "max      1155.766667\n",
       "Name: time elapsed hours, dtype: float64"
      ]
     },
     "execution_count": 113,
     "metadata": {},
     "output_type": "execute_result"
    }
   ],
   "source": [
    "# 2023 to date\n",
    "df_2023_elapsed[(df_2023_elapsed['Answer'] == 'Client(s) Placed in Shelter')]['time elapsed hours'].describe()"
   ]
  },
  {
   "cell_type": "code",
   "execution_count": 114,
   "id": "cfc9536a-d647-4260-b869-237253b9f1ea",
   "metadata": {},
   "outputs": [
    {
     "data": {
      "text/plain": [
       "count    7586.000000\n",
       "mean       21.716550\n",
       "std       139.593979\n",
       "min         0.000000\n",
       "25%         3.516667\n",
       "50%         8.516667\n",
       "75%        17.466667\n",
       "max      5445.583333\n",
       "Name: time elapsed hours, dtype: float64"
      ]
     },
     "execution_count": 114,
     "metadata": {},
     "output_type": "execute_result"
    }
   ],
   "source": [
    "df_2022_elapsed[(df_2022_elapsed['Answer'] == 'Client(s) Placed in Shelter')]['time elapsed hours'].describe()"
   ]
  },
  {
   "cell_type": "code",
   "execution_count": 115,
   "id": "8ddd7280-e7dc-4faf-89ee-852f771ed317",
   "metadata": {},
   "outputs": [
    {
     "data": {
      "text/plain": [
       "count    5654.000000\n",
       "mean        9.648591\n",
       "std         8.876608\n",
       "min         0.000000\n",
       "25%         4.070833\n",
       "50%         7.233333\n",
       "75%        12.733333\n",
       "max       117.366667\n",
       "Name: time elapsed hours, dtype: float64"
      ]
     },
     "execution_count": 115,
     "metadata": {},
     "output_type": "execute_result"
    }
   ],
   "source": [
    "df_2021_elapsed[(df_2021_elapsed['Answer'] == 'Client(s) Placed in Shelter') | (df_2021_elapsed['Answer'] == 'Placed in a Shelter')]['time elapsed hours'].describe()"
   ]
  },
  {
   "cell_type": "code",
   "execution_count": 116,
   "id": "a6a9c67c-99c2-4910-a518-c7027874c725",
   "metadata": {},
   "outputs": [
    {
     "data": {
      "text/plain": [
       "count    7527.000000\n",
       "mean        4.208884\n",
       "std         5.467375\n",
       "min         0.000000\n",
       "25%         1.250000\n",
       "50%         2.800000\n",
       "75%         5.016667\n",
       "max        61.000000\n",
       "Name: time elapsed hours, dtype: float64"
      ]
     },
     "execution_count": 116,
     "metadata": {},
     "output_type": "execute_result"
    }
   ],
   "source": [
    "df_2020_elapsed[(df_2020_elapsed['Answer'] == 'Placed in a Shelter')]['time elapsed hours'].describe()"
   ]
  },
  {
   "cell_type": "code",
   "execution_count": 117,
   "id": "46dd7bb2-4caf-425b-84d5-655004d445df",
   "metadata": {},
   "outputs": [
    {
     "data": {
      "text/plain": [
       "count    8231.000000\n",
       "mean        2.236395\n",
       "std         2.046371\n",
       "min         0.016667\n",
       "25%         0.566667\n",
       "50%         1.700000\n",
       "75%         3.383333\n",
       "max        16.033333\n",
       "Name: time elapsed hours, dtype: float64"
      ]
     },
     "execution_count": 117,
     "metadata": {},
     "output_type": "execute_result"
    }
   ],
   "source": [
    "df_2019_elapsed[(df_2019_elapsed['Answer'] == 'Placed in a Shelter')]['time elapsed hours'].describe()"
   ]
  },
  {
   "cell_type": "code",
   "execution_count": 237,
   "id": "9136a1b2-e885-403b-98ea-7492c52e91a0",
   "metadata": {},
   "outputs": [],
   "source": [
    "# how does the average wait time for calls ending in the other activity outcomes compare to previous years?"
   ]
  },
  {
   "cell_type": "code",
   "execution_count": 118,
   "id": "222c6517-ebc6-4bf9-87d2-1925d85cde5d",
   "metadata": {},
   "outputs": [
    {
     "data": {
      "text/html": [
       "<div>\n",
       "<style scoped>\n",
       "    .dataframe tbody tr th:only-of-type {\n",
       "        vertical-align: middle;\n",
       "    }\n",
       "\n",
       "    .dataframe tbody tr th {\n",
       "        vertical-align: top;\n",
       "    }\n",
       "\n",
       "    .dataframe thead th {\n",
       "        text-align: right;\n",
       "    }\n",
       "</style>\n",
       "<table border=\"1\" class=\"dataframe\">\n",
       "  <thead>\n",
       "    <tr style=\"text-align: right;\">\n",
       "      <th></th>\n",
       "      <th>Answer</th>\n",
       "      <th>time elapsed hours</th>\n",
       "    </tr>\n",
       "  </thead>\n",
       "  <tbody>\n",
       "    <tr>\n",
       "      <th>0</th>\n",
       "      <td>Client(s) Placed in Shelter</td>\n",
       "      <td>17.960910</td>\n",
       "    </tr>\n",
       "    <tr>\n",
       "      <th>1</th>\n",
       "      <td>Completed</td>\n",
       "      <td>66.711506</td>\n",
       "    </tr>\n",
       "    <tr>\n",
       "      <th>2</th>\n",
       "      <td>Found Alternate Shelter</td>\n",
       "      <td>25.262423</td>\n",
       "    </tr>\n",
       "    <tr>\n",
       "      <th>3</th>\n",
       "      <td>Gone on Arrival</td>\n",
       "      <td>44.643545</td>\n",
       "    </tr>\n",
       "    <tr>\n",
       "      <th>4</th>\n",
       "      <td>Refused Service</td>\n",
       "      <td>27.433228</td>\n",
       "    </tr>\n",
       "    <tr>\n",
       "      <th>5</th>\n",
       "      <td>Request Cancelled</td>\n",
       "      <td>36.177199</td>\n",
       "    </tr>\n",
       "  </tbody>\n",
       "</table>\n",
       "</div>"
      ],
      "text/plain": [
       "                        Answer  time elapsed hours\n",
       "0  Client(s) Placed in Shelter           17.960910\n",
       "1                    Completed           66.711506\n",
       "2      Found Alternate Shelter           25.262423\n",
       "3              Gone on Arrival           44.643545\n",
       "4              Refused Service           27.433228\n",
       "5            Request Cancelled           36.177199"
      ]
     },
     "execution_count": 118,
     "metadata": {},
     "output_type": "execute_result"
    }
   ],
   "source": [
    "df_2023_elapsed.groupby('Answer')['time elapsed hours'].mean().reset_index()"
   ]
  },
  {
   "cell_type": "code",
   "execution_count": 119,
   "id": "d56b81c4-cacf-4270-89a6-86921b90492b",
   "metadata": {},
   "outputs": [
    {
     "data": {
      "text/html": [
       "<div>\n",
       "<style scoped>\n",
       "    .dataframe tbody tr th:only-of-type {\n",
       "        vertical-align: middle;\n",
       "    }\n",
       "\n",
       "    .dataframe tbody tr th {\n",
       "        vertical-align: top;\n",
       "    }\n",
       "\n",
       "    .dataframe thead th {\n",
       "        text-align: right;\n",
       "    }\n",
       "</style>\n",
       "<table border=\"1\" class=\"dataframe\">\n",
       "  <thead>\n",
       "    <tr style=\"text-align: right;\">\n",
       "      <th></th>\n",
       "      <th>Answer</th>\n",
       "      <th>time elapsed hours</th>\n",
       "    </tr>\n",
       "  </thead>\n",
       "  <tbody>\n",
       "    <tr>\n",
       "      <th>0</th>\n",
       "      <td>Client(s) Placed in Shelter</td>\n",
       "      <td>21.716550</td>\n",
       "    </tr>\n",
       "    <tr>\n",
       "      <th>1</th>\n",
       "      <td>Completed</td>\n",
       "      <td>27.275779</td>\n",
       "    </tr>\n",
       "    <tr>\n",
       "      <th>2</th>\n",
       "      <td>Found Alternate Shelter</td>\n",
       "      <td>15.390073</td>\n",
       "    </tr>\n",
       "    <tr>\n",
       "      <th>3</th>\n",
       "      <td>Gone on Arrival</td>\n",
       "      <td>23.267351</td>\n",
       "    </tr>\n",
       "    <tr>\n",
       "      <th>4</th>\n",
       "      <td>Placed in a Hotel</td>\n",
       "      <td>1.583333</td>\n",
       "    </tr>\n",
       "    <tr>\n",
       "      <th>5</th>\n",
       "      <td>Refused Service</td>\n",
       "      <td>20.285322</td>\n",
       "    </tr>\n",
       "    <tr>\n",
       "      <th>6</th>\n",
       "      <td>Request Cancelled</td>\n",
       "      <td>37.220215</td>\n",
       "    </tr>\n",
       "  </tbody>\n",
       "</table>\n",
       "</div>"
      ],
      "text/plain": [
       "                        Answer  time elapsed hours\n",
       "0  Client(s) Placed in Shelter           21.716550\n",
       "1                    Completed           27.275779\n",
       "2      Found Alternate Shelter           15.390073\n",
       "3              Gone on Arrival           23.267351\n",
       "4            Placed in a Hotel            1.583333\n",
       "5              Refused Service           20.285322\n",
       "6            Request Cancelled           37.220215"
      ]
     },
     "execution_count": 119,
     "metadata": {},
     "output_type": "execute_result"
    }
   ],
   "source": [
    "df_2022_elapsed.groupby('Answer')['time elapsed hours'].mean().reset_index()"
   ]
  },
  {
   "cell_type": "code",
   "execution_count": 120,
   "id": "3a5330c2-3d27-4c8f-ad1a-700f044d90d1",
   "metadata": {},
   "outputs": [
    {
     "data": {
      "text/html": [
       "<div>\n",
       "<style scoped>\n",
       "    .dataframe tbody tr th:only-of-type {\n",
       "        vertical-align: middle;\n",
       "    }\n",
       "\n",
       "    .dataframe tbody tr th {\n",
       "        vertical-align: top;\n",
       "    }\n",
       "\n",
       "    .dataframe thead th {\n",
       "        text-align: right;\n",
       "    }\n",
       "</style>\n",
       "<table border=\"1\" class=\"dataframe\">\n",
       "  <thead>\n",
       "    <tr style=\"text-align: right;\">\n",
       "      <th></th>\n",
       "      <th>Answer</th>\n",
       "      <th>time elapsed hours</th>\n",
       "    </tr>\n",
       "  </thead>\n",
       "  <tbody>\n",
       "    <tr>\n",
       "      <th>0</th>\n",
       "      <td>Client(s) Placed in Shelter</td>\n",
       "      <td>9.272216</td>\n",
       "    </tr>\n",
       "    <tr>\n",
       "      <th>1</th>\n",
       "      <td>Completed</td>\n",
       "      <td>14.635493</td>\n",
       "    </tr>\n",
       "    <tr>\n",
       "      <th>2</th>\n",
       "      <td>Found Alternate Shelter</td>\n",
       "      <td>12.168777</td>\n",
       "    </tr>\n",
       "    <tr>\n",
       "      <th>3</th>\n",
       "      <td>Gone on Arrival</td>\n",
       "      <td>11.296537</td>\n",
       "    </tr>\n",
       "    <tr>\n",
       "      <th>4</th>\n",
       "      <td>Placed in a Hotel</td>\n",
       "      <td>4.828889</td>\n",
       "    </tr>\n",
       "    <tr>\n",
       "      <th>5</th>\n",
       "      <td>Placed in a Shelter</td>\n",
       "      <td>10.451829</td>\n",
       "    </tr>\n",
       "    <tr>\n",
       "      <th>6</th>\n",
       "      <td>Refused Service</td>\n",
       "      <td>10.630061</td>\n",
       "    </tr>\n",
       "    <tr>\n",
       "      <th>7</th>\n",
       "      <td>Request Cancelled</td>\n",
       "      <td>22.066417</td>\n",
       "    </tr>\n",
       "  </tbody>\n",
       "</table>\n",
       "</div>"
      ],
      "text/plain": [
       "                        Answer  time elapsed hours\n",
       "0  Client(s) Placed in Shelter            9.272216\n",
       "1                    Completed           14.635493\n",
       "2      Found Alternate Shelter           12.168777\n",
       "3              Gone on Arrival           11.296537\n",
       "4            Placed in a Hotel            4.828889\n",
       "5          Placed in a Shelter           10.451829\n",
       "6              Refused Service           10.630061\n",
       "7            Request Cancelled           22.066417"
      ]
     },
     "execution_count": 120,
     "metadata": {},
     "output_type": "execute_result"
    }
   ],
   "source": [
    "df_2021_elapsed.groupby('Answer')['time elapsed hours'].mean().reset_index()"
   ]
  },
  {
   "cell_type": "code",
   "execution_count": 121,
   "id": "23c66407-5f05-4db2-8692-43e5a3b8d565",
   "metadata": {},
   "outputs": [
    {
     "data": {
      "text/html": [
       "<div>\n",
       "<style scoped>\n",
       "    .dataframe tbody tr th:only-of-type {\n",
       "        vertical-align: middle;\n",
       "    }\n",
       "\n",
       "    .dataframe tbody tr th {\n",
       "        vertical-align: top;\n",
       "    }\n",
       "\n",
       "    .dataframe thead th {\n",
       "        text-align: right;\n",
       "    }\n",
       "</style>\n",
       "<table border=\"1\" class=\"dataframe\">\n",
       "  <thead>\n",
       "    <tr style=\"text-align: right;\">\n",
       "      <th></th>\n",
       "      <th>Answer</th>\n",
       "      <th>time elapsed hours</th>\n",
       "    </tr>\n",
       "  </thead>\n",
       "  <tbody>\n",
       "    <tr>\n",
       "      <th>0</th>\n",
       "      <td>Completed</td>\n",
       "      <td>6.928553</td>\n",
       "    </tr>\n",
       "    <tr>\n",
       "      <th>1</th>\n",
       "      <td>Found Alternate Shelter</td>\n",
       "      <td>8.345662</td>\n",
       "    </tr>\n",
       "    <tr>\n",
       "      <th>2</th>\n",
       "      <td>Gone on Arrival</td>\n",
       "      <td>5.726641</td>\n",
       "    </tr>\n",
       "    <tr>\n",
       "      <th>3</th>\n",
       "      <td>Placed in a Hotel</td>\n",
       "      <td>7.245833</td>\n",
       "    </tr>\n",
       "    <tr>\n",
       "      <th>4</th>\n",
       "      <td>Placed in a Shelter</td>\n",
       "      <td>4.208884</td>\n",
       "    </tr>\n",
       "    <tr>\n",
       "      <th>5</th>\n",
       "      <td>Refused Service</td>\n",
       "      <td>6.335769</td>\n",
       "    </tr>\n",
       "    <tr>\n",
       "      <th>6</th>\n",
       "      <td>Request Cancelled</td>\n",
       "      <td>7.810327</td>\n",
       "    </tr>\n",
       "  </tbody>\n",
       "</table>\n",
       "</div>"
      ],
      "text/plain": [
       "                    Answer  time elapsed hours\n",
       "0                Completed            6.928553\n",
       "1  Found Alternate Shelter            8.345662\n",
       "2          Gone on Arrival            5.726641\n",
       "3        Placed in a Hotel            7.245833\n",
       "4      Placed in a Shelter            4.208884\n",
       "5          Refused Service            6.335769\n",
       "6        Request Cancelled            7.810327"
      ]
     },
     "execution_count": 121,
     "metadata": {},
     "output_type": "execute_result"
    }
   ],
   "source": [
    "df_2020_elapsed.groupby('Answer')['time elapsed hours'].mean().reset_index()"
   ]
  },
  {
   "cell_type": "code",
   "execution_count": 122,
   "id": "caa84c64-b844-4412-b4a5-1e5400d0e38a",
   "metadata": {},
   "outputs": [
    {
     "data": {
      "text/html": [
       "<div>\n",
       "<style scoped>\n",
       "    .dataframe tbody tr th:only-of-type {\n",
       "        vertical-align: middle;\n",
       "    }\n",
       "\n",
       "    .dataframe tbody tr th {\n",
       "        vertical-align: top;\n",
       "    }\n",
       "\n",
       "    .dataframe thead th {\n",
       "        text-align: right;\n",
       "    }\n",
       "</style>\n",
       "<table border=\"1\" class=\"dataframe\">\n",
       "  <thead>\n",
       "    <tr style=\"text-align: right;\">\n",
       "      <th></th>\n",
       "      <th>Answer</th>\n",
       "      <th>time elapsed hours</th>\n",
       "    </tr>\n",
       "  </thead>\n",
       "  <tbody>\n",
       "    <tr>\n",
       "      <th>0</th>\n",
       "      <td>Completed</td>\n",
       "      <td>2.374428</td>\n",
       "    </tr>\n",
       "    <tr>\n",
       "      <th>1</th>\n",
       "      <td>Found Alternate Shelter</td>\n",
       "      <td>1.925075</td>\n",
       "    </tr>\n",
       "    <tr>\n",
       "      <th>2</th>\n",
       "      <td>Gone on Arrival</td>\n",
       "      <td>3.507875</td>\n",
       "    </tr>\n",
       "    <tr>\n",
       "      <th>3</th>\n",
       "      <td>Placed in a Hotel</td>\n",
       "      <td>4.421429</td>\n",
       "    </tr>\n",
       "    <tr>\n",
       "      <th>4</th>\n",
       "      <td>Placed in a Shelter</td>\n",
       "      <td>2.236395</td>\n",
       "    </tr>\n",
       "    <tr>\n",
       "      <th>5</th>\n",
       "      <td>Refused Service</td>\n",
       "      <td>2.571024</td>\n",
       "    </tr>\n",
       "    <tr>\n",
       "      <th>6</th>\n",
       "      <td>Request Cancelled</td>\n",
       "      <td>2.385902</td>\n",
       "    </tr>\n",
       "  </tbody>\n",
       "</table>\n",
       "</div>"
      ],
      "text/plain": [
       "                    Answer  time elapsed hours\n",
       "0                Completed            2.374428\n",
       "1  Found Alternate Shelter            1.925075\n",
       "2          Gone on Arrival            3.507875\n",
       "3        Placed in a Hotel            4.421429\n",
       "4      Placed in a Shelter            2.236395\n",
       "5          Refused Service            2.571024\n",
       "6        Request Cancelled            2.385902"
      ]
     },
     "execution_count": 122,
     "metadata": {},
     "output_type": "execute_result"
    }
   ],
   "source": [
    "df_2019_elapsed.groupby('Answer')['time elapsed hours'].mean().reset_index()"
   ]
  },
  {
   "cell_type": "code",
   "execution_count": 123,
   "id": "73f3d925-895a-40fa-a459-174035cb7a8d",
   "metadata": {},
   "outputs": [
    {
     "data": {
      "text/html": [
       "<div>\n",
       "<style scoped>\n",
       "    .dataframe tbody tr th:only-of-type {\n",
       "        vertical-align: middle;\n",
       "    }\n",
       "\n",
       "    .dataframe tbody tr th {\n",
       "        vertical-align: top;\n",
       "    }\n",
       "\n",
       "    .dataframe thead th {\n",
       "        text-align: right;\n",
       "    }\n",
       "</style>\n",
       "<table border=\"1\" class=\"dataframe\">\n",
       "  <thead>\n",
       "    <tr style=\"text-align: right;\">\n",
       "      <th></th>\n",
       "      <th>Department</th>\n",
       "      <th>Service Request: Type Name</th>\n",
       "      <th>Service Request Number</th>\n",
       "      <th>Date/Time Opened</th>\n",
       "      <th>Date/Time Closed</th>\n",
       "      <th>Service Request Status</th>\n",
       "      <th>Street Block Number</th>\n",
       "      <th>Street Direction</th>\n",
       "      <th>Street Name</th>\n",
       "      <th>Street Type</th>\n",
       "      <th>...</th>\n",
       "      <th>created_year</th>\n",
       "      <th>created_month</th>\n",
       "      <th>created_month_year</th>\n",
       "      <th>created_day</th>\n",
       "      <th>created_hour</th>\n",
       "      <th>closed_hour</th>\n",
       "      <th>time elapsed</th>\n",
       "      <th>time elapsed hours</th>\n",
       "      <th>closed_day</th>\n",
       "      <th>time elapsed days</th>\n",
       "    </tr>\n",
       "  </thead>\n",
       "  <tbody>\n",
       "    <tr>\n",
       "      <th>9523</th>\n",
       "      <td>DFSS - Department of Family &amp; Support Services</td>\n",
       "      <td>Shelter Request</td>\n",
       "      <td>SR22-01295003</td>\n",
       "      <td>2022-07-24 00:35:00</td>\n",
       "      <td>2023-03-07 22:10:00</td>\n",
       "      <td>Completed</td>\n",
       "      <td>600</td>\n",
       "      <td>N</td>\n",
       "      <td>AUSTIN</td>\n",
       "      <td>BLVD</td>\n",
       "      <td>...</td>\n",
       "      <td>2022</td>\n",
       "      <td>7</td>\n",
       "      <td>07/2022</td>\n",
       "      <td>2022-07-24</td>\n",
       "      <td>00</td>\n",
       "      <td>22</td>\n",
       "      <td>-227 days +02:25:00</td>\n",
       "      <td>5445.583333</td>\n",
       "      <td>2023-03-07</td>\n",
       "      <td>227</td>\n",
       "    </tr>\n",
       "    <tr>\n",
       "      <th>8716</th>\n",
       "      <td>DFSS - Department of Family &amp; Support Services</td>\n",
       "      <td>Shelter Request</td>\n",
       "      <td>SR22-01281412</td>\n",
       "      <td>2022-07-21 21:44:00</td>\n",
       "      <td>2023-01-12 00:31:00</td>\n",
       "      <td>Completed</td>\n",
       "      <td>600</td>\n",
       "      <td>N</td>\n",
       "      <td>AUSTIN</td>\n",
       "      <td>BLVD</td>\n",
       "      <td>...</td>\n",
       "      <td>2022</td>\n",
       "      <td>7</td>\n",
       "      <td>07/2022</td>\n",
       "      <td>2022-07-21</td>\n",
       "      <td>21</td>\n",
       "      <td>00</td>\n",
       "      <td>-175 days +21:13:00</td>\n",
       "      <td>4178.783333</td>\n",
       "      <td>2023-01-12</td>\n",
       "      <td>175</td>\n",
       "    </tr>\n",
       "    <tr>\n",
       "      <th>31801</th>\n",
       "      <td>DFSS - Department of Family &amp; Support Services</td>\n",
       "      <td>Shelter Request</td>\n",
       "      <td>SR22-01653564</td>\n",
       "      <td>2022-09-16 23:43:00</td>\n",
       "      <td>2023-03-04 00:17:00</td>\n",
       "      <td>Completed</td>\n",
       "      <td>7800</td>\n",
       "      <td>S</td>\n",
       "      <td>HALSTED</td>\n",
       "      <td>ST</td>\n",
       "      <td>...</td>\n",
       "      <td>2022</td>\n",
       "      <td>9</td>\n",
       "      <td>09/2022</td>\n",
       "      <td>2022-09-16</td>\n",
       "      <td>23</td>\n",
       "      <td>00</td>\n",
       "      <td>-169 days +23:26:00</td>\n",
       "      <td>4032.566667</td>\n",
       "      <td>2023-03-04</td>\n",
       "      <td>169</td>\n",
       "    </tr>\n",
       "  </tbody>\n",
       "</table>\n",
       "<p>3 rows × 25 columns</p>\n",
       "</div>"
      ],
      "text/plain": [
       "                                           Department  \\\n",
       "9523   DFSS - Department of Family & Support Services   \n",
       "8716   DFSS - Department of Family & Support Services   \n",
       "31801  DFSS - Department of Family & Support Services   \n",
       "\n",
       "      Service Request: Type Name Service Request Number    Date/Time Opened  \\\n",
       "9523             Shelter Request          SR22-01295003 2022-07-24 00:35:00   \n",
       "8716             Shelter Request          SR22-01281412 2022-07-21 21:44:00   \n",
       "31801            Shelter Request          SR22-01653564 2022-09-16 23:43:00   \n",
       "\n",
       "         Date/Time Closed Service Request Status  Street Block Number  \\\n",
       "9523  2023-03-07 22:10:00              Completed                  600   \n",
       "8716  2023-01-12 00:31:00              Completed                  600   \n",
       "31801 2023-03-04 00:17:00              Completed                 7800   \n",
       "\n",
       "      Street Direction Street Name Street Type  ...  created_year  \\\n",
       "9523                 N      AUSTIN        BLVD  ...          2022   \n",
       "8716                 N      AUSTIN        BLVD  ...          2022   \n",
       "31801                S     HALSTED          ST  ...          2022   \n",
       "\n",
       "      created_month created_month_year  created_day  created_hour  \\\n",
       "9523              7            07/2022   2022-07-24            00   \n",
       "8716              7            07/2022   2022-07-21            21   \n",
       "31801             9            09/2022   2022-09-16            23   \n",
       "\n",
       "       closed_hour        time elapsed time elapsed hours  closed_day  \\\n",
       "9523            22 -227 days +02:25:00        5445.583333  2023-03-07   \n",
       "8716            00 -175 days +21:13:00        4178.783333  2023-01-12   \n",
       "31801           00 -169 days +23:26:00        4032.566667  2023-03-04   \n",
       "\n",
       "      time elapsed days  \n",
       "9523                227  \n",
       "8716                175  \n",
       "31801               169  \n",
       "\n",
       "[3 rows x 25 columns]"
      ]
     },
     "execution_count": 123,
     "metadata": {},
     "output_type": "execute_result"
    }
   ],
   "source": [
    "# spotcheck\n",
    "df_2022_elapsed.sort_values('time elapsed hours', ascending=False).head(3)"
   ]
  },
  {
   "cell_type": "code",
   "execution_count": 124,
   "id": "02bd0bae-027f-494c-9fdd-73b7a0b0536e",
   "metadata": {},
   "outputs": [
    {
     "data": {
      "text/html": [
       "<div>\n",
       "<style scoped>\n",
       "    .dataframe tbody tr th:only-of-type {\n",
       "        vertical-align: middle;\n",
       "    }\n",
       "\n",
       "    .dataframe tbody tr th {\n",
       "        vertical-align: top;\n",
       "    }\n",
       "\n",
       "    .dataframe thead th {\n",
       "        text-align: right;\n",
       "    }\n",
       "</style>\n",
       "<table border=\"1\" class=\"dataframe\">\n",
       "  <thead>\n",
       "    <tr style=\"text-align: right;\">\n",
       "      <th></th>\n",
       "      <th>Answer</th>\n",
       "      <th>time elapsed hours</th>\n",
       "    </tr>\n",
       "  </thead>\n",
       "  <tbody>\n",
       "    <tr>\n",
       "      <th>0</th>\n",
       "      <td>Client(s) Placed in Shelter</td>\n",
       "      <td>4.708333</td>\n",
       "    </tr>\n",
       "    <tr>\n",
       "      <th>1</th>\n",
       "      <td>Completed</td>\n",
       "      <td>51.650000</td>\n",
       "    </tr>\n",
       "    <tr>\n",
       "      <th>2</th>\n",
       "      <td>Found Alternate Shelter</td>\n",
       "      <td>16.416667</td>\n",
       "    </tr>\n",
       "    <tr>\n",
       "      <th>3</th>\n",
       "      <td>Gone on Arrival</td>\n",
       "      <td>13.133333</td>\n",
       "    </tr>\n",
       "    <tr>\n",
       "      <th>4</th>\n",
       "      <td>Refused Service</td>\n",
       "      <td>11.316667</td>\n",
       "    </tr>\n",
       "    <tr>\n",
       "      <th>5</th>\n",
       "      <td>Request Cancelled</td>\n",
       "      <td>31.883333</td>\n",
       "    </tr>\n",
       "  </tbody>\n",
       "</table>\n",
       "</div>"
      ],
      "text/plain": [
       "                        Answer  time elapsed hours\n",
       "0  Client(s) Placed in Shelter            4.708333\n",
       "1                    Completed           51.650000\n",
       "2      Found Alternate Shelter           16.416667\n",
       "3              Gone on Arrival           13.133333\n",
       "4              Refused Service           11.316667\n",
       "5            Request Cancelled           31.883333"
      ]
     },
     "execution_count": 124,
     "metadata": {},
     "output_type": "execute_result"
    }
   ],
   "source": [
    "df_2023_elapsed.groupby('Answer')['time elapsed hours'].median().reset_index()"
   ]
  },
  {
   "cell_type": "code",
   "execution_count": 125,
   "id": "7903c123-f608-48f7-82f8-5e10e068428f",
   "metadata": {},
   "outputs": [
    {
     "data": {
      "text/html": [
       "<div>\n",
       "<style scoped>\n",
       "    .dataframe tbody tr th:only-of-type {\n",
       "        vertical-align: middle;\n",
       "    }\n",
       "\n",
       "    .dataframe tbody tr th {\n",
       "        vertical-align: top;\n",
       "    }\n",
       "\n",
       "    .dataframe thead th {\n",
       "        text-align: right;\n",
       "    }\n",
       "</style>\n",
       "<table border=\"1\" class=\"dataframe\">\n",
       "  <thead>\n",
       "    <tr style=\"text-align: right;\">\n",
       "      <th></th>\n",
       "      <th>Answer</th>\n",
       "      <th>time elapsed hours</th>\n",
       "    </tr>\n",
       "  </thead>\n",
       "  <tbody>\n",
       "    <tr>\n",
       "      <th>0</th>\n",
       "      <td>Client(s) Placed in Shelter</td>\n",
       "      <td>8.516667</td>\n",
       "    </tr>\n",
       "    <tr>\n",
       "      <th>1</th>\n",
       "      <td>Completed</td>\n",
       "      <td>23.550000</td>\n",
       "    </tr>\n",
       "    <tr>\n",
       "      <th>2</th>\n",
       "      <td>Found Alternate Shelter</td>\n",
       "      <td>13.150000</td>\n",
       "    </tr>\n",
       "    <tr>\n",
       "      <th>3</th>\n",
       "      <td>Gone on Arrival</td>\n",
       "      <td>13.783333</td>\n",
       "    </tr>\n",
       "    <tr>\n",
       "      <th>4</th>\n",
       "      <td>Placed in a Hotel</td>\n",
       "      <td>0.216667</td>\n",
       "    </tr>\n",
       "    <tr>\n",
       "      <th>5</th>\n",
       "      <td>Refused Service</td>\n",
       "      <td>13.225000</td>\n",
       "    </tr>\n",
       "    <tr>\n",
       "      <th>6</th>\n",
       "      <td>Request Cancelled</td>\n",
       "      <td>25.283333</td>\n",
       "    </tr>\n",
       "  </tbody>\n",
       "</table>\n",
       "</div>"
      ],
      "text/plain": [
       "                        Answer  time elapsed hours\n",
       "0  Client(s) Placed in Shelter            8.516667\n",
       "1                    Completed           23.550000\n",
       "2      Found Alternate Shelter           13.150000\n",
       "3              Gone on Arrival           13.783333\n",
       "4            Placed in a Hotel            0.216667\n",
       "5              Refused Service           13.225000\n",
       "6            Request Cancelled           25.283333"
      ]
     },
     "execution_count": 125,
     "metadata": {},
     "output_type": "execute_result"
    }
   ],
   "source": [
    "df_2022_elapsed.groupby('Answer')['time elapsed hours'].median().reset_index()"
   ]
  },
  {
   "cell_type": "code",
   "execution_count": 126,
   "id": "7f90fd98-0568-476e-be10-8d897b40927e",
   "metadata": {},
   "outputs": [
    {
     "data": {
      "text/html": [
       "<div>\n",
       "<style scoped>\n",
       "    .dataframe tbody tr th:only-of-type {\n",
       "        vertical-align: middle;\n",
       "    }\n",
       "\n",
       "    .dataframe tbody tr th {\n",
       "        vertical-align: top;\n",
       "    }\n",
       "\n",
       "    .dataframe thead th {\n",
       "        text-align: right;\n",
       "    }\n",
       "</style>\n",
       "<table border=\"1\" class=\"dataframe\">\n",
       "  <thead>\n",
       "    <tr style=\"text-align: right;\">\n",
       "      <th></th>\n",
       "      <th>Answer</th>\n",
       "      <th>time elapsed hours</th>\n",
       "    </tr>\n",
       "  </thead>\n",
       "  <tbody>\n",
       "    <tr>\n",
       "      <th>0</th>\n",
       "      <td>Client(s) Placed in Shelter</td>\n",
       "      <td>7.316667</td>\n",
       "    </tr>\n",
       "    <tr>\n",
       "      <th>1</th>\n",
       "      <td>Completed</td>\n",
       "      <td>13.516667</td>\n",
       "    </tr>\n",
       "    <tr>\n",
       "      <th>2</th>\n",
       "      <td>Found Alternate Shelter</td>\n",
       "      <td>11.833333</td>\n",
       "    </tr>\n",
       "    <tr>\n",
       "      <th>3</th>\n",
       "      <td>Gone on Arrival</td>\n",
       "      <td>9.583333</td>\n",
       "    </tr>\n",
       "    <tr>\n",
       "      <th>4</th>\n",
       "      <td>Placed in a Hotel</td>\n",
       "      <td>3.133333</td>\n",
       "    </tr>\n",
       "    <tr>\n",
       "      <th>5</th>\n",
       "      <td>Placed in a Shelter</td>\n",
       "      <td>7.008333</td>\n",
       "    </tr>\n",
       "    <tr>\n",
       "      <th>6</th>\n",
       "      <td>Refused Service</td>\n",
       "      <td>8.200000</td>\n",
       "    </tr>\n",
       "    <tr>\n",
       "      <th>7</th>\n",
       "      <td>Request Cancelled</td>\n",
       "      <td>14.625000</td>\n",
       "    </tr>\n",
       "  </tbody>\n",
       "</table>\n",
       "</div>"
      ],
      "text/plain": [
       "                        Answer  time elapsed hours\n",
       "0  Client(s) Placed in Shelter            7.316667\n",
       "1                    Completed           13.516667\n",
       "2      Found Alternate Shelter           11.833333\n",
       "3              Gone on Arrival            9.583333\n",
       "4            Placed in a Hotel            3.133333\n",
       "5          Placed in a Shelter            7.008333\n",
       "6              Refused Service            8.200000\n",
       "7            Request Cancelled           14.625000"
      ]
     },
     "execution_count": 126,
     "metadata": {},
     "output_type": "execute_result"
    }
   ],
   "source": [
    "df_2021_elapsed.groupby('Answer')['time elapsed hours'].median().reset_index()"
   ]
  },
  {
   "cell_type": "code",
   "execution_count": 127,
   "id": "aded71ed-f2ed-480e-8c38-f430c7441188",
   "metadata": {},
   "outputs": [
    {
     "data": {
      "text/html": [
       "<div>\n",
       "<style scoped>\n",
       "    .dataframe tbody tr th:only-of-type {\n",
       "        vertical-align: middle;\n",
       "    }\n",
       "\n",
       "    .dataframe tbody tr th {\n",
       "        vertical-align: top;\n",
       "    }\n",
       "\n",
       "    .dataframe thead th {\n",
       "        text-align: right;\n",
       "    }\n",
       "</style>\n",
       "<table border=\"1\" class=\"dataframe\">\n",
       "  <thead>\n",
       "    <tr style=\"text-align: right;\">\n",
       "      <th></th>\n",
       "      <th>Answer</th>\n",
       "      <th>time elapsed hours</th>\n",
       "    </tr>\n",
       "  </thead>\n",
       "  <tbody>\n",
       "    <tr>\n",
       "      <th>0</th>\n",
       "      <td>Completed</td>\n",
       "      <td>4.433333</td>\n",
       "    </tr>\n",
       "    <tr>\n",
       "      <th>1</th>\n",
       "      <td>Found Alternate Shelter</td>\n",
       "      <td>5.808333</td>\n",
       "    </tr>\n",
       "    <tr>\n",
       "      <th>2</th>\n",
       "      <td>Gone on Arrival</td>\n",
       "      <td>4.358333</td>\n",
       "    </tr>\n",
       "    <tr>\n",
       "      <th>3</th>\n",
       "      <td>Placed in a Hotel</td>\n",
       "      <td>6.725000</td>\n",
       "    </tr>\n",
       "    <tr>\n",
       "      <th>4</th>\n",
       "      <td>Placed in a Shelter</td>\n",
       "      <td>2.800000</td>\n",
       "    </tr>\n",
       "    <tr>\n",
       "      <th>5</th>\n",
       "      <td>Refused Service</td>\n",
       "      <td>3.900000</td>\n",
       "    </tr>\n",
       "    <tr>\n",
       "      <th>6</th>\n",
       "      <td>Request Cancelled</td>\n",
       "      <td>4.166667</td>\n",
       "    </tr>\n",
       "  </tbody>\n",
       "</table>\n",
       "</div>"
      ],
      "text/plain": [
       "                    Answer  time elapsed hours\n",
       "0                Completed            4.433333\n",
       "1  Found Alternate Shelter            5.808333\n",
       "2          Gone on Arrival            4.358333\n",
       "3        Placed in a Hotel            6.725000\n",
       "4      Placed in a Shelter            2.800000\n",
       "5          Refused Service            3.900000\n",
       "6        Request Cancelled            4.166667"
      ]
     },
     "execution_count": 127,
     "metadata": {},
     "output_type": "execute_result"
    }
   ],
   "source": [
    "df_2020_elapsed.groupby('Answer')['time elapsed hours'].median().reset_index()"
   ]
  },
  {
   "cell_type": "code",
   "execution_count": 128,
   "id": "3b152353-a8a8-4359-8855-b365c0fc69fd",
   "metadata": {},
   "outputs": [
    {
     "data": {
      "text/html": [
       "<div>\n",
       "<style scoped>\n",
       "    .dataframe tbody tr th:only-of-type {\n",
       "        vertical-align: middle;\n",
       "    }\n",
       "\n",
       "    .dataframe tbody tr th {\n",
       "        vertical-align: top;\n",
       "    }\n",
       "\n",
       "    .dataframe thead th {\n",
       "        text-align: right;\n",
       "    }\n",
       "</style>\n",
       "<table border=\"1\" class=\"dataframe\">\n",
       "  <thead>\n",
       "    <tr style=\"text-align: right;\">\n",
       "      <th></th>\n",
       "      <th>Answer</th>\n",
       "      <th>time elapsed hours</th>\n",
       "    </tr>\n",
       "  </thead>\n",
       "  <tbody>\n",
       "    <tr>\n",
       "      <th>0</th>\n",
       "      <td>Completed</td>\n",
       "      <td>1.883333</td>\n",
       "    </tr>\n",
       "    <tr>\n",
       "      <th>1</th>\n",
       "      <td>Found Alternate Shelter</td>\n",
       "      <td>1.400000</td>\n",
       "    </tr>\n",
       "    <tr>\n",
       "      <th>2</th>\n",
       "      <td>Gone on Arrival</td>\n",
       "      <td>3.050000</td>\n",
       "    </tr>\n",
       "    <tr>\n",
       "      <th>3</th>\n",
       "      <td>Placed in a Hotel</td>\n",
       "      <td>3.575000</td>\n",
       "    </tr>\n",
       "    <tr>\n",
       "      <th>4</th>\n",
       "      <td>Placed in a Shelter</td>\n",
       "      <td>1.700000</td>\n",
       "    </tr>\n",
       "    <tr>\n",
       "      <th>5</th>\n",
       "      <td>Refused Service</td>\n",
       "      <td>2.133333</td>\n",
       "    </tr>\n",
       "    <tr>\n",
       "      <th>6</th>\n",
       "      <td>Request Cancelled</td>\n",
       "      <td>1.766667</td>\n",
       "    </tr>\n",
       "  </tbody>\n",
       "</table>\n",
       "</div>"
      ],
      "text/plain": [
       "                    Answer  time elapsed hours\n",
       "0                Completed            1.883333\n",
       "1  Found Alternate Shelter            1.400000\n",
       "2          Gone on Arrival            3.050000\n",
       "3        Placed in a Hotel            3.575000\n",
       "4      Placed in a Shelter            1.700000\n",
       "5          Refused Service            2.133333\n",
       "6        Request Cancelled            1.766667"
      ]
     },
     "execution_count": 128,
     "metadata": {},
     "output_type": "execute_result"
    }
   ],
   "source": [
    "df_2019_elapsed.groupby('Answer')['time elapsed hours'].median().reset_index()"
   ]
  },
  {
   "cell_type": "markdown",
   "id": "ffc87cfe-b893-4f81-8710-61b3277b3b21",
   "metadata": {},
   "source": [
    "## Average and median time to close by month"
   ]
  },
  {
   "cell_type": "markdown",
   "id": "4750332e-8438-4f52-845b-9cd0c9769b0f",
   "metadata": {},
   "source": [
    "For this Flourish viz: https://public.flourish.studio/visualisation/13658663/"
   ]
  },
  {
   "cell_type": "code",
   "execution_count": 130,
   "id": "93bcdab1-31b3-4184-907a-42a9d25e204c",
   "metadata": {},
   "outputs": [],
   "source": [
    "wait_by_month_2023 = df_2023_elapsed_all.groupby('created_month_year')['time elapsed hours'].mean().reset_index()\n",
    "wait_by_month_2022 = df_2022_elapsed_all.groupby('created_month_year')['time elapsed hours'].mean().reset_index()\n",
    "wait_by_month_2021 = df_2021_elapsed_all.groupby('created_month_year')['time elapsed hours'].mean().reset_index()\n",
    "wait_by_month_2020 = df_2020_elapsed_all.groupby('created_month_year')['time elapsed hours'].mean().reset_index()\n",
    "wait_by_month_2019 = df_2019_elapsed_all.groupby('created_month_year')['time elapsed hours'].mean().reset_index()"
   ]
  },
  {
   "cell_type": "code",
   "execution_count": 131,
   "id": "83834e25-d6f7-4f45-b911-47522e7f91ad",
   "metadata": {},
   "outputs": [],
   "source": [
    "# concatenate all monthly data\n",
    "monthly_waits = pd.concat([wait_by_month_2019,wait_by_month_2020,wait_by_month_2021,wait_by_month_2022,wait_by_month_2023])"
   ]
  },
  {
   "cell_type": "code",
   "execution_count": 132,
   "id": "d6d1dddb-bdac-47eb-a0da-2474a372298b",
   "metadata": {},
   "outputs": [
    {
     "data": {
      "text/html": [
       "<div>\n",
       "<style scoped>\n",
       "    .dataframe tbody tr th:only-of-type {\n",
       "        vertical-align: middle;\n",
       "    }\n",
       "\n",
       "    .dataframe tbody tr th {\n",
       "        vertical-align: top;\n",
       "    }\n",
       "\n",
       "    .dataframe thead th {\n",
       "        text-align: right;\n",
       "    }\n",
       "</style>\n",
       "<table border=\"1\" class=\"dataframe\">\n",
       "  <thead>\n",
       "    <tr style=\"text-align: right;\">\n",
       "      <th></th>\n",
       "      <th>created_month_year</th>\n",
       "      <th>time elapsed hours</th>\n",
       "    </tr>\n",
       "  </thead>\n",
       "  <tbody>\n",
       "    <tr>\n",
       "      <th>0</th>\n",
       "      <td>01/2019</td>\n",
       "      <td>4.793637</td>\n",
       "    </tr>\n",
       "    <tr>\n",
       "      <th>1</th>\n",
       "      <td>02/2019</td>\n",
       "      <td>4.469995</td>\n",
       "    </tr>\n",
       "    <tr>\n",
       "      <th>2</th>\n",
       "      <td>03/2019</td>\n",
       "      <td>2.268136</td>\n",
       "    </tr>\n",
       "    <tr>\n",
       "      <th>3</th>\n",
       "      <td>04/2019</td>\n",
       "      <td>2.240411</td>\n",
       "    </tr>\n",
       "    <tr>\n",
       "      <th>4</th>\n",
       "      <td>05/2019</td>\n",
       "      <td>2.307706</td>\n",
       "    </tr>\n",
       "    <tr>\n",
       "      <th>5</th>\n",
       "      <td>06/2019</td>\n",
       "      <td>2.480050</td>\n",
       "    </tr>\n",
       "    <tr>\n",
       "      <th>6</th>\n",
       "      <td>07/2019</td>\n",
       "      <td>2.439783</td>\n",
       "    </tr>\n",
       "    <tr>\n",
       "      <th>7</th>\n",
       "      <td>08/2019</td>\n",
       "      <td>2.511210</td>\n",
       "    </tr>\n",
       "    <tr>\n",
       "      <th>8</th>\n",
       "      <td>09/2019</td>\n",
       "      <td>2.687561</td>\n",
       "    </tr>\n",
       "    <tr>\n",
       "      <th>9</th>\n",
       "      <td>10/2019</td>\n",
       "      <td>2.537835</td>\n",
       "    </tr>\n",
       "    <tr>\n",
       "      <th>10</th>\n",
       "      <td>11/2019</td>\n",
       "      <td>2.738386</td>\n",
       "    </tr>\n",
       "    <tr>\n",
       "      <th>11</th>\n",
       "      <td>12/2019</td>\n",
       "      <td>2.709591</td>\n",
       "    </tr>\n",
       "    <tr>\n",
       "      <th>0</th>\n",
       "      <td>01/2020</td>\n",
       "      <td>2.948060</td>\n",
       "    </tr>\n",
       "    <tr>\n",
       "      <th>1</th>\n",
       "      <td>02/2020</td>\n",
       "      <td>3.097528</td>\n",
       "    </tr>\n",
       "    <tr>\n",
       "      <th>2</th>\n",
       "      <td>03/2020</td>\n",
       "      <td>5.547318</td>\n",
       "    </tr>\n",
       "    <tr>\n",
       "      <th>3</th>\n",
       "      <td>04/2020</td>\n",
       "      <td>7.723524</td>\n",
       "    </tr>\n",
       "    <tr>\n",
       "      <th>4</th>\n",
       "      <td>05/2020</td>\n",
       "      <td>4.861089</td>\n",
       "    </tr>\n",
       "    <tr>\n",
       "      <th>5</th>\n",
       "      <td>06/2020</td>\n",
       "      <td>6.185618</td>\n",
       "    </tr>\n",
       "    <tr>\n",
       "      <th>6</th>\n",
       "      <td>07/2020</td>\n",
       "      <td>7.389018</td>\n",
       "    </tr>\n",
       "    <tr>\n",
       "      <th>7</th>\n",
       "      <td>08/2020</td>\n",
       "      <td>7.102303</td>\n",
       "    </tr>\n",
       "    <tr>\n",
       "      <th>8</th>\n",
       "      <td>09/2020</td>\n",
       "      <td>6.818209</td>\n",
       "    </tr>\n",
       "    <tr>\n",
       "      <th>9</th>\n",
       "      <td>10/2020</td>\n",
       "      <td>6.044823</td>\n",
       "    </tr>\n",
       "    <tr>\n",
       "      <th>10</th>\n",
       "      <td>11/2020</td>\n",
       "      <td>5.815741</td>\n",
       "    </tr>\n",
       "    <tr>\n",
       "      <th>11</th>\n",
       "      <td>12/2020</td>\n",
       "      <td>12.415212</td>\n",
       "    </tr>\n",
       "    <tr>\n",
       "      <th>0</th>\n",
       "      <td>01/2021</td>\n",
       "      <td>46.824475</td>\n",
       "    </tr>\n",
       "    <tr>\n",
       "      <th>1</th>\n",
       "      <td>02/2021</td>\n",
       "      <td>40.081367</td>\n",
       "    </tr>\n",
       "    <tr>\n",
       "      <th>2</th>\n",
       "      <td>03/2021</td>\n",
       "      <td>25.451212</td>\n",
       "    </tr>\n",
       "    <tr>\n",
       "      <th>3</th>\n",
       "      <td>04/2021</td>\n",
       "      <td>18.782511</td>\n",
       "    </tr>\n",
       "    <tr>\n",
       "      <th>4</th>\n",
       "      <td>05/2021</td>\n",
       "      <td>15.064070</td>\n",
       "    </tr>\n",
       "    <tr>\n",
       "      <th>5</th>\n",
       "      <td>06/2021</td>\n",
       "      <td>17.037033</td>\n",
       "    </tr>\n",
       "    <tr>\n",
       "      <th>6</th>\n",
       "      <td>07/2021</td>\n",
       "      <td>19.246150</td>\n",
       "    </tr>\n",
       "    <tr>\n",
       "      <th>7</th>\n",
       "      <td>08/2021</td>\n",
       "      <td>16.172827</td>\n",
       "    </tr>\n",
       "    <tr>\n",
       "      <th>8</th>\n",
       "      <td>09/2021</td>\n",
       "      <td>12.128681</td>\n",
       "    </tr>\n",
       "    <tr>\n",
       "      <th>9</th>\n",
       "      <td>10/2021</td>\n",
       "      <td>11.251415</td>\n",
       "    </tr>\n",
       "    <tr>\n",
       "      <th>10</th>\n",
       "      <td>11/2021</td>\n",
       "      <td>12.615011</td>\n",
       "    </tr>\n",
       "    <tr>\n",
       "      <th>11</th>\n",
       "      <td>12/2021</td>\n",
       "      <td>10.866608</td>\n",
       "    </tr>\n",
       "    <tr>\n",
       "      <th>0</th>\n",
       "      <td>01/2022</td>\n",
       "      <td>25.398015</td>\n",
       "    </tr>\n",
       "    <tr>\n",
       "      <th>1</th>\n",
       "      <td>02/2022</td>\n",
       "      <td>31.376916</td>\n",
       "    </tr>\n",
       "    <tr>\n",
       "      <th>2</th>\n",
       "      <td>03/2022</td>\n",
       "      <td>20.039403</td>\n",
       "    </tr>\n",
       "    <tr>\n",
       "      <th>3</th>\n",
       "      <td>04/2022</td>\n",
       "      <td>18.604034</td>\n",
       "    </tr>\n",
       "    <tr>\n",
       "      <th>4</th>\n",
       "      <td>05/2022</td>\n",
       "      <td>22.663047</td>\n",
       "    </tr>\n",
       "    <tr>\n",
       "      <th>5</th>\n",
       "      <td>06/2022</td>\n",
       "      <td>30.642482</td>\n",
       "    </tr>\n",
       "    <tr>\n",
       "      <th>6</th>\n",
       "      <td>07/2022</td>\n",
       "      <td>46.309219</td>\n",
       "    </tr>\n",
       "    <tr>\n",
       "      <th>7</th>\n",
       "      <td>08/2022</td>\n",
       "      <td>46.301782</td>\n",
       "    </tr>\n",
       "    <tr>\n",
       "      <th>8</th>\n",
       "      <td>09/2022</td>\n",
       "      <td>33.055236</td>\n",
       "    </tr>\n",
       "    <tr>\n",
       "      <th>9</th>\n",
       "      <td>10/2022</td>\n",
       "      <td>31.741301</td>\n",
       "    </tr>\n",
       "    <tr>\n",
       "      <th>10</th>\n",
       "      <td>11/2022</td>\n",
       "      <td>29.386260</td>\n",
       "    </tr>\n",
       "    <tr>\n",
       "      <th>11</th>\n",
       "      <td>12/2022</td>\n",
       "      <td>29.843861</td>\n",
       "    </tr>\n",
       "    <tr>\n",
       "      <th>0</th>\n",
       "      <td>01/2023</td>\n",
       "      <td>59.363696</td>\n",
       "    </tr>\n",
       "    <tr>\n",
       "      <th>1</th>\n",
       "      <td>02/2023</td>\n",
       "      <td>51.529188</td>\n",
       "    </tr>\n",
       "    <tr>\n",
       "      <th>2</th>\n",
       "      <td>03/2023</td>\n",
       "      <td>46.259987</td>\n",
       "    </tr>\n",
       "    <tr>\n",
       "      <th>3</th>\n",
       "      <td>04/2023</td>\n",
       "      <td>43.570903</td>\n",
       "    </tr>\n",
       "  </tbody>\n",
       "</table>\n",
       "</div>"
      ],
      "text/plain": [
       "   created_month_year  time elapsed hours\n",
       "0             01/2019            4.793637\n",
       "1             02/2019            4.469995\n",
       "2             03/2019            2.268136\n",
       "3             04/2019            2.240411\n",
       "4             05/2019            2.307706\n",
       "5             06/2019            2.480050\n",
       "6             07/2019            2.439783\n",
       "7             08/2019            2.511210\n",
       "8             09/2019            2.687561\n",
       "9             10/2019            2.537835\n",
       "10            11/2019            2.738386\n",
       "11            12/2019            2.709591\n",
       "0             01/2020            2.948060\n",
       "1             02/2020            3.097528\n",
       "2             03/2020            5.547318\n",
       "3             04/2020            7.723524\n",
       "4             05/2020            4.861089\n",
       "5             06/2020            6.185618\n",
       "6             07/2020            7.389018\n",
       "7             08/2020            7.102303\n",
       "8             09/2020            6.818209\n",
       "9             10/2020            6.044823\n",
       "10            11/2020            5.815741\n",
       "11            12/2020           12.415212\n",
       "0             01/2021           46.824475\n",
       "1             02/2021           40.081367\n",
       "2             03/2021           25.451212\n",
       "3             04/2021           18.782511\n",
       "4             05/2021           15.064070\n",
       "5             06/2021           17.037033\n",
       "6             07/2021           19.246150\n",
       "7             08/2021           16.172827\n",
       "8             09/2021           12.128681\n",
       "9             10/2021           11.251415\n",
       "10            11/2021           12.615011\n",
       "11            12/2021           10.866608\n",
       "0             01/2022           25.398015\n",
       "1             02/2022           31.376916\n",
       "2             03/2022           20.039403\n",
       "3             04/2022           18.604034\n",
       "4             05/2022           22.663047\n",
       "5             06/2022           30.642482\n",
       "6             07/2022           46.309219\n",
       "7             08/2022           46.301782\n",
       "8             09/2022           33.055236\n",
       "9             10/2022           31.741301\n",
       "10            11/2022           29.386260\n",
       "11            12/2022           29.843861\n",
       "0             01/2023           59.363696\n",
       "1             02/2023           51.529188\n",
       "2             03/2023           46.259987\n",
       "3             04/2023           43.570903"
      ]
     },
     "execution_count": 132,
     "metadata": {},
     "output_type": "execute_result"
    }
   ],
   "source": [
    "# copy this into Flourish\n",
    "monthly_waits"
   ]
  },
  {
   "cell_type": "code",
   "execution_count": 133,
   "id": "29206370-fc2f-4a87-a8d6-4dec845ee6a0",
   "metadata": {},
   "outputs": [],
   "source": [
    "# medians\n",
    "med_wait_by_month_2023 = df_2023_elapsed_all.groupby('created_month_year')['time elapsed hours'].median().reset_index()\n",
    "med_wait_by_month_2022 = df_2022_elapsed_all.groupby('created_month_year')['time elapsed hours'].median().reset_index()\n",
    "med_wait_by_month_2021 = df_2021_elapsed_all.groupby('created_month_year')['time elapsed hours'].median().reset_index()\n",
    "med_wait_by_month_2020 = df_2020_elapsed_all.groupby('created_month_year')['time elapsed hours'].median().reset_index()\n",
    "med_wait_by_month_2019 = df_2019_elapsed_all.groupby('created_month_year')['time elapsed hours'].median().reset_index()"
   ]
  },
  {
   "cell_type": "code",
   "execution_count": 134,
   "id": "f02dc9dc-ee90-429c-be12-3ed566b3a219",
   "metadata": {},
   "outputs": [],
   "source": [
    "# concatenate all monthly data\n",
    "med_monthly_waits = pd.concat([med_wait_by_month_2019,med_wait_by_month_2020,med_wait_by_month_2021,med_wait_by_month_2022,med_wait_by_month_2023])"
   ]
  },
  {
   "cell_type": "code",
   "execution_count": 135,
   "id": "82bee9d0-883a-4029-b63c-13009cf364ce",
   "metadata": {},
   "outputs": [
    {
     "data": {
      "text/html": [
       "<div>\n",
       "<style scoped>\n",
       "    .dataframe tbody tr th:only-of-type {\n",
       "        vertical-align: middle;\n",
       "    }\n",
       "\n",
       "    .dataframe tbody tr th {\n",
       "        vertical-align: top;\n",
       "    }\n",
       "\n",
       "    .dataframe thead th {\n",
       "        text-align: right;\n",
       "    }\n",
       "</style>\n",
       "<table border=\"1\" class=\"dataframe\">\n",
       "  <thead>\n",
       "    <tr style=\"text-align: right;\">\n",
       "      <th></th>\n",
       "      <th>created_month_year</th>\n",
       "      <th>time elapsed hours</th>\n",
       "    </tr>\n",
       "  </thead>\n",
       "  <tbody>\n",
       "    <tr>\n",
       "      <th>0</th>\n",
       "      <td>01/2019</td>\n",
       "      <td>0.000000</td>\n",
       "    </tr>\n",
       "    <tr>\n",
       "      <th>1</th>\n",
       "      <td>02/2019</td>\n",
       "      <td>0.000000</td>\n",
       "    </tr>\n",
       "    <tr>\n",
       "      <th>2</th>\n",
       "      <td>03/2019</td>\n",
       "      <td>1.800000</td>\n",
       "    </tr>\n",
       "    <tr>\n",
       "      <th>3</th>\n",
       "      <td>04/2019</td>\n",
       "      <td>1.650000</td>\n",
       "    </tr>\n",
       "    <tr>\n",
       "      <th>4</th>\n",
       "      <td>05/2019</td>\n",
       "      <td>1.716667</td>\n",
       "    </tr>\n",
       "    <tr>\n",
       "      <th>5</th>\n",
       "      <td>06/2019</td>\n",
       "      <td>2.000000</td>\n",
       "    </tr>\n",
       "    <tr>\n",
       "      <th>6</th>\n",
       "      <td>07/2019</td>\n",
       "      <td>1.916667</td>\n",
       "    </tr>\n",
       "    <tr>\n",
       "      <th>7</th>\n",
       "      <td>08/2019</td>\n",
       "      <td>1.966667</td>\n",
       "    </tr>\n",
       "    <tr>\n",
       "      <th>8</th>\n",
       "      <td>09/2019</td>\n",
       "      <td>2.283333</td>\n",
       "    </tr>\n",
       "    <tr>\n",
       "      <th>9</th>\n",
       "      <td>10/2019</td>\n",
       "      <td>2.016667</td>\n",
       "    </tr>\n",
       "    <tr>\n",
       "      <th>10</th>\n",
       "      <td>11/2019</td>\n",
       "      <td>2.408333</td>\n",
       "    </tr>\n",
       "    <tr>\n",
       "      <th>11</th>\n",
       "      <td>12/2019</td>\n",
       "      <td>2.250000</td>\n",
       "    </tr>\n",
       "    <tr>\n",
       "      <th>0</th>\n",
       "      <td>01/2020</td>\n",
       "      <td>2.433333</td>\n",
       "    </tr>\n",
       "    <tr>\n",
       "      <th>1</th>\n",
       "      <td>02/2020</td>\n",
       "      <td>2.466667</td>\n",
       "    </tr>\n",
       "    <tr>\n",
       "      <th>2</th>\n",
       "      <td>03/2020</td>\n",
       "      <td>2.150000</td>\n",
       "    </tr>\n",
       "    <tr>\n",
       "      <th>3</th>\n",
       "      <td>04/2020</td>\n",
       "      <td>3.850000</td>\n",
       "    </tr>\n",
       "    <tr>\n",
       "      <th>4</th>\n",
       "      <td>05/2020</td>\n",
       "      <td>3.083333</td>\n",
       "    </tr>\n",
       "    <tr>\n",
       "      <th>5</th>\n",
       "      <td>06/2020</td>\n",
       "      <td>3.733333</td>\n",
       "    </tr>\n",
       "    <tr>\n",
       "      <th>6</th>\n",
       "      <td>07/2020</td>\n",
       "      <td>4.416667</td>\n",
       "    </tr>\n",
       "    <tr>\n",
       "      <th>7</th>\n",
       "      <td>08/2020</td>\n",
       "      <td>4.366667</td>\n",
       "    </tr>\n",
       "    <tr>\n",
       "      <th>8</th>\n",
       "      <td>09/2020</td>\n",
       "      <td>4.816667</td>\n",
       "    </tr>\n",
       "    <tr>\n",
       "      <th>9</th>\n",
       "      <td>10/2020</td>\n",
       "      <td>4.416667</td>\n",
       "    </tr>\n",
       "    <tr>\n",
       "      <th>10</th>\n",
       "      <td>11/2020</td>\n",
       "      <td>4.416667</td>\n",
       "    </tr>\n",
       "    <tr>\n",
       "      <th>11</th>\n",
       "      <td>12/2020</td>\n",
       "      <td>6.450000</td>\n",
       "    </tr>\n",
       "    <tr>\n",
       "      <th>0</th>\n",
       "      <td>01/2021</td>\n",
       "      <td>24.633333</td>\n",
       "    </tr>\n",
       "    <tr>\n",
       "      <th>1</th>\n",
       "      <td>02/2021</td>\n",
       "      <td>28.991667</td>\n",
       "    </tr>\n",
       "    <tr>\n",
       "      <th>2</th>\n",
       "      <td>03/2021</td>\n",
       "      <td>17.866667</td>\n",
       "    </tr>\n",
       "    <tr>\n",
       "      <th>3</th>\n",
       "      <td>04/2021</td>\n",
       "      <td>11.683333</td>\n",
       "    </tr>\n",
       "    <tr>\n",
       "      <th>4</th>\n",
       "      <td>05/2021</td>\n",
       "      <td>11.525000</td>\n",
       "    </tr>\n",
       "    <tr>\n",
       "      <th>5</th>\n",
       "      <td>06/2021</td>\n",
       "      <td>14.466667</td>\n",
       "    </tr>\n",
       "    <tr>\n",
       "      <th>6</th>\n",
       "      <td>07/2021</td>\n",
       "      <td>21.116667</td>\n",
       "    </tr>\n",
       "    <tr>\n",
       "      <th>7</th>\n",
       "      <td>08/2021</td>\n",
       "      <td>15.716667</td>\n",
       "    </tr>\n",
       "    <tr>\n",
       "      <th>8</th>\n",
       "      <td>09/2021</td>\n",
       "      <td>9.966667</td>\n",
       "    </tr>\n",
       "    <tr>\n",
       "      <th>9</th>\n",
       "      <td>10/2021</td>\n",
       "      <td>9.433333</td>\n",
       "    </tr>\n",
       "    <tr>\n",
       "      <th>10</th>\n",
       "      <td>11/2021</td>\n",
       "      <td>11.350000</td>\n",
       "    </tr>\n",
       "    <tr>\n",
       "      <th>11</th>\n",
       "      <td>12/2021</td>\n",
       "      <td>8.866667</td>\n",
       "    </tr>\n",
       "    <tr>\n",
       "      <th>0</th>\n",
       "      <td>01/2022</td>\n",
       "      <td>11.616667</td>\n",
       "    </tr>\n",
       "    <tr>\n",
       "      <th>1</th>\n",
       "      <td>02/2022</td>\n",
       "      <td>14.500000</td>\n",
       "    </tr>\n",
       "    <tr>\n",
       "      <th>2</th>\n",
       "      <td>03/2022</td>\n",
       "      <td>12.266667</td>\n",
       "    </tr>\n",
       "    <tr>\n",
       "      <th>3</th>\n",
       "      <td>04/2022</td>\n",
       "      <td>13.483333</td>\n",
       "    </tr>\n",
       "    <tr>\n",
       "      <th>4</th>\n",
       "      <td>05/2022</td>\n",
       "      <td>21.866667</td>\n",
       "    </tr>\n",
       "    <tr>\n",
       "      <th>5</th>\n",
       "      <td>06/2022</td>\n",
       "      <td>23.216667</td>\n",
       "    </tr>\n",
       "    <tr>\n",
       "      <th>6</th>\n",
       "      <td>07/2022</td>\n",
       "      <td>24.383333</td>\n",
       "    </tr>\n",
       "    <tr>\n",
       "      <th>7</th>\n",
       "      <td>08/2022</td>\n",
       "      <td>27.075000</td>\n",
       "    </tr>\n",
       "    <tr>\n",
       "      <th>8</th>\n",
       "      <td>09/2022</td>\n",
       "      <td>25.400000</td>\n",
       "    </tr>\n",
       "    <tr>\n",
       "      <th>9</th>\n",
       "      <td>10/2022</td>\n",
       "      <td>25.566667</td>\n",
       "    </tr>\n",
       "    <tr>\n",
       "      <th>10</th>\n",
       "      <td>11/2022</td>\n",
       "      <td>25.033333</td>\n",
       "    </tr>\n",
       "    <tr>\n",
       "      <th>11</th>\n",
       "      <td>12/2022</td>\n",
       "      <td>25.416667</td>\n",
       "    </tr>\n",
       "    <tr>\n",
       "      <th>0</th>\n",
       "      <td>01/2023</td>\n",
       "      <td>47.600000</td>\n",
       "    </tr>\n",
       "    <tr>\n",
       "      <th>1</th>\n",
       "      <td>02/2023</td>\n",
       "      <td>49.733333</td>\n",
       "    </tr>\n",
       "    <tr>\n",
       "      <th>2</th>\n",
       "      <td>03/2023</td>\n",
       "      <td>48.933333</td>\n",
       "    </tr>\n",
       "    <tr>\n",
       "      <th>3</th>\n",
       "      <td>04/2023</td>\n",
       "      <td>42.916667</td>\n",
       "    </tr>\n",
       "  </tbody>\n",
       "</table>\n",
       "</div>"
      ],
      "text/plain": [
       "   created_month_year  time elapsed hours\n",
       "0             01/2019            0.000000\n",
       "1             02/2019            0.000000\n",
       "2             03/2019            1.800000\n",
       "3             04/2019            1.650000\n",
       "4             05/2019            1.716667\n",
       "5             06/2019            2.000000\n",
       "6             07/2019            1.916667\n",
       "7             08/2019            1.966667\n",
       "8             09/2019            2.283333\n",
       "9             10/2019            2.016667\n",
       "10            11/2019            2.408333\n",
       "11            12/2019            2.250000\n",
       "0             01/2020            2.433333\n",
       "1             02/2020            2.466667\n",
       "2             03/2020            2.150000\n",
       "3             04/2020            3.850000\n",
       "4             05/2020            3.083333\n",
       "5             06/2020            3.733333\n",
       "6             07/2020            4.416667\n",
       "7             08/2020            4.366667\n",
       "8             09/2020            4.816667\n",
       "9             10/2020            4.416667\n",
       "10            11/2020            4.416667\n",
       "11            12/2020            6.450000\n",
       "0             01/2021           24.633333\n",
       "1             02/2021           28.991667\n",
       "2             03/2021           17.866667\n",
       "3             04/2021           11.683333\n",
       "4             05/2021           11.525000\n",
       "5             06/2021           14.466667\n",
       "6             07/2021           21.116667\n",
       "7             08/2021           15.716667\n",
       "8             09/2021            9.966667\n",
       "9             10/2021            9.433333\n",
       "10            11/2021           11.350000\n",
       "11            12/2021            8.866667\n",
       "0             01/2022           11.616667\n",
       "1             02/2022           14.500000\n",
       "2             03/2022           12.266667\n",
       "3             04/2022           13.483333\n",
       "4             05/2022           21.866667\n",
       "5             06/2022           23.216667\n",
       "6             07/2022           24.383333\n",
       "7             08/2022           27.075000\n",
       "8             09/2022           25.400000\n",
       "9             10/2022           25.566667\n",
       "10            11/2022           25.033333\n",
       "11            12/2022           25.416667\n",
       "0             01/2023           47.600000\n",
       "1             02/2023           49.733333\n",
       "2             03/2023           48.933333\n",
       "3             04/2023           42.916667"
      ]
     },
     "execution_count": 135,
     "metadata": {},
     "output_type": "execute_result"
    }
   ],
   "source": [
    "med_monthly_waits"
   ]
  },
  {
   "cell_type": "markdown",
   "id": "72d26381-2a9a-450c-be9b-133f0d38a77d",
   "metadata": {},
   "source": [
    "## Distribution of hours for time elapsed"
   ]
  },
  {
   "cell_type": "code",
   "execution_count": 136,
   "id": "e42fd1b2-d750-4451-8be7-994559309836",
   "metadata": {},
   "outputs": [],
   "source": [
    "bins = [0.0,1.0,2.0,3.0,4.0,5.0,10.0,15.0,20.0,24.0,48.0,72.0,10000.0]\n",
    "labels = [\"0-1\",\"1-2\",\"2-3\",\"3-4\",\"4-5\",\"5-10\",\"10-15\",\"15-20\",\"20-24\",\"24-48\",\"48-72\",\"72+\"]"
   ]
  },
  {
   "cell_type": "code",
   "execution_count": 137,
   "id": "3a1aaebc-c50a-48e1-a7fa-6c1a7958ae6a",
   "metadata": {},
   "outputs": [],
   "source": [
    "df_2023_elapsed_all['binned_hours'] = pd.cut(x = df_2023_elapsed_all['time elapsed hours'], bins=bins, labels=labels)"
   ]
  },
  {
   "cell_type": "code",
   "execution_count": 138,
   "id": "9afcbc1b-7fc6-4b60-8e63-162af4daba9e",
   "metadata": {},
   "outputs": [
    {
     "data": {
      "text/html": [
       "<div>\n",
       "<style scoped>\n",
       "    .dataframe tbody tr th:only-of-type {\n",
       "        vertical-align: middle;\n",
       "    }\n",
       "\n",
       "    .dataframe tbody tr th {\n",
       "        vertical-align: top;\n",
       "    }\n",
       "\n",
       "    .dataframe thead th {\n",
       "        text-align: right;\n",
       "    }\n",
       "</style>\n",
       "<table border=\"1\" class=\"dataframe\">\n",
       "  <thead>\n",
       "    <tr style=\"text-align: right;\">\n",
       "      <th></th>\n",
       "      <th>binned_hours</th>\n",
       "      <th>count</th>\n",
       "    </tr>\n",
       "  </thead>\n",
       "  <tbody>\n",
       "    <tr>\n",
       "      <th>0</th>\n",
       "      <td>0-1</td>\n",
       "      <td>1021</td>\n",
       "    </tr>\n",
       "    <tr>\n",
       "      <th>1</th>\n",
       "      <td>1-2</td>\n",
       "      <td>372</td>\n",
       "    </tr>\n",
       "    <tr>\n",
       "      <th>2</th>\n",
       "      <td>2-3</td>\n",
       "      <td>301</td>\n",
       "    </tr>\n",
       "    <tr>\n",
       "      <th>3</th>\n",
       "      <td>3-4</td>\n",
       "      <td>229</td>\n",
       "    </tr>\n",
       "    <tr>\n",
       "      <th>4</th>\n",
       "      <td>4-5</td>\n",
       "      <td>225</td>\n",
       "    </tr>\n",
       "    <tr>\n",
       "      <th>5</th>\n",
       "      <td>5-10</td>\n",
       "      <td>646</td>\n",
       "    </tr>\n",
       "    <tr>\n",
       "      <th>6</th>\n",
       "      <td>10-15</td>\n",
       "      <td>372</td>\n",
       "    </tr>\n",
       "    <tr>\n",
       "      <th>7</th>\n",
       "      <td>15-20</td>\n",
       "      <td>209</td>\n",
       "    </tr>\n",
       "    <tr>\n",
       "      <th>8</th>\n",
       "      <td>20-24</td>\n",
       "      <td>286</td>\n",
       "    </tr>\n",
       "    <tr>\n",
       "      <th>9</th>\n",
       "      <td>24-48</td>\n",
       "      <td>2497</td>\n",
       "    </tr>\n",
       "    <tr>\n",
       "      <th>10</th>\n",
       "      <td>48-72</td>\n",
       "      <td>4795</td>\n",
       "    </tr>\n",
       "    <tr>\n",
       "      <th>11</th>\n",
       "      <td>72+</td>\n",
       "      <td>2415</td>\n",
       "    </tr>\n",
       "  </tbody>\n",
       "</table>\n",
       "</div>"
      ],
      "text/plain": [
       "   binned_hours  count\n",
       "0           0-1   1021\n",
       "1           1-2    372\n",
       "2           2-3    301\n",
       "3           3-4    229\n",
       "4           4-5    225\n",
       "5          5-10    646\n",
       "6         10-15    372\n",
       "7         15-20    209\n",
       "8         20-24    286\n",
       "9         24-48   2497\n",
       "10        48-72   4795\n",
       "11          72+   2415"
      ]
     },
     "execution_count": 138,
     "metadata": {},
     "output_type": "execute_result"
    }
   ],
   "source": [
    "df_2023_elapsed_all.groupby('binned_hours').size().reset_index(name='count')"
   ]
  },
  {
   "cell_type": "code",
   "execution_count": 258,
   "id": "6167665e-1d0c-4e37-80f3-47bd2d243d3b",
   "metadata": {},
   "outputs": [],
   "source": [
    "# TK other years"
   ]
  },
  {
   "cell_type": "markdown",
   "id": "7c5f9d71-6ab0-4892-945c-ee77fe00f4f5",
   "metadata": {},
   "source": [
    "## Distribution of time of day for call vs completion"
   ]
  },
  {
   "cell_type": "code",
   "execution_count": null,
   "id": "981e71ea-7fd9-4f0d-8936-db977b4a2dce",
   "metadata": {},
   "outputs": [],
   "source": [
    "# is there a difference in the time of day that a request is opened or closed?"
   ]
  },
  {
   "cell_type": "code",
   "execution_count": 139,
   "id": "0117dc79-2c8a-4e4f-abd7-2d354d8388ab",
   "metadata": {},
   "outputs": [],
   "source": [
    "# 2023\n",
    "g = df_2023_elapsed_all.groupby('created_hour').size().reset_index(name='count')\n",
    "g['pct'] = g['count']/g['count'].sum()"
   ]
  },
  {
   "cell_type": "code",
   "execution_count": 140,
   "id": "2de85ac7-4ec5-492a-b5a1-88e66016c6f3",
   "metadata": {},
   "outputs": [
    {
     "data": {
      "text/plain": [
       "<AxesSubplot:xlabel='created_hour'>"
      ]
     },
     "execution_count": 140,
     "metadata": {},
     "output_type": "execute_result"
    },
    {
     "data": {
      "image/png": "[encoded data removed]",
      "text/plain": [
       "<Figure size 640x480 with 1 Axes>"
      ]
     },
     "metadata": {},
     "output_type": "display_data"
    }
   ],
   "source": [
    "g.plot.bar(x='created_hour', y='count', rot=0)"
   ]
  },
  {
   "cell_type": "code",
   "execution_count": 141,
   "id": "1a65e192-46de-4247-a104-f7d6b5f8a34d",
   "metadata": {},
   "outputs": [
    {
     "data": {
      "text/plain": [
       "<AxesSubplot:xlabel='created_hour'>"
      ]
     },
     "execution_count": 141,
     "metadata": {},
     "output_type": "execute_result"
    },
    {
     "data": {
      "image/png": "[encoded data removed]",
      "text/plain": [
       "<Figure size 640x480 with 1 Axes>"
      ]
     },
     "metadata": {},
     "output_type": "display_data"
    }
   ],
   "source": [
    "# 2022\n",
    "g = df_2022_elapsed_all.groupby('created_hour').size().reset_index(name='count')\n",
    "g['pct'] = g['count']/g['count'].sum()\n",
    "g.plot.bar(x='created_hour', y='count', rot=0)"
   ]
  },
  {
   "cell_type": "code",
   "execution_count": 142,
   "id": "1bab39f5-b847-4407-b049-237d4c9a1dea",
   "metadata": {},
   "outputs": [
    {
     "data": {
      "text/plain": [
       "<AxesSubplot:xlabel='closed_hour'>"
      ]
     },
     "execution_count": 142,
     "metadata": {},
     "output_type": "execute_result"
    },
    {
     "data": {
      "image/png": "[encoded data removed]",
      "text/plain": [
       "<Figure size 640x480 with 1 Axes>"
      ]
     },
     "metadata": {},
     "output_type": "display_data"
    }
   ],
   "source": [
    "# 2022\n",
    "g = df_2022_elapsed_all.groupby('closed_hour').size().reset_index(name='count')\n",
    "g['pct'] = g['count']/g['count'].sum()\n",
    "g.plot.bar(x='closed_hour', y='count', rot=0)"
   ]
  },
  {
   "cell_type": "code",
   "execution_count": 143,
   "id": "6f5b2fe2-192a-4ae0-b760-5a187827aaa9",
   "metadata": {},
   "outputs": [
    {
     "data": {
      "text/plain": [
       "<AxesSubplot:xlabel='created_hour'>"
      ]
     },
     "execution_count": 143,
     "metadata": {},
     "output_type": "execute_result"
    },
    {
     "data": {
      "image/png": "[encoded data removed]",
      "text/plain": [
       "<Figure size 640x480 with 1 Axes>"
      ]
     },
     "metadata": {},
     "output_type": "display_data"
    }
   ],
   "source": [
    "# 2020\n",
    "g = df_2020_elapsed_all.groupby('created_hour').size().reset_index(name='count')\n",
    "g['pct'] = g['count']/g['count'].sum()\n",
    "g.plot.bar(x='created_hour', y='count', rot=0)"
   ]
  },
  {
   "cell_type": "code",
   "execution_count": 144,
   "id": "a5e0f275-f19e-404f-8457-31134f6953f2",
   "metadata": {},
   "outputs": [
    {
     "data": {
      "text/plain": [
       "<AxesSubplot:xlabel='closed_hour'>"
      ]
     },
     "execution_count": 144,
     "metadata": {},
     "output_type": "execute_result"
    },
    {
     "data": {
      "image/png": "[encoded data removed]",
      "text/plain": [
       "<Figure size 640x480 with 1 Axes>"
      ]
     },
     "metadata": {},
     "output_type": "display_data"
    }
   ],
   "source": [
    "# 2020\n",
    "g = df_2020_elapsed_all.groupby('closed_hour').size().reset_index(name='count')\n",
    "g['pct'] = g['count']/g['count'].sum()\n",
    "g.plot.bar(x='closed_hour', y='count', rot=0)"
   ]
  },
  {
   "cell_type": "code",
   "execution_count": 145,
   "id": "dc2e55ab-29b6-4cd4-a7ba-a369a0b39c26",
   "metadata": {},
   "outputs": [
    {
     "data": {
      "text/plain": [
       "<AxesSubplot:xlabel='created_hour'>"
      ]
     },
     "execution_count": 145,
     "metadata": {},
     "output_type": "execute_result"
    },
    {
     "data": {
      "image/png": "[encoded data removed]",
      "text/plain": [
       "<Figure size 640x480 with 1 Axes>"
      ]
     },
     "metadata": {},
     "output_type": "display_data"
    }
   ],
   "source": [
    "# 2019\n",
    "g = df_2019_elapsed_all.groupby('created_hour').size().reset_index(name='count')\n",
    "g['pct'] = g['count']/g['count'].sum()\n",
    "g.plot.bar(x='created_hour', y='count', rot=0)"
   ]
  },
  {
   "cell_type": "code",
   "execution_count": 146,
   "id": "1802bf26-a54a-44ef-b4e5-bab9116ea79e",
   "metadata": {},
   "outputs": [
    {
     "data": {
      "text/plain": [
       "<AxesSubplot:xlabel='closed_hour'>"
      ]
     },
     "execution_count": 146,
     "metadata": {},
     "output_type": "execute_result"
    },
    {
     "data": {
      "image/png": "[encoded data removed]",
      "text/plain": [
       "<Figure size 640x480 with 1 Axes>"
      ]
     },
     "metadata": {},
     "output_type": "display_data"
    }
   ],
   "source": [
    "# 2019\n",
    "g = df_2019_elapsed_all.groupby('closed_hour').size().reset_index(name='count')\n",
    "g['pct'] = g['count']/g['count'].sum()\n",
    "g.plot.bar(x='closed_hour', y='count', rot=0)"
   ]
  },
  {
   "cell_type": "markdown",
   "id": "309741a4-0fbb-49cb-bc96-88ad009896bb",
   "metadata": {},
   "source": [
    "## Activity outcomes by month analysis"
   ]
  },
  {
   "cell_type": "code",
   "execution_count": null,
   "id": "8ea8bbbf-b4b4-4b4b-873b-ea95d22a86db",
   "metadata": {},
   "outputs": [],
   "source": [
    "# TK"
   ]
  },
  {
   "cell_type": "markdown",
   "id": "e343ad1f-e930-4065-b65d-b84ab4c8fe13",
   "metadata": {},
   "source": [
    "## Primo center analysis"
   ]
  },
  {
   "cell_type": "code",
   "execution_count": null,
   "id": "c7919bde-03e4-4bc2-9043-329bdb874cad",
   "metadata": {},
   "outputs": [],
   "source": [
    "# TK"
   ]
  },
  {
   "cell_type": "markdown",
   "id": "1d51a5fe-9e65-4c88-b153-381c41b77bbc",
   "metadata": {},
   "source": [
    "## Address analysis"
   ]
  },
  {
   "cell_type": "code",
   "execution_count": 268,
   "id": "00cc12ad-29a0-4e69-984d-2ea76e2d6279",
   "metadata": {},
   "outputs": [],
   "source": [
    "# TK"
   ]
  },
  {
   "cell_type": "markdown",
   "id": "ef2ea32f-596a-4f7f-8096-49ead69c53e1",
   "metadata": {},
   "source": [
    "## Exporting to CSV"
   ]
  },
  {
   "cell_type": "code",
   "execution_count": null,
   "id": "e633b95f-6abf-4bd9-96ba-e909aa1d78af",
   "metadata": {},
   "outputs": [],
   "source": []
  }
 ],
 "metadata": {
  "kernelspec": {
   "display_name": "Python 3 (ipykernel)",
   "language": "python",
   "name": "python3"
  },
  "language_info": {
   "codemirror_mode": {
    "name": "ipython",
    "version": 3
   },
   "file_extension": ".py",
   "mimetype": "text/x-python",
   "name": "python",
   "nbconvert_exporter": "python",
   "pygments_lexer": "ipython3",
   "version": "3.10.6"
  }
 },
 "nbformat": 4,
 "nbformat_minor": 5
}
